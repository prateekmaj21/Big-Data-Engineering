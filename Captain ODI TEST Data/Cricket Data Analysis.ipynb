{
 "cells": [
  {
   "cell_type": "code",
   "execution_count": 0,
   "metadata": {
    "application/vnd.databricks.v1+cell": {
     "cellMetadata": {
      "byteLimit": 2048000,
      "rowLimit": 10000
     },
     "inputWidgets": {},
     "nuid": "605cd4bd-1687-4571-bb30-9e5e8bfcf66f",
     "showTitle": false,
     "title": ""
    }
   },
   "outputs": [
    {
     "output_type": "display_data",
     "data": {
      "text/html": [
       "\n",
       "            <div>\n",
       "                <p><b>SparkSession - hive</b></p>\n",
       "                \n",
       "        <div>\n",
       "            <p><b>SparkContext</b></p>\n",
       "\n",
       "            <p><a href=\"/?o=3780522163279943#setting/sparkui/0601-085817-4s5ohh0y/driver-3508568394602286396\">Spark UI</a></p>\n",
       "\n",
       "            <dl>\n",
       "              <dt>Version</dt>\n",
       "                <dd><code>v3.3.2</code></dd>\n",
       "              <dt>Master</dt>\n",
       "                <dd><code>local[8]</code></dd>\n",
       "              <dt>AppName</dt>\n",
       "                <dd><code>Databricks Shell</code></dd>\n",
       "            </dl>\n",
       "        </div>\n",
       "        \n",
       "            </div>\n",
       "        "
      ]
     },
     "metadata": {
      "application/vnd.databricks.v1+output": {
       "addedWidgets": {},
       "arguments": {},
       "data": "\n            <div>\n                <p><b>SparkSession - hive</b></p>\n                \n        <div>\n            <p><b>SparkContext</b></p>\n\n            <p><a href=\"/?o=3780522163279943#setting/sparkui/0601-085817-4s5ohh0y/driver-3508568394602286396\">Spark UI</a></p>\n\n            <dl>\n              <dt>Version</dt>\n                <dd><code>v3.3.2</code></dd>\n              <dt>Master</dt>\n                <dd><code>local[8]</code></dd>\n              <dt>AppName</dt>\n                <dd><code>Databricks Shell</code></dd>\n            </dl>\n        </div>\n        \n            </div>\n        ",
       "datasetInfos": [],
       "metadata": {},
       "removedWidgets": [],
       "textData": null,
       "type": "htmlSandbox"
      }
     },
     "output_type": "display_data"
    }
   ],
   "source": [
    "# Spark Context Created.. \n",
    "spark"
   ]
  },
  {
   "cell_type": "code",
   "execution_count": 0,
   "metadata": {
    "application/vnd.databricks.v1+cell": {
     "cellMetadata": {
      "byteLimit": 2048000,
      "rowLimit": 10000
     },
     "inputWidgets": {},
     "nuid": "10c69681-b478-4b07-a8a7-7710c9f059d6",
     "showTitle": false,
     "title": ""
    }
   },
   "outputs": [],
   "source": [
    "sc = spark.sparkContext"
   ]
  },
  {
   "cell_type": "code",
   "execution_count": 0,
   "metadata": {
    "application/vnd.databricks.v1+cell": {
     "cellMetadata": {
      "byteLimit": 2048000,
      "rowLimit": 10000
     },
     "inputWidgets": {},
     "nuid": "2c4c8a45-7418-4385-8edb-42aa7ecec6ca",
     "showTitle": false,
     "title": ""
    }
   },
   "outputs": [],
   "source": [
    "import matplotlib.pyplot as plt"
   ]
  },
  {
   "cell_type": "markdown",
   "metadata": {
    "application/vnd.databricks.v1+cell": {
     "cellMetadata": {
      "byteLimit": 2048000,
      "rowLimit": 10000
     },
     "inputWidgets": {},
     "nuid": "438ccdd7-8297-4e00-bd53-b62acb4f87da",
     "showTitle": false,
     "title": ""
    }
   },
   "source": [
    "## Captains Analysis - ODI"
   ]
  },
  {
   "cell_type": "code",
   "execution_count": 0,
   "metadata": {
    "application/vnd.databricks.v1+cell": {
     "cellMetadata": {
      "byteLimit": 2048000,
      "rowLimit": 10000
     },
     "inputWidgets": {},
     "nuid": "7fc13291-f637-42ba-a8b0-79c7d5e3f520",
     "showTitle": false,
     "title": ""
    }
   },
   "outputs": [],
   "source": [
    "captains_odis = sc.textFile( \"/FileStore/tables/captains_ODI.csv\" )"
   ]
  },
  {
   "cell_type": "markdown",
   "metadata": {
    "application/vnd.databricks.v1+cell": {
     "cellMetadata": {
      "byteLimit": 2048000,
      "rowLimit": 10000
     },
     "inputWidgets": {},
     "nuid": "d4d9718b-cd66-4ade-bb64-4971efad4cf8",
     "showTitle": false,
     "title": ""
    }
   },
   "source": [
    "#### \"name\", \"country\", \"career\", \"matches\", \"won\", \"lost\", \"ties\", \"toss\""
   ]
  },
  {
   "cell_type": "code",
   "execution_count": 0,
   "metadata": {
    "application/vnd.databricks.v1+cell": {
     "cellMetadata": {
      "byteLimit": 2048000,
      "rowLimit": 10000
     },
     "inputWidgets": {},
     "nuid": "68affa23-7099-403b-8553-7c43f474fefc",
     "showTitle": false,
     "title": ""
    }
   },
   "outputs": [
    {
     "output_type": "stream",
     "name": "stdout",
     "output_type": "stream",
     "text": [
      "Out[5]: 'Ponting  R T,Australia,1995-2012,230,165,51,14,124'"
     ]
    }
   ],
   "source": [
    "captains_odis.first()"
   ]
  },
  {
   "cell_type": "code",
   "execution_count": 0,
   "metadata": {
    "application/vnd.databricks.v1+cell": {
     "cellMetadata": {
      "byteLimit": 2048000,
      "rowLimit": 10000
     },
     "inputWidgets": {},
     "nuid": "5b8a8083-b34a-42ac-b850-d26183319bf3",
     "showTitle": false,
     "title": ""
    }
   },
   "outputs": [
    {
     "output_type": "stream",
     "name": "stdout",
     "output_type": "stream",
     "text": [
      "Out[6]: ['Ponting  R T,Australia,1995-2012,230,165,51,14,124',\n 'Fleming  S P,New Zealand,1994-2007,218,98,106,14,105',\n 'Ranatunga  A,Sri Lanka,1982-1999,193,89,95,9,102',\n 'Dhoni  M S*,India,2004-,186,103,68,15,88',\n 'Border  A R,Australia,1979-1994,178,107,67,4,86',\n 'Azharuddin  M,India,1985-2000,174,89,77,8,96',\n 'Smith  G C,South Africa,2002-2013,149,91,51,7,74',\n 'Ganguly  S C,India,1992-2007,147,76,66,5,74',\n 'Cronje  W J,South Africa,1992-2000,140,99,37,4,74',\n 'Imran Khan,Pakistan,1974-1992,139,75,59,5,70']"
     ]
    }
   ],
   "source": [
    "captains_odis.take(10)"
   ]
  },
  {
   "cell_type": "code",
   "execution_count": 0,
   "metadata": {
    "application/vnd.databricks.v1+cell": {
     "cellMetadata": {
      "byteLimit": 2048000,
      "rowLimit": 10000
     },
     "inputWidgets": {},
     "nuid": "3c9e33d7-2078-402e-8643-f7bdea9d578d",
     "showTitle": false,
     "title": ""
    }
   },
   "outputs": [
    {
     "output_type": "stream",
     "name": "stdout",
     "output_type": "stream",
     "text": [
      "Out[7]: 2"
     ]
    }
   ],
   "source": [
    "# captains_odis should be of RDD type\n",
    "captains_odis.getNumPartitions()"
   ]
  },
  {
   "cell_type": "code",
   "execution_count": 0,
   "metadata": {
    "application/vnd.databricks.v1+cell": {
     "cellMetadata": {
      "byteLimit": 2048000,
      "rowLimit": 10000
     },
     "inputWidgets": {},
     "nuid": "d12fb881-954b-4b4f-b147-b39221296ab1",
     "showTitle": false,
     "title": ""
    }
   },
   "outputs": [
    {
     "output_type": "stream",
     "name": "stdout",
     "output_type": "stream",
     "text": [
      "Out[8]: 98"
     ]
    }
   ],
   "source": [
    "# Count the number of records\n",
    "captains_odis.count()"
   ]
  },
  {
   "cell_type": "markdown",
   "metadata": {
    "application/vnd.databricks.v1+cell": {
     "cellMetadata": {
      "byteLimit": 2048000,
      "rowLimit": 10000
     },
     "inputWidgets": {},
     "nuid": "eee44f80-5491-4c95-9ca1-0f1ae3207c3e",
     "showTitle": false,
     "title": ""
    }
   },
   "source": [
    "###### Filter the captains who have won more than 80 matches in ODIs?"
   ]
  },
  {
   "cell_type": "code",
   "execution_count": 0,
   "metadata": {
    "application/vnd.databricks.v1+cell": {
     "cellMetadata": {
      "byteLimit": 2048000,
      "rowLimit": 10000
     },
     "inputWidgets": {},
     "nuid": "5af6e40a-01e8-41e9-b82f-c880db855fe8",
     "showTitle": false,
     "title": ""
    }
   },
   "outputs": [],
   "source": [
    "def hasWonMoreThan(line, numOfMatches):\n",
    "  tokens = line.split(',')\n",
    "  if int(tokens[4]) > numOfMatches:\n",
    "    return True\n",
    "  else:\n",
    "    return False  "
   ]
  },
  {
   "cell_type": "code",
   "execution_count": 0,
   "metadata": {
    "application/vnd.databricks.v1+cell": {
     "cellMetadata": {
      "byteLimit": 2048000,
      "rowLimit": 10000
     },
     "inputWidgets": {},
     "nuid": "c3e51077-c0ef-4c56-ad86-7620293ee63b",
     "showTitle": false,
     "title": ""
    }
   },
   "outputs": [],
   "source": [
    "great_captains = captains_odis.filter( lambda line: hasWonMoreThan(line, 80) )"
   ]
  },
  {
   "cell_type": "code",
   "execution_count": 0,
   "metadata": {
    "application/vnd.databricks.v1+cell": {
     "cellMetadata": {
      "byteLimit": 2048000,
      "rowLimit": 10000
     },
     "inputWidgets": {},
     "nuid": "1afd2bd3-746a-47b5-b97a-fe2d538fe36e",
     "showTitle": false,
     "title": ""
    }
   },
   "outputs": [
    {
     "output_type": "stream",
     "name": "stdout",
     "output_type": "stream",
     "text": [
      "Out[11]: ['Ponting  R T,Australia,1995-2012,230,165,51,14,124',\n 'Fleming  S P,New Zealand,1994-2007,218,98,106,14,105',\n 'Ranatunga  A,Sri Lanka,1982-1999,193,89,95,9,102',\n 'Dhoni  M S*,India,2004-,186,103,68,15,88',\n 'Border  A R,Australia,1979-1994,178,107,67,4,86',\n 'Azharuddin  M,India,1985-2000,174,89,77,8,96',\n 'Smith  G C,South Africa,2002-2013,149,91,51,7,74',\n 'Cronje  W J,South Africa,1992-2000,140,99,37,4,74']"
     ]
    }
   ],
   "source": [
    "great_captains.take(great_captains.count())"
   ]
  },
  {
   "cell_type": "code",
   "execution_count": 0,
   "metadata": {
    "application/vnd.databricks.v1+cell": {
     "cellMetadata": {
      "byteLimit": 2048000,
      "rowLimit": 10000
     },
     "inputWidgets": {},
     "nuid": "646a3e10-93de-4a34-a84f-8ad30e94a39d",
     "showTitle": false,
     "title": ""
    }
   },
   "outputs": [
    {
     "output_type": "stream",
     "name": "stdout",
     "output_type": "stream",
     "text": [
      "Out[12]: ['Ponting  R T',\n 'Fleming  S P',\n 'Ranatunga  A',\n 'Dhoni  M S*',\n 'Border  A R',\n 'Azharuddin  M',\n 'Smith  G C',\n 'Cronje  W J']"
     ]
    }
   ],
   "source": [
    "great_captains.map(lambda row: (row.split(\",\")[0])).take(10)"
   ]
  },
  {
   "cell_type": "code",
   "execution_count": 0,
   "metadata": {
    "application/vnd.databricks.v1+cell": {
     "cellMetadata": {
      "byteLimit": 2048000,
      "rowLimit": 10000
     },
     "inputWidgets": {},
     "nuid": "fc300dbd-1b18-48ea-9339-fa43415762cb",
     "showTitle": false,
     "title": ""
    }
   },
   "outputs": [
    {
     "output_type": "stream",
     "name": "stdout",
     "output_type": "stream",
     "text": [
      "Out[13]: [('Ponting  R T', 230),\n ('Fleming  S P', 218),\n ('Ranatunga  A', 193),\n ('Dhoni  M S*', 186),\n ('Border  A R', 178),\n ('Azharuddin  M', 174),\n ('Smith  G C', 149),\n ('Cronje  W J', 140)]"
     ]
    }
   ],
   "source": [
    "great_captains.map(lambda row: (row.split(\",\")[0], int(row.split(\",\")[3]))).take(10)"
   ]
  },
  {
   "cell_type": "code",
   "execution_count": 0,
   "metadata": {
    "application/vnd.databricks.v1+cell": {
     "cellMetadata": {
      "byteLimit": 2048000,
      "rowLimit": 10000
     },
     "inputWidgets": {},
     "nuid": "b6f25ec1-6349-4b07-bede-6d540a1908ae",
     "showTitle": false,
     "title": ""
    }
   },
   "outputs": [
    {
     "output_type": "stream",
     "name": "stdout",
     "output_type": "stream",
     "text": [
      "Out[14]: [('Ponting  R T', 230, 165),\n ('Fleming  S P', 218, 98),\n ('Ranatunga  A', 193, 89),\n ('Dhoni  M S*', 186, 103),\n ('Border  A R', 178, 107),\n ('Azharuddin  M', 174, 89),\n ('Smith  G C', 149, 91),\n ('Cronje  W J', 140, 99)]"
     ]
    }
   ],
   "source": [
    "great_captains.map(lambda row: (row.split(\",\")[0], int(row.split(\",\")[3]), int(row.split(\",\")[4]) )).take(10)"
   ]
  },
  {
   "cell_type": "code",
   "execution_count": 0,
   "metadata": {
    "application/vnd.databricks.v1+cell": {
     "cellMetadata": {
      "byteLimit": 2048000,
      "rowLimit": 10000
     },
     "inputWidgets": {},
     "nuid": "072293ef-ddae-4d83-b5bf-b0ab0fed58c1",
     "showTitle": false,
     "title": ""
    }
   },
   "outputs": [
    {
     "output_type": "display_data",
     "data": {
      "image/png": "[encoded data removed]"
     },
     "metadata": {
      "application/vnd.databricks.v1+output": {
       "addedWidgets": {},
       "arguments": {},
       "data": "data:image/png;base64,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\n",
       "datasetInfos": [],
       "metadata": {},
       "removedWidgets": [],
       "type": "image"
      }
     },
     "output_type": "display_data"
    }
   ],
   "source": [
    "# Extract the data from the RDD\n",
    "data = great_captains.map(lambda row: (row.split(\",\")[0], int(row.split(\",\")[3]), int(row.split(\",\")[4]))).take(10)\n",
    "\n",
    "# Separate the data into three lists: names, total matches, and matches won\n",
    "names = [x[0] for x in data]\n",
    "total_matches = [x[1] for x in data]\n",
    "matches_won = [x[2] for x in data]\n",
    "\n",
    "# Plot the data\n",
    "plt.figure(figsize=(10, 6))\n",
    "plt.bar(names, total_matches, color='blue', label='Total Matches')\n",
    "plt.bar(names, matches_won, color='green', label='Matches Won')\n",
    "\n",
    "# Add labels and title\n",
    "plt.xlabel('Number of Matches')\n",
    "plt.ylabel('Captain Names')\n",
    "plt.title('Number of Matches Played and Won by Captains')\n",
    "plt.legend()\n",
    "\n",
    "# Show the plot\n",
    "plt.show()"
   ]
  },
  {
   "cell_type": "markdown",
   "metadata": {
    "application/vnd.databricks.v1+cell": {
     "cellMetadata": {
      "byteLimit": 2048000,
      "rowLimit": 10000
     },
     "inputWidgets": {},
     "nuid": "a2e96c32-9077-46e8-aed0-7ef6903b3da5",
     "showTitle": false,
     "title": ""
    }
   },
   "source": [
    "##### Find winning percentage of each captain:"
   ]
  },
  {
   "cell_type": "code",
   "execution_count": 0,
   "metadata": {
    "application/vnd.databricks.v1+cell": {
     "cellMetadata": {
      "byteLimit": 2048000,
      "rowLimit": 10000
     },
     "inputWidgets": {},
     "nuid": "a78c2b33-ed0a-4462-baa8-a199902c4ef6",
     "showTitle": false,
     "title": ""
    }
   },
   "outputs": [],
   "source": [
    "def getWinningPerc(line):\n",
    "  \n",
    "  tokens = line.split(',')\n",
    "  winPerc = round(float(tokens[4])/float(tokens[3]), 3) # win Percentage = Won/Total Matches\n",
    "  \n",
    "  return (tokens[0], round( winPerc*100, 1 )   ) # return (key,value). eg.('Ponting  R T', 72.0)"
   ]
  },
  {
   "cell_type": "code",
   "execution_count": 0,
   "metadata": {
    "application/vnd.databricks.v1+cell": {
     "cellMetadata": {
      "byteLimit": 2048000,
      "rowLimit": 10000
     },
     "inputWidgets": {},
     "nuid": "29e71573-0823-47dd-8a1f-71b16680f435",
     "showTitle": false,
     "title": ""
    }
   },
   "outputs": [],
   "source": [
    "captains_odi_winPerc = captains_odis.map( lambda line: getWinningPerc(line) ) #finding winning percentage of each captain"
   ]
  },
  {
   "cell_type": "code",
   "execution_count": 0,
   "metadata": {
    "application/vnd.databricks.v1+cell": {
     "cellMetadata": {
      "byteLimit": 2048000,
      "rowLimit": 10000
     },
     "inputWidgets": {},
     "nuid": "07cab8e9-6e54-4ecf-b130-33ff5a988f0f",
     "showTitle": false,
     "title": ""
    }
   },
   "outputs": [
    {
     "output_type": "stream",
     "name": "stdout",
     "output_type": "stream",
     "text": [
      "Out[18]: [('Ponting  R T', 71.7),\n ('Fleming  S P', 45.0),\n ('Ranatunga  A', 46.1),\n ('Dhoni  M S*', 55.4),\n ('Border  A R', 60.1),\n ('Azharuddin  M', 51.1),\n ('Smith  G C', 61.1),\n ('Ganguly  S C', 51.7),\n ('Cronje  W J', 70.7),\n ('Imran Khan', 54.0),\n ('Jayawardene  D P M', 55.4),\n ('Lara  B C', 47.2),\n ('Jayasuriya  S T', 55.6),\n ('Wasim Akram', 60.6),\n ('Waugh  S R', 63.2),\n ('Richards  I V A', 63.8),\n ('Pollock  S M', 61.2),\n ('Inzamam-ul-Haq', 58.4),\n ('Misbah-ul-Haq*', 51.7),\n ('Richardson  R B', 52.9)]"
     ]
    }
   ],
   "source": [
    "#top 20 records\n",
    "captains_odi_winPerc.take(20) "
   ]
  },
  {
   "cell_type": "code",
   "execution_count": 0,
   "metadata": {
    "application/vnd.databricks.v1+cell": {
     "cellMetadata": {
      "byteLimit": 2048000,
      "rowLimit": 10000
     },
     "inputWidgets": {},
     "nuid": "2f82a99e-bad9-4fc4-9023-65d121dd9fc9",
     "showTitle": false,
     "title": ""
    }
   },
   "outputs": [
    {
     "output_type": "display_data",
     "data": {
      "image/png": "[encoded data removed]"
     },
     "metadata": {
      "application/vnd.databricks.v1+output": {
       "addedWidgets": {},
       "arguments": {},
       "data": "data:image/png;base64,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\n",
       "datasetInfos": [],
       "metadata": {},
       "removedWidgets": [],
       "type": "image"
      }
     },
     "output_type": "display_data"
    }
   ],
   "source": [
    "data=captains_odi_winPerc.take(20) \n",
    "# Separate the data into three lists: names, total matches, and matches won\n",
    "names = [x[0] for x in data]\n",
    "win_perc = [x[1] for x in data]\n",
    "# Plot the data\n",
    "plt.figure(figsize=(10, 6))\n",
    "plt.barh(names, win_perc, color='green', label='Win Perc in Matches')\n",
    "# Add labels and title\n",
    "plt.xlabel('Win Perc in Matches')\n",
    "plt.ylabel('Captain Names')\n",
    "plt.title('Win Perc in Matches by Captains')\n",
    "plt.legend()\n",
    "# Show the plot\n",
    "plt.show()"
   ]
  },
  {
   "cell_type": "code",
   "execution_count": 0,
   "metadata": {
    "application/vnd.databricks.v1+cell": {
     "cellMetadata": {
      "byteLimit": 2048000,
      "rowLimit": 10000
     },
     "inputWidgets": {},
     "nuid": "b406f2f5-8ad5-44c5-9263-f7f17e2cafe9",
     "showTitle": false,
     "title": ""
    }
   },
   "outputs": [
    {
     "output_type": "stream",
     "name": "stdout",
     "output_type": "stream",
     "text": [
      "Out[20]: [('Lloyd  C H', 76.2),\n ('Ponting  R T', 71.7),\n ('Mashrafe Bin Mortaza*', 71.4),\n ('Cronje  W J', 70.7),\n ('Gatting  M W', 70.3),\n ('Clarke  M J', 67.6),\n ('Shoaib Malik*', 66.7),\n ('Richards  I V A', 63.8),\n ('Waugh  S R', 63.2),\n ('Saleem Malik', 61.8),\n ('Pollock  S M', 61.2),\n ('Smith  G C', 61.1),\n ('Wasim Akram', 60.6),\n ('Border  A R', 60.1),\n ('Sangakkara  K C', 60.0),\n ('Brearley  J M', 60.0),\n ('Waqar Younis', 59.7),\n ('Moin Khan', 58.8),\n ('Inzamam-ul-Haq', 58.4),\n ('de Villiers  A B*', 57.9)]"
     ]
    }
   ],
   "source": [
    "# Sort the RDD by the number of matches won in descending order\n",
    "captains_odi_winPerc_desc = captains_odi_winPerc.sortBy(lambda x: x[1], ascending=False)\n",
    "captains_odi_winPerc_desc.take(20)"
   ]
  },
  {
   "cell_type": "code",
   "execution_count": 0,
   "metadata": {
    "application/vnd.databricks.v1+cell": {
     "cellMetadata": {
      "byteLimit": 2048000,
      "rowLimit": 10000
     },
     "inputWidgets": {},
     "nuid": "34c6d05e-2f8b-44ed-8a88-98df9c705ad1",
     "showTitle": false,
     "title": ""
    }
   },
   "outputs": [
    {
     "output_type": "display_data",
     "data": {
      "image/png": "[encoded data removed]"
     },
     "metadata": {
      "application/vnd.databricks.v1+output": {
       "addedWidgets": {},
       "arguments": {},
       "data": "data:image/png;base64,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\n",
       "datasetInfos": [],
       "metadata": {},
       "removedWidgets": [],
       "type": "image"
      }
     },
     "output_type": "display_data"
    }
   ],
   "source": [
    "data=captains_odi_winPerc_desc.take(20)\n",
    "# Separate the data into three lists: names, total matches, and matches won\n",
    "names = [x[0] for x in data]\n",
    "win_perc = [x[1] for x in data]\n",
    "# Plot the data\n",
    "plt.figure(figsize=(10, 6))\n",
    "plt.barh(names, win_perc, color='green', label='Win Perc in Matches')\n",
    "# Add labels and title\n",
    "plt.xlabel('Win Perc in Matches')\n",
    "plt.ylabel('Captain Names')\n",
    "plt.title('Top Win Perc in Matches by Captains')\n",
    "plt.legend()\n",
    "# Show the plot\n",
    "plt.show()"
   ]
  },
  {
   "cell_type": "markdown",
   "metadata": {
    "application/vnd.databricks.v1+cell": {
     "cellMetadata": {
      "byteLimit": 2048000,
      "rowLimit": 10000
     },
     "inputWidgets": {},
     "nuid": "2417782b-ce66-4334-a07d-ad420f5fcc99",
     "showTitle": false,
     "title": ""
    }
   },
   "source": [
    "##### Top Toss Wins Percentage by Captain"
   ]
  },
  {
   "cell_type": "code",
   "execution_count": 0,
   "metadata": {
    "application/vnd.databricks.v1+cell": {
     "cellMetadata": {
      "byteLimit": 2048000,
      "rowLimit": 10000
     },
     "inputWidgets": {},
     "nuid": "02791b83-8549-4824-83e7-7a4369c2c3ce",
     "showTitle": false,
     "title": ""
    }
   },
   "outputs": [],
   "source": [
    "def getWinningPercToss(line):\n",
    "  \n",
    "  tokens = line.split(',')\n",
    "  winPerc = round(float(tokens[7])/float(tokens[3]), 3) # win Percentage = Toss Win/Total Matches\n",
    "  \n",
    "  return (tokens[0], round( winPerc*100, 1 )   ) # return (key,value). eg.('Ponting  R T', 72.0)"
   ]
  },
  {
   "cell_type": "code",
   "execution_count": 0,
   "metadata": {
    "application/vnd.databricks.v1+cell": {
     "cellMetadata": {
      "byteLimit": 2048000,
      "rowLimit": 10000
     },
     "inputWidgets": {},
     "nuid": "d6242ce7-a66a-4bb0-a68a-c55eff5616a5",
     "showTitle": false,
     "title": ""
    }
   },
   "outputs": [],
   "source": [
    "captains_odi_winPerc_toss = captains_odis.map( lambda line: getWinningPercToss(line) ) #finding winning percentage of each captain"
   ]
  },
  {
   "cell_type": "code",
   "execution_count": 0,
   "metadata": {
    "application/vnd.databricks.v1+cell": {
     "cellMetadata": {
      "byteLimit": 2048000,
      "rowLimit": 10000
     },
     "inputWidgets": {},
     "nuid": "d00eda66-aa6a-449b-a2f8-242e52a3b710",
     "showTitle": false,
     "title": ""
    }
   },
   "outputs": [
    {
     "output_type": "stream",
     "name": "stdout",
     "output_type": "stream",
     "text": [
      "Out[24]: [('Adams  J C', 69.2),\n ('Ramiz Raja', 68.2),\n ('Wright  J G', 67.7),\n ('Mohammad Ashraful', 65.8),\n ('Chigumbura  E*', 64.3),\n ('Crowe  M D', 63.6),\n ('Morgan  E J G*', 63.6),\n ('Hughes  K J', 63.3),\n ('Gower  D I', 62.5),\n ('Taylor  B R M', 61.8),\n ('Bagai  A*', 59.3),\n ('Chappell  G S', 59.2),\n ('Moin Khan', 58.8),\n ('Dravid  R', 58.2),\n ('Vettori  D L', 57.3),\n ('Tendulkar  S R', 56.9),\n ('Cook  A N*', 56.5),\n ('Utseya  P*', 56.5),\n ('Inzamam-ul-Haq', 56.2),\n ('Sangakkara  K C', 55.6)]"
     ]
    }
   ],
   "source": [
    "# Sort the RDD by the number of matches won in descending order\n",
    "captains_odi_winPerc_toss_desc = captains_odi_winPerc_toss.sortBy(lambda x: x[1], ascending=False)\n",
    "captains_odi_winPerc_toss_desc.take(20)"
   ]
  },
  {
   "cell_type": "code",
   "execution_count": 0,
   "metadata": {
    "application/vnd.databricks.v1+cell": {
     "cellMetadata": {
      "byteLimit": 2048000,
      "rowLimit": 10000
     },
     "inputWidgets": {},
     "nuid": "5f4460dc-66b4-4e0c-8628-df298ebae8f8",
     "showTitle": false,
     "title": ""
    }
   },
   "outputs": [
    {
     "output_type": "display_data",
     "data": {
      "image/png": "[encoded data removed]"
     },
     "metadata": {
      "application/vnd.databricks.v1+output": {
       "addedWidgets": {},
       "arguments": {},
       "data": "data:image/png;base64,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\n",
       "datasetInfos": [],
       "metadata": {},
       "removedWidgets": [],
       "type": "image"
      }
     },
     "output_type": "display_data"
    }
   ],
   "source": [
    "data=captains_odi_winPerc_toss_desc.take(20)\n",
    "# Separate the data into three lists: names, total matches, and matches won\n",
    "names = [x[0] for x in data]\n",
    "win_perc = [x[1] for x in data]\n",
    "# Plot the data\n",
    "plt.figure(figsize=(10, 6))\n",
    "plt.barh(names, win_perc, color='green', label='Toss Win Perc in Matches')\n",
    "# Add labels and title\n",
    "plt.xlabel('Toss Win Perc in Matches')\n",
    "plt.ylabel('Captain Names')\n",
    "plt.title('Top Toss Win Perc in Matches by Captains')\n",
    "plt.legend()\n",
    "# Show the plot\n",
    "plt.show()"
   ]
  },
  {
   "cell_type": "markdown",
   "metadata": {
    "application/vnd.databricks.v1+cell": {
     "cellMetadata": {
      "byteLimit": 2048000,
      "rowLimit": 10000
     },
     "inputWidgets": {},
     "nuid": "b6ba73ae-07b4-4db2-8843-fac2c2f6a255",
     "showTitle": false,
     "title": ""
    }
   },
   "source": [
    "##### Some More Analysis : Captains with the Highest Win/Loss Ratio"
   ]
  },
  {
   "cell_type": "code",
   "execution_count": 0,
   "metadata": {
    "application/vnd.databricks.v1+cell": {
     "cellMetadata": {
      "byteLimit": 2048000,
      "rowLimit": 10000
     },
     "inputWidgets": {},
     "nuid": "037c1de3-a4fd-4a8b-898f-e2bf4d92cd01",
     "showTitle": false,
     "title": ""
    }
   },
   "outputs": [
    {
     "output_type": "stream",
     "name": "stdout",
     "output_type": "stream",
     "text": [
      "Out[26]: [('Ponting  R T', 165, 51),\n ('Fleming  S P', 98, 106),\n ('Ranatunga  A', 89, 95),\n ('Dhoni  M S*', 103, 68),\n ('Border  A R', 107, 67),\n ('Azharuddin  M', 89, 77),\n ('Smith  G C', 91, 51),\n ('Ganguly  S C', 76, 66),\n ('Cronje  W J', 99, 37),\n ('Imran Khan', 75, 59),\n ('Jayawardene  D P M', 72, 49),\n ('Lara  B C', 59, 59),\n ('Jayasuriya  S T', 65, 47),\n ('Wasim Akram', 66, 41),\n ('Waugh  S R', 67, 35),\n ('Richards  I V A', 67, 36),\n ('Pollock  S M', 60, 34),\n ('Inzamam-ul-Haq', 52, 33),\n ('Misbah-ul-Haq*', 45, 39),\n ('Richardson  R B', 46, 36)]"
     ]
    }
   ],
   "source": [
    "captains_odis.map(lambda row: (row.split(\",\")[0], int(row.split(\",\")[4]), int(row.split(\",\")[5]))).take(20)"
   ]
  },
  {
   "cell_type": "code",
   "execution_count": 0,
   "metadata": {
    "application/vnd.databricks.v1+cell": {
     "cellMetadata": {
      "byteLimit": 2048000,
      "rowLimit": 10000
     },
     "inputWidgets": {},
     "nuid": "9b6d5123-e674-44e0-9d9d-1202814bd640",
     "showTitle": false,
     "title": ""
    }
   },
   "outputs": [],
   "source": [
    "captain_win_loss=captains_odis.map(lambda row: (row.split(\",\")[0], int(row.split(\",\")[4]), int(row.split(\",\")[5])))"
   ]
  },
  {
   "cell_type": "code",
   "execution_count": 0,
   "metadata": {
    "application/vnd.databricks.v1+cell": {
     "cellMetadata": {
      "byteLimit": 2048000,
      "rowLimit": 10000
     },
     "inputWidgets": {},
     "nuid": "1201c298-63b2-42c1-89f6-1fca43a0feab",
     "showTitle": false,
     "title": ""
    }
   },
   "outputs": [],
   "source": [
    "def getWinLossRatio(line):\n",
    "  \n",
    "  tokens = line.split(',')\n",
    "  ratio = round(float(tokens[4])/float(tokens[5]), 3) # win Loss ratio = Toss Win/Total Los\n",
    "  \n",
    "  return (tokens[0], ratio   ) # return (key,value). eg.('Ponting  R T',X )"
   ]
  },
  {
   "cell_type": "code",
   "execution_count": 0,
   "metadata": {
    "application/vnd.databricks.v1+cell": {
     "cellMetadata": {
      "byteLimit": 2048000,
      "rowLimit": 10000
     },
     "inputWidgets": {},
     "nuid": "d90111e6-3a82-4e72-afff-840db6bbac2e",
     "showTitle": false,
     "title": ""
    }
   },
   "outputs": [],
   "source": [
    "captains_odi_winloss_ratio = captains_odis.map( lambda x: getWinLossRatio(x) ) #finding winning percentage of each captain"
   ]
  },
  {
   "cell_type": "code",
   "execution_count": 0,
   "metadata": {
    "application/vnd.databricks.v1+cell": {
     "cellMetadata": {
      "byteLimit": 2048000,
      "rowLimit": 10000
     },
     "inputWidgets": {},
     "nuid": "d1241fb8-966a-4099-be36-730eb9cc4d0f",
     "showTitle": false,
     "title": ""
    }
   },
   "outputs": [
    {
     "output_type": "stream",
     "name": "stdout",
     "output_type": "stream",
     "text": [
      "Out[30]: [('Ponting  R T', 3.235),\n ('Fleming  S P', 0.925),\n ('Ranatunga  A', 0.937),\n ('Dhoni  M S*', 1.515),\n ('Border  A R', 1.597),\n ('Azharuddin  M', 1.156),\n ('Smith  G C', 1.784),\n ('Ganguly  S C', 1.152),\n ('Cronje  W J', 2.676),\n ('Imran Khan', 1.271)]"
     ]
    }
   ],
   "source": [
    "captains_odi_winloss_ratio.take(10)"
   ]
  },
  {
   "cell_type": "code",
   "execution_count": 0,
   "metadata": {
    "application/vnd.databricks.v1+cell": {
     "cellMetadata": {
      "byteLimit": 2048000,
      "rowLimit": 10000
     },
     "inputWidgets": {},
     "nuid": "efb35e90-0d49-483a-b8e4-c3d5e5e37c64",
     "showTitle": false,
     "title": ""
    }
   },
   "outputs": [
    {
     "output_type": "stream",
     "name": "stdout",
     "output_type": "stream",
     "text": [
      "Out[31]: [('Aamir Sohail', 0.75),\n ('Adams  J C', 0.714),\n ('Atapattu  M S', 1.296),\n ('Atherton  M A', 0.952),\n ('Azharuddin  M', 1.156),\n ('Bagai  A*', 0.444),\n ('Bailey  G J*', 1.6),\n ('Border  A R', 1.597),\n ('Borren  P W*', 0.526),\n ('Bravo  D J J*', 0.889)]"
     ]
    }
   ],
   "source": [
    "captains_odi_winloss_ratio.sortByKey().take(10)"
   ]
  },
  {
   "cell_type": "code",
   "execution_count": 0,
   "metadata": {
    "application/vnd.databricks.v1+cell": {
     "cellMetadata": {
      "byteLimit": 2048000,
      "rowLimit": 10000
     },
     "inputWidgets": {},
     "nuid": "7b61e6bd-183e-4051-bf12-5c782dd36ec8",
     "showTitle": false,
     "title": ""
    }
   },
   "outputs": [
    {
     "output_type": "stream",
     "name": "stdout",
     "output_type": "stream",
     "text": [
      "Out[32]: [('Lloyd  C H', 3.556),\n ('Ponting  R T', 3.235),\n ('Cronje  W J', 2.676),\n ('Mashrafe Bin Mortaza*', 2.5),\n ('Clarke  M J', 2.381),\n ('Gatting  M W', 2.364),\n ('Shoaib Malik*', 2.0),\n ('Sangakkara  K C', 1.929),\n ('Waugh  S R', 1.914),\n ('Saleem Malik', 1.909)]"
     ]
    }
   ],
   "source": [
    "captains_odi_winloss_ratio.sortBy(   lambda x: x[1], ascending=False).take(10)"
   ]
  },
  {
   "cell_type": "markdown",
   "metadata": {
    "application/vnd.databricks.v1+cell": {
     "cellMetadata": {
      "byteLimit": 2048000,
      "rowLimit": 10000
     },
     "inputWidgets": {},
     "nuid": "23db8e98-4546-4ecf-96a5-19877f840d6c",
     "showTitle": false,
     "title": ""
    }
   },
   "source": [
    "##### Total number of matches played by each country:"
   ]
  },
  {
   "cell_type": "code",
   "execution_count": 0,
   "metadata": {
    "application/vnd.databricks.v1+cell": {
     "cellMetadata": {
      "byteLimit": 2048000,
      "rowLimit": 10000
     },
     "inputWidgets": {},
     "nuid": "1beeca26-e59b-4f79-bd35-897da63fd74e",
     "showTitle": false,
     "title": ""
    }
   },
   "outputs": [
    {
     "output_type": "stream",
     "name": "stdout",
     "output_type": "stream",
     "text": [
      "Out[33]: [('Australia', 230),\n ('New Zealand', 218),\n ('Sri Lanka', 193),\n ('India', 186),\n ('Australia', 178),\n ('India', 174),\n ('South Africa', 149),\n ('India', 147),\n ('South Africa', 140),\n ('Pakistan', 139)]"
     ]
    }
   ],
   "source": [
    "#getting the number of matches per captain\n",
    "captains_odis.map(lambda row: (row.split(\",\")[1], int(row.split(\",\")[3]))).take(10)"
   ]
  },
  {
   "cell_type": "code",
   "execution_count": 0,
   "metadata": {
    "application/vnd.databricks.v1+cell": {
     "cellMetadata": {
      "byteLimit": 2048000,
      "rowLimit": 10000
     },
     "inputWidgets": {},
     "nuid": "c8864f3a-9710-48f6-b2fb-42c29e0af09c",
     "showTitle": false,
     "title": ""
    }
   },
   "outputs": [],
   "source": [
    "countries_matches=captains_odis.map(lambda row: (row.split(\",\")[1], int(row.split(\",\")[3])))"
   ]
  },
  {
   "cell_type": "code",
   "execution_count": 0,
   "metadata": {
    "application/vnd.databricks.v1+cell": {
     "cellMetadata": {
      "byteLimit": 2048000,
      "rowLimit": 10000
     },
     "inputWidgets": {},
     "nuid": "cd920424-8ab3-467c-a047-263c0568a511",
     "showTitle": false,
     "title": ""
    }
   },
   "outputs": [],
   "source": [
    "#Grouping the values of matches played by each countriy under different captains to lists\n",
    "\n",
    "countries_matches_all =( captains_odis.map(lambda row: (row.split(\",\")[1], int(row.split(\",\")[3])))\n",
    ".groupByKey()\n",
    ".mapValues(list) )"
   ]
  },
  {
   "cell_type": "code",
   "execution_count": 0,
   "metadata": {
    "application/vnd.databricks.v1+cell": {
     "cellMetadata": {
      "byteLimit": 2048000,
      "rowLimit": 10000
     },
     "inputWidgets": {},
     "nuid": "5a8c15c9-e21e-4402-889d-6f4fcca1a374",
     "showTitle": false,
     "title": ""
    }
   },
   "outputs": [
    {
     "output_type": "stream",
     "name": "stdout",
     "output_type": "stream",
     "text": [
      "Out[36]: [('Australia', [230, 178, 106, 74, 67, 50, 49, 49, 29]),\n ('India', [186, 174, 147, 79, 74, 72, 38]),\n ('South Africa', [149, 140, 98, 76]),\n ('Pakistan', [139, 109, 89, 87, 62, 62, 38, 36, 34, 34, 25, 22, 22, 22]),\n ('West Indies', [125, 105, 87, 84, 53, 50, 49, 43, 36, 26]),\n ('Kenya', [73, 21, 20]),\n ('Ireland', [61, 32]),\n ('Netherlands', [31]),\n ('Bermuda', [31]),\n ('New Zealand', [218, 82, 60, 55, 44, 37, 36, 31, 25, 20]),\n ('Sri Lanka', [193, 130, 117, 75, 63, 61, 45, 26]),\n ('Zimbabwe', [86, 69, 68, 56, 52, 34, 29]),\n ('England', [69, 62, 60, 56, 50, 43, 41, 37, 33, 29, 25, 25, 24]),\n ('Bangladesh', [69, 49, 38, 37, 30, 28]),\n ('Afghanistan', [28, 22]),\n ('Canada', [27])]"
     ]
    }
   ],
   "source": [
    "countries_matches_all.take(countries_matches_all.count())"
   ]
  },
  {
   "cell_type": "code",
   "execution_count": 0,
   "metadata": {
    "application/vnd.databricks.v1+cell": {
     "cellMetadata": {
      "byteLimit": 2048000,
      "rowLimit": 10000
     },
     "inputWidgets": {},
     "nuid": "fd115acd-5eb0-40bc-bc66-e32babbc8deb",
     "showTitle": false,
     "title": ""
    }
   },
   "outputs": [
    {
     "output_type": "stream",
     "name": "stdout",
     "output_type": "stream",
     "text": [
      "Out[37]: [('Australia', 832),\n ('India', 770),\n ('South Africa', 463),\n ('Pakistan', 781),\n ('West Indies', 658),\n ('Kenya', 114),\n ('Ireland', 93),\n ('Netherlands', 31),\n ('Bermuda', 31),\n ('New Zealand', 608),\n ('Sri Lanka', 710),\n ('Zimbabwe', 394),\n ('England', 554),\n ('Bangladesh', 251),\n ('Afghanistan', 50),\n ('Canada', 27)]"
     ]
    }
   ],
   "source": [
    "countries_total_matches_played = countries_matches.groupByKey().mapValues(sum) \n",
    "countries_total_matches_played.take(countries_total_matches_played.count())"
   ]
  },
  {
   "cell_type": "markdown",
   "metadata": {
    "application/vnd.databricks.v1+cell": {
     "cellMetadata": {
      "byteLimit": 2048000,
      "rowLimit": 10000
     },
     "inputWidgets": {},
     "nuid": "391ad9ff-d80d-4041-a95a-def3e68a79d6",
     "showTitle": false,
     "title": ""
    }
   },
   "source": [
    "###### Countries Played more than 100 matches"
   ]
  },
  {
   "cell_type": "code",
   "execution_count": 0,
   "metadata": {
    "application/vnd.databricks.v1+cell": {
     "cellMetadata": {
      "byteLimit": 2048000,
      "rowLimit": 10000
     },
     "inputWidgets": {},
     "nuid": "3bc00313-9c18-44b9-b6d8-c7bd5d4dc1a5",
     "showTitle": false,
     "title": ""
    }
   },
   "outputs": [
    {
     "output_type": "stream",
     "name": "stdout",
     "output_type": "stream",
     "text": [
      "Out[38]: [('Australia', 832),\n ('Pakistan', 781),\n ('India', 770),\n ('Sri Lanka', 710),\n ('West Indies', 658),\n ('New Zealand', 608),\n ('England', 554),\n ('South Africa', 463),\n ('Zimbabwe', 394),\n ('Bangladesh', 251),\n ('Kenya', 114)]"
     ]
    }
   ],
   "source": [
    "filtered_countries = countries_total_matches_played.filter(lambda x: x[1] > 100).sortBy(lambda x: x[1], ascending=False)\n",
    "filtered_countries.take(filtered_countries.count())"
   ]
  },
  {
   "cell_type": "markdown",
   "metadata": {
    "application/vnd.databricks.v1+cell": {
     "cellMetadata": {
      "byteLimit": 2048000,
      "rowLimit": 10000
     },
     "inputWidgets": {},
     "nuid": "35a8c7a6-5594-434d-9bc1-a3aa41331606",
     "showTitle": false,
     "title": ""
    }
   },
   "source": [
    "#### Sort countries by the percentage of matches they have won"
   ]
  },
  {
   "cell_type": "code",
   "execution_count": 0,
   "metadata": {
    "application/vnd.databricks.v1+cell": {
     "cellMetadata": {
      "byteLimit": 2048000,
      "rowLimit": 10000
     },
     "inputWidgets": {},
     "nuid": "7d992273-946b-45f5-9bbb-36ba8e9bac58",
     "showTitle": false,
     "title": ""
    }
   },
   "outputs": [
    {
     "output_type": "stream",
     "name": "stdout",
     "output_type": "stream",
     "text": [
      "Out[39]: [('Australia', 230, 165),\n ('New Zealand', 218, 98),\n ('Sri Lanka', 193, 89),\n ('India', 186, 103),\n ('Australia', 178, 107),\n ('India', 174, 89),\n ('South Africa', 149, 91),\n ('India', 147, 76),\n ('South Africa', 140, 99),\n ('Pakistan', 139, 75),\n ('Sri Lanka', 130, 72),\n ('West Indies', 125, 59),\n ('Sri Lanka', 117, 65),\n ('Pakistan', 109, 66),\n ('Australia', 106, 67),\n ('West Indies', 105, 67),\n ('South Africa', 98, 60),\n ('Pakistan', 89, 52),\n ('Pakistan', 87, 45),\n ('West Indies', 87, 46)]"
     ]
    }
   ],
   "source": [
    "# Parse the data and calculate winning percentage for each country\n",
    "country_data_captain = captains_odis.map(lambda line: line.split(\",\")).map(lambda x: (x[1], int(x[3]), int(x[4])))\n",
    "\n",
    "# country\n",
    "country_data_captain.take(20)"
   ]
  },
  {
   "cell_type": "code",
   "execution_count": 0,
   "metadata": {
    "application/vnd.databricks.v1+cell": {
     "cellMetadata": {
      "byteLimit": 2048000,
      "rowLimit": 10000
     },
     "inputWidgets": {},
     "nuid": "073e8a87-c95c-4aa4-9800-15f66f7a8083",
     "showTitle": false,
     "title": ""
    }
   },
   "outputs": [],
   "source": [
    "# Sum the values with the same keys\n",
    "summed_data_country = country_data_captain.map(lambda x: (x[0], (x[1], x[2]))).reduceByKey(lambda x, y: (x[0] + y[0], x[1] + y[1]))"
   ]
  },
  {
   "cell_type": "code",
   "execution_count": 0,
   "metadata": {
    "application/vnd.databricks.v1+cell": {
     "cellMetadata": {
      "byteLimit": 2048000,
      "rowLimit": 10000
     },
     "inputWidgets": {},
     "nuid": "e70ded7b-01c0-4acd-8f93-35db99488472",
     "showTitle": false,
     "title": ""
    }
   },
   "outputs": [
    {
     "output_type": "stream",
     "name": "stdout",
     "output_type": "stream",
     "text": [
      "Out[41]: [('Australia', (832, 503)),\n ('India', (770, 387)),\n ('South Africa', (463, 294)),\n ('Pakistan', (781, 422)),\n ('West Indies', (658, 342)),\n ('Kenya', (114, 34)),\n ('Ireland', (93, 42)),\n ('Netherlands', (31, 10)),\n ('Bermuda', (31, 6)),\n ('New Zealand', (608, 276)),\n ('Sri Lanka', (710, 350)),\n ('Zimbabwe', (394, 107)),\n ('England', (554, 275)),\n ('Bangladesh', (251, 95)),\n ('Afghanistan', (50, 25)),\n ('Canada', (27, 8))]"
     ]
    }
   ],
   "source": [
    "summed_data_country.take(20)"
   ]
  },
  {
   "cell_type": "code",
   "execution_count": 0,
   "metadata": {
    "application/vnd.databricks.v1+cell": {
     "cellMetadata": {
      "byteLimit": 2048000,
      "rowLimit": 10000
     },
     "inputWidgets": {},
     "nuid": "a7a8a9cf-b802-4f11-8aa0-f515e6a0e3dc",
     "showTitle": false,
     "title": ""
    }
   },
   "outputs": [],
   "source": [
    "# Transform the RDD to the desired format\n",
    "transformed_rdd = summed_data_country.map(lambda x: (x[0], x[1][0], x[1][1],  round( x[1][1] / x[1][0], 4)    ))"
   ]
  },
  {
   "cell_type": "code",
   "execution_count": 0,
   "metadata": {
    "application/vnd.databricks.v1+cell": {
     "cellMetadata": {
      "byteLimit": 2048000,
      "rowLimit": 10000
     },
     "inputWidgets": {},
     "nuid": "25edda60-1831-4600-a172-b8f9377d8dd7",
     "showTitle": false,
     "title": ""
    }
   },
   "outputs": [
    {
     "output_type": "stream",
     "name": "stdout",
     "output_type": "stream",
     "text": [
      "Out[43]: [('Australia', 832, 503, 0.6046),\n ('India', 770, 387, 0.5026),\n ('South Africa', 463, 294, 0.635),\n ('Pakistan', 781, 422, 0.5403),\n ('West Indies', 658, 342, 0.5198),\n ('Kenya', 114, 34, 0.2982),\n ('Ireland', 93, 42, 0.4516),\n ('Netherlands', 31, 10, 0.3226),\n ('Bermuda', 31, 6, 0.1935),\n ('New Zealand', 608, 276, 0.4539),\n ('Sri Lanka', 710, 350, 0.493),\n ('Zimbabwe', 394, 107, 0.2716),\n ('England', 554, 275, 0.4964),\n ('Bangladesh', 251, 95, 0.3785),\n ('Afghanistan', 50, 25, 0.5),\n ('Canada', 27, 8, 0.2963)]"
     ]
    }
   ],
   "source": [
    "transformed_rdd.take(20)"
   ]
  },
  {
   "cell_type": "code",
   "execution_count": 0,
   "metadata": {
    "application/vnd.databricks.v1+cell": {
     "cellMetadata": {
      "byteLimit": 2048000,
      "rowLimit": 10000
     },
     "inputWidgets": {},
     "nuid": "dab6b96b-3f71-4f93-884d-63c2cfddf15a",
     "showTitle": false,
     "title": ""
    }
   },
   "outputs": [
    {
     "output_type": "stream",
     "name": "stdout",
     "output_type": "stream",
     "text": [
      "Out[44]: [('South Africa', 463, 294, 0.635),\n ('Australia', 832, 503, 0.6046),\n ('Pakistan', 781, 422, 0.5403),\n ('West Indies', 658, 342, 0.5198),\n ('India', 770, 387, 0.5026),\n ('Afghanistan', 50, 25, 0.5),\n ('England', 554, 275, 0.4964),\n ('Sri Lanka', 710, 350, 0.493),\n ('New Zealand', 608, 276, 0.4539),\n ('Ireland', 93, 42, 0.4516),\n ('Bangladesh', 251, 95, 0.3785),\n ('Netherlands', 31, 10, 0.3226),\n ('Kenya', 114, 34, 0.2982),\n ('Canada', 27, 8, 0.2963),\n ('Zimbabwe', 394, 107, 0.2716),\n ('Bermuda', 31, 6, 0.1935)]"
     ]
    }
   ],
   "source": [
    "transformed_rdd.sortBy(lambda x: x[3], ascending=False).take(20)\n"
   ]
  },
  {
   "cell_type": "markdown",
   "metadata": {
    "application/vnd.databricks.v1+cell": {
     "cellMetadata": {
      "byteLimit": 2048000,
      "rowLimit": 10000
     },
     "inputWidgets": {},
     "nuid": "b59d650b-e8fd-4bf4-9118-4f9981959bd9",
     "showTitle": false,
     "title": ""
    }
   },
   "source": [
    "#### Sorting"
   ]
  },
  {
   "cell_type": "code",
   "execution_count": 0,
   "metadata": {
    "application/vnd.databricks.v1+cell": {
     "cellMetadata": {
      "byteLimit": 2048000,
      "rowLimit": 10000
     },
     "inputWidgets": {},
     "nuid": "550011dd-5d4a-4713-b095-73e677e85ee6",
     "showTitle": false,
     "title": ""
    }
   },
   "outputs": [
    {
     "output_type": "stream",
     "name": "stdout",
     "output_type": "stream",
     "text": [
      "Out[45]: [('Australia', 832),\n ('Pakistan', 781),\n ('India', 770),\n ('Sri Lanka', 710),\n ('West Indies', 658),\n ('New Zealand', 608),\n ('England', 554),\n ('South Africa', 463),\n ('Zimbabwe', 394),\n ('Bangladesh', 251),\n ('Kenya', 114),\n ('Ireland', 93),\n ('Afghanistan', 50),\n ('Netherlands', 31),\n ('Bermuda', 31),\n ('Canada', 27)]"
     ]
    }
   ],
   "source": [
    "#sort the values numerically\n",
    "\n",
    "countries_total_matches_played_sort= countries_total_matches_played.sortBy(lambda x: x[1], ascending=False)\n",
    "countries_total_matches_played_sort.take(countries_total_matches_played_sort.count())"
   ]
  },
  {
   "cell_type": "code",
   "execution_count": 0,
   "metadata": {
    "application/vnd.databricks.v1+cell": {
     "cellMetadata": {
      "byteLimit": 2048000,
      "rowLimit": 10000
     },
     "inputWidgets": {},
     "nuid": "5a78091c-d6c0-46b1-aaf0-a253657ba365",
     "showTitle": false,
     "title": ""
    }
   },
   "outputs": [
    {
     "output_type": "stream",
     "name": "stdout",
     "output_type": "stream",
     "text": [
      "Out[46]: [('Afghanistan', 50),\n ('Australia', 832),\n ('Bangladesh', 251),\n ('Bermuda', 31),\n ('Canada', 27),\n ('England', 554),\n ('India', 770),\n ('Ireland', 93),\n ('Kenya', 114),\n ('Netherlands', 31),\n ('New Zealand', 608),\n ('Pakistan', 781),\n ('South Africa', 463),\n ('Sri Lanka', 710),\n ('West Indies', 658),\n ('Zimbabwe', 394)]"
     ]
    }
   ],
   "source": [
    "#sort the values alphabetically\n",
    "\n",
    "countries_total_matches_played_sort= countries_total_matches_played.sortByKey(ascending=True)\n",
    "countries_total_matches_played_sort.take(countries_total_matches_played_sort.count())"
   ]
  },
  {
   "cell_type": "markdown",
   "metadata": {
    "application/vnd.databricks.v1+cell": {
     "cellMetadata": {
      "byteLimit": 2048000,
      "rowLimit": 10000
     },
     "inputWidgets": {},
     "nuid": "98b2c2d9-54b5-4fdd-a140-653b6f3363a2",
     "showTitle": false,
     "title": ""
    }
   },
   "source": [
    "##### Statistical Analysis"
   ]
  },
  {
   "cell_type": "code",
   "execution_count": 0,
   "metadata": {
    "application/vnd.databricks.v1+cell": {
     "cellMetadata": {
      "byteLimit": 2048000,
      "rowLimit": 10000
     },
     "inputWidgets": {},
     "nuid": "429b332f-c01d-4677-9daf-94e7783f2b44",
     "showTitle": false,
     "title": ""
    }
   },
   "outputs": [],
   "source": [
    "import statistics\n",
    "# Parameters used for Statistical analysis\n",
    "# minimum -> minimumum no. of matches captained by captain for a country\n",
    "# maximum -> maximum no. of matches captained by captain for a country\n",
    "# mean -> mean of no. of matches captained by captain for a country\n",
    "# median -> median of no. of matches captained by captain for a country\n",
    "# Stats for ('Australia', [230, 178, 106, 74, 67, 50, 49, 49, 29])\n",
    "# eg. for Australia stats are {'min': 29, 'max': 230, 'mean': 92.44, 'median': 67}\n",
    "def getStats(vals):\n",
    "  minimum = min(vals)\n",
    "  maximum = max(vals)\n",
    "  mean = statistics.mean(vals)\n",
    "  median = statistics.median(vals)  \n",
    "  \n",
    "  return {\"min\": minimum,\n",
    "          \"max\": maximum,\n",
    "          \"mean\": round(mean, 2),\n",
    "          \"median\": round(median, 2)}  "
   ]
  },
  {
   "cell_type": "code",
   "execution_count": 0,
   "metadata": {
    "application/vnd.databricks.v1+cell": {
     "cellMetadata": {
      "byteLimit": 2048000,
      "rowLimit": 10000
     },
     "inputWidgets": {},
     "nuid": "e1a68d66-fc61-4f29-a87b-357152f6dd98",
     "showTitle": false,
     "title": ""
    }
   },
   "outputs": [],
   "source": [
    "stats_matches_captained = countries_matches.groupByKey().mapValues(getStats)"
   ]
  },
  {
   "cell_type": "code",
   "execution_count": 0,
   "metadata": {
    "application/vnd.databricks.v1+cell": {
     "cellMetadata": {
      "byteLimit": 2048000,
      "rowLimit": 10000
     },
     "inputWidgets": {},
     "nuid": "86550fb5-7b09-4354-b219-f9c534efb267",
     "showTitle": false,
     "title": ""
    }
   },
   "outputs": [
    {
     "output_type": "stream",
     "name": "stdout",
     "output_type": "stream",
     "text": [
      "Out[49]: [('Australia', {'min': 29, 'max': 230, 'mean': 92.44, 'median': 67}),\n ('India', {'min': 38, 'max': 186, 'mean': 110, 'median': 79}),\n ('South Africa', {'min': 76, 'max': 149, 'mean': 115.75, 'median': 119.0}),\n ('Pakistan', {'min': 22, 'max': 139, 'mean': 55.79, 'median': 37.0}),\n ('West Indies', {'min': 26, 'max': 125, 'mean': 65.8, 'median': 51.5}),\n ('Kenya', {'min': 20, 'max': 73, 'mean': 38, 'median': 21}),\n ('Ireland', {'min': 32, 'max': 61, 'mean': 46.5, 'median': 46.5}),\n ('Netherlands', {'min': 31, 'max': 31, 'mean': 31, 'median': 31}),\n ('Bermuda', {'min': 31, 'max': 31, 'mean': 31, 'median': 31}),\n ('New Zealand', {'min': 20, 'max': 218, 'mean': 60.8, 'median': 40.5}),\n ('Sri Lanka', {'min': 26, 'max': 193, 'mean': 88.75, 'median': 69.0}),\n ('Zimbabwe', {'min': 29, 'max': 86, 'mean': 56.29, 'median': 56}),\n ('England', {'min': 24, 'max': 69, 'mean': 42.62, 'median': 41}),\n ('Bangladesh', {'min': 28, 'max': 69, 'mean': 41.83, 'median': 37.5}),\n ('Afghanistan', {'min': 22, 'max': 28, 'mean': 25, 'median': 25.0}),\n ('Canada', {'min': 27, 'max': 27, 'mean': 27, 'median': 27})]"
     ]
    }
   ],
   "source": [
    "stats_matches_captained.take(stats_matches_captained.count()) "
   ]
  }
 ],
 "metadata": {
  "application/vnd.databricks.v1+notebook": {
   "dashboards": [],
   "environmentMetadata": null,
   "language": "python",
   "notebookMetadata": {
    "pythonIndentUnit": 4
   },
   "notebookName": "Cricket Data Analysis",
   "widgets": {}
  }
 },
 "nbformat": 4,
 "nbformat_minor": 0
}
