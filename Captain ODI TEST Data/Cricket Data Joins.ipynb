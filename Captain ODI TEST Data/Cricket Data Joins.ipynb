{
 "cells": [
  {
   "cell_type": "code",
   "execution_count": 0,
   "metadata": {
    "application/vnd.databricks.v1+cell": {
     "cellMetadata": {
      "byteLimit": 2048000,
      "rowLimit": 10000
     },
     "inputWidgets": {},
     "nuid": "992eccce-ab96-46ce-b0bb-0d919f5546eb",
     "showTitle": false,
     "title": ""
    }
   },
   "outputs": [
    {
     "output_type": "display_data",
     "data": {
      "text/html": [
       "\n",
       "            <div>\n",
       "                <p><b>SparkSession - hive</b></p>\n",
       "                \n",
       "        <div>\n",
       "            <p><b>SparkContext</b></p>\n",
       "\n",
       "            <p><a href=\"/?o=3780522163279943#setting/sparkui/0601-085817-4s5ohh0y/driver-3508568394602286396\">Spark UI</a></p>\n",
       "\n",
       "            <dl>\n",
       "              <dt>Version</dt>\n",
       "                <dd><code>v3.3.2</code></dd>\n",
       "              <dt>Master</dt>\n",
       "                <dd><code>local[8]</code></dd>\n",
       "              <dt>AppName</dt>\n",
       "                <dd><code>Databricks Shell</code></dd>\n",
       "            </dl>\n",
       "        </div>\n",
       "        \n",
       "            </div>\n",
       "        "
      ]
     },
     "metadata": {
      "application/vnd.databricks.v1+output": {
       "addedWidgets": {},
       "arguments": {},
       "data": "\n            <div>\n                <p><b>SparkSession - hive</b></p>\n                \n        <div>\n            <p><b>SparkContext</b></p>\n\n            <p><a href=\"/?o=3780522163279943#setting/sparkui/0601-085817-4s5ohh0y/driver-3508568394602286396\">Spark UI</a></p>\n\n            <dl>\n              <dt>Version</dt>\n                <dd><code>v3.3.2</code></dd>\n              <dt>Master</dt>\n                <dd><code>local[8]</code></dd>\n              <dt>AppName</dt>\n                <dd><code>Databricks Shell</code></dd>\n            </dl>\n        </div>\n        \n            </div>\n        ",
       "datasetInfos": [],
       "metadata": {},
       "removedWidgets": [],
       "textData": null,
       "type": "htmlSandbox"
      }
     },
     "output_type": "display_data"
    }
   ],
   "source": [
    "spark"
   ]
  },
  {
   "cell_type": "code",
   "execution_count": 0,
   "metadata": {
    "application/vnd.databricks.v1+cell": {
     "cellMetadata": {
      "byteLimit": 2048000,
      "rowLimit": 10000
     },
     "inputWidgets": {},
     "nuid": "b1cae4e8-a227-464a-8802-7028699862e8",
     "showTitle": false,
     "title": ""
    }
   },
   "outputs": [],
   "source": [
    "import matplotlib.pyplot as plt"
   ]
  },
  {
   "cell_type": "code",
   "execution_count": 0,
   "metadata": {
    "application/vnd.databricks.v1+cell": {
     "cellMetadata": {
      "byteLimit": 2048000,
      "rowLimit": 10000
     },
     "inputWidgets": {},
     "nuid": "36a1f670-c397-46d5-9ee0-de8b6b7406e9",
     "showTitle": false,
     "title": ""
    }
   },
   "outputs": [],
   "source": [
    "sc = spark.sparkContext"
   ]
  },
  {
   "cell_type": "code",
   "execution_count": 0,
   "metadata": {
    "application/vnd.databricks.v1+cell": {
     "cellMetadata": {
      "byteLimit": 2048000,
      "rowLimit": 10000
     },
     "inputWidgets": {},
     "nuid": "f23c166a-ceaa-4be1-8ac4-0408ab968f96",
     "showTitle": false,
     "title": ""
    }
   },
   "outputs": [
    {
     "output_type": "stream",
     "name": "stdout",
     "output_type": "stream",
     "text": [
      "Out[163]: ['Ponting  R T,Australia,1995-2012,230,165,51,14,124',\n 'Fleming  S P,New Zealand,1994-2007,218,98,106,14,105',\n 'Ranatunga  A,Sri Lanka,1982-1999,193,89,95,9,102',\n 'Dhoni  M S*,India,2004-,186,103,68,15,88',\n 'Border  A R,Australia,1979-1994,178,107,67,4,86']"
     ]
    }
   ],
   "source": [
    "captains_odis = sc.textFile( \"/FileStore/tables/captains_ODI.csv\" )\n",
    "captains_odis.take(5)"
   ]
  },
  {
   "cell_type": "markdown",
   "metadata": {
    "application/vnd.databricks.v1+cell": {
     "cellMetadata": {
      "byteLimit": 2048000,
      "rowLimit": 10000
     },
     "inputWidgets": {},
     "nuid": "dcb8643e-4c56-41bb-857c-b710a7e3eb3c",
     "showTitle": false,
     "title": ""
    }
   },
   "source": [
    "#### Fields: \"name\", \"country\", \"career\", \"matches\", \"won\", \"lost\", \"ties\", \"toss\""
   ]
  },
  {
   "cell_type": "code",
   "execution_count": 0,
   "metadata": {
    "application/vnd.databricks.v1+cell": {
     "cellMetadata": {
      "byteLimit": 2048000,
      "rowLimit": 10000
     },
     "inputWidgets": {},
     "nuid": "e857ecfe-7c79-4bd3-8d78-a4abf966b3ab",
     "showTitle": false,
     "title": ""
    }
   },
   "outputs": [
    {
     "output_type": "stream",
     "name": "stdout",
     "output_type": "stream",
     "text": [
      "Out[164]: ['Smith  G C,South Africa,2002-2014,109,53,29,27,58',\n 'Border  A R,Australia,1978-1994,93,32,22,38,47',\n 'Fleming  S P,New Zealand,1994-2008,80,28,27,25,38',\n 'Ponting  R T,Australia,1995-2012,77,48,16,13,37',\n 'Lloyd  C H,West Indies,1966-1984,74,36,12,26,35']"
     ]
    }
   ],
   "source": [
    "captains_test = sc.textFile( \"/FileStore/tables/captains_Test.csv\" )\n",
    "captains_test.take(5)"
   ]
  },
  {
   "cell_type": "code",
   "execution_count": 0,
   "metadata": {
    "application/vnd.databricks.v1+cell": {
     "cellMetadata": {
      "byteLimit": 2048000,
      "rowLimit": 10000
     },
     "inputWidgets": {},
     "nuid": "96434f3f-fca9-42e6-9867-33415f9ebaed",
     "showTitle": false,
     "title": ""
    }
   },
   "outputs": [],
   "source": [
    "def getWinningPerc(line):\n",
    "  \n",
    "  tokens = line.split(',')\n",
    "  winPerc = round(float(tokens[4])/float(tokens[3]), 2) # win Percentage = Won/Total Matches\n",
    "  \n",
    "  return (tokens[0], winPerc) # return (key,value). eg.('Ponting  R T', 0.72)"
   ]
  },
  {
   "cell_type": "code",
   "execution_count": 0,
   "metadata": {
    "application/vnd.databricks.v1+cell": {
     "cellMetadata": {
      "byteLimit": 2048000,
      "rowLimit": 10000
     },
     "inputWidgets": {},
     "nuid": "15eebe52-ad22-4118-ba94-6cad5511fba2",
     "showTitle": false,
     "title": ""
    }
   },
   "outputs": [
    {
     "output_type": "stream",
     "name": "stdout",
     "output_type": "stream",
     "text": [
      "Out[166]: [('Ponting  R T', 0.72),\n ('Fleming  S P', 0.45),\n ('Ranatunga  A', 0.46),\n ('Dhoni  M S*', 0.55),\n ('Border  A R', 0.6),\n ('Azharuddin  M', 0.51),\n ('Smith  G C', 0.61),\n ('Ganguly  S C', 0.52),\n ('Cronje  W J', 0.71),\n ('Imran Khan', 0.54)]"
     ]
    }
   ],
   "source": [
    "captains_odi_winPerc = captains_odis.map( lambda line: getWinningPerc(line) ) #finding winning percentage of each captain\n",
    "captains_odi_winPerc.take(10)"
   ]
  },
  {
   "cell_type": "code",
   "execution_count": 0,
   "metadata": {
    "application/vnd.databricks.v1+cell": {
     "cellMetadata": {
      "byteLimit": 2048000,
      "rowLimit": 10000
     },
     "inputWidgets": {},
     "nuid": "cb1dda40-0c6e-42f9-9b23-ec2a0ca655d9",
     "showTitle": false,
     "title": ""
    }
   },
   "outputs": [
    {
     "output_type": "stream",
     "name": "stdout",
     "output_type": "stream",
     "text": [
      "Out[167]: [('Smith  G C', 0.49),\n ('Border  A R', 0.34),\n ('Fleming  S P', 0.35),\n ('Ponting  R T', 0.62),\n ('Lloyd  C H', 0.49),\n ('Dhoni  M S*', 0.45),\n ('Waugh  S R', 0.72),\n ('Ranatunga  A', 0.21),\n ('Atherton  M A', 0.24),\n ('Cronje  W J', 0.51)]"
     ]
    }
   ],
   "source": [
    "captains_test_winPerc = captains_test.map( lambda line: getWinningPerc(line) ) #finding winning percentage of each captain\n",
    "captains_test_winPerc.take(10)"
   ]
  },
  {
   "cell_type": "code",
   "execution_count": 0,
   "metadata": {
    "application/vnd.databricks.v1+cell": {
     "cellMetadata": {
      "byteLimit": 2048000,
      "rowLimit": 10000
     },
     "inputWidgets": {},
     "nuid": "37ccde1e-8ac3-4a9a-92a9-eaa4884d6b48",
     "showTitle": false,
     "title": ""
    }
   },
   "outputs": [],
   "source": [
    "#join two results\n",
    "\n",
    "# returns ODI win percentage and Test win Percentage\n",
    "def getWins(vals):\n",
    "  odiWins, testWins = list(vals[0]), list(vals[1])\n",
    "  \n",
    "  return (odiWins, testWins)"
   ]
  },
  {
   "cell_type": "code",
   "execution_count": 0,
   "metadata": {
    "application/vnd.databricks.v1+cell": {
     "cellMetadata": {
      "byteLimit": 2048000,
      "rowLimit": 10000
     },
     "inputWidgets": {},
     "nuid": "35db8547-d0c8-434c-a356-c7409dea39b8",
     "showTitle": false,
     "title": ""
    }
   },
   "outputs": [
    {
     "output_type": "stream",
     "name": "stdout",
     "output_type": "stream",
     "text": [
      "Out[169]: [('Smith  G C', ([0.49], [0.61])),\n ('Ganguly  S C', ([0.43], [0.52])),\n ('Simpson  R B', ([0.31], [])),\n ('Jayasuriya  S T', ([0.47], [0.56])),\n ('Brearley  J M', ([0.58], [0.6])),\n ('Sammy  D J G*', ([0.27], [0.36])),\n ('Hughes  K J', ([0.14], [0.43])),\n ('Cowdrey  M C', ([0.3], [])),\n ('Tendulkar  S R', ([0.16], [0.32])),\n ('Goddard  J D C', ([0.36], []))]"
     ]
    }
   ],
   "source": [
    "# Display the first 10 records after grouping\n",
    "grouped_data=captains_test_winPerc.groupWith( captains_odi_winPerc ).mapValues(getWins)\n",
    "grouped_data.take(10)"
   ]
  },
  {
   "cell_type": "code",
   "execution_count": 0,
   "metadata": {
    "application/vnd.databricks.v1+cell": {
     "cellMetadata": {
      "byteLimit": 2048000,
      "rowLimit": 10000
     },
     "inputWidgets": {},
     "nuid": "ed377117-3069-4993-8f34-8d80195b334a",
     "showTitle": false,
     "title": ""
    }
   },
   "outputs": [
    {
     "output_type": "stream",
     "name": "stdout",
     "output_type": "stream",
     "text": [
      "Out[170]: [('Smith  G C', [0.49], [0.61]),\n ('Ganguly  S C', [0.43], [0.52]),\n ('Simpson  R B', [0.31], []),\n ('Jayasuriya  S T', [0.47], [0.56]),\n ('Brearley  J M', [0.58], [0.6]),\n ('Sammy  D J G*', [0.27], [0.36]),\n ('Hughes  K J', [0.14], [0.43]),\n ('Cowdrey  M C', [0.3], []),\n ('Tendulkar  S R', [0.16], [0.32]),\n ('Goddard  J D C', [0.36], [])]"
     ]
    }
   ],
   "source": [
    "# Transform the RDD to the desired format\n",
    "transformed_rdd = grouped_data.map(lambda x: (x[0], x[1][0], x[1][1])     )\n",
    "transformed_rdd.take(10)                 "
   ]
  },
  {
   "cell_type": "code",
   "execution_count": 0,
   "metadata": {
    "application/vnd.databricks.v1+cell": {
     "cellMetadata": {
      "byteLimit": 2048000,
      "rowLimit": 10000
     },
     "inputWidgets": {},
     "nuid": "d592cc14-760a-4ec0-95fa-7919904558c6",
     "showTitle": false,
     "title": ""
    }
   },
   "outputs": [
    {
     "output_type": "stream",
     "name": "stdout",
     "output_type": "stream",
     "text": [
      "Out[171]: [('Smith  G C', 0.49, 0.61),\n ('Ganguly  S C', 0.43, 0.52),\n ('Simpson  R B', 0.31, 0),\n ('Jayasuriya  S T', 0.47, 0.56),\n ('Brearley  J M', 0.58, 0.6)]"
     ]
    }
   ],
   "source": [
    "# Transform the RDD\n",
    "transformed_rdd = transformed_rdd.map(lambda x: (x[0], x[1][0], x[2][0] if x[2] else 0))\n",
    "transformed_rdd.take(5)"
   ]
  },
  {
   "cell_type": "code",
   "execution_count": 0,
   "metadata": {
    "application/vnd.databricks.v1+cell": {
     "cellMetadata": {
      "byteLimit": 2048000,
      "rowLimit": 10000
     },
     "inputWidgets": {},
     "nuid": "429419b2-96fa-45e7-8c4b-c80b5ec92480",
     "showTitle": false,
     "title": ""
    }
   },
   "outputs": [
    {
     "output_type": "stream",
     "name": "stdout",
     "output_type": "stream",
     "text": [
      "Out[172]: [('Smith  G C', {'Test_wins': 0.49, 'ODI_wins': 0.61}),\n ('Ganguly  S C', {'Test_wins': 0.43, 'ODI_wins': 0.52}),\n ('Simpson  R B', {'Test_wins': 0.31, 'ODI_wins': 0}),\n ('Jayasuriya  S T', {'Test_wins': 0.47, 'ODI_wins': 0.56}),\n ('Brearley  J M', {'Test_wins': 0.58, 'ODI_wins': 0.6}),\n ('Sammy  D J G*', {'Test_wins': 0.27, 'ODI_wins': 0.36}),\n ('Hughes  K J', {'Test_wins': 0.14, 'ODI_wins': 0.43}),\n ('Cowdrey  M C', {'Test_wins': 0.3, 'ODI_wins': 0}),\n ('Tendulkar  S R', {'Test_wins': 0.16, 'ODI_wins': 0.32}),\n ('Goddard  J D C', {'Test_wins': 0.36, 'ODI_wins': 0}),\n ('MacLaren  A C', {'Test_wins': 0.18, 'ODI_wins': 0}),\n ('Darling  J', {'Test_wins': 0.33, 'ODI_wins': 0}),\n ('Hammond  W R', {'Test_wins': 0.2, 'ODI_wins': 0})]"
     ]
    }
   ],
   "source": [
    "captain_stats_all = transformed_rdd.map(lambda rec: (rec[0],\n",
    "                                               {\"Test_wins\": rec[1],\n",
    "                                               \"ODI_wins\": rec[2]}))\n",
    "                                                #data is formatted to two categories as \"Test_wins\" and \"ODI_wins\"\n",
    "\n",
    "\n",
    "captain_stats_all.take(13)\n",
    "                                "
   ]
  },
  {
   "cell_type": "markdown",
   "metadata": {
    "application/vnd.databricks.v1+cell": {
     "cellMetadata": {
      "byteLimit": 2048000,
      "rowLimit": 10000
     },
     "inputWidgets": {},
     "nuid": "135eb4d4-27b9-4362-bd61-242b01ffd075",
     "showTitle": false,
     "title": ""
    }
   },
   "source": [
    "### Joins"
   ]
  },
  {
   "cell_type": "code",
   "execution_count": 0,
   "metadata": {
    "application/vnd.databricks.v1+cell": {
     "cellMetadata": {
      "byteLimit": 2048000,
      "rowLimit": 10000
     },
     "inputWidgets": {},
     "nuid": "32f403e9-d2a0-447c-8284-28d5ed836142",
     "showTitle": false,
     "title": ""
    }
   },
   "outputs": [],
   "source": [
    "# Splitting each line in the RDDs by comma and keying each element by country\n",
    "captains_odis_rdd = captains_odis.map(lambda x: x.split(\",\")).keyBy(lambda x: x[1])\n",
    "captains_test_rdd = captains_test.map(lambda x: x.split(\",\")).keyBy(lambda x: x[1])"
   ]
  },
  {
   "cell_type": "code",
   "execution_count": 0,
   "metadata": {
    "application/vnd.databricks.v1+cell": {
     "cellMetadata": {
      "byteLimit": 2048000,
      "rowLimit": 10000
     },
     "inputWidgets": {},
     "nuid": "f2910aad-1df3-44f2-9e2b-ad77676511a8",
     "showTitle": false,
     "title": ""
    }
   },
   "outputs": [
    {
     "output_type": "stream",
     "name": "stdout",
     "output_type": "stream",
     "text": [
      "Out[174]: [('Australia',\n  ['Ponting  R T', 'Australia', '1995-2012', '230', '165', '51', '14', '124']),\n ('New Zealand',\n  ['Fleming  S P',\n   'New Zealand',\n   '1994-2007',\n   '218',\n   '98',\n   '106',\n   '14',\n   '105']),\n ('Sri Lanka',\n  ['Ranatunga  A', 'Sri Lanka', '1982-1999', '193', '89', '95', '9', '102']),\n ('India', ['Dhoni  M S*', 'India', '2004-', '186', '103', '68', '15', '88']),\n ('Australia',\n  ['Border  A R', 'Australia', '1979-1994', '178', '107', '67', '4', '86'])]"
     ]
    }
   ],
   "source": [
    "captains_odis_rdd.take(5)"
   ]
  },
  {
   "cell_type": "code",
   "execution_count": 0,
   "metadata": {
    "application/vnd.databricks.v1+cell": {
     "cellMetadata": {
      "byteLimit": 2048000,
      "rowLimit": 10000
     },
     "inputWidgets": {},
     "nuid": "2cbf415c-27bd-4ff5-88c8-5e897f4c18f9",
     "showTitle": false,
     "title": ""
    }
   },
   "outputs": [
    {
     "output_type": "stream",
     "name": "stdout",
     "output_type": "stream",
     "text": [
      "Out[175]: [('South Africa',\n  ['Smith  G C', 'South Africa', '2002-2014', '109', '53', '29', '27', '58']),\n ('Australia',\n  ['Border  A R', 'Australia', '1978-1994', '93', '32', '22', '38', '47']),\n ('New Zealand',\n  ['Fleming  S P', 'New Zealand', '1994-2008', '80', '28', '27', '25', '38']),\n ('Australia',\n  ['Ponting  R T', 'Australia', '1995-2012', '77', '48', '16', '13', '37']),\n ('West Indies',\n  ['Lloyd  C H', 'West Indies', '1966-1984', '74', '36', '12', '26', '35'])]"
     ]
    }
   ],
   "source": [
    "captains_test_rdd.take(5)"
   ]
  },
  {
   "cell_type": "markdown",
   "metadata": {
    "application/vnd.databricks.v1+cell": {
     "cellMetadata": {
      "byteLimit": 2048000,
      "rowLimit": 10000
     },
     "inputWidgets": {},
     "nuid": "840144c5-36fb-48e1-b8b9-45043ff9a33f",
     "showTitle": false,
     "title": ""
    }
   },
   "source": [
    "#### 1. RDD.leftOuterJoin:"
   ]
  },
  {
   "cell_type": "code",
   "execution_count": 0,
   "metadata": {
    "application/vnd.databricks.v1+cell": {
     "cellMetadata": {
      "byteLimit": 2048000,
      "rowLimit": 10000
     },
     "inputWidgets": {},
     "nuid": "a5d047b8-2f9f-40c1-9cec-4e3b1d81d5b6",
     "showTitle": false,
     "title": ""
    }
   },
   "outputs": [
    {
     "output_type": "stream",
     "name": "stdout",
     "output_type": "stream",
     "text": [
      "Out[176]: [('South Africa',\n  (['Smith  G C', 'South Africa', '2002-2013', '149', '91', '51', '7', '74'],\n   ['Smith  G C',\n    'South Africa',\n    '2002-2014',\n    '109',\n    '53',\n    '29',\n    '27',\n    '58'])),\n ('South Africa',\n  (['Smith  G C', 'South Africa', '2002-2013', '149', '91', '51', '7', '74'],\n   ['Cronje  W J',\n    'South Africa',\n    '1992-2000',\n    '53',\n    '27',\n    '11',\n    '15',\n    '22']))]"
     ]
    }
   ],
   "source": [
    "# Performing a left outer join between captains_odis_rdd and captains_test_rdd\n",
    "left_outer_join = captains_odis_rdd.leftOuterJoin(captains_test_rdd)\n",
    "left_outer_join.take(2)"
   ]
  },
  {
   "cell_type": "markdown",
   "metadata": {
    "application/vnd.databricks.v1+cell": {
     "cellMetadata": {
      "byteLimit": 2048000,
      "rowLimit": 10000
     },
     "inputWidgets": {},
     "nuid": "3d27d84e-acef-439e-aff4-635cc329e011",
     "showTitle": false,
     "title": ""
    }
   },
   "source": [
    "#### 2. RDD.rightOuterJoin:"
   ]
  },
  {
   "cell_type": "code",
   "execution_count": 0,
   "metadata": {
    "application/vnd.databricks.v1+cell": {
     "cellMetadata": {
      "byteLimit": 2048000,
      "rowLimit": 10000
     },
     "inputWidgets": {},
     "nuid": "b5ae3dfb-b1b3-4afc-a9a1-afff94150574",
     "showTitle": false,
     "title": ""
    }
   },
   "outputs": [
    {
     "output_type": "stream",
     "name": "stdout",
     "output_type": "stream",
     "text": [
      "Out[177]: [('South Africa',\n  (['Smith  G C', 'South Africa', '2002-2014', '109', '53', '29', '27', '58'],\n   ['Smith  G C', 'South Africa', '2002-2013', '149', '91', '51', '7', '74'])),\n ('South Africa',\n  (['Smith  G C', 'South Africa', '2002-2014', '109', '53', '29', '27', '58'],\n   ['Cronje  W J',\n    'South Africa',\n    '1992-2000',\n    '140',\n    '99',\n    '37',\n    '4',\n    '74']))]"
     ]
    }
   ],
   "source": [
    "# Performing a right outer join between captains_odis_rdd and captains_test_rdd\n",
    "right_outer_join = captains_test_rdd.rightOuterJoin(captains_odis_rdd)\n",
    "right_outer_join.take(2)"
   ]
  },
  {
   "cell_type": "markdown",
   "metadata": {
    "application/vnd.databricks.v1+cell": {
     "cellMetadata": {
      "byteLimit": 2048000,
      "rowLimit": 10000
     },
     "inputWidgets": {},
     "nuid": "7d4124e4-1353-40fb-a7ed-68784d76e9a6",
     "showTitle": false,
     "title": ""
    }
   },
   "source": [
    "#### 3. RDD.fullOuterJoin:"
   ]
  },
  {
   "cell_type": "code",
   "execution_count": 0,
   "metadata": {
    "application/vnd.databricks.v1+cell": {
     "cellMetadata": {
      "byteLimit": 2048000,
      "rowLimit": 10000
     },
     "inputWidgets": {},
     "nuid": "5af36570-9ac4-4e7f-9d00-de2bf043a1f9",
     "showTitle": false,
     "title": ""
    }
   },
   "outputs": [
    {
     "output_type": "stream",
     "name": "stdout",
     "output_type": "stream",
     "text": [
      "Out[178]: [('South Africa',\n  (['Smith  G C', 'South Africa', '2002-2013', '149', '91', '51', '7', '74'],\n   ['Smith  G C',\n    'South Africa',\n    '2002-2014',\n    '109',\n    '53',\n    '29',\n    '27',\n    '58'])),\n ('South Africa',\n  (['Smith  G C', 'South Africa', '2002-2013', '149', '91', '51', '7', '74'],\n   ['Cronje  W J',\n    'South Africa',\n    '1992-2000',\n    '53',\n    '27',\n    '11',\n    '15',\n    '22']))]"
     ]
    }
   ],
   "source": [
    "# Performing a full outer join between captains_odis_rdd and captains_test_rdd\n",
    "full_outer_join = captains_odis_rdd.fullOuterJoin(captains_test_rdd)\n",
    "full_outer_join.take(2)"
   ]
  }
 ],
 "metadata": {
  "application/vnd.databricks.v1+notebook": {
   "dashboards": [],
   "environmentMetadata": null,
   "language": "python",
   "notebookMetadata": {
    "pythonIndentUnit": 4
   },
   "notebookName": "Cricket Data Joins",
   "widgets": {}
  }
 },
 "nbformat": 4,
 "nbformat_minor": 0
}
