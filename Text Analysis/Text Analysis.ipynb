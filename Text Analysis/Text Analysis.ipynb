{
 "cells": [
  {
   "cell_type": "code",
   "execution_count": 0,
   "metadata": {
    "application/vnd.databricks.v1+cell": {
     "cellMetadata": {
      "byteLimit": 2048000,
      "rowLimit": 10000
     },
     "inputWidgets": {},
     "nuid": "9e19aa05-bad3-4f75-bd99-c11e70717611",
     "showTitle": false,
     "title": ""
    }
   },
   "outputs": [],
   "source": [
    "import matplotlib.pyplot as plt\n",
    "import pandas as pd\n",
    "import re\n",
    "import nltk\n",
    "from nltk.corpus import stopwords"
   ]
  },
  {
   "cell_type": "code",
   "execution_count": 0,
   "metadata": {
    "application/vnd.databricks.v1+cell": {
     "cellMetadata": {
      "byteLimit": 2048000,
      "rowLimit": 10000
     },
     "inputWidgets": {},
     "nuid": "d442f06c-ad48-4c48-a19d-74ee8601f95a",
     "showTitle": false,
     "title": ""
    }
   },
   "outputs": [
    {
     "output_type": "stream",
     "name": "stdout",
     "output_type": "stream",
     "text": [
      "/FileStore/tables/fooddelivery MapPartitionsRDD[998] at textFile at NativeMethodAccessorImpl.java:0\n"
     ]
    }
   ],
   "source": [
    "sc = spark.sparkContext\n",
    "file = sc.textFile(\"/FileStore/tables/fooddelivery\") \n",
    "print(file)"
   ]
  },
  {
   "cell_type": "code",
   "execution_count": 0,
   "metadata": {
    "application/vnd.databricks.v1+cell": {
     "cellMetadata": {
      "byteLimit": 2048000,
      "rowLimit": 10000
     },
     "inputWidgets": {},
     "nuid": "1ca25d14-2f0e-4b8e-b1c5-0a958b44ec63",
     "showTitle": false,
     "title": ""
    }
   },
   "outputs": [
    {
     "output_type": "stream",
     "name": "stdout",
     "output_type": "stream",
     "text": [
      "Out[262]: 'Key business metrics or performance metrics (KPIs) that you would like to monitor for a food delivery service? (Enter minimum three)'"
     ]
    }
   ],
   "source": [
    "#first line of file\n",
    "file.first()"
   ]
  },
  {
   "cell_type": "code",
   "execution_count": 0,
   "metadata": {
    "application/vnd.databricks.v1+cell": {
     "cellMetadata": {
      "byteLimit": 2048000,
      "rowLimit": 10000
     },
     "inputWidgets": {},
     "nuid": "13d27a8f-1234-4de2-bfb8-55201a0722e4",
     "showTitle": false,
     "title": ""
    }
   },
   "outputs": [
    {
     "output_type": "stream",
     "name": "stdout",
     "output_type": "stream",
     "text": [
      "Out[263]: ['Key business metrics or performance metrics (KPIs) that you would like to monitor for a food delivery service? (Enter minimum three)',\n 'on time delivery , failed payment , ratings stats(by rider , by user) , resto. rating ',\n 'Cost , Distance, Type of food, frequency of certain order types, Storage type, manpower.',\n '\"1. Delivery time',\n '2. Service area',\n '3. Customer\\'s taste preference \"',\n '\"1. number of completed deliveries',\n '2. Average cost of delivery',\n '3. Average time per delivery\"',\n 'Delivery time, Order amount and frequency per area, Feedback after servicing']"
     ]
    }
   ],
   "source": [
    "#first few lines of file\n",
    "file.take(10)"
   ]
  },
  {
   "cell_type": "code",
   "execution_count": 0,
   "metadata": {
    "application/vnd.databricks.v1+cell": {
     "cellMetadata": {
      "byteLimit": 2048000,
      "rowLimit": 10000
     },
     "inputWidgets": {},
     "nuid": "04304832-1dce-48db-bed5-b1bbf16d6b86",
     "showTitle": false,
     "title": ""
    }
   },
   "outputs": [
    {
     "output_type": "stream",
     "name": "stdout",
     "output_type": "stream",
     "text": [
      "Out[264]: 225"
     ]
    }
   ],
   "source": [
    "#number of lines in file\n",
    "file.count()"
   ]
  },
  {
   "cell_type": "markdown",
   "metadata": {
    "application/vnd.databricks.v1+cell": {
     "cellMetadata": {
      "byteLimit": 2048000,
      "rowLimit": 10000
     },
     "inputWidgets": {},
     "nuid": "ba08e272-e9ea-4748-bd22-ccba97f06806",
     "showTitle": false,
     "title": ""
    }
   },
   "source": [
    "## Text Preprocessing"
   ]
  },
  {
   "cell_type": "code",
   "execution_count": 0,
   "metadata": {
    "application/vnd.databricks.v1+cell": {
     "cellMetadata": {
      "byteLimit": 2048000,
      "rowLimit": 10000
     },
     "inputWidgets": {},
     "nuid": "08e1f74e-dafe-4370-9fbe-017c4a634803",
     "showTitle": false,
     "title": ""
    }
   },
   "outputs": [],
   "source": [
    "#split the text into words\n",
    "\n",
    "words=file.flatMap(lambda line: line.split(\" \"))"
   ]
  },
  {
   "cell_type": "code",
   "execution_count": 0,
   "metadata": {
    "application/vnd.databricks.v1+cell": {
     "cellMetadata": {
      "byteLimit": 2048000,
      "rowLimit": 10000
     },
     "inputWidgets": {},
     "nuid": "713d53ef-58a2-4eff-9449-082f564e34c9",
     "showTitle": false,
     "title": ""
    }
   },
   "outputs": [
    {
     "output_type": "stream",
     "name": "stdout",
     "output_type": "stream",
     "text": [
      "Out[266]: ['Key',\n 'business',\n 'metrics',\n 'or',\n 'performance',\n 'metrics',\n '(KPIs)',\n 'that',\n 'you',\n 'would']"
     ]
    }
   ],
   "source": [
    "words.take(10)"
   ]
  },
  {
   "cell_type": "code",
   "execution_count": 0,
   "metadata": {
    "application/vnd.databricks.v1+cell": {
     "cellMetadata": {
      "byteLimit": 2048000,
      "rowLimit": 10000
     },
     "inputWidgets": {},
     "nuid": "ee721028-c6bf-4fb7-b25c-5450702495bc",
     "showTitle": false,
     "title": ""
    }
   },
   "outputs": [],
   "source": [
    "#get word tokens\n",
    "word_tokens = words.map( lambda word: (word.lower(), 1 ))"
   ]
  },
  {
   "cell_type": "code",
   "execution_count": 0,
   "metadata": {
    "application/vnd.databricks.v1+cell": {
     "cellMetadata": {
      "byteLimit": 2048000,
      "rowLimit": 10000
     },
     "inputWidgets": {},
     "nuid": "49816812-dca3-4bc5-814d-a02362134653",
     "showTitle": false,
     "title": ""
    }
   },
   "outputs": [
    {
     "output_type": "stream",
     "name": "stderr",
     "output_type": "stream",
     "text": [
      "[nltk_data] Downloading package stopwords to /root/nltk_data...\n[nltk_data]   Package stopwords is already up-to-date!\n"
     ]
    }
   ],
   "source": [
    "# Download stopwords\n",
    "nltk.download('stopwords')\n",
    "stop_words = set(stopwords.words('english'))"
   ]
  },
  {
   "cell_type": "code",
   "execution_count": 0,
   "metadata": {
    "application/vnd.databricks.v1+cell": {
     "cellMetadata": {
      "byteLimit": 2048000,
      "rowLimit": 10000
     },
     "inputWidgets": {},
     "nuid": "de7f9636-30c7-4e63-927c-c2cc893706ac",
     "showTitle": false,
     "title": ""
    }
   },
   "outputs": [],
   "source": [
    "#stop word removal\n",
    "\n",
    "key_words = word_tokens.filter(lambda rec: rec[0] not in stop_words)"
   ]
  },
  {
   "cell_type": "code",
   "execution_count": 0,
   "metadata": {
    "application/vnd.databricks.v1+cell": {
     "cellMetadata": {
      "byteLimit": 2048000,
      "rowLimit": 10000
     },
     "inputWidgets": {},
     "nuid": "e2cfb3e2-e30a-41a0-aaa9-9ed395606f28",
     "showTitle": false,
     "title": ""
    }
   },
   "outputs": [],
   "source": [
    "#remove special characters\n",
    "\n",
    "pattern = r'[^a-z]'\n",
    "clean_words = key_words.filter(lambda rec: len(re.sub(pattern, '', rec[0])) > 1)"
   ]
  },
  {
   "cell_type": "code",
   "execution_count": 0,
   "metadata": {
    "application/vnd.databricks.v1+cell": {
     "cellMetadata": {
      "byteLimit": 2048000,
      "rowLimit": 10000
     },
     "inputWidgets": {},
     "nuid": "7b213909-faef-48b8-864b-792e3fc5c03f",
     "showTitle": false,
     "title": ""
    }
   },
   "outputs": [
    {
     "output_type": "stream",
     "name": "stdout",
     "output_type": "stream",
     "text": [
      "Out[271]: [('key', 1),\n ('business', 1),\n ('metrics', 1),\n ('performance', 1),\n ('metrics', 1),\n ('(kpis)', 1),\n ('would', 1),\n ('like', 1),\n ('monitor', 1),\n ('food', 1)]"
     ]
    }
   ],
   "source": [
    "#clean words\n",
    "clean_words.take(10)"
   ]
  },
  {
   "cell_type": "code",
   "execution_count": 0,
   "metadata": {
    "application/vnd.databricks.v1+cell": {
     "cellMetadata": {
      "byteLimit": 2048000,
      "rowLimit": 10000
     },
     "inputWidgets": {},
     "nuid": "d7fcbaa0-96b2-4028-bf59-bde3b6c99409",
     "showTitle": false,
     "title": ""
    }
   },
   "outputs": [],
   "source": [
    "#count of clean words/ frequency\n",
    "clean_words_count = clean_words.reduceByKey(lambda a, b: a+b)"
   ]
  },
  {
   "cell_type": "markdown",
   "metadata": {
    "application/vnd.databricks.v1+cell": {
     "cellMetadata": {
      "byteLimit": 2048000,
      "rowLimit": 10000
     },
     "inputWidgets": {},
     "nuid": "38719868-3e1a-4247-9aae-9ca30b49f81d",
     "showTitle": false,
     "title": ""
    }
   },
   "source": [
    "## Word Count Analysis"
   ]
  },
  {
   "cell_type": "code",
   "execution_count": 0,
   "metadata": {
    "application/vnd.databricks.v1+cell": {
     "cellMetadata": {
      "byteLimit": 2048000,
      "rowLimit": 10000
     },
     "inputWidgets": {},
     "nuid": "9c8e295a-ad4c-4af5-bc0e-354739487022",
     "showTitle": false,
     "title": ""
    }
   },
   "outputs": [],
   "source": [
    "#top clean words frequency\n",
    "\n",
    "clean_words_sorted = clean_words_count.sortBy(lambda rec: rec[1], ascending = False)"
   ]
  },
  {
   "cell_type": "code",
   "execution_count": 0,
   "metadata": {
    "application/vnd.databricks.v1+cell": {
     "cellMetadata": {
      "byteLimit": 2048000,
      "rowLimit": 10000
     },
     "inputWidgets": {},
     "nuid": "fb4e4ef2-1501-4446-82a3-54b6adc9ba73",
     "showTitle": false,
     "title": ""
    }
   },
   "outputs": [
    {
     "output_type": "stream",
     "name": "stdout",
     "output_type": "stream",
     "text": [
      "Out[274]: [('delivery', 50),\n ('customer', 39),\n ('order', 34),\n ('time', 31),\n ('per', 29),\n ('average', 23),\n ('food', 22),\n ('number', 19),\n ('orders', 16),\n ('restaurant', 12),\n ('rating', 12),\n ('customers', 12),\n ('cost', 10),\n ('frequency', 9),\n ('satisfaction', 9),\n ('rate', 8),\n ('revenue', 8),\n ('order,', 8),\n ('time,', 8),\n ('data', 8)]"
     ]
    }
   ],
   "source": [
    "clean_words_sorted.take(20)"
   ]
  },
  {
   "cell_type": "code",
   "execution_count": 0,
   "metadata": {
    "application/vnd.databricks.v1+cell": {
     "cellMetadata": {
      "byteLimit": 2048000,
      "rowLimit": 10000
     },
     "inputWidgets": {},
     "nuid": "faf0ade2-6a96-46e5-a537-852cf57a05c9",
     "showTitle": false,
     "title": ""
    }
   },
   "outputs": [
    {
     "output_type": "display_data",
     "data": {
      "text/html": [
       "<style scoped>\n",
       "  .table-result-container {\n",
       "    max-height: 300px;\n",
       "    overflow: auto;\n",
       "  }\n",
       "  table, th, td {\n",
       "    border: 1px solid black;\n",
       "    border-collapse: collapse;\n",
       "  }\n",
       "  th, td {\n",
       "    padding: 5px;\n",
       "  }\n",
       "  th {\n",
       "    text-align: left;\n",
       "  }\n",
       "</style><div class='table-result-container'><table class='table-result'><thead style='background-color: white'><tr><th>Word</th><th>Count</th></tr></thead><tbody><tr><td>delivery</td><td>50</td></tr><tr><td>customer</td><td>39</td></tr><tr><td>order</td><td>34</td></tr><tr><td>time</td><td>31</td></tr><tr><td>per</td><td>29</td></tr></tbody></table></div>"
      ]
     },
     "metadata": {
      "application/vnd.databricks.v1+output": {
       "addedWidgets": {},
       "aggData": [],
       "aggError": "",
       "aggOverflow": false,
       "aggSchema": [],
       "aggSeriesLimitReached": false,
       "aggType": "",
       "arguments": {},
       "columnCustomDisplayInfos": {},
       "data": [
        [
         "delivery",
         50
        ],
        [
         "customer",
         39
        ],
        [
         "order",
         34
        ],
        [
         "time",
         31
        ],
        [
         "per",
         29
        ]
       ],
       "datasetInfos": [],
       "dbfsResultPath": null,
       "isJsonSchema": true,
       "metadata": {},
       "overflow": false,
       "plotOptions": {
        "customPlotOptions": {},
        "displayType": "table",
        "pivotAggregation": null,
        "pivotColumns": null,
        "xColumns": null,
        "yColumns": null
       },
       "removedWidgets": [],
       "schema": [
        {
         "metadata": "{}",
         "name": "Word",
         "type": "\"string\""
        },
        {
         "metadata": "{}",
         "name": "Count",
         "type": "\"long\""
        }
       ],
       "type": "table"
      }
     },
     "output_type": "display_data"
    }
   ],
   "source": [
    "# Assuming data1 is a list of tuples (word, count)\n",
    "df = pd.DataFrame(clean_words_sorted.take(20), columns=['Word', 'Count'])\n",
    "display(df.head())"
   ]
  },
  {
   "cell_type": "code",
   "execution_count": 0,
   "metadata": {
    "application/vnd.databricks.v1+cell": {
     "cellMetadata": {
      "byteLimit": 2048000,
      "rowLimit": 10000
     },
     "inputWidgets": {},
     "nuid": "8976062e-9f63-4121-a449-351894e32e9c",
     "showTitle": false,
     "title": ""
    }
   },
   "outputs": [
    {
     "output_type": "display_data",
     "data": {
      "image/png": "[encoded data removed]"
     },
     "metadata": {
      "application/vnd.databricks.v1+output": {
       "addedWidgets": {},
       "arguments": {},
       "data": "data:image/png;base64,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\n",
       "datasetInfos": [],
       "metadata": {},
       "removedWidgets": [],
       "type": "image"
      }
     },
     "output_type": "display_data"
    }
   ],
   "source": [
    "# Assuming data1 is a list of tuples (word, count)\n",
    "words = [x[0] for x in clean_words_sorted.take(20)]\n",
    "counts = [x[1] for x in clean_words_sorted.take(20)]\n",
    "\n",
    "plt.figure(figsize=(10, 6))\n",
    "plt.bar(words, counts)\n",
    "plt.xlabel('Words')\n",
    "plt.ylabel('Counts')\n",
    "plt.title('Top 20 Words Freq')\n",
    "plt.xticks(rotation=90)\n",
    "plt.show()"
   ]
  },
  {
   "cell_type": "markdown",
   "metadata": {
    "application/vnd.databricks.v1+cell": {
     "cellMetadata": {
      "byteLimit": 2048000,
      "rowLimit": 10000
     },
     "inputWidgets": {},
     "nuid": "3cda74ef-ae47-4a21-b451-359d60b5982a",
     "showTitle": false,
     "title": ""
    }
   },
   "source": [
    "## Bigram Analysis"
   ]
  },
  {
   "cell_type": "code",
   "execution_count": 0,
   "metadata": {
    "application/vnd.databricks.v1+cell": {
     "cellMetadata": {
      "byteLimit": 2048000,
      "rowLimit": 10000
     },
     "inputWidgets": {},
     "nuid": "6c277485-f373-413b-803f-350c9dac936e",
     "showTitle": false,
     "title": ""
    }
   },
   "outputs": [],
   "source": [
    "def bigrams(line):\n",
    "    # Split the line into words\n",
    "    words = line.lower().split()\n",
    "    \n",
    "    # Remove special characters and stopwords\n",
    "    words = [re.sub(r'[^\\w\\s]', '', word) for word in words if word not in stop_words]\n",
    "    \n",
    "    numOfWords = len(words)\n",
    "    bigrams = []\n",
    "    \n",
    "    # Create bigrams\n",
    "    for idx in range(numOfWords - 1):\n",
    "        bigram = (words[idx] + \" \" + words[idx + 1], 1)\n",
    "        bigrams.append(bigram)\n",
    "    \n",
    "    return bigrams\n"
   ]
  },
  {
   "cell_type": "code",
   "execution_count": 0,
   "metadata": {
    "application/vnd.databricks.v1+cell": {
     "cellMetadata": {
      "byteLimit": 2048000,
      "rowLimit": 10000
     },
     "inputWidgets": {},
     "nuid": "32375ae6-ee4b-4e6e-af43-81068523d200",
     "showTitle": false,
     "title": ""
    }
   },
   "outputs": [
    {
     "output_type": "stream",
     "name": "stdout",
     "output_type": "stream",
     "text": [
      "Out[278]: [('key business', 1),\n ('business metrics', 1),\n ('metrics performance', 1),\n ('performance metrics', 1),\n ('metrics kpis', 1)]"
     ]
    }
   ],
   "source": [
    "bigram_tokens =file.flatMap( lambda line: bigrams(line))\n",
    "bigram_tokens.take(5)"
   ]
  },
  {
   "cell_type": "code",
   "execution_count": 0,
   "metadata": {
    "application/vnd.databricks.v1+cell": {
     "cellMetadata": {
      "byteLimit": 2048000,
      "rowLimit": 10000
     },
     "inputWidgets": {},
     "nuid": "c4ceb2e0-eac2-443c-9f02-d4aa56fdfece",
     "showTitle": false,
     "title": ""
    }
   },
   "outputs": [
    {
     "output_type": "stream",
     "name": "stdout",
     "output_type": "stream",
     "text": [
      "Out[279]: [('key business', 1),\n ('metrics performance', 1),\n ('performance metrics', 2),\n ('kpis would', 1),\n ('would like', 1),\n ('minimum three', 1),\n ('time delivery', 3),\n (' failed', 1),\n ('failed payment', 1),\n ('ratings statsby', 1),\n ('rider ', 1),\n ('user ', 1),\n ('distance type', 1),\n ('type food', 1),\n ('frequency certain', 1),\n ('certain order', 1),\n ('1 delivery', 3),\n ('2 service', 1),\n ('service area', 1),\n ('3 customers', 1)]"
     ]
    }
   ],
   "source": [
    "\n",
    "bigram_counts = bigram_tokens.reduceByKey(lambda a, b: a+b) \n",
    "bigram_counts.take(20)"
   ]
  },
  {
   "cell_type": "code",
   "execution_count": 0,
   "metadata": {
    "application/vnd.databricks.v1+cell": {
     "cellMetadata": {
      "byteLimit": 2048000,
      "rowLimit": 10000
     },
     "inputWidgets": {},
     "nuid": "e3379c9f-1502-4827-a095-0156cf963f50",
     "showTitle": false,
     "title": ""
    }
   },
   "outputs": [
    {
     "output_type": "stream",
     "name": "stdout",
     "output_type": "stream",
     "text": [
      "Out[280]: [('delivery time', 16),\n ('average delivery', 7),\n ('customer satisfaction', 7),\n ('orders per', 6),\n ('per order', 6),\n ('order value', 6),\n ('customer retention', 5),\n ('average order', 5),\n ('food delivery', 5),\n ('per delivery', 4),\n ('3 customer', 4),\n ('number orders', 4),\n ('1 average', 4),\n ('time per', 4),\n ('customer rating', 4),\n ('revenue per', 4),\n ('metric plots', 4),\n ('time delivery', 3),\n ('1 delivery', 3),\n ('time order', 3)]"
     ]
    }
   ],
   "source": [
    "bigram_counts.sortBy(lambda rec: rec[1], ascending = False).take(20)"
   ]
  },
  {
   "cell_type": "code",
   "execution_count": 0,
   "metadata": {
    "application/vnd.databricks.v1+cell": {
     "cellMetadata": {
      "byteLimit": 2048000,
      "rowLimit": 10000
     },
     "inputWidgets": {},
     "nuid": "8f4b9a9e-5bd6-43e4-aa3b-7e18aed41905",
     "showTitle": false,
     "title": ""
    }
   },
   "outputs": [
    {
     "output_type": "display_data",
     "data": {
      "image/png": "[encoded data removed]"
     },
     "metadata": {
      "application/vnd.databricks.v1+output": {
       "addedWidgets": {},
       "arguments": {},
       "data": "data:image/png;base64,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\n",
       "datasetInfos": [],
       "metadata": {},
       "removedWidgets": [],
       "type": "image"
      }
     },
     "output_type": "display_data"
    }
   ],
   "source": [
    "# Assuming data1 is a list of tuples (word, count)\n",
    "words = [x[0] for x in bigram_counts.sortBy(lambda rec: rec[1], ascending = False).take(20)]\n",
    "counts = [x[1] for x in bigram_counts.sortBy(lambda rec: rec[1], ascending = False).take(20)]\n",
    "\n",
    "plt.figure(figsize=(10, 6))\n",
    "plt.bar(words, counts)\n",
    "plt.xlabel('Bigram')\n",
    "plt.ylabel('Counts')\n",
    "plt.title('Bigram Counts')\n",
    "plt.xticks(rotation=75)\n",
    "plt.show()"
   ]
  },
  {
   "cell_type": "markdown",
   "metadata": {
    "application/vnd.databricks.v1+cell": {
     "cellMetadata": {
      "byteLimit": 2048000,
      "rowLimit": 10000
     },
     "inputWidgets": {},
     "nuid": "7a466446-40a2-4657-aaab-0e8a55e274c6",
     "showTitle": false,
     "title": ""
    }
   },
   "source": [
    "## Trigram Analysis"
   ]
  },
  {
   "cell_type": "code",
   "execution_count": 0,
   "metadata": {
    "application/vnd.databricks.v1+cell": {
     "cellMetadata": {
      "byteLimit": 2048000,
      "rowLimit": 10000
     },
     "inputWidgets": {},
     "nuid": "83068267-f7b9-47e3-b1be-3c71e9eb55b1",
     "showTitle": false,
     "title": ""
    }
   },
   "outputs": [],
   "source": [
    "def trigrams(line):\n",
    "    # Split the line into words\n",
    "    words = line.lower().split()\n",
    "    \n",
    "    # Remove special characters and stopwords\n",
    "    words = [re.sub(r'[^\\w\\s]', '', word) for word in words if word not in stop_words]\n",
    "    \n",
    "    numOfWords = len(words)\n",
    "    trigrams = []\n",
    "    \n",
    "    # Create bigrams\n",
    "    for idx in range(numOfWords - 2):\n",
    "        trigram = (words[idx] + \" \" + words[idx + 1]+\" \" + words[idx + 2]   , 1)\n",
    "        trigrams.append(trigram)\n",
    "    \n",
    "    return trigrams\n"
   ]
  },
  {
   "cell_type": "code",
   "execution_count": 0,
   "metadata": {
    "application/vnd.databricks.v1+cell": {
     "cellMetadata": {
      "byteLimit": 2048000,
      "rowLimit": 10000
     },
     "inputWidgets": {},
     "nuid": "a98238ad-10d9-4eb5-a0bb-3c203dae9132",
     "showTitle": false,
     "title": ""
    }
   },
   "outputs": [
    {
     "output_type": "stream",
     "name": "stdout",
     "output_type": "stream",
     "text": [
      "Out[283]: [('average delivery time', 4),\n ('profit per delivery', 3),\n ('1 average delivery', 3),\n ('average order value', 3),\n ('out 5 star', 2),\n ('food items cart', 2),\n ('2 delivery time', 2),\n ('customer rating delivery', 2),\n ('hygienic food proper', 2),\n ('food proper packaging', 2),\n ('employee behaviour rating', 2),\n ('restaurant highest number', 2),\n ('total amount orders', 2),\n ('delivery time ', 2),\n ('percentage driver order', 2),\n ('food delivery business', 2),\n ('revenue per order', 2),\n ('time per order', 2),\n ('average time per', 2),\n ('number orders per', 2)]"
     ]
    }
   ],
   "source": [
    "(file\n",
    ".flatMap( lambda line: trigrams(line))\n",
    ".reduceByKey(lambda a, b: a+b) \n",
    ".sortBy(lambda rec: rec[1], ascending = False).take(20))\n"
   ]
  },
  {
   "cell_type": "code",
   "execution_count": 0,
   "metadata": {
    "application/vnd.databricks.v1+cell": {
     "cellMetadata": {
      "byteLimit": 2048000,
      "rowLimit": 10000
     },
     "inputWidgets": {},
     "nuid": "c02d4937-9971-48fd-a13a-a70271376298",
     "showTitle": false,
     "title": ""
    }
   },
   "outputs": [],
   "source": [
    "tri_val= (file\n",
    ".flatMap( lambda line: trigrams(line))\n",
    ".reduceByKey(lambda a, b: a+b) \n",
    ".sortBy(lambda rec: rec[1], ascending = False).take(20))\n"
   ]
  },
  {
   "cell_type": "code",
   "execution_count": 0,
   "metadata": {
    "application/vnd.databricks.v1+cell": {
     "cellMetadata": {
      "byteLimit": 2048000,
      "rowLimit": 10000
     },
     "inputWidgets": {},
     "nuid": "38e95eea-0dc0-4dd6-9465-b768d75c486e",
     "showTitle": false,
     "title": ""
    }
   },
   "outputs": [
    {
     "output_type": "display_data",
     "data": {
      "image/png": "[encoded data removed]"
     },
     "metadata": {
      "application/vnd.databricks.v1+output": {
       "addedWidgets": {},
       "arguments": {},
       "data": "data:image/png;base64,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\n",
       "datasetInfos": [],
       "metadata": {},
       "removedWidgets": [],
       "type": "image"
      }
     },
     "output_type": "display_data"
    }
   ],
   "source": [
    "# Assuming data1 is a list of tuples (word, count)\n",
    "words = [x[0] for x in tri_val]\n",
    "counts = [x[1] for x in tri_val]\n",
    "\n",
    "plt.figure(figsize=(10, 6))\n",
    "plt.bar(words, counts)\n",
    "plt.xlabel('Tigram')\n",
    "plt.ylabel('Counts')\n",
    "plt.title('Tigram Counts')\n",
    "plt.xticks(rotation=75)\n",
    "plt.show()"
   ]
  },
  {
   "cell_type": "markdown",
   "metadata": {
    "application/vnd.databricks.v1+cell": {
     "cellMetadata": {
      "byteLimit": 2048000,
      "rowLimit": 10000
     },
     "inputWidgets": {},
     "nuid": "b0457f85-087b-4cf0-a5f1-4bfbf59a2fe0",
     "showTitle": false,
     "title": ""
    }
   },
   "source": [
    "## More Analysis (On Raw Text without any pre processing)"
   ]
  },
  {
   "cell_type": "code",
   "execution_count": 0,
   "metadata": {
    "application/vnd.databricks.v1+cell": {
     "cellMetadata": {
      "byteLimit": 2048000,
      "rowLimit": 10000
     },
     "inputWidgets": {},
     "nuid": "ea7dafb6-9afe-4f40-8ed3-e2f305173e47",
     "showTitle": false,
     "title": ""
    }
   },
   "outputs": [
    {
     "output_type": "stream",
     "name": "stdout",
     "output_type": "stream",
     "text": [
      "Out[286]: 'application/service.'"
     ]
    }
   ],
   "source": [
    "#longest word\n",
    "file.flatMap(lambda line: line.lower().split()).max(key=lambda word: len(word))\n"
   ]
  },
  {
   "cell_type": "code",
   "execution_count": 0,
   "metadata": {
    "application/vnd.databricks.v1+cell": {
     "cellMetadata": {
      "byteLimit": 2048000,
      "rowLimit": 10000
     },
     "inputWidgets": {},
     "nuid": "36351623-414e-4df9-91ee-c411382f281a",
     "showTitle": false,
     "title": ""
    }
   },
   "outputs": [
    {
     "output_type": "stream",
     "name": "stdout",
     "output_type": "stream",
     "text": [
      "Out[287]: ('(resturants/delivery', 20)"
     ]
    }
   ],
   "source": [
    "(file\n",
    ".flatMap(lambda line: line.lower().split())\n",
    ".map(lambda word: (word, len(word)))\n",
    ".reduce(lambda x, y: x if x[1] > y[1] else y))\n"
   ]
  },
  {
   "cell_type": "code",
   "execution_count": 0,
   "metadata": {
    "application/vnd.databricks.v1+cell": {
     "cellMetadata": {
      "byteLimit": 2048000,
      "rowLimit": 10000
     },
     "inputWidgets": {},
     "nuid": "7294cf1c-d929-41c2-8d70-f2ffeecd1e15",
     "showTitle": false,
     "title": ""
    }
   },
   "outputs": [
    {
     "output_type": "stream",
     "name": "stdout",
     "output_type": "stream",
     "text": [
      "Out[288]: 739"
     ]
    }
   ],
   "source": [
    "#unique words\n",
    "file.flatMap(lambda line: line.lower().split()).distinct().count()\n"
   ]
  },
  {
   "cell_type": "code",
   "execution_count": 0,
   "metadata": {
    "application/vnd.databricks.v1+cell": {
     "cellMetadata": {
      "byteLimit": 2048000,
      "rowLimit": 10000
     },
     "inputWidgets": {},
     "nuid": "bbbf738f-7e52-4b9f-9866-a0028c267df9",
     "showTitle": false,
     "title": ""
    }
   },
   "outputs": [
    {
     "output_type": "stream",
     "name": "stdout",
     "output_type": "stream",
     "text": [
      "Out[289]: 5.321152856407624"
     ]
    }
   ],
   "source": [
    "#average word length\n",
    "file.flatMap(lambda line: line.lower().split()).map(lambda word: len(word)).mean()\n"
   ]
  },
  {
   "cell_type": "code",
   "execution_count": 0,
   "metadata": {
    "application/vnd.databricks.v1+cell": {
     "cellMetadata": {
      "byteLimit": 2048000,
      "rowLimit": 10000
     },
     "inputWidgets": {},
     "nuid": "6914b11c-95c7-4c04-8b4c-a03ca1f9bf64",
     "showTitle": false,
     "title": ""
    }
   },
   "outputs": [
    {
     "output_type": "stream",
     "name": "stdout",
     "output_type": "stream",
     "text": [
      "Out[290]: ('o', 232)"
     ]
    }
   ],
   "source": [
    "#most common starting letter of words\n",
    "(file.flatMap(lambda line: line.lower().split())\n",
    ".map(lambda word: (word[0], 1))\n",
    ".reduceByKey(lambda x, y: x + y)\n",
    ".max(key=lambda x: x[1]))\n"
   ]
  },
  {
   "cell_type": "code",
   "execution_count": 0,
   "metadata": {
    "application/vnd.databricks.v1+cell": {
     "cellMetadata": {
      "byteLimit": 2048000,
      "rowLimit": 10000
     },
     "inputWidgets": {},
     "nuid": "5a0c7311-9dcf-4d22-958e-cd7a6e5131c7",
     "showTitle": false,
     "title": ""
    }
   },
   "outputs": [
    {
     "output_type": "stream",
     "name": "stdout",
     "output_type": "stream",
     "text": [
      "Out[291]: [('total word', 1943)]"
     ]
    }
   ],
   "source": [
    "#total words\n",
    "\n",
    "(file.flatMap(lambda line: line.split())\n",
    ".map(lambda word: (\"total word\", 1))\n",
    ".reduceByKey(lambda x, y: x + y)\n",
    ".take(1))"
   ]
  },
  {
   "cell_type": "code",
   "execution_count": 0,
   "metadata": {
    "application/vnd.databricks.v1+cell": {
     "cellMetadata": {
      "byteLimit": 2048000,
      "rowLimit": 10000
     },
     "inputWidgets": {},
     "nuid": "f4017897-31dc-414c-a2d0-62515e81e9e2",
     "showTitle": false,
     "title": ""
    }
   },
   "outputs": [
    {
     "output_type": "stream",
     "name": "stdout",
     "output_type": "stream",
     "text": [
      "Out[292]: [('line', 225)]"
     ]
    }
   ],
   "source": [
    "#number of lines\n",
    "(file\n",
    ".map(lambda line: (\"line\", 1))\n",
    ".reduceByKey(lambda x, y: x + y)\n",
    ".take(1))\n",
    "\n"
   ]
  },
  {
   "cell_type": "code",
   "execution_count": 0,
   "metadata": {
    "application/vnd.databricks.v1+cell": {
     "cellMetadata": {
      "byteLimit": 2048000,
      "rowLimit": 10000
     },
     "inputWidgets": {},
     "nuid": "d05cef8b-f074-4698-b95c-62d46e1faa80",
     "showTitle": false,
     "title": ""
    }
   },
   "outputs": [
    {
     "output_type": "stream",
     "name": "stdout",
     "output_type": "stream",
     "text": [
      "Out[293]: [('total word s', 90)]"
     ]
    }
   ],
   "source": [
    "#word start with s\n",
    "\n",
    "(file.flatMap(lambda line: line.split())\n",
    ".map(lambda word: (\"total word s\", word.lower().startswith('s')))\n",
    ".reduceByKey(lambda x, y: x + y)\n",
    ".take(1))"
   ]
  },
  {
   "cell_type": "code",
   "execution_count": 0,
   "metadata": {
    "application/vnd.databricks.v1+cell": {
     "cellMetadata": {
      "byteLimit": 2048000,
      "rowLimit": 10000
     },
     "inputWidgets": {},
     "nuid": "8a4212fb-ac49-43c0-82d2-2ab443fffc75",
     "showTitle": false,
     "title": ""
    }
   },
   "outputs": [
    {
     "output_type": "stream",
     "name": "stdout",
     "output_type": "stream",
     "text": [
      "Out[294]: [('word start with a', 174)]"
     ]
    }
   ],
   "source": [
    "#start with a\n",
    "\n",
    "(file.flatMap(lambda line: line.split())\n",
    ".map(lambda word: (  \"word start with a\" , word.lower().startswith('a')))\n",
    ".reduceByKey(lambda x, y: x + y)\n",
    ".take(1))"
   ]
  },
  {
   "cell_type": "code",
   "execution_count": 0,
   "metadata": {
    "application/vnd.databricks.v1+cell": {
     "cellMetadata": {
      "byteLimit": 2048000,
      "rowLimit": 10000
     },
     "inputWidgets": {},
     "nuid": "6f5803c3-6ace-4290-9f3f-0820e45b3cdf",
     "showTitle": false,
     "title": ""
    }
   },
   "outputs": [
    {
     "output_type": "stream",
     "name": "stdout",
     "output_type": "stream",
     "text": [
      "Out[295]: [('word start with a', 174)]"
     ]
    }
   ],
   "source": [
    "#word start with a \n",
    "\n",
    "(file.flatMap(lambda line: line.split())\n",
    ".map(lambda word: (  \"word start with a\" , word.lower()[0]=='a'))\n",
    ".reduceByKey(lambda x, y: x + y)\n",
    ".take(1))"
   ]
  },
  {
   "cell_type": "code",
   "execution_count": 0,
   "metadata": {
    "application/vnd.databricks.v1+cell": {
     "cellMetadata": {
      "byteLimit": 2048000,
      "rowLimit": 10000
     },
     "inputWidgets": {},
     "nuid": "feaa2db1-2c71-46bf-8c24-9498ac3c34ac",
     "showTitle": false,
     "title": ""
    }
   },
   "outputs": [
    {
     "output_type": "stream",
     "name": "stdout",
     "output_type": "stream",
     "text": [
      "Out[296]: [('word start with a', 174)]"
     ]
    }
   ],
   "source": [
    "# words start with a \n",
    "\n",
    "(file.flatMap(lambda line: line.split())\n",
    ".map(lambda word: (  \"word start with a\" , (word[0]=='a' or  word[0]==\"A\")))\n",
    ".reduceByKey(lambda x, y: x + y)\n",
    ".take(1))\n"
   ]
  },
  {
   "cell_type": "code",
   "execution_count": 0,
   "metadata": {
    "application/vnd.databricks.v1+cell": {
     "cellMetadata": {
      "byteLimit": 2048000,
      "rowLimit": 10000
     },
     "inputWidgets": {},
     "nuid": "00b1017c-423e-4fe6-8ddc-b5963169867c",
     "showTitle": false,
     "title": ""
    }
   },
   "outputs": [
    {
     "output_type": "stream",
     "name": "stdout",
     "output_type": "stream",
     "text": [
      "Out[297]: [(' words that end with a', 31)]"
     ]
    }
   ],
   "source": [
    "#ends with a\n",
    "(file.flatMap(lambda line: line.split())\n",
    ".map(lambda word: (  \" words that end with a\" , word[len(word)-1].lower()==\"a\"))\n",
    ".reduceByKey(lambda x, y: x + y)\n",
    ".take(1))"
   ]
  },
  {
   "cell_type": "code",
   "execution_count": 0,
   "metadata": {
    "application/vnd.databricks.v1+cell": {
     "cellMetadata": {
      "byteLimit": 2048000,
      "rowLimit": 10000
     },
     "inputWidgets": {},
     "nuid": "9e488865-332e-4df1-a606-c412d031de19",
     "showTitle": false,
     "title": ""
    }
   },
   "outputs": [
    {
     "output_type": "stream",
     "name": "stdout",
     "output_type": "stream",
     "text": [
      "Out[298]: [('word length more than 5', 847)]"
     ]
    }
   ],
   "source": [
    "#word with length more than 5\n",
    "\n",
    "(file.flatMap(lambda line: line.split())\n",
    ".map(lambda word: (  \"word length more than 5\" , len(word)>5))\n",
    ".reduceByKey(lambda x, y: x + y)\n",
    ".take(1))\n"
   ]
  },
  {
   "cell_type": "code",
   "execution_count": 0,
   "metadata": {
    "application/vnd.databricks.v1+cell": {
     "cellMetadata": {
      "byteLimit": 2048000,
      "rowLimit": 10000
     },
     "inputWidgets": {},
     "nuid": "f9c9e790-3991-4e69-909a-b9f70c06b6dd",
     "showTitle": false,
     "title": ""
    }
   },
   "outputs": [
    {
     "output_type": "stream",
     "name": "stdout",
     "output_type": "stream",
     "text": [
      "Out[299]: [('number of the:', 59)]"
     ]
    }
   ],
   "source": [
    "#number of \"the\" in text\n",
    "\n",
    "(file.flatMap(lambda line: line.split())\n",
    ".map(lambda word: (  \"number of the:\" , word.lower()==\"the\"))\n",
    ".reduceByKey(lambda x, y: x + y)\n",
    ".take(1))"
   ]
  },
  {
   "cell_type": "code",
   "execution_count": 0,
   "metadata": {
    "application/vnd.databricks.v1+cell": {
     "cellMetadata": {
      "byteLimit": 2048000,
      "rowLimit": 10000
     },
     "inputWidgets": {},
     "nuid": "bd40af13-b57b-4822-ad3e-2c44d5088586",
     "showTitle": false,
     "title": ""
    }
   },
   "outputs": [
    {
     "output_type": "stream",
     "name": "stdout",
     "output_type": "stream",
     "text": [
      "Out[300]: [('satisfaction', 9),\n ('should', 7),\n ('sales', 5),\n ('service', 4),\n ('star)', 3),\n ('size', 3),\n ('system,', 2),\n ('service,', 2),\n ('support', 2),\n ('success', 2),\n ('specific', 2),\n ('statistics', 2),\n ('spent', 2),\n ('sla', 2),\n ('service?', 1),\n ('storage', 1),\n ('servicing', 1),\n ('sunday)', 1),\n ('score', 1),\n ('scores', 1)]"
     ]
    }
   ],
   "source": [
    "#freq of words starting with s\n",
    "(file.\n",
    " flatMap(lambda line: line.lower().split())\n",
    ".filter(lambda word: word.startswith('s'))\n",
    ".map(lambda word: (word,1))\n",
    ".reduceByKey(lambda x, y: x + y)\n",
    ".sortBy(lambda rec: rec[1], ascending= False)\n",
    ".take(20))\n",
    "        "
   ]
  },
  {
   "cell_type": "code",
   "execution_count": 0,
   "metadata": {
    "application/vnd.databricks.v1+cell": {
     "cellMetadata": {
      "byteLimit": 2048000,
      "rowLimit": 10000
     },
     "inputWidgets": {},
     "nuid": "b1cd7909-4847-449d-87d7-71e84cbf0524",
     "showTitle": false,
     "title": ""
    }
   },
   "outputs": [],
   "source": [
    "data1=(file.\n",
    " flatMap(lambda line: line.lower().split())\n",
    ".filter(lambda word: word.startswith('s'))\n",
    ".map(lambda word: (word,1))\n",
    ".reduceByKey(lambda x, y: x + y)\n",
    ".sortBy(lambda rec: rec[1], ascending= False)\n",
    ".take(20))\n",
    "        "
   ]
  },
  {
   "cell_type": "code",
   "execution_count": 0,
   "metadata": {
    "application/vnd.databricks.v1+cell": {
     "cellMetadata": {
      "byteLimit": 2048000,
      "rowLimit": 10000
     },
     "inputWidgets": {},
     "nuid": "e3b78820-d3c0-408e-bf23-688f088431b4",
     "showTitle": false,
     "title": ""
    }
   },
   "outputs": [
    {
     "output_type": "display_data",
     "data": {
      "image/png": "[encoded data removed]"
     },
     "metadata": {
      "application/vnd.databricks.v1+output": {
       "addedWidgets": {},
       "arguments": {},
       "data": "data:image/png;base64,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\n",
       "datasetInfos": [],
       "metadata": {},
       "removedWidgets": [],
       "type": "image"
      }
     },
     "output_type": "display_data"
    }
   ],
   "source": [
    "# Assuming data1 is a list of tuples (word, count)\n",
    "words = [x[0] for x in data1]\n",
    "counts = [x[1] for x in data1]\n",
    "\n",
    "plt.figure(figsize=(10, 6))\n",
    "plt.bar(words, counts)\n",
    "plt.xlabel('Words')\n",
    "plt.ylabel('Counts')\n",
    "plt.title('Top 20 Words Starting with \"s\"')\n",
    "plt.xticks(rotation=45)\n",
    "plt.show()"
   ]
  },
  {
   "cell_type": "code",
   "execution_count": 0,
   "metadata": {
    "application/vnd.databricks.v1+cell": {
     "cellMetadata": {
      "byteLimit": 2048000,
      "rowLimit": 10000
     },
     "inputWidgets": {},
     "nuid": "51ea1cac-8446-4024-9e13-f0ad593d3fa3",
     "showTitle": false,
     "title": ""
    }
   },
   "outputs": [
    {
     "output_type": "stream",
     "name": "stdout",
     "output_type": "stream",
     "text": [
      "Out[303]: [('delivery', 50),\n ('customer', 39),\n ('order', 34),\n ('per', 29),\n ('average', 23),\n ('number', 19),\n ('orders', 16),\n ('customers', 12),\n ('order,', 8),\n ('driver', 7)]"
     ]
    }
   ],
   "source": [
    "#words with a sub string \"er\"\n",
    "\n",
    "(file\n",
    ".flatMap(lambda line: line.lower().split())\n",
    ".filter(lambda word: 'er' in word)\n",
    ".map(lambda word: (word, 1))\n",
    ".reduceByKey(lambda x, y: x + y)\n",
    ".sortBy(lambda rec: rec[1], ascending=False)\n",
    ".take(10))\n"
   ]
  },
  {
   "cell_type": "code",
   "execution_count": 0,
   "metadata": {
    "application/vnd.databricks.v1+cell": {
     "cellMetadata": {
      "byteLimit": 2048000,
      "rowLimit": 10000
     },
     "inputWidgets": {},
     "nuid": "e4a48e0c-2958-4021-a798-937787a14d82",
     "showTitle": false,
     "title": ""
    }
   },
   "outputs": [
    {
     "output_type": "stream",
     "name": "stdout",
     "output_type": "stream",
     "text": [
      "Out[304]: [('rating', 12),\n ('monitoring', 4),\n ('recurring', 3),\n ('placing', 2),\n ('causing', 2),\n ('servicing', 1),\n ('5.packaging', 1),\n ('(considering', 1),\n ('cancelling', 1),\n ('waiting', 1),\n ('spending', 1),\n ('using', 1),\n ('implementing', 1),\n ('regarding', 1),\n ('on-boarding', 1),\n ('rectifying', 1),\n ('preparing', 1),\n ('incoming', 1),\n ('stocking', 1),\n ('adding', 1)]"
     ]
    }
   ],
   "source": [
    "#word ending with \"ing\" \n",
    "\n",
    "(file\n",
    ".flatMap(lambda line: line.lower().split())\n",
    ".filter(lambda word: word.endswith('ing'))\n",
    ".map(lambda word: (word, 1))\n",
    ".reduceByKey(lambda x, y: x + y)\n",
    ".sortBy(lambda rec: rec[1], ascending=False)\n",
    ".take(20))\n"
   ]
  },
  {
   "cell_type": "code",
   "execution_count": 0,
   "metadata": {
    "application/vnd.databricks.v1+cell": {
     "cellMetadata": {
      "byteLimit": 2048000,
      "rowLimit": 10000
     },
     "inputWidgets": {},
     "nuid": "0700c40a-1f4e-4bb1-9875-1eab543a9e17",
     "showTitle": false,
     "title": ""
    }
   },
   "outputs": [
    {
     "output_type": "stream",
     "name": "stdout",
     "output_type": "stream",
     "text": [
      "Out[305]: 35"
     ]
    }
   ],
   "source": [
    "(file\n",
    ".flatMap(lambda line: line.lower().split())\n",
    ".filter(lambda word: word.endswith('ing'))\n",
    ".map(lambda word: (word, 1))\n",
    ".reduceByKey(lambda x, y: x + y)\n",
    ".sortBy(lambda rec: rec[1], ascending=False)).count()"
   ]
  },
  {
   "cell_type": "code",
   "execution_count": 0,
   "metadata": {
    "application/vnd.databricks.v1+cell": {
     "cellMetadata": {
      "byteLimit": 2048000,
      "rowLimit": 10000
     },
     "inputWidgets": {},
     "nuid": "0cca5c19-2d84-419d-8487-ca3904c88146",
     "showTitle": false,
     "title": ""
    }
   },
   "outputs": [
    {
     "output_type": "stream",
     "name": "stdout",
     "output_type": "stream",
     "text": [
      "Out[306]: [('servicing', 1),\n ('5.packaging', 1),\n ('(considering', 1),\n ('cancelling', 1),\n ('waiting', 1),\n ('placing', 2),\n ('spending', 1),\n ('using', 1),\n ('implementing', 1),\n ('regarding', 1)]"
     ]
    }
   ],
   "source": [
    "(file\n",
    ".flatMap(lambda line: line.lower().split())\n",
    ".filter(lambda word: word.endswith('ing'))\n",
    ".map(lambda word: (word, 1))\n",
    ".reduceByKey(lambda x, y: x + y)).take(10)"
   ]
  },
  {
   "cell_type": "code",
   "execution_count": 0,
   "metadata": {
    "application/vnd.databricks.v1+cell": {
     "cellMetadata": {
      "byteLimit": 2048000,
      "rowLimit": 10000
     },
     "inputWidgets": {},
     "nuid": "d3c62668-d785-49d9-a337-bd7cb4b3441f",
     "showTitle": false,
     "title": ""
    }
   },
   "outputs": [
    {
     "output_type": "stream",
     "name": "stdout",
     "output_type": "stream",
     "text": [
      "Out[307]: [('word ends in -ing', 53)]"
     ]
    }
   ],
   "source": [
    "#word ends in ing\n",
    "\n",
    "(file.flatMap(lambda line: line.split())\n",
    ".map(lambda word: (  \"word ends in -ing\" , word.endswith('ing')))\n",
    ".reduceByKey(lambda x, y: x + y)\n",
    ".take(1))\n"
   ]
  },
  {
   "cell_type": "code",
   "execution_count": 0,
   "metadata": {
    "application/vnd.databricks.v1+cell": {
     "cellMetadata": {
      "byteLimit": 2048000,
      "rowLimit": 10000
     },
     "inputWidgets": {},
     "nuid": "605e0771-9663-49a6-8344-606c85d5b133",
     "showTitle": false,
     "title": ""
    }
   },
   "outputs": [],
   "source": []
  }
 ],
 "metadata": {
  "application/vnd.databricks.v1+notebook": {
   "dashboards": [],
   "environmentMetadata": null,
   "language": "python",
   "notebookMetadata": {
    "pythonIndentUnit": 4
   },
   "notebookName": "Text Analysis",
   "widgets": {}
  }
 },
 "nbformat": 4,
 "nbformat_minor": 0
}
