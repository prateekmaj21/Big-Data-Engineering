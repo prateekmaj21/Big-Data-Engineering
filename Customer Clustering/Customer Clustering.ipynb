{
 "cells": [
  {
   "cell_type": "code",
   "execution_count": 0,
   "metadata": {
    "application/vnd.databricks.v1+cell": {
     "cellMetadata": {
      "byteLimit": 2048000,
      "rowLimit": 10000
     },
     "inputWidgets": {},
     "nuid": "9b9c3c9a-a742-4b34-99cd-fc1752ada1db",
     "showTitle": false,
     "title": ""
    }
   },
   "outputs": [
    {
     "output_type": "display_data",
     "data": {
      "text/html": [
       "\n",
       "            <div>\n",
       "                <p><b>SparkSession - hive</b></p>\n",
       "                \n",
       "        <div>\n",
       "            <p><b>SparkContext</b></p>\n",
       "\n",
       "            <p><a href=\"/?o=3780522163279943#setting/sparkui/0715-084707-3n7sqljd/driver-3503200292923683501\">Spark UI</a></p>\n",
       "\n",
       "            <dl>\n",
       "              <dt>Version</dt>\n",
       "                <dd><code>v3.3.2</code></dd>\n",
       "              <dt>Master</dt>\n",
       "                <dd><code>local[8]</code></dd>\n",
       "              <dt>AppName</dt>\n",
       "                <dd><code>Databricks Shell</code></dd>\n",
       "            </dl>\n",
       "        </div>\n",
       "        \n",
       "            </div>\n",
       "        "
      ]
     },
     "metadata": {
      "application/vnd.databricks.v1+output": {
       "addedWidgets": {},
       "arguments": {},
       "data": "\n            <div>\n                <p><b>SparkSession - hive</b></p>\n                \n        <div>\n            <p><b>SparkContext</b></p>\n\n            <p><a href=\"/?o=3780522163279943#setting/sparkui/0715-084707-3n7sqljd/driver-3503200292923683501\">Spark UI</a></p>\n\n            <dl>\n              <dt>Version</dt>\n                <dd><code>v3.3.2</code></dd>\n              <dt>Master</dt>\n                <dd><code>local[8]</code></dd>\n              <dt>AppName</dt>\n                <dd><code>Databricks Shell</code></dd>\n            </dl>\n        </div>\n        \n            </div>\n        ",
       "datasetInfos": [],
       "metadata": {},
       "removedWidgets": [],
       "textData": null,
       "type": "htmlSandbox"
      }
     },
     "output_type": "display_data"
    }
   ],
   "source": [
    "spark"
   ]
  },
  {
   "cell_type": "code",
   "execution_count": 0,
   "metadata": {
    "application/vnd.databricks.v1+cell": {
     "cellMetadata": {
      "byteLimit": 2048000,
      "rowLimit": 10000
     },
     "inputWidgets": {},
     "nuid": "bac413a9-eca5-4a5e-8d9e-3a0c428cd0ac",
     "showTitle": false,
     "title": ""
    }
   },
   "outputs": [],
   "source": [
    "sc = spark.sparkContext"
   ]
  },
  {
   "cell_type": "markdown",
   "metadata": {
    "application/vnd.databricks.v1+cell": {
     "cellMetadata": {
      "byteLimit": 2048000,
      "rowLimit": 10000
     },
     "inputWidgets": {},
     "nuid": "e07295a1-914d-454a-90c4-cfe5efeffb27",
     "showTitle": false,
     "title": ""
    }
   },
   "source": [
    "### Read the Data:"
   ]
  },
  {
   "cell_type": "code",
   "execution_count": 0,
   "metadata": {
    "application/vnd.databricks.v1+cell": {
     "cellMetadata": {
      "byteLimit": 2048000,
      "rowLimit": 10000
     },
     "inputWidgets": {},
     "nuid": "e05ea7d2-f7a2-4ea4-895d-fcae356c7267",
     "showTitle": false,
     "title": ""
    }
   },
   "outputs": [
    {
     "output_type": "stream",
     "name": "stdout",
     "output_type": "stream",
     "text": [
      "Out[68]: ['1,41100,48.75',\n '2,54100,28.1',\n '3,47800,46.75',\n '4,19100,40.25',\n '5,18200,35.8',\n '6,19800,41.45',\n '7,51500,31.55',\n '8,39900,48.2',\n '9,13000,36.8',\n '10,31900,43.05']"
     ]
    }
   ],
   "source": [
    "data = sc.textFile( \"/FileStore/tables/customerdata.csv\" )\n",
    "data.take(10)"
   ]
  },
  {
   "cell_type": "code",
   "execution_count": 0,
   "metadata": {
    "application/vnd.databricks.v1+cell": {
     "cellMetadata": {
      "byteLimit": 2048000,
      "rowLimit": 10000
     },
     "inputWidgets": {},
     "nuid": "767a499d-b24c-4e84-b2fa-a598b532c885",
     "showTitle": false,
     "title": ""
    }
   },
   "outputs": [],
   "source": [
    "from collections import namedtuple\n",
    "\n",
    "Customer = namedtuple('Customer', ['CustID', 'Income', 'Age'])"
   ]
  },
  {
   "cell_type": "code",
   "execution_count": 0,
   "metadata": {
    "application/vnd.databricks.v1+cell": {
     "cellMetadata": {
      "byteLimit": 2048000,
      "rowLimit": 10000
     },
     "inputWidgets": {},
     "nuid": "3b94a5c1-114d-4794-9805-85c94d884e3b",
     "showTitle": false,
     "title": ""
    }
   },
   "outputs": [],
   "source": [
    "def getRec(line):\n",
    "    line= line.split(',')\n",
    "    try:\n",
    "        return Customer(line[0], int(line[1]),float(line[2]))\n",
    "    except:\n",
    "        return None"
   ]
  },
  {
   "cell_type": "markdown",
   "metadata": {
    "application/vnd.databricks.v1+cell": {
     "cellMetadata": {
      "byteLimit": 2048000,
      "rowLimit": 10000
     },
     "inputWidgets": {},
     "nuid": "5fdb6856-b284-4449-aa34-f9cd5f305baa",
     "showTitle": false,
     "title": ""
    }
   },
   "source": [
    "#### Format the data:"
   ]
  },
  {
   "cell_type": "code",
   "execution_count": 0,
   "metadata": {
    "application/vnd.databricks.v1+cell": {
     "cellMetadata": {
      "byteLimit": 2048000,
      "rowLimit": 10000
     },
     "inputWidgets": {},
     "nuid": "3d3addf9-7fff-4da1-af85-edca52119467",
     "showTitle": false,
     "title": ""
    }
   },
   "outputs": [
    {
     "output_type": "stream",
     "name": "stdout",
     "output_type": "stream",
     "text": [
      "Out[71]: [Customer(CustID='1', Income=41100, Age=48.75),\n Customer(CustID='2', Income=54100, Age=28.1),\n Customer(CustID='3', Income=47800, Age=46.75),\n Customer(CustID='4', Income=19100, Age=40.25),\n Customer(CustID='5', Income=18200, Age=35.8),\n Customer(CustID='6', Income=19800, Age=41.45),\n Customer(CustID='7', Income=51500, Age=31.55),\n Customer(CustID='8', Income=39900, Age=48.2),\n Customer(CustID='9', Income=13000, Age=36.8),\n Customer(CustID='10', Income=31900, Age=43.05)]"
     ]
    }
   ],
   "source": [
    "cust_recs = data.map(lambda line: getRec(line))\n",
    "cust_recs.take(10)"
   ]
  },
  {
   "cell_type": "code",
   "execution_count": 0,
   "metadata": {
    "application/vnd.databricks.v1+cell": {
     "cellMetadata": {
      "byteLimit": 2048000,
      "rowLimit": 10000
     },
     "inputWidgets": {},
     "nuid": "3d914eef-04fe-414a-b318-ba5bfdcc9926",
     "showTitle": false,
     "title": ""
    }
   },
   "outputs": [],
   "source": [
    "cust_recs = cust_recs.filter(lambda x: x is not None)"
   ]
  },
  {
   "cell_type": "code",
   "execution_count": 0,
   "metadata": {
    "application/vnd.databricks.v1+cell": {
     "cellMetadata": {
      "byteLimit": 2048000,
      "rowLimit": 10000
     },
     "inputWidgets": {},
     "nuid": "1b7bb5ca-64f3-42df-b3ec-ca6ab1d81ade",
     "showTitle": false,
     "title": ""
    }
   },
   "outputs": [
    {
     "output_type": "stream",
     "name": "stdout",
     "output_type": "stream",
     "text": [
      "Out[73]: [Customer(CustID='1', Income=41100, Age=48.75),\n Customer(CustID='2', Income=54100, Age=28.1),\n Customer(CustID='3', Income=47800, Age=46.75),\n Customer(CustID='4', Income=19100, Age=40.25),\n Customer(CustID='5', Income=18200, Age=35.8),\n Customer(CustID='6', Income=19800, Age=41.45),\n Customer(CustID='7', Income=51500, Age=31.55),\n Customer(CustID='8', Income=39900, Age=48.2),\n Customer(CustID='9', Income=13000, Age=36.8),\n Customer(CustID='10', Income=31900, Age=43.05)]"
     ]
    }
   ],
   "source": [
    "cust_recs.take(10)"
   ]
  },
  {
   "cell_type": "markdown",
   "metadata": {
    "application/vnd.databricks.v1+cell": {
     "cellMetadata": {
      "byteLimit": 2048000,
      "rowLimit": 10000
     },
     "inputWidgets": {},
     "nuid": "faf45710-b332-4058-8ebf-d27ec6ae0846",
     "showTitle": false,
     "title": ""
    }
   },
   "source": [
    "#### Normalising the Data:"
   ]
  },
  {
   "cell_type": "code",
   "execution_count": 0,
   "metadata": {
    "application/vnd.databricks.v1+cell": {
     "cellMetadata": {
      "byteLimit": 2048000,
      "rowLimit": 10000
     },
     "inputWidgets": {},
     "nuid": "6185d27f-8917-478b-92c8-c19b2569d3a4",
     "showTitle": false,
     "title": ""
    }
   },
   "outputs": [],
   "source": [
    "min_sal = cust_recs.map(lambda rec: rec.Income).reduce(min)\n",
    "max_sal = cust_recs.map(lambda rec: rec.Income).reduce(max)\n",
    "min_age = cust_recs.map(lambda rec: rec.Age).reduce(min)\n",
    "max_age = cust_recs.map(lambda rec: rec.Age).reduce(max)"
   ]
  },
  {
   "cell_type": "code",
   "execution_count": 0,
   "metadata": {
    "application/vnd.databricks.v1+cell": {
     "cellMetadata": {
      "byteLimit": 2048000,
      "rowLimit": 10000
     },
     "inputWidgets": {},
     "nuid": "dc45934c-b03b-4568-83c8-67d9dc2930c9",
     "showTitle": false,
     "title": ""
    }
   },
   "outputs": [
    {
     "output_type": "stream",
     "name": "stdout",
     "output_type": "stream",
     "text": [
      "Out[75]: (3100, 60200)"
     ]
    }
   ],
   "source": [
    "min_sal, max_sal"
   ]
  },
  {
   "cell_type": "code",
   "execution_count": 0,
   "metadata": {
    "application/vnd.databricks.v1+cell": {
     "cellMetadata": {
      "byteLimit": 2048000,
      "rowLimit": 10000
     },
     "inputWidgets": {},
     "nuid": "6bc35fa6-545b-45db-8b0c-bd65cc55de30",
     "showTitle": false,
     "title": ""
    }
   },
   "outputs": [
    {
     "output_type": "stream",
     "name": "stdout",
     "output_type": "stream",
     "text": [
      "Out[76]: (26.7, 50.4)"
     ]
    }
   ],
   "source": [
    "min_age, max_age"
   ]
  },
  {
   "cell_type": "code",
   "execution_count": 0,
   "metadata": {
    "application/vnd.databricks.v1+cell": {
     "cellMetadata": {
      "byteLimit": 2048000,
      "rowLimit": 10000
     },
     "inputWidgets": {},
     "nuid": "6945cb28-f6e8-4c2c-b70c-c5cb6d87542d",
     "showTitle": false,
     "title": ""
    }
   },
   "outputs": [],
   "source": [
    "min_max_vals = sc.broadcast( { \"min_sal\": min_sal, \"max_sal\": max_sal, \"min_age\": min_age, \"max_age\": max_age } )"
   ]
  },
  {
   "cell_type": "code",
   "execution_count": 0,
   "metadata": {
    "application/vnd.databricks.v1+cell": {
     "cellMetadata": {
      "byteLimit": 2048000,
      "rowLimit": 10000
     },
     "inputWidgets": {},
     "nuid": "8a016d5f-6357-415c-b8ca-8b00c0760f0c",
     "showTitle": false,
     "title": ""
    }
   },
   "outputs": [
    {
     "output_type": "stream",
     "name": "stdout",
     "output_type": "stream",
     "text": [
      "Out[78]: {'min_sal': 3100, 'max_sal': 60200, 'min_age': 26.7, 'max_age': 50.4}"
     ]
    }
   ],
   "source": [
    "min_max_vals.value"
   ]
  },
  {
   "cell_type": "code",
   "execution_count": 0,
   "metadata": {
    "application/vnd.databricks.v1+cell": {
     "cellMetadata": {
      "byteLimit": 2048000,
      "rowLimit": 10000
     },
     "inputWidgets": {},
     "nuid": "c79e93d8-df16-457f-a27f-456715c61e73",
     "showTitle": false,
     "title": ""
    }
   },
   "outputs": [],
   "source": [
    "import random\n",
    "def normalize(rec):\n",
    "    sal_range = min_max_vals.value['max_sal'] - min_max_vals.value['min_sal']\n",
    "    age_range = min_max_vals.value['max_age'] - min_max_vals.value['min_age']    \n",
    "    sal = float((rec.Income - min_max_vals.value['min_sal'])/sal_range)\n",
    "    age = float((rec.Age -min_max_vals.value['min_age'])/age_range)\n",
    "    return ( rec.CustID, sal, age, 1.0 )"
   ]
  },
  {
   "cell_type": "markdown",
   "metadata": {
    "application/vnd.databricks.v1+cell": {
     "cellMetadata": {
      "byteLimit": 2048000,
      "rowLimit": 10000
     },
     "inputWidgets": {},
     "nuid": "16533253-0dd8-4778-ab15-19c64561180f",
     "showTitle": false,
     "title": ""
    }
   },
   "source": [
    "#### Normalised Data:"
   ]
  },
  {
   "cell_type": "code",
   "execution_count": 0,
   "metadata": {
    "application/vnd.databricks.v1+cell": {
     "cellMetadata": {
      "byteLimit": 2048000,
      "rowLimit": 10000
     },
     "inputWidgets": {},
     "nuid": "3276a4f2-0ffd-41a7-a956-11f4591d79f9",
     "showTitle": false,
     "title": ""
    }
   },
   "outputs": [
    {
     "output_type": "stream",
     "name": "stdout",
     "output_type": "stream",
     "text": [
      "Out[80]: [('1', 0.6654991243432574, 0.9303797468354431, 1.0),\n ('2', 0.8931698774080561, 0.059071729957806, 1.0),\n ('3', 0.7828371278458844, 0.8459915611814347, 1.0),\n ('4', 0.28021015761821366, 0.5717299578059072, 1.0),\n ('5', 0.26444833625218916, 0.3839662447257383, 1.0),\n ('6', 0.29246935201401053, 0.6223628691983124, 1.0),\n ('7', 0.8476357267950964, 0.20464135021097052, 1.0),\n ('8', 0.6444833625218914, 0.9071729957805909, 1.0),\n ('9', 0.1733800350262697, 0.4261603375527425, 1.0),\n ('10', 0.5043782837127846, 0.6898734177215189, 1.0)]"
     ]
    }
   ],
   "source": [
    "NormalisedData= cust_recs.map(lambda a: normalize(a))\n",
    "NormalisedData.take(10)"
   ]
  },
  {
   "cell_type": "markdown",
   "metadata": {
    "application/vnd.databricks.v1+cell": {
     "cellMetadata": {
      "byteLimit": 2048000,
      "rowLimit": 10000
     },
     "inputWidgets": {},
     "nuid": "f58c35ee-aea8-4d59-9a63-102fc90fae7d",
     "showTitle": false,
     "title": ""
    }
   },
   "source": [
    "### Clustering:"
   ]
  },
  {
   "cell_type": "code",
   "execution_count": 0,
   "metadata": {
    "application/vnd.databricks.v1+cell": {
     "cellMetadata": {
      "byteLimit": 2048000,
      "rowLimit": 10000
     },
     "inputWidgets": {},
     "nuid": "97f312ea-7df2-4ffd-b753-c6f582ded974",
     "showTitle": false,
     "title": ""
    }
   },
   "outputs": [],
   "source": [
    "def getsum(x, y):\n",
    "    return (0, x[1] + y[1], x[2] + y[2], x[3] + y[3])"
   ]
  },
  {
   "cell_type": "code",
   "execution_count": 0,
   "metadata": {
    "application/vnd.databricks.v1+cell": {
     "cellMetadata": {
      "byteLimit": 2048000,
      "rowLimit": 10000
     },
     "inputWidgets": {},
     "nuid": "fbf2a9b7-92d0-4723-ae2a-b8611dc709f3",
     "showTitle": false,
     "title": ""
    }
   },
   "outputs": [],
   "source": [
    "def findCentroids(cl):\n",
    "    centroids_sums = cl.reduceByKey(getsum)\n",
    "    centroids = centroids_sums.map(lambda a:(a[0], (a[1][1]/a[1][3],a[1][2]/a[1][3])))\n",
    "    return centroids"
   ]
  },
  {
   "cell_type": "code",
   "execution_count": 0,
   "metadata": {
    "application/vnd.databricks.v1+cell": {
     "cellMetadata": {
      "byteLimit": 2048000,
      "rowLimit": 10000
     },
     "inputWidgets": {},
     "nuid": "04f1cbd1-8e8d-4b8c-87d1-9bcb4325fe5b",
     "showTitle": false,
     "title": ""
    }
   },
   "outputs": [
    {
     "output_type": "stream",
     "name": "stdout",
     "output_type": "stream",
     "text": [
      "Out[83]: 0.044356874393656216"
     ]
    }
   ],
   "source": [
    "from math import dist\n",
    "dist((0.6278557232531142, 0.4717441805338266), (0.635262160906394, 0.5154783432360286))"
   ]
  },
  {
   "cell_type": "code",
   "execution_count": 0,
   "metadata": {
    "application/vnd.databricks.v1+cell": {
     "cellMetadata": {
      "byteLimit": 2048000,
      "rowLimit": 10000
     },
     "inputWidgets": {},
     "nuid": "5b55660d-271a-456e-8d71-66c20d88d41a",
     "showTitle": false,
     "title": ""
    }
   },
   "outputs": [],
   "source": [
    "def updateClusters(a):\n",
    "    di = dist(z.value[0][1],(a[1], a[2]))\n",
    "    c = z.value[0][0]\n",
    "\n",
    "    next_dist = dist(z.value[1][1],(a[1], a[2]))\n",
    "\n",
    "    if next_dist < di:\n",
    "        c = z.value[1][0]\n",
    "        di = next_dist\n",
    "\n",
    "    next_dist = dist(z.value[2][1],(a[1], a[2]))\n",
    "\n",
    "    if next_dist < di:\n",
    "        c = z.value[2][0]\n",
    "        di = next_dist\n",
    "\n",
    "    next_dist = dist(z.value[3][1],(a[1], a[2]))\n",
    "\n",
    "    if next_dist < di:\n",
    "        c = z.value[3][0]\n",
    "\n",
    "    return (c,a)"
   ]
  },
  {
   "cell_type": "code",
   "execution_count": 0,
   "metadata": {
    "application/vnd.databricks.v1+cell": {
     "cellMetadata": {
      "byteLimit": 2048000,
      "rowLimit": 10000
     },
     "inputWidgets": {},
     "nuid": "e7ba9949-3e81-4765-a014-6b2251dd2981",
     "showTitle": false,
     "title": ""
    }
   },
   "outputs": [
    {
     "output_type": "stream",
     "name": "stdout",
     "output_type": "stream",
     "text": [
      "Out[85]: [('1', 0.6654991243432574, 0.9303797468354431, 1.0),\n ('2', 0.8931698774080561, 0.059071729957806, 1.0),\n ('3', 0.7828371278458844, 0.8459915611814347, 1.0),\n ('4', 0.28021015761821366, 0.5717299578059072, 1.0),\n ('5', 0.26444833625218916, 0.3839662447257383, 1.0),\n ('6', 0.29246935201401053, 0.6223628691983124, 1.0),\n ('7', 0.8476357267950964, 0.20464135021097052, 1.0),\n ('8', 0.6444833625218914, 0.9071729957805909, 1.0),\n ('9', 0.1733800350262697, 0.4261603375527425, 1.0),\n ('10', 0.5043782837127846, 0.6898734177215189, 1.0)]"
     ]
    }
   ],
   "source": [
    "NormalisedData = cust_recs.map(lambda a: normalize(a))\n",
    "NormalisedData.take(10)"
   ]
  },
  {
   "cell_type": "code",
   "execution_count": 0,
   "metadata": {
    "application/vnd.databricks.v1+cell": {
     "cellMetadata": {
      "byteLimit": 2048000,
      "rowLimit": 10000
     },
     "inputWidgets": {},
     "nuid": "ac36b620-ff5a-4d4a-b078-15d6015b8169",
     "showTitle": false,
     "title": ""
    }
   },
   "outputs": [],
   "source": [
    "z = sc.broadcast([(0, (0.1, 0.1)), (1, (0.4, 0.4)), (2, (0.8, 0.8)),(4, (0.3, 0.3))])"
   ]
  },
  {
   "cell_type": "code",
   "execution_count": 0,
   "metadata": {
    "application/vnd.databricks.v1+cell": {
     "cellMetadata": {
      "byteLimit": 2048000,
      "rowLimit": 10000
     },
     "inputWidgets": {},
     "nuid": "b9dfbdee-2abb-481e-8209-9a81cb2f1c80",
     "showTitle": false,
     "title": ""
    }
   },
   "outputs": [
    {
     "output_type": "stream",
     "name": "stdout",
     "output_type": "stream",
     "text": [
      "Out[87]: (0.4, 0.4)"
     ]
    }
   ],
   "source": [
    "z.value[1][1]"
   ]
  },
  {
   "cell_type": "code",
   "execution_count": 0,
   "metadata": {
    "application/vnd.databricks.v1+cell": {
     "cellMetadata": {
      "byteLimit": 2048000,
      "rowLimit": 10000
     },
     "inputWidgets": {},
     "nuid": "b1b6ed29-220a-41dd-b67b-ff8c99be2272",
     "showTitle": false,
     "title": ""
    }
   },
   "outputs": [
    {
     "output_type": "stream",
     "name": "stdout",
     "output_type": "stream",
     "text": [
      "Out[88]: [('1', 0.6654991243432574, 0.9303797468354431, 1.0),\n ('2', 0.8931698774080561, 0.059071729957806, 1.0),\n ('3', 0.7828371278458844, 0.8459915611814347, 1.0),\n ('4', 0.28021015761821366, 0.5717299578059072, 1.0),\n ('5', 0.26444833625218916, 0.3839662447257383, 1.0),\n ('6', 0.29246935201401053, 0.6223628691983124, 1.0),\n ('7', 0.8476357267950964, 0.20464135021097052, 1.0),\n ('8', 0.6444833625218914, 0.9071729957805909, 1.0),\n ('9', 0.1733800350262697, 0.4261603375527425, 1.0),\n ('10', 0.5043782837127846, 0.6898734177215189, 1.0)]"
     ]
    }
   ],
   "source": [
    "NormalisedData.take(10)"
   ]
  },
  {
   "cell_type": "code",
   "execution_count": 0,
   "metadata": {
    "application/vnd.databricks.v1+cell": {
     "cellMetadata": {
      "byteLimit": 2048000,
      "rowLimit": 10000
     },
     "inputWidgets": {},
     "nuid": "08163b9d-bbc7-44de-a736-ec9df0943442",
     "showTitle": false,
     "title": ""
    }
   },
   "outputs": [],
   "source": [
    "cl = NormalisedData.map(lambda a: updateClusters(a))"
   ]
  },
  {
   "cell_type": "code",
   "execution_count": 0,
   "metadata": {
    "application/vnd.databricks.v1+cell": {
     "cellMetadata": {
      "byteLimit": 2048000,
      "rowLimit": 10000
     },
     "inputWidgets": {},
     "nuid": "23b2a833-fd38-4aa3-a1ba-ae6971b052ed",
     "showTitle": false,
     "title": ""
    }
   },
   "outputs": [
    {
     "output_type": "stream",
     "name": "stdout",
     "output_type": "stream",
     "text": [
      "Out[90]: [(2, ('1', 0.6654991243432574, 0.9303797468354431, 1.0))]"
     ]
    }
   ],
   "source": [
    "cl.take(1)"
   ]
  },
  {
   "cell_type": "code",
   "execution_count": 0,
   "metadata": {
    "application/vnd.databricks.v1+cell": {
     "cellMetadata": {
      "byteLimit": 2048000,
      "rowLimit": 10000
     },
     "inputWidgets": {},
     "nuid": "809cdceb-d30b-4389-8130-39ad53a203ff",
     "showTitle": false,
     "title": ""
    }
   },
   "outputs": [
    {
     "output_type": "stream",
     "name": "stdout",
     "output_type": "stream",
     "text": [
      "Out[91]: 300"
     ]
    }
   ],
   "source": [
    "cl.count()"
   ]
  },
  {
   "cell_type": "code",
   "execution_count": 0,
   "metadata": {
    "application/vnd.databricks.v1+cell": {
     "cellMetadata": {
      "byteLimit": 2048000,
      "rowLimit": 10000
     },
     "inputWidgets": {},
     "nuid": "50f8cd99-bc4b-4ffc-9c78-9aef73ddbdad",
     "showTitle": false,
     "title": ""
    }
   },
   "outputs": [
    {
     "output_type": "stream",
     "name": "stdout",
     "output_type": "stream",
     "text": [
      "Out[92]: [(2, ('1', 0.6654991243432574, 0.9303797468354431, 1.0)),\n (1, ('2', 0.8931698774080561, 0.059071729957806, 1.0)),\n (2, ('3', 0.7828371278458844, 0.8459915611814347, 1.0)),\n (1, ('4', 0.28021015761821366, 0.5717299578059072, 1.0)),\n (4, ('5', 0.26444833625218916, 0.3839662447257383, 1.0)),\n (1, ('6', 0.29246935201401053, 0.6223628691983124, 1.0)),\n (1, ('7', 0.8476357267950964, 0.20464135021097052, 1.0)),\n (2, ('8', 0.6444833625218914, 0.9071729957805909, 1.0)),\n (4, ('9', 0.1733800350262697, 0.4261603375527425, 1.0)),\n (1, ('10', 0.5043782837127846, 0.6898734177215189, 1.0))]"
     ]
    }
   ],
   "source": [
    "cl.take(10)"
   ]
  },
  {
   "cell_type": "code",
   "execution_count": 0,
   "metadata": {
    "application/vnd.databricks.v1+cell": {
     "cellMetadata": {
      "byteLimit": 2048000,
      "rowLimit": 10000
     },
     "inputWidgets": {},
     "nuid": "a4c23ab8-3ce6-461f-b944-3e916b91a72c",
     "showTitle": false,
     "title": ""
    }
   },
   "outputs": [
    {
     "output_type": "stream",
     "name": "stdout",
     "output_type": "stream",
     "text": [
      "[(2, (0.7248357059874114, 0.8453440280736934)), (4, (0.18842072731018852, 0.4139364606602135)), (0, (0.18563922942206657, 0.1740506329113925))]\n"
     ]
    }
   ],
   "source": [
    "centroids= findCentroids(cl)\n",
    "\n",
    "print(centroids.take(3))"
   ]
  },
  {
   "cell_type": "code",
   "execution_count": 0,
   "metadata": {
    "application/vnd.databricks.v1+cell": {
     "cellMetadata": {
      "byteLimit": 2048000,
      "rowLimit": 10000
     },
     "inputWidgets": {},
     "nuid": "0a2e6a57-11ce-4cde-86f9-45c90203ebf0",
     "showTitle": false,
     "title": ""
    }
   },
   "outputs": [
    {
     "output_type": "stream",
     "name": "stdout",
     "output_type": "stream",
     "text": [
      "Centroids after iteration: 1\n[(0, (0.18439310251919705, 0.5630882830249919)), (4, (0.3021432741222584, 0.43801486839461523)), (2, (0.3677758318739054, 0.13818565400843885))]\n########################\nCentroids after iteration: 2\n[(0, (0.21496514542769823, 0.6109456440804172)), (4, (0.32434325744308234, 0.4844936708860759)), (2, (0.33800350262697026, 0.18957203134418327))]\n########################\nCentroids after iteration: 3\n[(0, (0.22238032691185053, 0.6309335443037976)), (4, (0.3350581117656425, 0.5026850786344457)), (2, (0.287215411558669, 0.21026722925457111))]\n########################\nCentroids after iteration: 4\n[(0, (0.22333054138429909, 0.6369014859658779)), (4, (0.33130959330609067, 0.5060009376465072)), (2, (0.2819614711033275, 0.22278481012658236))]\n########################\nCentroids after iteration: 5\n[(4, (0.33084596055737453, 0.5140341221794166)), (0, (0.2215615199771922, 0.6434599156118145)), (2, (0.2713076474022183, 0.24841772151898742))]\n########################\nCentroids after iteration: 6\n[(4, (0.32827398326522667, 0.5189873417721519)), (2, (0.26152948044366603, 0.2762306610407877)), (0, (0.2269873136559737, 0.6535967891324485))]\n########################\nCentroids after iteration: 7\n[(4, (0.3302021971023722, 0.5237821250479477)), (2, (0.23698036685408794, 0.3076837663779703)), (0, (0.2558231173380035, 0.6819620253164558))]\n########################\nCentroids after iteration: 8\n[(0, (0.3726649153531816, 0.7619110407876232)), (4, (0.3286242459622495, 0.5304266291608063)), (2, (0.22020863473692226, 0.3318657127132637))]\n########################\nCentroids after iteration: 9\n[(0, (0.6280543741139188, 0.8467701426562186)), (4, (0.2782318220146592, 0.5513752148773248)), (2, (0.2074055541656242, 0.36015672091621465))]\n########################\nCentroids after iteration: 10\n[(0, (0.7131811122492815, 0.8379906058434837)), (4, (0.2737015448153279, 0.5877889035833492)), (2, (0.23175715119673088, 0.34481950304735115))]\n########################\nCentroids after iteration: 11\n[(0, (0.7238247312935683, 0.8422892363696531)), (4, (0.28224477181415475, 0.6022896500372302)), (2, (0.23899591360186806, 0.35499296765119553))]\n########################\nCentroids after iteration: 12\n[(0, (0.7238247312935683, 0.8422892363696531)), (4, (0.2871880472854641, 0.6098364978902955)), (2, (0.23477902544555476, 0.36988086373790025))]\n########################\nCentroids after iteration: 13\n[(0, (0.7238247312935683, 0.8422892363696531)), (4, (0.28939042991921365, 0.6134136382196818)), (2, (0.23389764545631447, 0.37705110173464607))]\n########################\nCentroids after iteration: 14\n[(0, (0.7238247312935683, 0.8422892363696531)), (4, (0.28939042991921365, 0.6134136382196818)), (2, (0.23389764545631447, 0.37705110173464607))]\n########################\nCentroids after iteration: 15\n[(0, (0.7238247312935683, 0.8422892363696531)), (4, (0.28939042991921365, 0.6134136382196818)), (2, (0.23389764545631447, 0.37705110173464607))]\n########################\n"
     ]
    }
   ],
   "source": [
    "numIter=15 #number of iterations\n",
    "\n",
    "z = sc.broadcast([(0, (0.1, 0.4)), (2, (0.4, 0.1)), (1, (0.6, 0.4)),  (4, (0.3, 0.3))])\n",
    "\n",
    "NormalisedData = cust_recs.map(lambda a: normalize(a))\n",
    "\n",
    "for i in range(numIter):\n",
    "    cl = NormalisedData.map(lambda a: updateClusters(a))\n",
    "    centroids = findCentroids(cl)\n",
    "    print(\"Centroids after iteration: {}\".format(i+1))\n",
    "    print(centroids.take(3))\n",
    "    z.unpersist()\n",
    "    z = sc.broadcast(centroids.collect())\n",
    "    print('########################')"
   ]
  },
  {
   "cell_type": "code",
   "execution_count": 0,
   "metadata": {
    "application/vnd.databricks.v1+cell": {
     "cellMetadata": {
      "byteLimit": 2048000,
      "rowLimit": 10000
     },
     "inputWidgets": {},
     "nuid": "d92ef50e-3dc3-41b9-b580-416dd9285e1b",
     "showTitle": false,
     "title": ""
    }
   },
   "outputs": [
    {
     "output_type": "stream",
     "name": "stdout",
     "output_type": "stream",
     "text": [
      "Out[95]: [(0, ('1', 0.6654991243432574, 0.9303797468354431, 1.0)),\n (1, ('2', 0.8931698774080561, 0.059071729957806, 1.0)),\n (0, ('3', 0.7828371278458844, 0.8459915611814347, 1.0)),\n (4, ('4', 0.28021015761821366, 0.5717299578059072, 1.0)),\n (2, ('5', 0.26444833625218916, 0.3839662447257383, 1.0)),\n (4, ('6', 0.29246935201401053, 0.6223628691983124, 1.0)),\n (1, ('7', 0.8476357267950964, 0.20464135021097052, 1.0)),\n (0, ('8', 0.6444833625218914, 0.9071729957805909, 1.0)),\n (2, ('9', 0.1733800350262697, 0.4261603375527425, 1.0)),\n (4, ('10', 0.5043782837127846, 0.6898734177215189, 1.0))]"
     ]
    }
   ],
   "source": [
    "cl.take(10)"
   ]
  },
  {
   "cell_type": "code",
   "execution_count": 0,
   "metadata": {
    "application/vnd.databricks.v1+cell": {
     "cellMetadata": {
      "byteLimit": 2048000,
      "rowLimit": 10000
     },
     "inputWidgets": {},
     "nuid": "96ebc17a-8c23-41db-a994-66693d9b5fa5",
     "showTitle": false,
     "title": ""
    }
   },
   "outputs": [],
   "source": [
    "final_cl = cl.map(lambda rec: (rec[1][0], rec[0]))"
   ]
  },
  {
   "cell_type": "code",
   "execution_count": 0,
   "metadata": {
    "application/vnd.databricks.v1+cell": {
     "cellMetadata": {
      "byteLimit": 2048000,
      "rowLimit": 10000
     },
     "inputWidgets": {},
     "nuid": "43396fa6-ffae-40fb-975d-7985814349c2",
     "showTitle": false,
     "title": ""
    }
   },
   "outputs": [
    {
     "output_type": "stream",
     "name": "stdout",
     "output_type": "stream",
     "text": [
      "Out[97]: [('1', 0),\n ('2', 1),\n ('3', 0),\n ('4', 4),\n ('5', 2),\n ('6', 4),\n ('7', 1),\n ('8', 0),\n ('9', 2),\n ('10', 4)]"
     ]
    }
   ],
   "source": [
    "final_cl.take(10)"
   ]
  },
  {
   "cell_type": "code",
   "execution_count": 0,
   "metadata": {
    "application/vnd.databricks.v1+cell": {
     "cellMetadata": {
      "byteLimit": 2048000,
      "rowLimit": 10000
     },
     "inputWidgets": {},
     "nuid": "20b352fb-d753-4250-a0ed-6bc3ec60818a",
     "showTitle": false,
     "title": ""
    }
   },
   "outputs": [],
   "source": [
    "cust_recs_with_cluster = cust_recs.map(lambda rec: (rec.CustID, (rec.Age, rec.Income))).join(final_cl)"
   ]
  },
  {
   "cell_type": "markdown",
   "metadata": {
    "application/vnd.databricks.v1+cell": {
     "cellMetadata": {
      "byteLimit": 2048000,
      "rowLimit": 10000
     },
     "inputWidgets": {},
     "nuid": "56a92e75-3e57-42a5-abcb-34202a11cc3b",
     "showTitle": false,
     "title": ""
    }
   },
   "source": [
    "#### Final Data with Clusters:"
   ]
  },
  {
   "cell_type": "code",
   "execution_count": 0,
   "metadata": {
    "application/vnd.databricks.v1+cell": {
     "cellMetadata": {
      "byteLimit": 2048000,
      "rowLimit": 10000
     },
     "inputWidgets": {},
     "nuid": "bb58cda1-a085-4307-892e-8c3e82334881",
     "showTitle": false,
     "title": ""
    }
   },
   "outputs": [
    {
     "output_type": "stream",
     "name": "stdout",
     "output_type": "stream",
     "text": [
      "Out[99]: [('4', ((40.25, 19100), 4)),\n ('10', ((43.05, 31900), 4)),\n ('12', ((29.25, 56700), 1)),\n ('16', ((41.15, 18200), 4)),\n ('20', ((29.0, 53200), 1)),\n ('24', ((47.3, 41200), 0)),\n ('26', ((38.95, 13200), 4)),\n ('40', ((30.1, 52400), 1)),\n ('44', ((28.0, 53900), 1)),\n ('50', ((28.35, 54400), 1))]"
     ]
    }
   ],
   "source": [
    "cust_recs_with_cluster.take(10)"
   ]
  },
  {
   "cell_type": "code",
   "execution_count": 0,
   "metadata": {
    "application/vnd.databricks.v1+cell": {
     "cellMetadata": {
      "byteLimit": 2048000,
      "rowLimit": 10000
     },
     "inputWidgets": {},
     "nuid": "3a92c25a-de26-431d-9473-a35c5bc49c4c",
     "showTitle": false,
     "title": ""
    }
   },
   "outputs": [],
   "source": [
    "cust_recs_with_cluster_v1 = cust_recs_with_cluster.map(lambda rec: (rec[0], \n",
    "                                                                    rec[1][0][0], \n",
    "                                                                    rec[1][0][1], \n",
    "                                                                    rec[1][1]))"
   ]
  },
  {
   "cell_type": "code",
   "execution_count": 0,
   "metadata": {
    "application/vnd.databricks.v1+cell": {
     "cellMetadata": {
      "byteLimit": 2048000,
      "rowLimit": 10000
     },
     "inputWidgets": {},
     "nuid": "92033d02-5046-4d65-9e64-a371da9ac27a",
     "showTitle": false,
     "title": ""
    }
   },
   "outputs": [
    {
     "output_type": "stream",
     "name": "stdout",
     "output_type": "stream",
     "text": [
      "Out[101]: [('4', 40.25, 19100, 4),\n ('10', 43.05, 31900, 4),\n ('12', 29.25, 56700, 1),\n ('16', 41.15, 18200, 4),\n ('20', 29.0, 53200, 1),\n ('24', 47.3, 41200, 0),\n ('26', 38.95, 13200, 4),\n ('40', 30.1, 52400, 1),\n ('44', 28.0, 53900, 1),\n ('50', 28.35, 54400, 1)]"
     ]
    }
   ],
   "source": [
    "cust_recs_with_cluster_v1.take(10)"
   ]
  },
  {
   "cell_type": "markdown",
   "metadata": {
    "application/vnd.databricks.v1+cell": {
     "cellMetadata": {
      "byteLimit": 2048000,
      "rowLimit": 10000
     },
     "inputWidgets": {},
     "nuid": "b8917020-c4bc-4d19-8834-942d491ff239",
     "showTitle": false,
     "title": ""
    }
   },
   "source": [
    "### Data into Dataframe and Analysis:"
   ]
  },
  {
   "cell_type": "code",
   "execution_count": 0,
   "metadata": {
    "application/vnd.databricks.v1+cell": {
     "cellMetadata": {
      "byteLimit": 2048000,
      "rowLimit": 10000
     },
     "inputWidgets": {},
     "nuid": "5d93654b-f659-48ca-b0e8-ff259126e4c8",
     "showTitle": false,
     "title": ""
    }
   },
   "outputs": [],
   "source": [
    "import pandas as pd"
   ]
  },
  {
   "cell_type": "code",
   "execution_count": 0,
   "metadata": {
    "application/vnd.databricks.v1+cell": {
     "cellMetadata": {
      "byteLimit": 2048000,
      "rowLimit": 10000
     },
     "inputWidgets": {},
     "nuid": "bdb83df8-c718-47a8-b81f-39be3ef58d9c",
     "showTitle": false,
     "title": ""
    }
   },
   "outputs": [],
   "source": [
    "cust_cluster_list=cust_recs_with_cluster_v1.collect()\n",
    "cust_cluster_df=pd.DataFrame(cust_cluster_list, columns=['CustID', 'Age', 'Income', 'ClusterID'])"
   ]
  },
  {
   "cell_type": "code",
   "execution_count": 0,
   "metadata": {
    "application/vnd.databricks.v1+cell": {
     "cellMetadata": {
      "byteLimit": 2048000,
      "rowLimit": 10000
     },
     "inputWidgets": {},
     "nuid": "345d3b8e-eb14-4ae8-bbaa-f060705ae7e0",
     "showTitle": false,
     "title": ""
    }
   },
   "outputs": [
    {
     "output_type": "display_data",
     "data": {
      "text/html": [
       "<div>\n",
       "<style scoped>\n",
       "    .dataframe tbody tr th:only-of-type {\n",
       "        vertical-align: middle;\n",
       "    }\n",
       "\n",
       "    .dataframe tbody tr th {\n",
       "        vertical-align: top;\n",
       "    }\n",
       "\n",
       "    .dataframe thead th {\n",
       "        text-align: right;\n",
       "    }\n",
       "</style>\n",
       "<table border=\"1\" class=\"dataframe\">\n",
       "  <thead>\n",
       "    <tr style=\"text-align: right;\">\n",
       "      <th></th>\n",
       "      <th>CustID</th>\n",
       "      <th>Age</th>\n",
       "      <th>Income</th>\n",
       "      <th>ClusterID</th>\n",
       "    </tr>\n",
       "  </thead>\n",
       "  <tbody>\n",
       "    <tr>\n",
       "      <th>0</th>\n",
       "      <td>4</td>\n",
       "      <td>40.25</td>\n",
       "      <td>19100</td>\n",
       "      <td>4</td>\n",
       "    </tr>\n",
       "    <tr>\n",
       "      <th>1</th>\n",
       "      <td>10</td>\n",
       "      <td>43.05</td>\n",
       "      <td>31900</td>\n",
       "      <td>4</td>\n",
       "    </tr>\n",
       "    <tr>\n",
       "      <th>2</th>\n",
       "      <td>12</td>\n",
       "      <td>29.25</td>\n",
       "      <td>56700</td>\n",
       "      <td>1</td>\n",
       "    </tr>\n",
       "    <tr>\n",
       "      <th>3</th>\n",
       "      <td>16</td>\n",
       "      <td>41.15</td>\n",
       "      <td>18200</td>\n",
       "      <td>4</td>\n",
       "    </tr>\n",
       "    <tr>\n",
       "      <th>4</th>\n",
       "      <td>20</td>\n",
       "      <td>29.00</td>\n",
       "      <td>53200</td>\n",
       "      <td>1</td>\n",
       "    </tr>\n",
       "  </tbody>\n",
       "</table>\n",
       "</div>"
      ]
     },
     "metadata": {
      "application/vnd.databricks.v1+output": {
       "addedWidgets": {},
       "arguments": {},
       "data": "<div>\n<style scoped>\n    .dataframe tbody tr th:only-of-type {\n        vertical-align: middle;\n    }\n\n    .dataframe tbody tr th {\n        vertical-align: top;\n    }\n\n    .dataframe thead th {\n        text-align: right;\n    }\n</style>\n<table border=\"1\" class=\"dataframe\">\n  <thead>\n    <tr style=\"text-align: right;\">\n      <th></th>\n      <th>CustID</th>\n      <th>Age</th>\n      <th>Income</th>\n      <th>ClusterID</th>\n    </tr>\n  </thead>\n  <tbody>\n    <tr>\n      <th>0</th>\n      <td>4</td>\n      <td>40.25</td>\n      <td>19100</td>\n      <td>4</td>\n    </tr>\n    <tr>\n      <th>1</th>\n      <td>10</td>\n      <td>43.05</td>\n      <td>31900</td>\n      <td>4</td>\n    </tr>\n    <tr>\n      <th>2</th>\n      <td>12</td>\n      <td>29.25</td>\n      <td>56700</td>\n      <td>1</td>\n    </tr>\n    <tr>\n      <th>3</th>\n      <td>16</td>\n      <td>41.15</td>\n      <td>18200</td>\n      <td>4</td>\n    </tr>\n    <tr>\n      <th>4</th>\n      <td>20</td>\n      <td>29.00</td>\n      <td>53200</td>\n      <td>1</td>\n    </tr>\n  </tbody>\n</table>\n</div>",
       "datasetInfos": [],
       "metadata": {},
       "removedWidgets": [],
       "textData": null,
       "type": "htmlSandbox"
      }
     },
     "output_type": "display_data"
    }
   ],
   "source": [
    "cust_cluster_df.head()"
   ]
  },
  {
   "cell_type": "code",
   "execution_count": 0,
   "metadata": {
    "application/vnd.databricks.v1+cell": {
     "cellMetadata": {
      "byteLimit": 2048000,
      "rowLimit": 10000
     },
     "inputWidgets": {},
     "nuid": "a4bb0263-c831-46aa-bd0e-be71e95a3699",
     "showTitle": false,
     "title": ""
    }
   },
   "outputs": [
    {
     "output_type": "stream",
     "name": "stderr",
     "output_type": "stream",
     "text": [
      "<command-839471063242672>:1: FutureWarning: Indexing with multiple keys (implicitly converted to a tuple of keys) will be deprecated, use a list instead.\n  cust_cluster_df.groupby(\"ClusterID\")[\"Age\", 'Income'].mean()\n"
     ]
    },
    {
     "output_type": "display_data",
     "data": {
      "text/html": [
       "<div>\n",
       "<style scoped>\n",
       "    .dataframe tbody tr th:only-of-type {\n",
       "        vertical-align: middle;\n",
       "    }\n",
       "\n",
       "    .dataframe tbody tr th {\n",
       "        vertical-align: top;\n",
       "    }\n",
       "\n",
       "    .dataframe thead th {\n",
       "        text-align: right;\n",
       "    }\n",
       "</style>\n",
       "<table border=\"1\" class=\"dataframe\">\n",
       "  <thead>\n",
       "    <tr style=\"text-align: right;\">\n",
       "      <th></th>\n",
       "      <th>Age</th>\n",
       "      <th>Income</th>\n",
       "    </tr>\n",
       "    <tr>\n",
       "      <th>ClusterID</th>\n",
       "      <th></th>\n",
       "      <th></th>\n",
       "    </tr>\n",
       "  </thead>\n",
       "  <tbody>\n",
       "    <tr>\n",
       "      <th>0</th>\n",
       "      <td>46.662255</td>\n",
       "      <td>44430.392157</td>\n",
       "    </tr>\n",
       "    <tr>\n",
       "      <th>1</th>\n",
       "      <td>29.384000</td>\n",
       "      <td>55204.000000</td>\n",
       "    </tr>\n",
       "    <tr>\n",
       "      <th>2</th>\n",
       "      <td>35.636111</td>\n",
       "      <td>16455.555556</td>\n",
       "    </tr>\n",
       "    <tr>\n",
       "      <th>4</th>\n",
       "      <td>41.237903</td>\n",
       "      <td>19624.193548</td>\n",
       "    </tr>\n",
       "  </tbody>\n",
       "</table>\n",
       "</div>"
      ]
     },
     "metadata": {
      "application/vnd.databricks.v1+output": {
       "addedWidgets": {},
       "arguments": {},
       "data": "<div>\n<style scoped>\n    .dataframe tbody tr th:only-of-type {\n        vertical-align: middle;\n    }\n\n    .dataframe tbody tr th {\n        vertical-align: top;\n    }\n\n    .dataframe thead th {\n        text-align: right;\n    }\n</style>\n<table border=\"1\" class=\"dataframe\">\n  <thead>\n    <tr style=\"text-align: right;\">\n      <th></th>\n      <th>Age</th>\n      <th>Income</th>\n    </tr>\n    <tr>\n      <th>ClusterID</th>\n      <th></th>\n      <th></th>\n    </tr>\n  </thead>\n  <tbody>\n    <tr>\n      <th>0</th>\n      <td>46.662255</td>\n      <td>44430.392157</td>\n    </tr>\n    <tr>\n      <th>1</th>\n      <td>29.384000</td>\n      <td>55204.000000</td>\n    </tr>\n    <tr>\n      <th>2</th>\n      <td>35.636111</td>\n      <td>16455.555556</td>\n    </tr>\n    <tr>\n      <th>4</th>\n      <td>41.237903</td>\n      <td>19624.193548</td>\n    </tr>\n  </tbody>\n</table>\n</div>",
       "datasetInfos": [],
       "metadata": {},
       "removedWidgets": [],
       "textData": null,
       "type": "htmlSandbox"
      }
     },
     "output_type": "display_data"
    }
   ],
   "source": [
    "cust_cluster_df.groupby(\"ClusterID\")[\"Age\", 'Income'].mean()"
   ]
  },
  {
   "cell_type": "code",
   "execution_count": 0,
   "metadata": {
    "application/vnd.databricks.v1+cell": {
     "cellMetadata": {
      "byteLimit": 2048000,
      "rowLimit": 10000
     },
     "inputWidgets": {},
     "nuid": "609dde77-319c-4296-9d99-12b07c4b3f19",
     "showTitle": false,
     "title": ""
    }
   },
   "outputs": [
    {
     "output_type": "stream",
     "name": "stderr",
     "output_type": "stream",
     "text": [
      "<command-839471063242673>:1: FutureWarning: Indexing with multiple keys (implicitly converted to a tuple of keys) will be deprecated, use a list instead.\n  cust_cluster_df.groupby(\"ClusterID\")[\"Age\", 'Income'].median()\n"
     ]
    },
    {
     "output_type": "display_data",
     "data": {
      "text/html": [
       "<div>\n",
       "<style scoped>\n",
       "    .dataframe tbody tr th:only-of-type {\n",
       "        vertical-align: middle;\n",
       "    }\n",
       "\n",
       "    .dataframe tbody tr th {\n",
       "        vertical-align: top;\n",
       "    }\n",
       "\n",
       "    .dataframe thead th {\n",
       "        text-align: right;\n",
       "    }\n",
       "</style>\n",
       "<table border=\"1\" class=\"dataframe\">\n",
       "  <thead>\n",
       "    <tr style=\"text-align: right;\">\n",
       "      <th></th>\n",
       "      <th>Age</th>\n",
       "      <th>Income</th>\n",
       "    </tr>\n",
       "    <tr>\n",
       "      <th>ClusterID</th>\n",
       "      <th></th>\n",
       "      <th></th>\n",
       "    </tr>\n",
       "  </thead>\n",
       "  <tbody>\n",
       "    <tr>\n",
       "      <th>0</th>\n",
       "      <td>46.725</td>\n",
       "      <td>44350.0</td>\n",
       "    </tr>\n",
       "    <tr>\n",
       "      <th>1</th>\n",
       "      <td>29.375</td>\n",
       "      <td>55200.0</td>\n",
       "    </tr>\n",
       "    <tr>\n",
       "      <th>2</th>\n",
       "      <td>36.500</td>\n",
       "      <td>16750.0</td>\n",
       "    </tr>\n",
       "    <tr>\n",
       "      <th>4</th>\n",
       "      <td>40.550</td>\n",
       "      <td>19900.0</td>\n",
       "    </tr>\n",
       "  </tbody>\n",
       "</table>\n",
       "</div>"
      ]
     },
     "metadata": {
      "application/vnd.databricks.v1+output": {
       "addedWidgets": {},
       "arguments": {},
       "data": "<div>\n<style scoped>\n    .dataframe tbody tr th:only-of-type {\n        vertical-align: middle;\n    }\n\n    .dataframe tbody tr th {\n        vertical-align: top;\n    }\n\n    .dataframe thead th {\n        text-align: right;\n    }\n</style>\n<table border=\"1\" class=\"dataframe\">\n  <thead>\n    <tr style=\"text-align: right;\">\n      <th></th>\n      <th>Age</th>\n      <th>Income</th>\n    </tr>\n    <tr>\n      <th>ClusterID</th>\n      <th></th>\n      <th></th>\n    </tr>\n  </thead>\n  <tbody>\n    <tr>\n      <th>0</th>\n      <td>46.725</td>\n      <td>44350.0</td>\n    </tr>\n    <tr>\n      <th>1</th>\n      <td>29.375</td>\n      <td>55200.0</td>\n    </tr>\n    <tr>\n      <th>2</th>\n      <td>36.500</td>\n      <td>16750.0</td>\n    </tr>\n    <tr>\n      <th>4</th>\n      <td>40.550</td>\n      <td>19900.0</td>\n    </tr>\n  </tbody>\n</table>\n</div>",
       "datasetInfos": [],
       "metadata": {},
       "removedWidgets": [],
       "textData": null,
       "type": "htmlSandbox"
      }
     },
     "output_type": "display_data"
    }
   ],
   "source": [
    "cust_cluster_df.groupby(\"ClusterID\")[\"Age\", 'Income'].median()"
   ]
  },
  {
   "cell_type": "code",
   "execution_count": 0,
   "metadata": {
    "application/vnd.databricks.v1+cell": {
     "cellMetadata": {
      "byteLimit": 2048000,
      "rowLimit": 10000
     },
     "inputWidgets": {},
     "nuid": "bcdc8163-7a48-45e2-90bd-291f3a3c9653",
     "showTitle": false,
     "title": ""
    }
   },
   "outputs": [
    {
     "output_type": "stream",
     "name": "stderr",
     "output_type": "stream",
     "text": [
      "<command-839471063242674>:1: FutureWarning: Indexing with multiple keys (implicitly converted to a tuple of keys) will be deprecated, use a list instead.\n  cust_cluster_df.groupby(\"ClusterID\")[\"Age\", 'Income'].std()\n"
     ]
    },
    {
     "output_type": "display_data",
     "data": {
      "text/html": [
       "<div>\n",
       "<style scoped>\n",
       "    .dataframe tbody tr th:only-of-type {\n",
       "        vertical-align: middle;\n",
       "    }\n",
       "\n",
       "    .dataframe tbody tr th {\n",
       "        vertical-align: top;\n",
       "    }\n",
       "\n",
       "    .dataframe thead th {\n",
       "        text-align: right;\n",
       "    }\n",
       "</style>\n",
       "<table border=\"1\" class=\"dataframe\">\n",
       "  <thead>\n",
       "    <tr style=\"text-align: right;\">\n",
       "      <th></th>\n",
       "      <th>Age</th>\n",
       "      <th>Income</th>\n",
       "    </tr>\n",
       "    <tr>\n",
       "      <th>ClusterID</th>\n",
       "      <th></th>\n",
       "      <th></th>\n",
       "    </tr>\n",
       "  </thead>\n",
       "  <tbody>\n",
       "    <tr>\n",
       "      <th>0</th>\n",
       "      <td>2.132393</td>\n",
       "      <td>4233.945547</td>\n",
       "    </tr>\n",
       "    <tr>\n",
       "      <th>1</th>\n",
       "      <td>0.921458</td>\n",
       "      <td>1951.943864</td>\n",
       "    </tr>\n",
       "    <tr>\n",
       "      <th>2</th>\n",
       "      <td>2.635408</td>\n",
       "      <td>6525.573623</td>\n",
       "    </tr>\n",
       "    <tr>\n",
       "      <th>4</th>\n",
       "      <td>2.115898</td>\n",
       "      <td>7090.531333</td>\n",
       "    </tr>\n",
       "  </tbody>\n",
       "</table>\n",
       "</div>"
      ]
     },
     "metadata": {
      "application/vnd.databricks.v1+output": {
       "addedWidgets": {},
       "arguments": {},
       "data": "<div>\n<style scoped>\n    .dataframe tbody tr th:only-of-type {\n        vertical-align: middle;\n    }\n\n    .dataframe tbody tr th {\n        vertical-align: top;\n    }\n\n    .dataframe thead th {\n        text-align: right;\n    }\n</style>\n<table border=\"1\" class=\"dataframe\">\n  <thead>\n    <tr style=\"text-align: right;\">\n      <th></th>\n      <th>Age</th>\n      <th>Income</th>\n    </tr>\n    <tr>\n      <th>ClusterID</th>\n      <th></th>\n      <th></th>\n    </tr>\n  </thead>\n  <tbody>\n    <tr>\n      <th>0</th>\n      <td>2.132393</td>\n      <td>4233.945547</td>\n    </tr>\n    <tr>\n      <th>1</th>\n      <td>0.921458</td>\n      <td>1951.943864</td>\n    </tr>\n    <tr>\n      <th>2</th>\n      <td>2.635408</td>\n      <td>6525.573623</td>\n    </tr>\n    <tr>\n      <th>4</th>\n      <td>2.115898</td>\n      <td>7090.531333</td>\n    </tr>\n  </tbody>\n</table>\n</div>",
       "datasetInfos": [],
       "metadata": {},
       "removedWidgets": [],
       "textData": null,
       "type": "htmlSandbox"
      }
     },
     "output_type": "display_data"
    }
   ],
   "source": [
    "cust_cluster_df.groupby(\"ClusterID\")[\"Age\", 'Income'].std()"
   ]
  },
  {
   "cell_type": "code",
   "execution_count": 0,
   "metadata": {
    "application/vnd.databricks.v1+cell": {
     "cellMetadata": {
      "byteLimit": 2048000,
      "rowLimit": 10000
     },
     "inputWidgets": {},
     "nuid": "dc3129b0-7c9c-4781-ab8c-124ca09f60f5",
     "showTitle": false,
     "title": ""
    }
   },
   "outputs": [
    {
     "output_type": "display_data",
     "data": {
      "text/html": [
       "<div>\n",
       "<style scoped>\n",
       "    .dataframe tbody tr th:only-of-type {\n",
       "        vertical-align: middle;\n",
       "    }\n",
       "\n",
       "    .dataframe tbody tr th {\n",
       "        vertical-align: top;\n",
       "    }\n",
       "\n",
       "    .dataframe thead th {\n",
       "        text-align: right;\n",
       "    }\n",
       "</style>\n",
       "<table border=\"1\" class=\"dataframe\">\n",
       "  <thead>\n",
       "    <tr style=\"text-align: right;\">\n",
       "      <th></th>\n",
       "      <th>Age</th>\n",
       "      <th>Income</th>\n",
       "    </tr>\n",
       "  </thead>\n",
       "  <tbody>\n",
       "    <tr>\n",
       "      <th>count</th>\n",
       "      <td>300.000000</td>\n",
       "      <td>300.000000</td>\n",
       "    </tr>\n",
       "    <tr>\n",
       "      <th>mean</th>\n",
       "      <td>38.458667</td>\n",
       "      <td>39538.000000</td>\n",
       "    </tr>\n",
       "    <tr>\n",
       "      <th>std</th>\n",
       "      <td>7.523574</td>\n",
       "      <td>16099.214422</td>\n",
       "    </tr>\n",
       "    <tr>\n",
       "      <th>min</th>\n",
       "      <td>26.700000</td>\n",
       "      <td>3100.000000</td>\n",
       "    </tr>\n",
       "    <tr>\n",
       "      <th>25%</th>\n",
       "      <td>29.937500</td>\n",
       "      <td>24800.000000</td>\n",
       "    </tr>\n",
       "    <tr>\n",
       "      <th>50%</th>\n",
       "      <td>39.525000</td>\n",
       "      <td>44450.000000</td>\n",
       "    </tr>\n",
       "    <tr>\n",
       "      <th>75%</th>\n",
       "      <td>45.650000</td>\n",
       "      <td>54125.000000</td>\n",
       "    </tr>\n",
       "    <tr>\n",
       "      <th>max</th>\n",
       "      <td>50.400000</td>\n",
       "      <td>60200.000000</td>\n",
       "    </tr>\n",
       "  </tbody>\n",
       "</table>\n",
       "</div>"
      ]
     },
     "metadata": {
      "application/vnd.databricks.v1+output": {
       "addedWidgets": {},
       "arguments": {},
       "data": "<div>\n<style scoped>\n    .dataframe tbody tr th:only-of-type {\n        vertical-align: middle;\n    }\n\n    .dataframe tbody tr th {\n        vertical-align: top;\n    }\n\n    .dataframe thead th {\n        text-align: right;\n    }\n</style>\n<table border=\"1\" class=\"dataframe\">\n  <thead>\n    <tr style=\"text-align: right;\">\n      <th></th>\n      <th>Age</th>\n      <th>Income</th>\n    </tr>\n  </thead>\n  <tbody>\n    <tr>\n      <th>count</th>\n      <td>300.000000</td>\n      <td>300.000000</td>\n    </tr>\n    <tr>\n      <th>mean</th>\n      <td>38.458667</td>\n      <td>39538.000000</td>\n    </tr>\n    <tr>\n      <th>std</th>\n      <td>7.523574</td>\n      <td>16099.214422</td>\n    </tr>\n    <tr>\n      <th>min</th>\n      <td>26.700000</td>\n      <td>3100.000000</td>\n    </tr>\n    <tr>\n      <th>25%</th>\n      <td>29.937500</td>\n      <td>24800.000000</td>\n    </tr>\n    <tr>\n      <th>50%</th>\n      <td>39.525000</td>\n      <td>44450.000000</td>\n    </tr>\n    <tr>\n      <th>75%</th>\n      <td>45.650000</td>\n      <td>54125.000000</td>\n    </tr>\n    <tr>\n      <th>max</th>\n      <td>50.400000</td>\n      <td>60200.000000</td>\n    </tr>\n  </tbody>\n</table>\n</div>",
       "datasetInfos": [],
       "metadata": {},
       "removedWidgets": [],
       "textData": null,
       "type": "htmlSandbox"
      }
     },
     "output_type": "display_data"
    }
   ],
   "source": [
    "cust_cluster_df[[\"Age\", 'Income']].describe()"
   ]
  },
  {
   "cell_type": "markdown",
   "metadata": {
    "application/vnd.databricks.v1+cell": {
     "cellMetadata": {
      "byteLimit": 2048000,
      "rowLimit": 10000
     },
     "inputWidgets": {},
     "nuid": "5a89fc5b-0f08-4fbf-b8a9-2284ee2a1ae1",
     "showTitle": false,
     "title": ""
    }
   },
   "source": [
    "#### Plotting the Clusters"
   ]
  },
  {
   "cell_type": "code",
   "execution_count": 0,
   "metadata": {
    "application/vnd.databricks.v1+cell": {
     "cellMetadata": {
      "byteLimit": 2048000,
      "rowLimit": 10000
     },
     "inputWidgets": {},
     "nuid": "fef58a35-d53a-4d94-81bc-96f8a9487a05",
     "showTitle": false,
     "title": ""
    }
   },
   "outputs": [],
   "source": [
    "import seaborn as sns\n",
    "import matplotlib.pyplot as plt"
   ]
  },
  {
   "cell_type": "code",
   "execution_count": 0,
   "metadata": {
    "application/vnd.databricks.v1+cell": {
     "cellMetadata": {
      "byteLimit": 2048000,
      "rowLimit": 10000
     },
     "inputWidgets": {},
     "nuid": "7e83addc-c782-4288-93c1-a73589e93693",
     "showTitle": false,
     "title": ""
    }
   },
   "outputs": [
    {
     "output_type": "stream",
     "name": "stdout",
     "output_type": "stream",
     "text": [
      "Out[110]: <AxesSubplot:xlabel='Age', ylabel='Income'>"
     ]
    },
    {
     "output_type": "display_data",
     "data": {
      "image/png": "[encoded data removed]"
     },
     "metadata": {
      "application/vnd.databricks.v1+output": {
       "addedWidgets": {},
       "arguments": {},
       "data": "data:image/png;base64,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\n",
       "datasetInfos": [],
       "metadata": {},
       "removedWidgets": [],
       "type": "image"
      }
     },
     "output_type": "display_data"
    }
   ],
   "source": [
    "plt.figure(figsize=(12,6))\n",
    "sns.scatterplot(data=cust_cluster_df, x='Age', y='Income', hue='ClusterID', palette='bright')"
   ]
  }
 ],
 "metadata": {
  "application/vnd.databricks.v1+notebook": {
   "dashboards": [],
   "environmentMetadata": null,
   "language": "python",
   "notebookMetadata": {
    "pythonIndentUnit": 4
   },
   "notebookName": "Customer Clustering",
   "widgets": {}
  }
 },
 "nbformat": 4,
 "nbformat_minor": 0
}
