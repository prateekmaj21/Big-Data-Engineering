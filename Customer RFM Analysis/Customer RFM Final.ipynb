{
 "cells": [
  {
   "cell_type": "code",
   "execution_count": 0,
   "metadata": {
    "application/vnd.databricks.v1+cell": {
     "cellMetadata": {
      "byteLimit": 2048000,
      "rowLimit": 10000
     },
     "inputWidgets": {},
     "nuid": "6c8bb490-500a-4265-99d7-3f8ec85cddb4",
     "showTitle": false,
     "title": ""
    }
   },
   "outputs": [
    {
     "output_type": "display_data",
     "data": {
      "text/html": [
       "\n",
       "            <div>\n",
       "                <p><b>SparkSession - hive</b></p>\n",
       "                \n",
       "        <div>\n",
       "            <p><b>SparkContext</b></p>\n",
       "\n",
       "            <p><a href=\"/?o=3780522163279943#setting/sparkui/0722-113354-55hm8sjw/driver-1277883824873407113\">Spark UI</a></p>\n",
       "\n",
       "            <dl>\n",
       "              <dt>Version</dt>\n",
       "                <dd><code>v3.3.2</code></dd>\n",
       "              <dt>Master</dt>\n",
       "                <dd><code>local[8]</code></dd>\n",
       "              <dt>AppName</dt>\n",
       "                <dd><code>Databricks Shell</code></dd>\n",
       "            </dl>\n",
       "        </div>\n",
       "        \n",
       "            </div>\n",
       "        "
      ]
     },
     "metadata": {
      "application/vnd.databricks.v1+output": {
       "addedWidgets": {},
       "arguments": {},
       "data": "\n            <div>\n                <p><b>SparkSession - hive</b></p>\n                \n        <div>\n            <p><b>SparkContext</b></p>\n\n            <p><a href=\"/?o=3780522163279943#setting/sparkui/0722-113354-55hm8sjw/driver-1277883824873407113\">Spark UI</a></p>\n\n            <dl>\n              <dt>Version</dt>\n                <dd><code>v3.3.2</code></dd>\n              <dt>Master</dt>\n                <dd><code>local[8]</code></dd>\n              <dt>AppName</dt>\n                <dd><code>Databricks Shell</code></dd>\n            </dl>\n        </div>\n        \n            </div>\n        ",
       "datasetInfos": [],
       "metadata": {},
       "removedWidgets": [],
       "textData": null,
       "type": "htmlSandbox"
      }
     },
     "output_type": "display_data"
    }
   ],
   "source": [
    "spark"
   ]
  },
  {
   "cell_type": "code",
   "execution_count": 0,
   "metadata": {
    "application/vnd.databricks.v1+cell": {
     "cellMetadata": {
      "byteLimit": 2048000,
      "rowLimit": 10000
     },
     "inputWidgets": {},
     "nuid": "8a4e0c6a-b52f-467d-9aba-52040de200f8",
     "showTitle": false,
     "title": ""
    }
   },
   "outputs": [],
   "source": [
    "sc = spark.sparkContext"
   ]
  },
  {
   "cell_type": "code",
   "execution_count": 0,
   "metadata": {
    "application/vnd.databricks.v1+cell": {
     "cellMetadata": {
      "byteLimit": 2048000,
      "rowLimit": 10000
     },
     "inputWidgets": {},
     "nuid": "8b73f94b-73bc-41d5-911d-f49ef66abf12",
     "showTitle": false,
     "title": ""
    }
   },
   "outputs": [
    {
     "output_type": "display_data",
     "data": {
      "text/html": [
       "<style scoped>\n",
       "  .table-result-container {\n",
       "    max-height: 300px;\n",
       "    overflow: auto;\n",
       "  }\n",
       "  table, th, td {\n",
       "    border: 1px solid black;\n",
       "    border-collapse: collapse;\n",
       "  }\n",
       "  th, td {\n",
       "    padding: 5px;\n",
       "  }\n",
       "  th {\n",
       "    text-align: left;\n",
       "  }\n",
       "</style><div class='table-result-container'><table class='table-result'><thead style='background-color: white'><tr><th>path</th><th>name</th><th>size</th><th>modificationTime</th></tr></thead><tbody><tr><td>dbfs:/databricks-datasets/online_retail/data-001/data.csv</td><td>data.csv</td><td>5357240</td><td>1466107812000</td></tr></tbody></table></div>"
      ]
     },
     "metadata": {
      "application/vnd.databricks.v1+output": {
       "addedWidgets": {},
       "aggData": [],
       "aggError": "",
       "aggOverflow": false,
       "aggSchema": [],
       "aggSeriesLimitReached": false,
       "aggType": "",
       "arguments": {},
       "columnCustomDisplayInfos": {},
       "data": [
        [
         "dbfs:/databricks-datasets/online_retail/data-001/data.csv",
         "data.csv",
         5357240,
         1466107812000
        ]
       ],
       "datasetInfos": [],
       "dbfsResultPath": null,
       "isJsonSchema": true,
       "metadata": {
        "isDbfsCommandResult": false
       },
       "overflow": false,
       "plotOptions": {
        "customPlotOptions": {},
        "displayType": "table",
        "pivotAggregation": null,
        "pivotColumns": null,
        "xColumns": null,
        "yColumns": null
       },
       "removedWidgets": [],
       "schema": [
        {
         "metadata": "{}",
         "name": "path",
         "type": "\"string\""
        },
        {
         "metadata": "{}",
         "name": "name",
         "type": "\"string\""
        },
        {
         "metadata": "{}",
         "name": "size",
         "type": "\"long\""
        },
        {
         "metadata": "{}",
         "name": "modificationTime",
         "type": "\"long\""
        }
       ],
       "type": "table"
      }
     },
     "output_type": "display_data"
    }
   ],
   "source": [
    "%fs ls dbfs:/databricks-datasets/online_retail/data-001/"
   ]
  },
  {
   "cell_type": "markdown",
   "metadata": {
    "application/vnd.databricks.v1+cell": {
     "cellMetadata": {
      "byteLimit": 2048000,
      "rowLimit": 10000
     },
     "inputWidgets": {},
     "nuid": "f3d5f117-9a76-4a09-9a97-b49461bf7758",
     "showTitle": false,
     "title": ""
    }
   },
   "source": [
    "\n",
    "## Read the dataset"
   ]
  },
  {
   "cell_type": "code",
   "execution_count": 0,
   "metadata": {
    "application/vnd.databricks.v1+cell": {
     "cellMetadata": {
      "byteLimit": 2048000,
      "rowLimit": 10000
     },
     "inputWidgets": {},
     "nuid": "6c0fc75f-76af-4c91-b5bf-6c02d6b4f49a",
     "showTitle": false,
     "title": ""
    }
   },
   "outputs": [],
   "source": [
    "retail_data = sc.textFile(\"dbfs:/databricks-datasets/online_retail/data-001/data.csv\")"
   ]
  },
  {
   "cell_type": "code",
   "execution_count": 0,
   "metadata": {
    "application/vnd.databricks.v1+cell": {
     "cellMetadata": {
      "byteLimit": 2048000,
      "rowLimit": 10000
     },
     "inputWidgets": {},
     "nuid": "90d1bee9-259e-4afc-b694-cc2e0ee35aa3",
     "showTitle": false,
     "title": ""
    }
   },
   "outputs": [
    {
     "output_type": "stream",
     "name": "stdout",
     "output_type": "stream",
     "text": [
      "Out[145]: ['InvoiceNo,StockCode,Description,Quantity,InvoiceDate,UnitPrice,CustomerID,Country',\n '536365,85123A,WHITE HANGING HEART T-LIGHT HOLDER,6,12/1/10 8:26,2.55,17850,United Kingdom',\n '536365,71053,WHITE METAL LANTERN,6,12/1/10 8:26,3.39,17850,United Kingdom',\n '536365,84406B,CREAM CUPID HEARTS COAT HANGER,8,12/1/10 8:26,2.75,17850,United Kingdom',\n '536365,84029G,KNITTED UNION FLAG HOT WATER BOTTLE,6,12/1/10 8:26,3.39,17850,United Kingdom',\n '536365,84029E,RED WOOLLY HOTTIE WHITE HEART.,6,12/1/10 8:26,3.39,17850,United Kingdom',\n '536365,22752,SET 7 BABUSHKA NESTING BOXES,2,12/1/10 8:26,7.65,17850,United Kingdom',\n '536365,21730,GLASS STAR FROSTED T-LIGHT HOLDER,6,12/1/10 8:26,4.25,17850,United Kingdom',\n '536366,22633,HAND WARMER UNION JACK,6,12/1/10 8:28,1.85,17850,United Kingdom',\n '536366,22632,HAND WARMER RED POLKA DOT,6,12/1/10 8:28,1.85,17850,United Kingdom']"
     ]
    }
   ],
   "source": [
    "retail_data.take(10)"
   ]
  },
  {
   "cell_type": "markdown",
   "metadata": {
    "application/vnd.databricks.v1+cell": {
     "cellMetadata": {
      "byteLimit": 2048000,
      "rowLimit": 10000
     },
     "inputWidgets": {},
     "nuid": "1d7a8df9-76fe-4058-9651-954a072fd013",
     "showTitle": false,
     "title": ""
    }
   },
   "source": [
    "\n",
    "## Parsing the records"
   ]
  },
  {
   "cell_type": "code",
   "execution_count": 0,
   "metadata": {
    "application/vnd.databricks.v1+cell": {
     "cellMetadata": {
      "byteLimit": 2048000,
      "rowLimit": 10000
     },
     "inputWidgets": {},
     "nuid": "adf1f9f7-0a47-4e63-83f7-f319151d9cfa",
     "showTitle": false,
     "title": ""
    }
   },
   "outputs": [],
   "source": [
    "def parseLine(line):\n",
    "    rec = line.split(',')\n",
    "\n",
    "    try:\n",
    "        return (rec[6], \n",
    "                rec[0], \n",
    "                rec[4].split()[0], \n",
    "                round(float(rec[3]) * float(rec[5]), 2))\n",
    "    except:\n",
    "        return None"
   ]
  },
  {
   "cell_type": "code",
   "execution_count": 0,
   "metadata": {
    "application/vnd.databricks.v1+cell": {
     "cellMetadata": {
      "byteLimit": 2048000,
      "rowLimit": 10000
     },
     "inputWidgets": {},
     "nuid": "ab5acd39-3a9c-4fd3-8c21-30ad00152080",
     "showTitle": false,
     "title": ""
    }
   },
   "outputs": [],
   "source": [
    "cust_data = retail_data.map(lambda line: parseLine(line))"
   ]
  },
  {
   "cell_type": "code",
   "execution_count": 0,
   "metadata": {
    "application/vnd.databricks.v1+cell": {
     "cellMetadata": {
      "byteLimit": 2048000,
      "rowLimit": 10000
     },
     "inputWidgets": {},
     "nuid": "37ab7230-4c54-4ee1-8173-36684e71d5fa",
     "showTitle": false,
     "title": ""
    }
   },
   "outputs": [
    {
     "output_type": "stream",
     "name": "stdout",
     "output_type": "stream",
     "text": [
      "Out[148]: [None,\n ('17850', '536365', '12/1/10', 15.3),\n ('17850', '536365', '12/1/10', 20.34),\n ('17850', '536365', '12/1/10', 22.0),\n ('17850', '536365', '12/1/10', 20.34),\n ('17850', '536365', '12/1/10', 20.34),\n ('17850', '536365', '12/1/10', 15.3),\n ('17850', '536365', '12/1/10', 25.5),\n ('17850', '536366', '12/1/10', 11.1),\n ('17850', '536366', '12/1/10', 11.1),\n ('13047', '536367', '12/1/10', 54.08),\n ('13047', '536367', '12/1/10', 12.6),\n ('13047', '536367', '12/1/10', 12.6),\n ('13047', '536367', '12/1/10', 30.0),\n ('13047', '536367', '12/1/10', 9.9),\n ('13047', '536367', '12/1/10', 25.5),\n ('13047', '536367', '12/1/10', 14.85),\n ('13047', '536367', '12/1/10', 19.9),\n ('13047', '536367', '12/1/10', 17.85),\n ('13047', '536367', '12/1/10', 17.85)]"
     ]
    }
   ],
   "source": [
    "cust_data.take(20)"
   ]
  },
  {
   "cell_type": "markdown",
   "metadata": {
    "application/vnd.databricks.v1+cell": {
     "cellMetadata": {
      "byteLimit": 2048000,
      "rowLimit": 10000
     },
     "inputWidgets": {},
     "nuid": "c3af0119-40c4-40ad-ae47-b79afa2f866b",
     "showTitle": false,
     "title": ""
    }
   },
   "source": [
    "\n",
    "## Filetering the null values"
   ]
  },
  {
   "cell_type": "code",
   "execution_count": 0,
   "metadata": {
    "application/vnd.databricks.v1+cell": {
     "cellMetadata": {
      "byteLimit": 2048000,
      "rowLimit": 10000
     },
     "inputWidgets": {},
     "nuid": "15b203cd-6aaa-4c9b-b90e-9db2f4cceaad",
     "showTitle": false,
     "title": ""
    }
   },
   "outputs": [],
   "source": [
    "cust_data = cust_data.filter(lambda x: x != None)"
   ]
  },
  {
   "cell_type": "code",
   "execution_count": 0,
   "metadata": {
    "application/vnd.databricks.v1+cell": {
     "cellMetadata": {
      "byteLimit": 2048000,
      "rowLimit": 10000
     },
     "inputWidgets": {},
     "nuid": "d16c7cd5-bbf1-4ccb-ba06-5d3104d1b78b",
     "showTitle": false,
     "title": ""
    }
   },
   "outputs": [
    {
     "output_type": "stream",
     "name": "stdout",
     "output_type": "stream",
     "text": [
      "Out[150]: [('17850', '536365', '12/1/10', 15.3),\n ('17850', '536365', '12/1/10', 20.34),\n ('17850', '536365', '12/1/10', 22.0),\n ('17850', '536365', '12/1/10', 20.34),\n ('17850', '536365', '12/1/10', 20.34),\n ('17850', '536365', '12/1/10', 15.3),\n ('17850', '536365', '12/1/10', 25.5),\n ('17850', '536366', '12/1/10', 11.1),\n ('17850', '536366', '12/1/10', 11.1),\n ('13047', '536367', '12/1/10', 54.08),\n ('13047', '536367', '12/1/10', 12.6),\n ('13047', '536367', '12/1/10', 12.6),\n ('13047', '536367', '12/1/10', 30.0),\n ('13047', '536367', '12/1/10', 9.9),\n ('13047', '536367', '12/1/10', 25.5),\n ('13047', '536367', '12/1/10', 14.85),\n ('13047', '536367', '12/1/10', 19.9),\n ('13047', '536367', '12/1/10', 17.85),\n ('13047', '536367', '12/1/10', 17.85),\n ('13047', '536367', '12/1/10', 31.8)]"
     ]
    }
   ],
   "source": [
    "cust_data.take(20)"
   ]
  },
  {
   "cell_type": "markdown",
   "metadata": {
    "application/vnd.databricks.v1+cell": {
     "cellMetadata": {
      "byteLimit": 2048000,
      "rowLimit": 10000
     },
     "inputWidgets": {},
     "nuid": "f7c2e157-ddb2-404d-aaf3-abd1ad635fb5",
     "showTitle": false,
     "title": ""
    }
   },
   "source": [
    "\n",
    "## Calculating Invoice Amount"
   ]
  },
  {
   "cell_type": "code",
   "execution_count": 0,
   "metadata": {
    "application/vnd.databricks.v1+cell": {
     "cellMetadata": {
      "byteLimit": 2048000,
      "rowLimit": 10000
     },
     "inputWidgets": {},
     "nuid": "b0e534ad-113f-4071-bacc-522c952091e1",
     "showTitle": false,
     "title": ""
    }
   },
   "outputs": [],
   "source": [
    "cust_txn_data = cust_data.map(lambda rec: ((rec[0], \n",
    "                                            rec[1], \n",
    "                                            rec[2]), \n",
    "                                            rec[3])).reduceByKey(lambda x, y: x + y)"
   ]
  },
  {
   "cell_type": "code",
   "execution_count": 0,
   "metadata": {
    "application/vnd.databricks.v1+cell": {
     "cellMetadata": {
      "byteLimit": 2048000,
      "rowLimit": 10000
     },
     "inputWidgets": {},
     "nuid": "6bd92481-fd80-43e2-a8ea-32fb7bff3a7d",
     "showTitle": false,
     "title": ""
    }
   },
   "outputs": [
    {
     "output_type": "stream",
     "name": "stdout",
     "output_type": "stream",
     "text": [
      "Out[152]: [(('13047', '536367', '12/1/10'), 278.73),\n (('13047', '536368', '12/1/10'), 70.05),\n (('12583', '536370', '12/1/10'), 855.86),\n (('13748', '536371', '12/1/10'), 204.0),\n (('17850', '536372', '12/1/10'), 22.2),\n (('15100', '536374', '12/1/10'), 350.4),\n (('17850', '536375', '12/1/10'), 259.86),\n (('15291', '536376', '12/1/10'), 328.79999999999995),\n (('17850', '536377', '12/1/10'), 22.2),\n (('17809', '536380', '12/1/10'), 34.8),\n (('15311', '536381', '12/1/10'), 445.78),\n (('16250', '536388', '12/1/10'), 226.14000000000001),\n (('17511', '536390', '12/1/10'), 1825.74),\n (('13408', '536394', '12/1/10'), 1014.6),\n (('17850', '536396', '12/1/10'), 376.36000000000007),\n (('13448', '536400', '12/1/10'), 17.4),\n (('15862', '536401', '12/1/10'), 354.2299999999999),\n (('15513', '536402', '12/1/10'), 357.0),\n (('12791', '536403', '12/1/10'), 192.6),\n (('16218', '536404', '12/1/10'), 471.29999999999995)]"
     ]
    }
   ],
   "source": [
    "cust_txn_data.take(20)"
   ]
  },
  {
   "cell_type": "markdown",
   "metadata": {
    "application/vnd.databricks.v1+cell": {
     "cellMetadata": {
      "byteLimit": 2048000,
      "rowLimit": 10000
     },
     "inputWidgets": {},
     "nuid": "e258dd8f-03cf-4f27-bc27-71472b54232f",
     "showTitle": false,
     "title": ""
    }
   },
   "source": [
    "\n",
    "## Filtering out negative invoice amounts\n",
    "\n",
    "This could be because of refunds. But we will ignore these records for this analysis."
   ]
  },
  {
   "cell_type": "code",
   "execution_count": 0,
   "metadata": {
    "application/vnd.databricks.v1+cell": {
     "cellMetadata": {
      "byteLimit": 2048000,
      "rowLimit": 10000
     },
     "inputWidgets": {},
     "nuid": "04286ff4-cc24-46bf-9060-5e31f1ffba89",
     "showTitle": false,
     "title": ""
    }
   },
   "outputs": [],
   "source": [
    "cust_txn_data = cust_txn_data.filter(lambda rec: rec[1] > 0.0)"
   ]
  },
  {
   "cell_type": "code",
   "execution_count": 0,
   "metadata": {
    "application/vnd.databricks.v1+cell": {
     "cellMetadata": {
      "byteLimit": 2048000,
      "rowLimit": 10000
     },
     "inputWidgets": {},
     "nuid": "edac8eae-3189-42b1-920d-507b69986362",
     "showTitle": false,
     "title": ""
    }
   },
   "outputs": [
    {
     "output_type": "stream",
     "name": "stdout",
     "output_type": "stream",
     "text": [
      "Out[154]: [(('13047', '536367', '12/1/10'), 278.73),\n (('13047', '536368', '12/1/10'), 70.05),\n (('12583', '536370', '12/1/10'), 855.86),\n (('13748', '536371', '12/1/10'), 204.0),\n (('17850', '536372', '12/1/10'), 22.2),\n (('15100', '536374', '12/1/10'), 350.4),\n (('17850', '536375', '12/1/10'), 259.86),\n (('15291', '536376', '12/1/10'), 328.79999999999995),\n (('17850', '536377', '12/1/10'), 22.2),\n (('17809', '536380', '12/1/10'), 34.8),\n (('15311', '536381', '12/1/10'), 445.78),\n (('16250', '536388', '12/1/10'), 226.14000000000001),\n (('17511', '536390', '12/1/10'), 1825.74),\n (('13408', '536394', '12/1/10'), 1014.6),\n (('17850', '536396', '12/1/10'), 376.36000000000007),\n (('13448', '536400', '12/1/10'), 17.4),\n (('15862', '536401', '12/1/10'), 354.2299999999999),\n (('15513', '536402', '12/1/10'), 357.0),\n (('12791', '536403', '12/1/10'), 192.6),\n (('16218', '536404', '12/1/10'), 471.29999999999995)]"
     ]
    }
   ],
   "source": [
    "cust_txn_data.take(20)"
   ]
  },
  {
   "cell_type": "markdown",
   "metadata": {
    "application/vnd.databricks.v1+cell": {
     "cellMetadata": {
      "byteLimit": 2048000,
      "rowLimit": 10000
     },
     "inputWidgets": {},
     "nuid": "297f20cd-a2cf-41a9-b38e-44ea58e57d4c",
     "showTitle": false,
     "title": ""
    }
   },
   "source": [
    "\n",
    "## Dealing with Date and Timestamps"
   ]
  },
  {
   "cell_type": "code",
   "execution_count": 0,
   "metadata": {
    "application/vnd.databricks.v1+cell": {
     "cellMetadata": {
      "byteLimit": 2048000,
      "rowLimit": 10000
     },
     "inputWidgets": {},
     "nuid": "f03a421e-7979-45fd-923b-26c07fe85c97",
     "showTitle": false,
     "title": ""
    }
   },
   "outputs": [],
   "source": [
    "from datetime import datetime"
   ]
  },
  {
   "cell_type": "code",
   "execution_count": 0,
   "metadata": {
    "application/vnd.databricks.v1+cell": {
     "cellMetadata": {
      "byteLimit": 2048000,
      "rowLimit": 10000
     },
     "inputWidgets": {},
     "nuid": "7e494db4-1ec5-4067-8333-1e29e31ecd7e",
     "showTitle": false,
     "title": ""
    }
   },
   "outputs": [],
   "source": [
    "def parse_tuple(fields):\n",
    "    customer_id = fields[0][0]\n",
    "    timestamp = datetime.strptime(fields[0][2], \"%m/%d/%y\")  # Adjust the timestamp format as needed\n",
    "    amount = float(fields[1])\n",
    "    return (customer_id, (amount, timestamp))"
   ]
  },
  {
   "cell_type": "code",
   "execution_count": 0,
   "metadata": {
    "application/vnd.databricks.v1+cell": {
     "cellMetadata": {
      "byteLimit": 2048000,
      "rowLimit": 10000
     },
     "inputWidgets": {},
     "nuid": "70429677-f7b3-4f11-a26b-9e426d371c01",
     "showTitle": false,
     "title": ""
    }
   },
   "outputs": [],
   "source": [
    "cust_txn_data_final = cust_txn_data.map(parse_tuple)"
   ]
  },
  {
   "cell_type": "code",
   "execution_count": 0,
   "metadata": {
    "application/vnd.databricks.v1+cell": {
     "cellMetadata": {
      "byteLimit": 2048000,
      "rowLimit": 10000
     },
     "inputWidgets": {},
     "nuid": "858bf0dc-5593-4692-9f40-c9c5c82e0781",
     "showTitle": false,
     "title": ""
    }
   },
   "outputs": [
    {
     "output_type": "stream",
     "name": "stdout",
     "output_type": "stream",
     "text": [
      "Out[158]: [('13047', (278.73, datetime.datetime(2010, 12, 1, 0, 0))),\n ('13047', (70.05, datetime.datetime(2010, 12, 1, 0, 0))),\n ('12583', (855.86, datetime.datetime(2010, 12, 1, 0, 0))),\n ('13748', (204.0, datetime.datetime(2010, 12, 1, 0, 0))),\n ('17850', (22.2, datetime.datetime(2010, 12, 1, 0, 0))),\n ('15100', (350.4, datetime.datetime(2010, 12, 1, 0, 0))),\n ('17850', (259.86, datetime.datetime(2010, 12, 1, 0, 0))),\n ('15291', (328.79999999999995, datetime.datetime(2010, 12, 1, 0, 0))),\n ('17850', (22.2, datetime.datetime(2010, 12, 1, 0, 0))),\n ('17809', (34.8, datetime.datetime(2010, 12, 1, 0, 0))),\n ('15311', (445.78, datetime.datetime(2010, 12, 1, 0, 0))),\n ('16250', (226.14000000000001, datetime.datetime(2010, 12, 1, 0, 0))),\n ('17511', (1825.74, datetime.datetime(2010, 12, 1, 0, 0))),\n ('13408', (1014.6, datetime.datetime(2010, 12, 1, 0, 0))),\n ('17850', (376.36000000000007, datetime.datetime(2010, 12, 1, 0, 0))),\n ('13448', (17.4, datetime.datetime(2010, 12, 1, 0, 0))),\n ('15862', (354.2299999999999, datetime.datetime(2010, 12, 1, 0, 0))),\n ('15513', (357.0, datetime.datetime(2010, 12, 1, 0, 0))),\n ('12791', (192.6, datetime.datetime(2010, 12, 1, 0, 0))),\n ('16218', (471.29999999999995, datetime.datetime(2010, 12, 1, 0, 0)))]"
     ]
    }
   ],
   "source": [
    "cust_txn_data_final.take(20)"
   ]
  },
  {
   "cell_type": "markdown",
   "metadata": {
    "application/vnd.databricks.v1+cell": {
     "cellMetadata": {
      "byteLimit": 2048000,
      "rowLimit": 10000
     },
     "inputWidgets": {},
     "nuid": "159e619e-c6d4-4d80-8b91-b297147e6fea",
     "showTitle": false,
     "title": ""
    }
   },
   "source": [
    "\n",
    "## Finding the reference date for calculating recency"
   ]
  },
  {
   "cell_type": "code",
   "execution_count": 0,
   "metadata": {
    "application/vnd.databricks.v1+cell": {
     "cellMetadata": {
      "byteLimit": 2048000,
      "rowLimit": 10000
     },
     "inputWidgets": {},
     "nuid": "2ee7edcd-745c-4998-a784-98d1806b49c7",
     "showTitle": false,
     "title": ""
    }
   },
   "outputs": [
    {
     "output_type": "stream",
     "name": "stdout",
     "output_type": "stream",
     "text": [
      "Out[159]: datetime.datetime(2011, 1, 20, 0, 0)"
     ]
    }
   ],
   "source": [
    "cust_txn_data_final.map(lambda rec: rec[1][1]).reduce(max)"
   ]
  },
  {
   "cell_type": "code",
   "execution_count": 0,
   "metadata": {
    "application/vnd.databricks.v1+cell": {
     "cellMetadata": {
      "byteLimit": 2048000,
      "rowLimit": 10000
     },
     "inputWidgets": {},
     "nuid": "a393b9e6-137a-480a-8d7d-523d0ddb749e",
     "showTitle": false,
     "title": ""
    }
   },
   "outputs": [
    {
     "output_type": "stream",
     "name": "stdout",
     "output_type": "stream",
     "text": [
      "Out[160]: datetime.datetime(2010, 12, 1, 0, 0)"
     ]
    }
   ],
   "source": [
    "cust_txn_data_final.map(lambda rec: rec[1][1]).reduce(min)"
   ]
  },
  {
   "cell_type": "code",
   "execution_count": 0,
   "metadata": {
    "application/vnd.databricks.v1+cell": {
     "cellMetadata": {
      "byteLimit": 2048000,
      "rowLimit": 10000
     },
     "inputWidgets": {},
     "nuid": "3163c93f-649f-4b68-83ba-b6b417edac1d",
     "showTitle": false,
     "title": ""
    }
   },
   "outputs": [],
   "source": [
    "reference_date = datetime.strptime(\"1/31/11\", \"%m/%d/%y\")\n",
    "reference_date_var = sc.broadcast(reference_date)"
   ]
  },
  {
   "cell_type": "markdown",
   "metadata": {
    "application/vnd.databricks.v1+cell": {
     "cellMetadata": {
      "byteLimit": 2048000,
      "rowLimit": 10000
     },
     "inputWidgets": {},
     "nuid": "02cb729f-1375-41fb-8d7d-1400b267a0bd",
     "showTitle": false,
     "title": ""
    }
   },
   "source": [
    "\n",
    "## Finding how many days before the purchase was made?"
   ]
  },
  {
   "cell_type": "code",
   "execution_count": 0,
   "metadata": {
    "application/vnd.databricks.v1+cell": {
     "cellMetadata": {
      "byteLimit": 2048000,
      "rowLimit": 10000
     },
     "inputWidgets": {},
     "nuid": "e83b05d2-bca7-4cb6-a572-eb52c3df1d7e",
     "showTitle": false,
     "title": ""
    }
   },
   "outputs": [],
   "source": [
    "cust_txn_data_final = cust_txn_data_final.map(lambda rec: (rec[0], \n",
    "                                                          (rec[1][0], \n",
    "                                                          (reference_date_var.value - rec[1][1]).days)))"
   ]
  },
  {
   "cell_type": "code",
   "execution_count": 0,
   "metadata": {
    "application/vnd.databricks.v1+cell": {
     "cellMetadata": {
      "byteLimit": 2048000,
      "rowLimit": 10000
     },
     "inputWidgets": {},
     "nuid": "bec0268c-678b-4388-baee-b0ac4973f876",
     "showTitle": false,
     "title": ""
    }
   },
   "outputs": [
    {
     "output_type": "stream",
     "name": "stdout",
     "output_type": "stream",
     "text": [
      "Out[163]: [('13047', (278.73, 61)),\n ('13047', (70.05, 61)),\n ('12583', (855.86, 61)),\n ('13748', (204.0, 61)),\n ('17850', (22.2, 61)),\n ('15100', (350.4, 61)),\n ('17850', (259.86, 61)),\n ('15291', (328.79999999999995, 61)),\n ('17850', (22.2, 61)),\n ('17809', (34.8, 61)),\n ('15311', (445.78, 61)),\n ('16250', (226.14000000000001, 61)),\n ('17511', (1825.74, 61)),\n ('13408', (1014.6, 61)),\n ('17850', (376.36000000000007, 61)),\n ('13448', (17.4, 61)),\n ('15862', (354.2299999999999, 61)),\n ('15513', (357.0, 61)),\n ('12791', (192.6, 61)),\n ('16218', (471.29999999999995, 61))]"
     ]
    }
   ],
   "source": [
    "cust_txn_data_final.take(20)"
   ]
  },
  {
   "cell_type": "markdown",
   "metadata": {
    "application/vnd.databricks.v1+cell": {
     "cellMetadata": {
      "byteLimit": 2048000,
      "rowLimit": 10000
     },
     "inputWidgets": {},
     "nuid": "c9c8ab64-7aaf-43b8-bd04-49ef89a4a831",
     "showTitle": false,
     "title": ""
    }
   },
   "source": [
    "\n",
    "## Finding Frequency"
   ]
  },
  {
   "cell_type": "code",
   "execution_count": 0,
   "metadata": {
    "application/vnd.databricks.v1+cell": {
     "cellMetadata": {
      "byteLimit": 2048000,
      "rowLimit": 10000
     },
     "inputWidgets": {},
     "nuid": "b339d9ed-fb14-4d5e-ae7f-3321bb5c9857",
     "showTitle": false,
     "title": ""
    }
   },
   "outputs": [],
   "source": [
    "cust_frequency = cust_txn_data_final.map(lambda rec: (rec[0], 1)).reduceByKey(lambda x, y: x + y)"
   ]
  },
  {
   "cell_type": "code",
   "execution_count": 0,
   "metadata": {
    "application/vnd.databricks.v1+cell": {
     "cellMetadata": {
      "byteLimit": 2048000,
      "rowLimit": 10000
     },
     "inputWidgets": {},
     "nuid": "1802069f-caaa-44e0-8815-4429aca95d76",
     "showTitle": false,
     "title": ""
    }
   },
   "outputs": [
    {
     "output_type": "stream",
     "name": "stdout",
     "output_type": "stream",
     "text": [
      "Out[165]: [('13047', 3),\n ('12583', 2),\n ('13748', 1),\n ('15311', 16),\n ('16250', 1),\n ('13408', 6),\n ('13448', 3),\n ('15513', 4),\n ('17908', 1),\n ('12838', 1),\n ('18085', 2),\n ('13758', 3),\n ('17897', 2),\n ('17377', 3),\n ('16552', 1),\n ('12868', 2),\n ('15525', 1),\n ('15485', 2),\n ('16955', 3),\n ('15350', 1)]"
     ]
    }
   ],
   "source": [
    "cust_frequency.take(20)"
   ]
  },
  {
   "cell_type": "markdown",
   "metadata": {
    "application/vnd.databricks.v1+cell": {
     "cellMetadata": {
      "byteLimit": 2048000,
      "rowLimit": 10000
     },
     "inputWidgets": {},
     "nuid": "df93c43c-d075-4d0b-88d5-d87248d91d85",
     "showTitle": false,
     "title": ""
    }
   },
   "source": [
    "\n",
    "## Finding Total Monetary value"
   ]
  },
  {
   "cell_type": "code",
   "execution_count": 0,
   "metadata": {
    "application/vnd.databricks.v1+cell": {
     "cellMetadata": {
      "byteLimit": 2048000,
      "rowLimit": 10000
     },
     "inputWidgets": {},
     "nuid": "6da97615-a427-4947-ab3a-688f6b1a6d8c",
     "showTitle": false,
     "title": ""
    }
   },
   "outputs": [],
   "source": [
    "cust_monetary = cust_txn_data_final.map(lambda rec: (rec[0], rec[1][0])).reduceByKey(lambda x, y: x + y)"
   ]
  },
  {
   "cell_type": "code",
   "execution_count": 0,
   "metadata": {
    "application/vnd.databricks.v1+cell": {
     "cellMetadata": {
      "byteLimit": 2048000,
      "rowLimit": 10000
     },
     "inputWidgets": {},
     "nuid": "42fb52fb-66ce-4d41-90f3-815f82db2a1e",
     "showTitle": false,
     "title": ""
    }
   },
   "outputs": [
    {
     "output_type": "stream",
     "name": "stdout",
     "output_type": "stream",
     "text": [
      "Out[167]: [('13047', 366.63000000000005),\n ('12583', 1586.0200000000002),\n ('13748', 204.0),\n ('15311', 6116.7),\n ('16250', 226.14000000000001),\n ('13408', 3325.3199999999997),\n ('13448', 829.54),\n ('15513', 2064.8199999999997),\n ('17908', 243.2799999999999),\n ('12838', 390.78999999999985),\n ('18085', 689.9499999999999),\n ('13758', 1141.25),\n ('17897', 434.61999999999995),\n ('17377', 785.0800000000002),\n ('16552', 95.29),\n ('12868', 485.71999999999997),\n ('15525', 313.9299999999999),\n ('15485', 1248.3899999999999),\n ('16955', 354.98),\n ('15350', 115.64999999999999)]"
     ]
    }
   ],
   "source": [
    "cust_monetary.take(20)"
   ]
  },
  {
   "cell_type": "markdown",
   "metadata": {
    "application/vnd.databricks.v1+cell": {
     "cellMetadata": {
      "byteLimit": 2048000,
      "rowLimit": 10000
     },
     "inputWidgets": {},
     "nuid": "263494fc-3412-414e-a5a6-2ecf3dc529f1",
     "showTitle": false,
     "title": ""
    }
   },
   "source": [
    "\n",
    "## Finding recency \n",
    "\n",
    "How many days before the last purchase was made by the customers?"
   ]
  },
  {
   "cell_type": "code",
   "execution_count": 0,
   "metadata": {
    "application/vnd.databricks.v1+cell": {
     "cellMetadata": {
      "byteLimit": 2048000,
      "rowLimit": 10000
     },
     "inputWidgets": {},
     "nuid": "646029c5-0f9c-495a-a066-17d7b99a5f92",
     "showTitle": false,
     "title": ""
    }
   },
   "outputs": [],
   "source": [
    "cust_recency = cust_txn_data_final.map(lambda rec: (rec[0], rec[1][1])).reduceByKey(min)"
   ]
  },
  {
   "cell_type": "code",
   "execution_count": 0,
   "metadata": {
    "application/vnd.databricks.v1+cell": {
     "cellMetadata": {
      "byteLimit": 2048000,
      "rowLimit": 10000
     },
     "inputWidgets": {},
     "nuid": "b9a854d8-183f-4af0-90dc-c0a17b542495",
     "showTitle": false,
     "title": ""
    }
   },
   "outputs": [
    {
     "output_type": "stream",
     "name": "stdout",
     "output_type": "stream",
     "text": [
      "Out[169]: [('13047', 61),\n ('12583', 24),\n ('13748', 61),\n ('15311', 12),\n ('16250', 61),\n ('13408', 25),\n ('13448', 52),\n ('15513', 13),\n ('17908', 61),\n ('12838', 61),\n ('18085', 18),\n ('13758', 22),\n ('17897', 55),\n ('17377', 45),\n ('16552', 61),\n ('12868', 19),\n ('15525', 61),\n ('15485', 24),\n ('16955', 24),\n ('15350', 61)]"
     ]
    }
   ],
   "source": [
    "cust_recency.take(20)"
   ]
  },
  {
   "cell_type": "code",
   "execution_count": 0,
   "metadata": {
    "application/vnd.databricks.v1+cell": {
     "cellMetadata": {
      "byteLimit": 2048000,
      "rowLimit": 10000
     },
     "inputWidgets": {},
     "nuid": "76d2160d-aee2-42b0-9200-6af7d89948db",
     "showTitle": false,
     "title": ""
    }
   },
   "outputs": [
    {
     "output_type": "stream",
     "name": "stdout",
     "output_type": "stream",
     "text": [
      "Out[170]: 1139"
     ]
    }
   ],
   "source": [
    "cust_recency.count()"
   ]
  },
  {
   "cell_type": "markdown",
   "metadata": {
    "application/vnd.databricks.v1+cell": {
     "cellMetadata": {
      "byteLimit": 2048000,
      "rowLimit": 10000
     },
     "inputWidgets": {},
     "nuid": "e26a39a1-9fda-4745-8b4d-0a22ac4f70d3",
     "showTitle": false,
     "title": ""
    }
   },
   "source": [
    "\n",
    "## Joining all the results: RFM"
   ]
  },
  {
   "cell_type": "code",
   "execution_count": 0,
   "metadata": {
    "application/vnd.databricks.v1+cell": {
     "cellMetadata": {
      "byteLimit": 2048000,
      "rowLimit": 10000
     },
     "inputWidgets": {},
     "nuid": "31d08bf9-2caf-41ae-91de-20a56c1cf155",
     "showTitle": false,
     "title": ""
    }
   },
   "outputs": [],
   "source": [
    "rfm_cust = cust_frequency.join(cust_monetary).join(cust_recency)"
   ]
  },
  {
   "cell_type": "code",
   "execution_count": 0,
   "metadata": {
    "application/vnd.databricks.v1+cell": {
     "cellMetadata": {
      "byteLimit": 2048000,
      "rowLimit": 10000
     },
     "inputWidgets": {},
     "nuid": "e3b17998-0ead-41aa-8e8d-c12a52894f05",
     "showTitle": false,
     "title": ""
    }
   },
   "outputs": [
    {
     "output_type": "stream",
     "name": "stdout",
     "output_type": "stream",
     "text": [
      "Out[172]: [('13047', ((3, 366.63000000000005), 61)),\n ('12583', ((2, 1586.0200000000002), 24)),\n ('13748', ((1, 204.0), 61)),\n ('15311', ((16, 6116.7), 12)),\n ('16250', ((1, 226.14000000000001), 61)),\n ('13408', ((6, 3325.3199999999997), 25)),\n ('13448', ((3, 829.54), 52)),\n ('15513', ((4, 2064.8199999999997), 13)),\n ('17908', ((1, 243.2799999999999), 61)),\n ('12838', ((1, 390.78999999999985), 61)),\n ('18085', ((2, 689.9499999999999), 18)),\n ('13758', ((3, 1141.25), 22)),\n ('17897', ((2, 434.61999999999995), 55)),\n ('17377', ((3, 785.0800000000002), 45)),\n ('16552', ((1, 95.29), 61)),\n ('12868', ((2, 485.71999999999997), 19)),\n ('15525', ((1, 313.9299999999999), 61)),\n ('15485', ((2, 1248.3899999999999), 24)),\n ('16955', ((3, 354.98), 24)),\n ('15350', ((1, 115.64999999999999), 61))]"
     ]
    }
   ],
   "source": [
    "rfm_cust.take(20)"
   ]
  },
  {
   "cell_type": "code",
   "execution_count": 0,
   "metadata": {
    "application/vnd.databricks.v1+cell": {
     "cellMetadata": {
      "byteLimit": 2048000,
      "rowLimit": 10000
     },
     "inputWidgets": {},
     "nuid": "8f824af2-b4d9-4384-96ee-6db14acb82d2",
     "showTitle": false,
     "title": ""
    }
   },
   "outputs": [],
   "source": [
    "rfm_cust = rfm_cust.map(lambda rec: (rec[0], rec[1][0][0], round(rec[1][0][1], 2), rec[1][1]))"
   ]
  },
  {
   "cell_type": "code",
   "execution_count": 0,
   "metadata": {
    "application/vnd.databricks.v1+cell": {
     "cellMetadata": {
      "byteLimit": 2048000,
      "rowLimit": 10000
     },
     "inputWidgets": {},
     "nuid": "6ec5fba9-a40a-443b-a5a8-f8d515f5b10c",
     "showTitle": false,
     "title": ""
    }
   },
   "outputs": [
    {
     "output_type": "stream",
     "name": "stdout",
     "output_type": "stream",
     "text": [
      "Out[174]: [('13047', 3, 366.63, 61),\n ('12583', 2, 1586.02, 24),\n ('13748', 1, 204.0, 61),\n ('15311', 16, 6116.7, 12),\n ('16250', 1, 226.14, 61),\n ('13408', 6, 3325.32, 25),\n ('13448', 3, 829.54, 52),\n ('15513', 4, 2064.82, 13),\n ('17908', 1, 243.28, 61),\n ('12838', 1, 390.79, 61),\n ('18085', 2, 689.95, 18),\n ('13758', 3, 1141.25, 22),\n ('17897', 2, 434.62, 55),\n ('17377', 3, 785.08, 45),\n ('16552', 1, 95.29, 61),\n ('12868', 2, 485.72, 19),\n ('15525', 1, 313.93, 61),\n ('15485', 2, 1248.39, 24),\n ('16955', 3, 354.98, 24),\n ('15350', 1, 115.65, 61),\n ('15165', 1, 487.75, 61),\n ('14911', 16, 11194.96, 11),\n ('', 222, 334755.17, 11),\n ('13093', 5, 6068.47, 18),\n ('17760', 1, 172.54, 61),\n ('16274', 1, 347.45, 61),\n ('17025', 2, 160.97, 61),\n ('13777', 11, 7294.42, 17),\n ('17460', 2, 70.3, 60),\n ('18011', 1, 102.79, 61),\n ('12855', 1, 38.1, 60),\n ('15752', 1, 259.65, 60),\n ('17855', 1, 208.97, 60),\n ('14047', 2, 296.22, 24),\n ('13108', 1, 350.06, 60),\n ('15601', 3, 1884.34, 24),\n ('13418', 5, 1579.62, 47),\n ('18041', 5, 1147.02, 13),\n ('15070', 1, 106.2, 60),\n ('15111', 1, 288.5, 60),\n ('12748', 39, 4637.43, 13),\n ('14060', 4, 1266.62, 21),\n ('15738', 2, 646.15, 14),\n ('17381', 4, 3815.72, 21),\n ('17964', 1, 261.76, 60),\n ('13491', 3, 321.89, 20),\n ('17581', 3, 1235.73, 17),\n ('13138', 1, 193.23, 60),\n ('15574', 3, 590.15, 46),\n ('17228', 2, 355.95, 55),\n ('17412', 2, 447.76, 46),\n ('15299', 3, 1835.01, 60),\n ('13402', 1, 303.24, 60),\n ('17757', 5, 711.3, 22),\n ('16634', 1, 164.8, 60),\n ('16150', 1, 393.42, 60),\n ('14236', 1, 189.3, 60),\n ('17135', 1, 215.58, 59),\n ('12967', 2, 1660.9, 46),\n ('17967', 1, 123.07, 59),\n ('16891', 1, 225.51, 59),\n ('14156', 2, 17096.92, 17),\n ('12557', 2, 4037.12, 20),\n ('12600', 2, 274.8, 45),\n ('17787', 2, 1266.19, 11),\n ('14723', 3, 471.0, 46),\n ('12712', 3, 721.28, 19),\n ('15373', 2, 537.1, 47),\n ('12793', 2, 545.48, 22),\n ('15465', 3, 1258.15, 22),\n ('13838', 1, 235.16, 57),\n ('18055', 3, 1700.72, 46),\n ('14800', 3, 1747.34, 22),\n ('15708', 2, 782.45, 22),\n ('14810', 2, 326.99, 22),\n ('13831', 1, 408.0, 57),\n ('17796', 2, 377.1, 22),\n ('17858', 2, 1550.25, 47),\n ('15235', 4, 767.49, 26),\n ('15889', 1, 297.92, 57),\n ('16422', 6, 3241.97, 13),\n ('12747', 3, 1009.31, 11),\n ('15502', 3, 809.8, 56),\n ('17965', 3, 595.47, 19),\n ('13579', 1, 164.7, 57),\n ('13174', 1, 1408.17, 57),\n ('17677', 4, 1616.6, 54),\n ('17428', 4, 1887.79, 20),\n ('14293', 1, 364.92, 56),\n ('12708', 2, 461.26, 17),\n ('14443', 1, 303.5, 56),\n ('17227', 1, 142.25, 56),\n ('15301', 1, 673.37, 56),\n ('14708', 1, 419.06, 56),\n ('16898', 1, 105.58, 56),\n ('15078', 4, 818.65, 42),\n ('17259', 1, 381.64, 56),\n ('16722', 2, 799.52, 54),\n ('17682', 1, 391.5, 56),\n ('16658', 1, 123.24, 56)]"
     ]
    }
   ],
   "source": [
    "rfm_cust.take(100)"
   ]
  },
  {
   "cell_type": "code",
   "execution_count": 0,
   "metadata": {
    "application/vnd.databricks.v1+cell": {
     "cellMetadata": {
      "byteLimit": 2048000,
      "rowLimit": 10000
     },
     "inputWidgets": {},
     "nuid": "7bcd83cb-31ff-4454-8d52-266fe0c9df14",
     "showTitle": false,
     "title": ""
    }
   },
   "outputs": [],
   "source": [
    "rfm_list = rfm_cust.collect()"
   ]
  },
  {
   "cell_type": "code",
   "execution_count": 0,
   "metadata": {
    "application/vnd.databricks.v1+cell": {
     "cellMetadata": {
      "byteLimit": 2048000,
      "rowLimit": 10000
     },
     "inputWidgets": {},
     "nuid": "e6f7a73c-3ff0-48d3-bac2-9d008a46fc1e",
     "showTitle": false,
     "title": ""
    }
   },
   "outputs": [
    {
     "output_type": "stream",
     "name": "stdout",
     "output_type": "stream",
     "text": [
      "Out[176]: [('13047', 3, 366.63, 61),\n ('12583', 2, 1586.02, 24),\n ('13748', 1, 204.0, 61),\n ('15311', 16, 6116.7, 12),\n ('16250', 1, 226.14, 61),\n ('13408', 6, 3325.32, 25),\n ('13448', 3, 829.54, 52),\n ('15513', 4, 2064.82, 13),\n ('17908', 1, 243.28, 61),\n ('12838', 1, 390.79, 61)]"
     ]
    }
   ],
   "source": [
    "rfm_list[0:10]"
   ]
  },
  {
   "cell_type": "code",
   "execution_count": 0,
   "metadata": {
    "application/vnd.databricks.v1+cell": {
     "cellMetadata": {
      "byteLimit": 2048000,
      "rowLimit": 10000
     },
     "inputWidgets": {},
     "nuid": "9be9b8ba-4930-407c-8921-1a0b3d4069c7",
     "showTitle": false,
     "title": ""
    }
   },
   "outputs": [],
   "source": [
    "import pandas as pd\n",
    "import numpy as np\n",
    "import matplotlib.pyplot as plt\n",
    "import seaborn as sns\n",
    "from mpl_toolkits.mplot3d import Axes3D"
   ]
  },
  {
   "cell_type": "code",
   "execution_count": 0,
   "metadata": {
    "application/vnd.databricks.v1+cell": {
     "cellMetadata": {
      "byteLimit": 2048000,
      "rowLimit": 10000
     },
     "inputWidgets": {},
     "nuid": "8b79a9d8-e8c0-4dae-b9bd-c92287d45f42",
     "showTitle": false,
     "title": ""
    }
   },
   "outputs": [],
   "source": [
    "rfm_df = pd.DataFrame( rfm_list, columns = ['CustID', 'Frequency', \"MValue\", \"Recency\"])"
   ]
  },
  {
   "cell_type": "code",
   "execution_count": 0,
   "metadata": {
    "application/vnd.databricks.v1+cell": {
     "cellMetadata": {
      "byteLimit": 2048000,
      "rowLimit": 10000
     },
     "inputWidgets": {},
     "nuid": "55e3f71b-202e-4eb8-a366-b95bd60fb771",
     "showTitle": false,
     "title": ""
    }
   },
   "outputs": [
    {
     "output_type": "display_data",
     "data": {
      "image/png": "[encoded data removed]"
     },
     "metadata": {
      "application/vnd.databricks.v1+output": {
       "addedWidgets": {},
       "arguments": {},
       "data": "data:image/png;base64,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\n",
       "datasetInfos": [],
       "metadata": {},
       "removedWidgets": [],
       "type": "image"
      }
     },
     "output_type": "display_data"
    }
   ],
   "source": [
    "fig = plt.figure(figsize=(20,10))\n",
    "ax = fig.add_subplot(111, projection='3d')\n",
    "ax.scatter(rfm_df[\"Frequency\"], rfm_df[\"MValue\"], rfm_df[\"Recency\"], c='blue', s=5)\n",
    "plt.ylim([0, 2000]) \n",
    "plt.xlim([0, 10]) \n",
    "#ax.view_init(90, -90)\n",
    "plt.xlabel(\"Frequency\")\n",
    "plt.ylabel(\"MValue\")\n",
    "ax.set_zlabel('Recency')\n",
    "plt.show()"
   ]
  },
  {
   "cell_type": "code",
   "execution_count": 0,
   "metadata": {
    "application/vnd.databricks.v1+cell": {
     "cellMetadata": {
      "byteLimit": 2048000,
      "rowLimit": 10000
     },
     "inputWidgets": {},
     "nuid": "a7f5b919-aa5d-497c-9585-25f3ddb6547a",
     "showTitle": false,
     "title": ""
    }
   },
   "outputs": [
    {
     "output_type": "display_data",
     "data": {
      "text/html": [
       "<div>\n",
       "<style scoped>\n",
       "    .dataframe tbody tr th:only-of-type {\n",
       "        vertical-align: middle;\n",
       "    }\n",
       "\n",
       "    .dataframe tbody tr th {\n",
       "        vertical-align: top;\n",
       "    }\n",
       "\n",
       "    .dataframe thead th {\n",
       "        text-align: right;\n",
       "    }\n",
       "</style>\n",
       "<table border=\"1\" class=\"dataframe\">\n",
       "  <thead>\n",
       "    <tr style=\"text-align: right;\">\n",
       "      <th></th>\n",
       "      <th>CustID</th>\n",
       "      <th>Frequency</th>\n",
       "      <th>MValue</th>\n",
       "      <th>Recency</th>\n",
       "    </tr>\n",
       "  </thead>\n",
       "  <tbody>\n",
       "    <tr>\n",
       "      <th>0</th>\n",
       "      <td>13047</td>\n",
       "      <td>3</td>\n",
       "      <td>366.63</td>\n",
       "      <td>61</td>\n",
       "    </tr>\n",
       "    <tr>\n",
       "      <th>1</th>\n",
       "      <td>12583</td>\n",
       "      <td>2</td>\n",
       "      <td>1586.02</td>\n",
       "      <td>24</td>\n",
       "    </tr>\n",
       "    <tr>\n",
       "      <th>2</th>\n",
       "      <td>13748</td>\n",
       "      <td>1</td>\n",
       "      <td>204.00</td>\n",
       "      <td>61</td>\n",
       "    </tr>\n",
       "    <tr>\n",
       "      <th>3</th>\n",
       "      <td>15311</td>\n",
       "      <td>16</td>\n",
       "      <td>6116.70</td>\n",
       "      <td>12</td>\n",
       "    </tr>\n",
       "    <tr>\n",
       "      <th>4</th>\n",
       "      <td>16250</td>\n",
       "      <td>1</td>\n",
       "      <td>226.14</td>\n",
       "      <td>61</td>\n",
       "    </tr>\n",
       "    <tr>\n",
       "      <th>5</th>\n",
       "      <td>13408</td>\n",
       "      <td>6</td>\n",
       "      <td>3325.32</td>\n",
       "      <td>25</td>\n",
       "    </tr>\n",
       "    <tr>\n",
       "      <th>6</th>\n",
       "      <td>13448</td>\n",
       "      <td>3</td>\n",
       "      <td>829.54</td>\n",
       "      <td>52</td>\n",
       "    </tr>\n",
       "    <tr>\n",
       "      <th>7</th>\n",
       "      <td>15513</td>\n",
       "      <td>4</td>\n",
       "      <td>2064.82</td>\n",
       "      <td>13</td>\n",
       "    </tr>\n",
       "    <tr>\n",
       "      <th>8</th>\n",
       "      <td>17908</td>\n",
       "      <td>1</td>\n",
       "      <td>243.28</td>\n",
       "      <td>61</td>\n",
       "    </tr>\n",
       "    <tr>\n",
       "      <th>9</th>\n",
       "      <td>12838</td>\n",
       "      <td>1</td>\n",
       "      <td>390.79</td>\n",
       "      <td>61</td>\n",
       "    </tr>\n",
       "  </tbody>\n",
       "</table>\n",
       "</div>"
      ]
     },
     "metadata": {
      "application/vnd.databricks.v1+output": {
       "addedWidgets": {},
       "arguments": {},
       "data": "<div>\n<style scoped>\n    .dataframe tbody tr th:only-of-type {\n        vertical-align: middle;\n    }\n\n    .dataframe tbody tr th {\n        vertical-align: top;\n    }\n\n    .dataframe thead th {\n        text-align: right;\n    }\n</style>\n<table border=\"1\" class=\"dataframe\">\n  <thead>\n    <tr style=\"text-align: right;\">\n      <th></th>\n      <th>CustID</th>\n      <th>Frequency</th>\n      <th>MValue</th>\n      <th>Recency</th>\n    </tr>\n  </thead>\n  <tbody>\n    <tr>\n      <th>0</th>\n      <td>13047</td>\n      <td>3</td>\n      <td>366.63</td>\n      <td>61</td>\n    </tr>\n    <tr>\n      <th>1</th>\n      <td>12583</td>\n      <td>2</td>\n      <td>1586.02</td>\n      <td>24</td>\n    </tr>\n    <tr>\n      <th>2</th>\n      <td>13748</td>\n      <td>1</td>\n      <td>204.00</td>\n      <td>61</td>\n    </tr>\n    <tr>\n      <th>3</th>\n      <td>15311</td>\n      <td>16</td>\n      <td>6116.70</td>\n      <td>12</td>\n    </tr>\n    <tr>\n      <th>4</th>\n      <td>16250</td>\n      <td>1</td>\n      <td>226.14</td>\n      <td>61</td>\n    </tr>\n    <tr>\n      <th>5</th>\n      <td>13408</td>\n      <td>6</td>\n      <td>3325.32</td>\n      <td>25</td>\n    </tr>\n    <tr>\n      <th>6</th>\n      <td>13448</td>\n      <td>3</td>\n      <td>829.54</td>\n      <td>52</td>\n    </tr>\n    <tr>\n      <th>7</th>\n      <td>15513</td>\n      <td>4</td>\n      <td>2064.82</td>\n      <td>13</td>\n    </tr>\n    <tr>\n      <th>8</th>\n      <td>17908</td>\n      <td>1</td>\n      <td>243.28</td>\n      <td>61</td>\n    </tr>\n    <tr>\n      <th>9</th>\n      <td>12838</td>\n      <td>1</td>\n      <td>390.79</td>\n      <td>61</td>\n    </tr>\n  </tbody>\n</table>\n</div>",
       "datasetInfos": [],
       "metadata": {},
       "removedWidgets": [],
       "textData": null,
       "type": "htmlSandbox"
      }
     },
     "output_type": "display_data"
    }
   ],
   "source": [
    "rfm_df.head(10)"
   ]
  },
  {
   "cell_type": "code",
   "execution_count": 0,
   "metadata": {
    "application/vnd.databricks.v1+cell": {
     "cellMetadata": {
      "byteLimit": 2048000,
      "rowLimit": 10000
     },
     "inputWidgets": {},
     "nuid": "890774b3-afcb-4023-8730-4cba45d2bcbf",
     "showTitle": false,
     "title": ""
    }
   },
   "outputs": [
    {
     "output_type": "stream",
     "name": "stdout",
     "output_type": "stream",
     "text": [
      "Out[181]: 1139"
     ]
    }
   ],
   "source": [
    "len(rfm_df)"
   ]
  },
  {
   "cell_type": "code",
   "execution_count": 0,
   "metadata": {
    "application/vnd.databricks.v1+cell": {
     "cellMetadata": {
      "byteLimit": 2048000,
      "rowLimit": 10000
     },
     "inputWidgets": {},
     "nuid": "70bdb1d2-5abb-4096-8ab2-af57bc95c09c",
     "showTitle": false,
     "title": ""
    }
   },
   "outputs": [
    {
     "output_type": "display_data",
     "data": {
      "text/html": [
       "<style scoped>\n",
       "  .table-result-container {\n",
       "    max-height: 300px;\n",
       "    overflow: auto;\n",
       "  }\n",
       "  table, th, td {\n",
       "    border: 1px solid black;\n",
       "    border-collapse: collapse;\n",
       "  }\n",
       "  th, td {\n",
       "    padding: 5px;\n",
       "  }\n",
       "  th {\n",
       "    text-align: left;\n",
       "  }\n",
       "</style><div class='table-result-container'><table class='table-result'><thead style='background-color: white'><tr><th>CustID</th><th>Frequency</th><th>MValue</th><th>Recency</th></tr></thead><tbody><tr><td>13047</td><td>3</td><td>366.63</td><td>61</td></tr><tr><td>12583</td><td>2</td><td>1586.02</td><td>24</td></tr><tr><td>13748</td><td>1</td><td>204.0</td><td>61</td></tr><tr><td>15311</td><td>16</td><td>6116.7</td><td>12</td></tr><tr><td>16250</td><td>1</td><td>226.14</td><td>61</td></tr><tr><td>13408</td><td>6</td><td>3325.32</td><td>25</td></tr><tr><td>13448</td><td>3</td><td>829.54</td><td>52</td></tr><tr><td>15513</td><td>4</td><td>2064.82</td><td>13</td></tr><tr><td>17908</td><td>1</td><td>243.28</td><td>61</td></tr><tr><td>12838</td><td>1</td><td>390.79</td><td>61</td></tr><tr><td>18085</td><td>2</td><td>689.95</td><td>18</td></tr><tr><td>13758</td><td>3</td><td>1141.25</td><td>22</td></tr><tr><td>17897</td><td>2</td><td>434.62</td><td>55</td></tr><tr><td>17377</td><td>3</td><td>785.08</td><td>45</td></tr><tr><td>16552</td><td>1</td><td>95.29</td><td>61</td></tr><tr><td>12868</td><td>2</td><td>485.72</td><td>19</td></tr><tr><td>15525</td><td>1</td><td>313.93</td><td>61</td></tr><tr><td>15485</td><td>2</td><td>1248.39</td><td>24</td></tr><tr><td>16955</td><td>3</td><td>354.98</td><td>24</td></tr><tr><td>15350</td><td>1</td><td>115.65</td><td>61</td></tr><tr><td>15165</td><td>1</td><td>487.75</td><td>61</td></tr><tr><td>14911</td><td>16</td><td>11194.96</td><td>11</td></tr><tr><td></td><td>222</td><td>334755.17</td><td>11</td></tr><tr><td>13093</td><td>5</td><td>6068.47</td><td>18</td></tr><tr><td>17760</td><td>1</td><td>172.54</td><td>61</td></tr><tr><td>16274</td><td>1</td><td>347.45</td><td>61</td></tr><tr><td>17025</td><td>2</td><td>160.97</td><td>61</td></tr><tr><td>13777</td><td>11</td><td>7294.42</td><td>17</td></tr><tr><td>17460</td><td>2</td><td>70.3</td><td>60</td></tr><tr><td>18011</td><td>1</td><td>102.79</td><td>61</td></tr><tr><td>12855</td><td>1</td><td>38.1</td><td>60</td></tr><tr><td>15752</td><td>1</td><td>259.65</td><td>60</td></tr><tr><td>17855</td><td>1</td><td>208.97</td><td>60</td></tr><tr><td>14047</td><td>2</td><td>296.22</td><td>24</td></tr><tr><td>13108</td><td>1</td><td>350.06</td><td>60</td></tr><tr><td>15601</td><td>3</td><td>1884.34</td><td>24</td></tr><tr><td>13418</td><td>5</td><td>1579.62</td><td>47</td></tr><tr><td>18041</td><td>5</td><td>1147.02</td><td>13</td></tr><tr><td>15070</td><td>1</td><td>106.2</td><td>60</td></tr><tr><td>15111</td><td>1</td><td>288.5</td><td>60</td></tr><tr><td>12748</td><td>39</td><td>4637.43</td><td>13</td></tr><tr><td>14060</td><td>4</td><td>1266.62</td><td>21</td></tr><tr><td>15738</td><td>2</td><td>646.15</td><td>14</td></tr><tr><td>17381</td><td>4</td><td>3815.72</td><td>21</td></tr><tr><td>17964</td><td>1</td><td>261.76</td><td>60</td></tr><tr><td>13491</td><td>3</td><td>321.89</td><td>20</td></tr><tr><td>17581</td><td>3</td><td>1235.73</td><td>17</td></tr><tr><td>13138</td><td>1</td><td>193.23</td><td>60</td></tr><tr><td>15574</td><td>3</td><td>590.15</td><td>46</td></tr><tr><td>17228</td><td>2</td><td>355.95</td><td>55</td></tr><tr><td>17412</td><td>2</td><td>447.76</td><td>46</td></tr><tr><td>15299</td><td>3</td><td>1835.01</td><td>60</td></tr><tr><td>13402</td><td>1</td><td>303.24</td><td>60</td></tr><tr><td>17757</td><td>5</td><td>711.3</td><td>22</td></tr><tr><td>16634</td><td>1</td><td>164.8</td><td>60</td></tr><tr><td>16150</td><td>1</td><td>393.42</td><td>60</td></tr><tr><td>14236</td><td>1</td><td>189.3</td><td>60</td></tr><tr><td>17135</td><td>1</td><td>215.58</td><td>59</td></tr><tr><td>12967</td><td>2</td><td>1660.9</td><td>46</td></tr><tr><td>17967</td><td>1</td><td>123.07</td><td>59</td></tr><tr><td>16891</td><td>1</td><td>225.51</td><td>59</td></tr><tr><td>14156</td><td>2</td><td>17096.92</td><td>17</td></tr><tr><td>12557</td><td>2</td><td>4037.12</td><td>20</td></tr><tr><td>12600</td><td>2</td><td>274.8</td><td>45</td></tr><tr><td>17787</td><td>2</td><td>1266.19</td><td>11</td></tr><tr><td>14723</td><td>3</td><td>471.0</td><td>46</td></tr><tr><td>12712</td><td>3</td><td>721.28</td><td>19</td></tr><tr><td>15373</td><td>2</td><td>537.1</td><td>47</td></tr><tr><td>12793</td><td>2</td><td>545.48</td><td>22</td></tr><tr><td>15465</td><td>3</td><td>1258.15</td><td>22</td></tr><tr><td>13838</td><td>1</td><td>235.16</td><td>57</td></tr><tr><td>18055</td><td>3</td><td>1700.72</td><td>46</td></tr><tr><td>14800</td><td>3</td><td>1747.34</td><td>22</td></tr><tr><td>15708</td><td>2</td><td>782.45</td><td>22</td></tr><tr><td>14810</td><td>2</td><td>326.99</td><td>22</td></tr><tr><td>13831</td><td>1</td><td>408.0</td><td>57</td></tr><tr><td>17796</td><td>2</td><td>377.1</td><td>22</td></tr><tr><td>17858</td><td>2</td><td>1550.25</td><td>47</td></tr><tr><td>15235</td><td>4</td><td>767.49</td><td>26</td></tr><tr><td>15889</td><td>1</td><td>297.92</td><td>57</td></tr><tr><td>16422</td><td>6</td><td>3241.97</td><td>13</td></tr><tr><td>12747</td><td>3</td><td>1009.31</td><td>11</td></tr><tr><td>15502</td><td>3</td><td>809.8</td><td>56</td></tr><tr><td>17965</td><td>3</td><td>595.47</td><td>19</td></tr><tr><td>13579</td><td>1</td><td>164.7</td><td>57</td></tr><tr><td>13174</td><td>1</td><td>1408.17</td><td>57</td></tr><tr><td>17677</td><td>4</td><td>1616.6</td><td>54</td></tr><tr><td>17428</td><td>4</td><td>1887.79</td><td>20</td></tr><tr><td>14293</td><td>1</td><td>364.92</td><td>56</td></tr><tr><td>12708</td><td>2</td><td>461.26</td><td>17</td></tr><tr><td>14443</td><td>1</td><td>303.5</td><td>56</td></tr><tr><td>17227</td><td>1</td><td>142.25</td><td>56</td></tr><tr><td>15301</td><td>1</td><td>673.37</td><td>56</td></tr><tr><td>14708</td><td>1</td><td>419.06</td><td>56</td></tr><tr><td>16898</td><td>1</td><td>105.58</td><td>56</td></tr><tr><td>15078</td><td>4</td><td>818.65</td><td>42</td></tr><tr><td>17259</td><td>1</td><td>381.64</td><td>56</td></tr><tr><td>16722</td><td>2</td><td>799.52</td><td>54</td></tr><tr><td>17682</td><td>1</td><td>391.5</td><td>56</td></tr><tr><td>16658</td><td>1</td><td>123.24</td><td>56</td></tr><tr><td>17191</td><td>3</td><td>510.11</td><td>56</td></tr><tr><td>16654</td><td>1</td><td>227.4</td><td>56</td></tr><tr><td>17812</td><td>1</td><td>217.55</td><td>56</td></tr><tr><td>14215</td><td>2</td><td>762.06</td><td>18</td></tr><tr><td>12913</td><td>1</td><td>417.62</td><td>56</td></tr><tr><td>17470</td><td>1</td><td>178.4</td><td>55</td></tr><tr><td>13756</td><td>3</td><td>1004.4</td><td>46</td></tr><tr><td>17491</td><td>2</td><td>570.52</td><td>13</td></tr><tr><td>14282</td><td>1</td><td>571.0</td><td>55</td></tr><tr><td>14135</td><td>7</td><td>1801.41</td><td>14</td></tr><tr><td>14673</td><td>1</td><td>373.49</td><td>55</td></tr><tr><td>15002</td><td>2</td><td>893.15</td><td>26</td></tr><tr><td>15180</td><td>1</td><td>87.5</td><td>55</td></tr><tr><td>12839</td><td>2</td><td>737.45</td><td>45</td></tr><tr><td>13807</td><td>1</td><td>112.6</td><td>55</td></tr><tr><td>18102</td><td>4</td><td>27834.61</td><td>53</td></tr><tr><td>16365</td><td>2</td><td>368.46</td><td>47</td></tr><tr><td>14821</td><td>1</td><td>48.8</td><td>54</td></tr><tr><td>16779</td><td>4</td><td>1334.78</td><td>19</td></tr><tr><td>15750</td><td>2</td><td>340.52</td><td>54</td></tr><tr><td>13983</td><td>3</td><td>659.94</td><td>14</td></tr><tr><td>13842</td><td>2</td><td>613.57</td><td>24</td></tr><tr><td>14901</td><td>3</td><td>497.05</td><td>48</td></tr><tr><td>17706</td><td>3</td><td>477.83</td><td>54</td></tr><tr><td>13126</td><td>3</td><td>547.31</td><td>26</td></tr><tr><td>15529</td><td>3</td><td>570.89</td><td>11</td></tr><tr><td>16016</td><td>1</td><td>382.27</td><td>54</td></tr><tr><td>16233</td><td>2</td><td>326.5</td><td>17</td></tr><tr><td>18061</td><td>1</td><td>405.16</td><td>54</td></tr><tr><td>15221</td><td>1</td><td>403.25</td><td>54</td></tr><tr><td>15298</td><td>3</td><td>868.04</td><td>12</td></tr><tr><td>15680</td><td>1</td><td>468.69</td><td>54</td></tr><tr><td>15498</td><td>4</td><td>2961.8</td><td>11</td></tr><tr><td>17894</td><td>4</td><td>515.85</td><td>40</td></tr><tr><td>13848</td><td>1</td><td>320.0</td><td>54</td></tr><tr><td>15347</td><td>1</td><td>201.6</td><td>54</td></tr><tr><td>14030</td><td>2</td><td>676.5</td><td>54</td></tr><tr><td>16011</td><td>2</td><td>406.1</td><td>50</td></tr><tr><td>14243</td><td>2</td><td>472.0</td><td>45</td></tr><tr><td>12963</td><td>1</td><td>365.8</td><td>53</td></tr><tr><td>15079</td><td>1</td><td>141.95</td><td>53</td></tr><tr><td>18092</td><td>4</td><td>3111.84</td><td>18</td></tr><tr><td>15358</td><td>3</td><td>1268.33</td><td>26</td></tr><tr><td>12621</td><td>2</td><td>1383.65</td><td>45</td></tr><tr><td>12797</td><td>1</td><td>254.03</td><td>53</td></tr><tr><td>16782</td><td>2</td><td>577.99</td><td>47</td></tr><tr><td>12429</td><td>1</td><td>1281.5</td><td>53</td></tr><tr><td>14987</td><td>1</td><td>163.2</td><td>53</td></tr><tr><td>17526</td><td>2</td><td>238.6</td><td>48</td></tr><tr><td>16520</td><td>1</td><td>325.76</td><td>53</td></tr><tr><td>15271</td><td>2</td><td>351.85</td><td>25</td></tr><tr><td>15288</td><td>1</td><td>165.65</td><td>53</td></tr><tr><td>16519</td><td>1</td><td>103.7</td><td>53</td></tr><tr><td>17950</td><td>2</td><td>263.17</td><td>53</td></tr><tr><td>17456</td><td>1</td><td>249.86</td><td>53</td></tr><tr><td>15811</td><td>2</td><td>438.8</td><td>45</td></tr><tr><td>13327</td><td>2</td><td>745.0</td><td>53</td></tr><tr><td>15596</td><td>2</td><td>757.67</td><td>14</td></tr><tr><td>16907</td><td>1</td><td>182.02</td><td>53</td></tr><tr><td>17576</td><td>4</td><td>440.82</td><td>13</td></tr><tr><td>17841</td><td>12</td><td>3968.06</td><td>12</td></tr><tr><td>14713</td><td>2</td><td>425.85</td><td>46</td></tr><tr><td>13230</td><td>1</td><td>93.45</td><td>53</td></tr><tr><td>12471</td><td>5</td><td>4627.81</td><td>18</td></tr><tr><td>16265</td><td>2</td><td>840.81</td><td>52</td></tr><tr><td>13000</td><td>1</td><td>201.75</td><td>52</td></tr><tr><td>16499</td><td>2</td><td>365.45</td><td>48</td></tr><tr><td>16656</td><td>2</td><td>739.04</td><td>27</td></tr><tr><td>14037</td><td>1</td><td>111.8</td><td>52</td></tr><tr><td>16019</td><td>2</td><td>723.35</td><td>24</td></tr><tr><td>18065</td><td>2</td><td>345.02</td><td>52</td></tr><tr><td>14952</td><td>1</td><td>686.16</td><td>52</td></tr><tr><td>15514</td><td>4</td><td>1884.71</td><td>48</td></tr><tr><td>17220</td><td>1</td><td>317.5</td><td>52</td></tr><tr><td>16873</td><td>1</td><td>2157.64</td><td>52</td></tr><tr><td>15570</td><td>4</td><td>1497.44</td><td>17</td></tr><tr><td>16393</td><td>2</td><td>291.55</td><td>50</td></tr><tr><td>16367</td><td>1</td><td>165.87</td><td>50</td></tr><tr><td>17085</td><td>2</td><td>738.34</td><td>42</td></tr><tr><td>13668</td><td>2</td><td>386.22</td><td>22</td></tr><tr><td>13715</td><td>4</td><td>929.1</td><td>26</td></tr><tr><td>17188</td><td>2</td><td>902.36</td><td>27</td></tr><tr><td>15547</td><td>1</td><td>767.37</td><td>50</td></tr><tr><td>15998</td><td>1</td><td>863.39</td><td>50</td></tr><tr><td>13959</td><td>1</td><td>214.74</td><td>50</td></tr><tr><td>17937</td><td>2</td><td>2153.88</td><td>49</td></tr><tr><td>13225</td><td>2</td><td>2470.44</td><td>26</td></tr><tr><td>15689</td><td>1</td><td>103.5</td><td>49</td></tr><tr><td>14290</td><td>1</td><td>777.56</td><td>49</td></tr><tr><td>13209</td><td>2</td><td>404.7</td><td>14</td></tr><tr><td>17990</td><td>2</td><td>316.0</td><td>41</td></tr><tr><td>14544</td><td>1</td><td>1121.92</td><td>49</td></tr><tr><td>14639</td><td>1</td><td>676.54</td><td>49</td></tr><tr><td>12476</td><td>1</td><td>12.45</td><td>49</td></tr><tr><td>13089</td><td>13</td><td>9605.39</td><td>14</td></tr><tr><td>14625</td><td>1</td><td>585.53</td><td>49</td></tr><tr><td>15808</td><td>3</td><td>2963.97</td><td>27</td></tr><tr><td>13211</td><td>1</td><td>110.7</td><td>49</td></tr><tr><td>13324</td><td>1</td><td>650.1</td><td>48</td></tr><tr><td>13050</td><td>4</td><td>1199.87</td><td>42</td></tr><tr><td>13948</td><td>1</td><td>102.0</td><td>48</td></tr><tr><td>16442</td><td>1</td><td>151.66</td><td>48</td></tr><tr><td>18075</td><td>1</td><td>198.95</td><td>48</td></tr><tr><td>14524</td><td>1</td><td>274.6</td><td>48</td></tr><tr><td>17975</td><td>3</td><td>1053.37</td><td>27</td></tr><tr><td>15356</td><td>2</td><td>361.34</td><td>48</td></tr><tr><td>14961</td><td>2</td><td>1182.7</td><td>48</td></tr><tr><td>17041</td><td>1</td><td>304.5</td><td>48</td></tr><tr><td>17158</td><td>1</td><td>413.79</td><td>48</td></tr><tr><td>16899</td><td>1</td><td>170.55</td><td>48</td></tr><tr><td>13238</td><td>1</td><td>91.15</td><td>48</td></tr><tr><td>12829</td><td>2</td><td>293.0</td><td>24</td></tr><tr><td>13846</td><td>1</td><td>411.4</td><td>48</td></tr><tr><td>17454</td><td>1</td><td>165.85</td><td>47</td></tr><tr><td>18168</td><td>2</td><td>449.94</td><td>47</td></tr><tr><td>13458</td><td>2</td><td>2675.04</td><td>25</td></tr><tr><td>16638</td><td>3</td><td>213.62</td><td>17</td></tr><tr><td>14201</td><td>1</td><td>67.24</td><td>47</td></tr><tr><td>17551</td><td>1</td><td>296.64</td><td>47</td></tr><tr><td>14913</td><td>1</td><td>270.87</td><td>47</td></tr><tr><td>15641</td><td>1</td><td>291.57</td><td>47</td></tr><tr><td>12577</td><td>1</td><td>194.59</td><td>47</td></tr><tr><td>16607</td><td>2</td><td>654.82</td><td>45</td></tr><tr><td>13021</td><td>1</td><td>157.35</td><td>46</td></tr><tr><td>16029</td><td>10</td><td>14820.15</td><td>11</td></tr><tr><td>16470</td><td>1</td><td>216.34</td><td>46</td></tr><tr><td>14878</td><td>1</td><td>322.01</td><td>46</td></tr><tr><td>14621</td><td>1</td><td>305.7</td><td>46</td></tr><tr><td>15194</td><td>4</td><td>1890.54</td><td>24</td></tr><tr><td>18116</td><td>3</td><td>661.82</td><td>39</td></tr><tr><td>15789</td><td>1</td><td>321.3</td><td>46</td></tr><tr><td>15224</td><td>2</td><td>322.08</td><td>46</td></tr><tr><td>13534</td><td>3</td><td>471.2</td><td>24</td></tr><tr><td>15759</td><td>1</td><td>92.2</td><td>46</td></tr><tr><td>14735</td><td>4</td><td>906.4</td><td>11</td></tr><tr><td>15532</td><td>1</td><td>350.45</td><td>46</td></tr><tr><td>16684</td><td>4</td><td>3113.4</td><td>42</td></tr><tr><td>13854</td><td>3</td><td>955.29</td><td>17</td></tr><tr><td>13627</td><td>1</td><td>311.19</td><td>45</td></tr><tr><td>12551</td><td>1</td><td>168.0</td><td>45</td></tr><tr><td>12720</td><td>2</td><td>657.13</td><td>45</td></tr><tr><td>16353</td><td>6</td><td>1057.6</td><td>19</td></tr><tr><td>16931</td><td>2</td><td>364.66</td><td>45</td></tr><tr><td>17007</td><td>2</td><td>207.12</td><td>45</td></tr><tr><td>13869</td><td>1</td><td>323.62</td><td>45</td></tr><tr><td>17865</td><td>2</td><td>1067.23</td><td>45</td></tr><tr><td>18077</td><td>2</td><td>396.33</td><td>43</td></tr><tr><td>17358</td><td>1</td><td>233.32</td><td>43</td></tr><tr><td>15640</td><td>4</td><td>3369.13</td><td>20</td></tr><tr><td>15312</td><td>1</td><td>289.74</td><td>42</td></tr><tr><td>14062</td><td>4</td><td>3096.39</td><td>11</td></tr><tr><td>12681</td><td>5</td><td>4654.91</td><td>12</td></tr><tr><td>17230</td><td>6</td><td>2760.01</td><td>42</td></tr><tr><td>14737</td><td>1</td><td>434.0</td><td>41</td></tr><tr><td>13029</td><td>1</td><td>382.5</td><td>41</td></tr><tr><td>14646</td><td>5</td><td>26698.18</td><td>11</td></tr><tr><td>12515</td><td>1</td><td>383.7</td><td>41</td></tr><tr><td>14533</td><td>1</td><td>433.5</td><td>40</td></tr><tr><td>16477</td><td>2</td><td>544.4</td><td>40</td></tr><tr><td>15587</td><td>1</td><td>344.88</td><td>39</td></tr><tr><td>13922</td><td>1</td><td>172.25</td><td>39</td></tr><tr><td>13094</td><td>3</td><td>376.32</td><td>25</td></tr><tr><td>16255</td><td>2</td><td>665.4</td><td>27</td></tr><tr><td>13963</td><td>2</td><td>358.31</td><td>27</td></tr><tr><td>12957</td><td>1</td><td>366.88</td><td>27</td></tr><tr><td>14462</td><td>1</td><td>109.3</td><td>27</td></tr><tr><td>12483</td><td>1</td><td>547.56</td><td>27</td></tr><tr><td>13253</td><td>1</td><td>476.48</td><td>27</td></tr><tr><td>17585</td><td>1</td><td>387.81</td><td>26</td></tr><tr><td>15046</td><td>2</td><td>710.8</td><td>15</td></tr><tr><td>18226</td><td>1</td><td>408.9</td><td>25</td></tr><tr><td>12415</td><td>2</td><td>7092.98</td><td>21</td></tr><tr><td>17368</td><td>2</td><td>551.2</td><td>18</td></tr><tr><td>14618</td><td>1</td><td>211.8</td><td>25</td></tr><tr><td>14258</td><td>1</td><td>3120.22</td><td>25</td></tr><tr><td>13368</td><td>1</td><td>35.4</td><td>25</td></tr><tr><td>16676</td><td>1</td><td>464.82</td><td>25</td></tr><tr><td>12841</td><td>4</td><td>886.28</td><td>12</td></tr><tr><td>13764</td><td>1</td><td>495.34</td><td>25</td></tr><tr><td>12413</td><td>1</td><td>479.25</td><td>25</td></tr><tr><td>16306</td><td>2</td><td>243.25</td><td>25</td></tr><tr><td>16567</td><td>1</td><td>557.56</td><td>24</td></tr><tr><td>12947</td><td>2</td><td>595.2</td><td>24</td></tr><tr><td>14828</td><td>1</td><td>582.0</td><td>24</td></tr><tr><td>13750</td><td>1</td><td>325.44</td><td>24</td></tr><tr><td>14672</td><td>1</td><td>285.28</td><td>24</td></tr><tr><td>13593</td><td>1</td><td>559.85</td><td>24</td></tr><tr><td>14867</td><td>1</td><td>300.74</td><td>24</td></tr><tr><td>13162</td><td>1</td><td>676.46</td><td>22</td></tr><tr><td>13183</td><td>1</td><td>625.04</td><td>22</td></tr><tr><td>12939</td><td>1</td><td>1933.2</td><td>22</td></tr><tr><td>15611</td><td>1</td><td>104.25</td><td>22</td></tr><tr><td>17114</td><td>1</td><td>142.24</td><td>22</td></tr><tr><td>16326</td><td>1</td><td>267.2</td><td>22</td></tr><tr><td>17128</td><td>1</td><td>136.69</td><td>22</td></tr><tr><td>12651</td><td>1</td><td>114.0</td><td>22</td></tr><tr><td>16735</td><td>1</td><td>660.36</td><td>22</td></tr><tr><td>13565</td><td>1</td><td>108.23</td><td>22</td></tr><tr><td>15799</td><td>1</td><td>320.22</td><td>22</td></tr><tr><td>13451</td><td>1</td><td>401.49</td><td>22</td></tr><tr><td>12539</td><td>1</td><td>1715.85</td><td>21</td></tr><tr><td>16350</td><td>1</td><td>368.3</td><td>21</td></tr><tr><td>12500</td><td>1</td><td>344.94</td><td>21</td></tr><tr><td>18171</td><td>1</td><td>240.45</td><td>21</td></tr><tr><td>12524</td><td>1</td><td>337.39</td><td>21</td></tr><tr><td>14229</td><td>1</td><td>456.97</td><td>21</td></tr><tr><td>15281</td><td>1</td><td>780.42</td><td>21</td></tr><tr><td>15867</td><td>4</td><td>794.41</td><td>21</td></tr><tr><td>12736</td><td>1</td><td>234.0</td><td>20</td></tr><tr><td>12643</td><td>1</td><td>871.2</td><td>20</td></tr><tr><td>16034</td><td>1</td><td>153.6</td><td>20</td></tr><tr><td>12540</td><td>2</td><td>2013.07</td><td>20</td></tr><tr><td>15518</td><td>2</td><td>388.76</td><td>20</td></tr><tr><td>14209</td><td>1</td><td>347.95</td><td>20</td></tr><tr><td>15569</td><td>1</td><td>288.5</td><td>20</td></tr><tr><td>17569</td><td>1</td><td>344.14</td><td>20</td></tr><tr><td>16791</td><td>1</td><td>255.38</td><td>20</td></tr><tr><td>12971</td><td>9</td><td>830.07</td><td>19</td></tr><tr><td>16655</td><td>1</td><td>812.25</td><td>19</td></tr><tr><td>16359</td><td>1</td><td>92.4</td><td>19</td></tr><tr><td>15953</td><td>2</td><td>412.19</td><td>19</td></tr><tr><td>17324</td><td>2</td><td>702.23</td><td>19</td></tr><tr><td>16554</td><td>1</td><td>0.85</td><td>19</td></tr><tr><td>13284</td><td>1</td><td>201.19</td><td>18</td></tr><tr><td>12951</td><td>1</td><td>183.65</td><td>18</td></tr><tr><td>15447</td><td>1</td><td>155.17</td><td>18</td></tr><tr><td>15694</td><td>4</td><td>1231.62</td><td>18</td></tr><tr><td>14085</td><td>5</td><td>1743.69</td><td>11</td></tr><tr><td>16503</td><td>2</td><td>841.79</td><td>18</td></tr><tr><td>17744</td><td>2</td><td>706.44</td><td>18</td></tr><tr><td>15687</td><td>1</td><td>353.5</td><td>18</td></tr><tr><td>12578</td><td>1</td><td>1608.66</td><td>18</td></tr><tr><td>15615</td><td>4</td><td>1724.79</td><td>17</td></tr><tr><td>12553</td><td>1</td><td>690.11</td><td>17</td></tr><tr><td>14329</td><td>1</td><td>1547.58</td><td>17</td></tr><tr><td>16206</td><td>1</td><td>161.3</td><td>15</td></tr><tr><td>14404</td><td>2</td><td>415.43</td><td>15</td></tr><tr><td>16843</td><td>1</td><td>759.06</td><td>15</td></tr><tr><td>17609</td><td>1</td><td>426.74</td><td>15</td></tr><tr><td>12626</td><td>1</td><td>1096.0</td><td>14</td></tr><tr><td>14976</td><td>1</td><td>155.95</td><td>14</td></tr><tr><td>15696</td><td>1</td><td>493.45</td><td>14</td></tr><tr><td>15316</td><td>1</td><td>165.0</td><td>14</td></tr><tr><td>14238</td><td>1</td><td>146.85</td><td>14</td></tr><tr><td>18179</td><td>2</td><td>622.9</td><td>14</td></tr><tr><td>13199</td><td>5</td><td>1140.2</td><td>14</td></tr><tr><td>18212</td><td>1</td><td>248.42</td><td>14</td></tr><tr><td>16948</td><td>1</td><td>69.6</td><td>13</td></tr><tr><td>12527</td><td>1</td><td>132.52</td><td>13</td></tr><tr><td>12510</td><td>1</td><td>681.05</td><td>13</td></tr><tr><td>14415</td><td>2</td><td>1110.78</td><td>13</td></tr><tr><td>13263</td><td>1</td><td>141.66</td><td>13</td></tr><tr><td>12451</td><td>1</td><td>2901.03</td><td>12</td></tr><tr><td>17708</td><td>1</td><td>110.6</td><td>12</td></tr><tr><td>13310</td><td>1</td><td>410.18</td><td>12</td></tr><tr><td>14572</td><td>1</td><td>315.23</td><td>12</td></tr><tr><td>13502</td><td>1</td><td>114.6</td><td>11</td></tr><tr><td>16395</td><td>2</td><td>441.71</td><td>11</td></tr><tr><td>17418</td><td>1</td><td>167.39</td><td>11</td></tr><tr><td>15262</td><td>1</td><td>178.95</td><td>11</td></tr><tr><td>17771</td><td>1</td><td>115.8</td><td>11</td></tr><tr><td>14688</td><td>2</td><td>727.4</td><td>13</td></tr><tr><td>16098</td><td>1</td><td>430.6</td><td>61</td></tr><tr><td>17420</td><td>1</td><td>130.85</td><td>61</td></tr><tr><td>13747</td><td>1</td><td>79.6</td><td>61</td></tr><tr><td>17924</td><td>1</td><td>279.0</td><td>61</td></tr><tr><td>17920</td><td>2</td><td>735.91</td><td>56</td></tr><tr><td>17181</td><td>1</td><td>155.52</td><td>61</td></tr><tr><td>15012</td><td>1</td><td>191.06</td><td>61</td></tr><tr><td>17572</td><td>1</td><td>53.1</td><td>61</td></tr><tr><td>12662</td><td>1</td><td>261.48</td><td>61</td></tr><tr><td>15922</td><td>1</td><td>369.5</td><td>61</td></tr><tr><td>17873</td><td>1</td><td>153.95</td><td>61</td></tr><tr><td>16928</td><td>1</td><td>116.25</td><td>61</td></tr><tr><td>14696</td><td>2</td><td>588.25</td><td>13</td></tr><tr><td>17690</td><td>5</td><td>1574.95</td><td>14</td></tr><tr><td>18229</td><td>3</td><td>953.1</td><td>17</td></tr><tr><td>14142</td><td>1</td><td>311.81</td><td>61</td></tr><tr><td>17069</td><td>2</td><td>583.2</td><td>42</td></tr><tr><td>13576</td><td>2</td><td>972.83</td><td>25</td></tr><tr><td>13090</td><td>4</td><td>1311.16</td><td>17</td></tr><tr><td>17732</td><td>1</td><td>303.97</td><td>60</td></tr><tr><td>13941</td><td>1</td><td>1044.12</td><td>60</td></tr><tr><td>17017</td><td>5</td><td>2357.64</td><td>48</td></tr><tr><td>14388</td><td>1</td><td>312.8</td><td>60</td></tr><tr><td>16546</td><td>1</td><td>299.4</td><td>60</td></tr><tr><td>17287</td><td>2</td><td>222.7</td><td>55</td></tr><tr><td>15363</td><td>1</td><td>326.0</td><td>60</td></tr><tr><td>15544</td><td>1</td><td>354.54</td><td>60</td></tr><tr><td>15827</td><td>2</td><td>190.93</td><td>60</td></tr><tr><td>17235</td><td>1</td><td>341.9</td><td>60</td></tr><tr><td>16510</td><td>1</td><td>248.1</td><td>60</td></tr><tr><td>17802</td><td>1</td><td>100.2</td><td>60</td></tr><tr><td>17976</td><td>1</td><td>353.19</td><td>60</td></tr><tr><td>17685</td><td>3</td><td>824.52</td><td>17</td></tr><tr><td>15823</td><td>1</td><td>15.0</td><td>60</td></tr><tr><td>14829</td><td>2</td><td>385.33</td><td>48</td></tr><tr><td>16754</td><td>1</td><td>2002.4</td><td>60</td></tr><tr><td>13145</td><td>1</td><td>295.0</td><td>60</td></tr><tr><td>14865</td><td>1</td><td>37.2</td><td>60</td></tr><tr><td>12738</td><td>1</td><td>155.35</td><td>60</td></tr><tr><td>17396</td><td>1</td><td>397.5</td><td>59</td></tr><tr><td>16926</td><td>1</td><td>230.25</td><td>59</td></tr><tr><td>17198</td><td>2</td><td>516.62</td><td>53</td></tr><tr><td>12395</td><td>2</td><td>679.92</td><td>45</td></tr><tr><td>15545</td><td>1</td><td>135.33</td><td>59</td></tr><tr><td>17243</td><td>4</td><td>1123.85</td><td>22</td></tr><tr><td>14813</td><td>2</td><td>155.43</td><td>57</td></tr><tr><td>15716</td><td>1</td><td>547.1</td><td>57</td></tr><tr><td>18156</td><td>1</td><td>206.23</td><td>57</td></tr><tr><td>16983</td><td>1</td><td>163.49</td><td>57</td></tr><tr><td>16718</td><td>1</td><td>623.75</td><td>57</td></tr><tr><td>17863</td><td>1</td><td>384.72</td><td>57</td></tr><tr><td>16402</td><td>1</td><td>205.05</td><td>57</td></tr><tr><td>12472</td><td>1</td><td>1621.1</td><td>57</td></tr><tr><td>15555</td><td>3</td><td>964.32</td><td>49</td></tr><tr><td>15987</td><td>1</td><td>113.48</td><td>56</td></tr><tr><td>18219</td><td>2</td><td>390.06</td><td>48</td></tr><tr><td>15899</td><td>1</td><td>46.35</td><td>56</td></tr><tr><td>15860</td><td>1</td><td>102.66</td><td>56</td></tr><tr><td>14189</td><td>2</td><td>676.04</td><td>26</td></tr><tr><td>17596</td><td>1</td><td>389.32</td><td>56</td></tr><tr><td>14487</td><td>1</td><td>125.1</td><td>56</td></tr><tr><td>17223</td><td>1</td><td>291.19</td><td>56</td></tr><tr><td>13495</td><td>2</td><td>865.43</td><td>47</td></tr><tr><td>17320</td><td>1</td><td>450.92</td><td>56</td></tr><tr><td>17616</td><td>1</td><td>326.4</td><td>55</td></tr><tr><td>17720</td><td>1</td><td>102.0</td><td>55</td></tr><tr><td>15018</td><td>1</td><td>111.25</td><td>55</td></tr><tr><td>13569</td><td>1</td><td>113.37</td><td>55</td></tr><tr><td>16221</td><td>1</td><td>166.74</td><td>55</td></tr><tr><td>15965</td><td>1</td><td>156.19</td><td>55</td></tr><tr><td>13769</td><td>2</td><td>626.32</td><td>14</td></tr><tr><td>13786</td><td>1</td><td>230.4</td><td>55</td></tr><tr><td>13880</td><td>1</td><td>97.8</td><td>55</td></tr><tr><td>13173</td><td>1</td><td>165.94</td><td>55</td></tr><tr><td>15858</td><td>1</td><td>383.93</td><td>55</td></tr><tr><td>17591</td><td>1</td><td>406.6</td><td>55</td></tr><tr><td>16125</td><td>1</td><td>289.35</td><td>55</td></tr><tr><td>13078</td><td>3</td><td>1236.96</td><td>20</td></tr><tr><td>13267</td><td>3</td><td>895.72</td><td>19</td></tr><tr><td>15628</td><td>1</td><td>319.18</td><td>54</td></tr><tr><td>13329</td><td>1</td><td>304.2</td><td>54</td></tr><tr><td>14744</td><td>1</td><td>225.0</td><td>54</td></tr><tr><td>14032</td><td>2</td><td>619.42</td><td>43</td></tr><tr><td>16558</td><td>2</td><td>880.55</td><td>45</td></tr><tr><td>16893</td><td>1</td><td>145.93</td><td>54</td></tr><tr><td>17722</td><td>2</td><td>1743.58</td><td>12</td></tr><tr><td>17341</td><td>1</td><td>508.56</td><td>54</td></tr><tr><td>16385</td><td>1</td><td>148.23</td><td>54</td></tr><tr><td>17213</td><td>2</td><td>615.85</td><td>41</td></tr><tr><td>13455</td><td>1</td><td>679.44</td><td>54</td></tr><tr><td>18259</td><td>1</td><td>376.3</td><td>54</td></tr><tr><td>18269</td><td>1</td><td>168.6</td><td>54</td></tr><tr><td>13077</td><td>1</td><td>313.72</td><td>54</td></tr><tr><td>13140</td><td>1</td><td>159.51</td><td>54</td></tr><tr><td>17999</td><td>1</td><td>187.39</td><td>54</td></tr><tr><td>14766</td><td>1</td><td>180.4</td><td>54</td></tr><tr><td>15660</td><td>1</td><td>209.3</td><td>53</td></tr><tr><td>18071</td><td>1</td><td>258.95</td><td>53</td></tr><tr><td>14355</td><td>1</td><td>174.4</td><td>53</td></tr><tr><td>14896</td><td>1</td><td>203.92</td><td>53</td></tr><tr><td>14440</td><td>1</td><td>656.7</td><td>53</td></tr><tr><td>13240</td><td>1</td><td>224.07</td><td>53</td></tr><tr><td>16065</td><td>1</td><td>372.09</td><td>53</td></tr><tr><td>15945</td><td>1</td><td>181.0</td><td>53</td></tr><tr><td>16795</td><td>1</td><td>414.88</td><td>53</td></tr><tr><td>17646</td><td>1</td><td>251.0</td><td>53</td></tr><tr><td>15211</td><td>1</td><td>383.07</td><td>53</td></tr><tr><td>17827</td><td>3</td><td>1266.76</td><td>52</td></tr><tr><td>14082</td><td>1</td><td>182.25</td><td>52</td></tr><tr><td>14256</td><td>1</td><td>523.86</td><td>52</td></tr><tr><td>12785</td><td>1</td><td>311.95</td><td>52</td></tr><tr><td>16727</td><td>1</td><td>272.82</td><td>52</td></tr><tr><td>13787</td><td>1</td><td>106.4</td><td>52</td></tr><tr><td>17126</td><td>1</td><td>212.6</td><td>50</td></tr><tr><td>17917</td><td>1</td><td>110.91</td><td>50</td></tr><tr><td>14684</td><td>1</td><td>168.36</td><td>50</td></tr><tr><td>16665</td><td>1</td><td>135.4</td><td>50</td></tr><tr><td>14608</td><td>1</td><td>204.0</td><td>50</td></tr><tr><td>17618</td><td>1</td><td>307.53</td><td>50</td></tr><tr><td>14505</td><td>2</td><td>1348.36</td><td>25</td></tr><tr><td>13198</td><td>1</td><td>384.55</td><td>49</td></tr><tr><td>15361</td><td>1</td><td>418.92</td><td>49</td></tr><tr><td>14498</td><td>1</td><td>166.22</td><td>49</td></tr><tr><td>16726</td><td>1</td><td>129.57</td><td>49</td></tr><tr><td>17179</td><td>1</td><td>243.0</td><td>49</td></tr><tr><td>17371</td><td>1</td><td>97.63</td><td>49</td></tr><tr><td>17969</td><td>1</td><td>125.2</td><td>49</td></tr><tr><td>16202</td><td>1</td><td>365.27</td><td>48</td></tr><tr><td>14057</td><td>2</td><td>915.84</td><td>48</td></tr><tr><td>14871</td><td>1</td><td>140.4</td><td>48</td></tr><tr><td>16191</td><td>4</td><td>1475.22</td><td>24</td></tr><tr><td>17404</td><td>2</td><td>3715.5</td><td>45</td></tr><tr><td>16805</td><td>1</td><td>204.87</td><td>48</td></tr><tr><td>13097</td><td>2</td><td>1053.51</td><td>25</td></tr><tr><td>15392</td><td>1</td><td>338.98</td><td>48</td></tr><tr><td>14401</td><td>1</td><td>238.98</td><td>47</td></tr><tr><td>16145</td><td>2</td><td>658.64</td><td>26</td></tr><tr><td>17629</td><td>1</td><td>238.65</td><td>47</td></tr><tr><td>14150</td><td>1</td><td>306.18</td><td>47</td></tr><tr><td>13496</td><td>1</td><td>488.26</td><td>47</td></tr><tr><td>13611</td><td>1</td><td>303.15</td><td>47</td></tr><tr><td>17449</td><td>1</td><td>684.26</td><td>47</td></tr><tr><td>15512</td><td>1</td><td>85.9</td><td>47</td></tr><tr><td>17525</td><td>1</td><td>422.7</td><td>47</td></tr><tr><td>13124</td><td>1</td><td>1247.47</td><td>47</td></tr><tr><td>17980</td><td>1</td><td>295.2</td><td>47</td></tr><tr><td>17189</td><td>1</td><td>227.22</td><td>47</td></tr><tr><td>17001</td><td>1</td><td>397.96</td><td>46</td></tr><tr><td>16985</td><td>1</td><td>933.32</td><td>46</td></tr><tr><td>12877</td><td>2</td><td>250.26</td><td>17</td></tr><tr><td>17288</td><td>2</td><td>237.12</td><td>14</td></tr><tr><td>15157</td><td>1</td><td>1025.46</td><td>46</td></tr><tr><td>15620</td><td>1</td><td>424.49</td><td>46</td></tr><tr><td>17580</td><td>1</td><td>46.85</td><td>46</td></tr><tr><td>14373</td><td>1</td><td>76.55</td><td>46</td></tr><tr><td>14092</td><td>2</td><td>601.73</td><td>40</td></tr><tr><td>16271</td><td>1</td><td>133.22</td><td>46</td></tr><tr><td>18223</td><td>2</td><td>1137.49</td><td>14</td></tr><tr><td>16945</td><td>1</td><td>279.85</td><td>46</td></tr><tr><td>15197</td><td>1</td><td>556.5</td><td>46</td></tr><tr><td>14220</td><td>1</td><td>312.98</td><td>46</td></tr><tr><td>14560</td><td>1</td><td>408.17</td><td>45</td></tr><tr><td>15204</td><td>1</td><td>316.58</td><td>45</td></tr><tr><td>14016</td><td>1</td><td>733.34</td><td>45</td></tr><tr><td>13033</td><td>1</td><td>190.55</td><td>45</td></tr><tr><td>12691</td><td>1</td><td>180.0</td><td>45</td></tr><tr><td>14146</td><td>1</td><td>1241.43</td><td>45</td></tr><tr><td>14472</td><td>2</td><td>614.14</td><td>22</td></tr><tr><td>18245</td><td>1</td><td>355.65</td><td>43</td></tr><tr><td>17343</td><td>1</td><td>193.64</td><td>43</td></tr><tr><td>12377</td><td>1</td><td>996.48</td><td>42</td></tr><tr><td>12944</td><td>1</td><td>286.95</td><td>42</td></tr><tr><td>14099</td><td>2</td><td>607.94</td><td>17</td></tr><tr><td>14113</td><td>1</td><td>433.5</td><td>42</td></tr><tr><td>15460</td><td>1</td><td>216.76</td><td>42</td></tr><tr><td>15034</td><td>2</td><td>1426.35</td><td>26</td></tr><tr><td>15208</td><td>1</td><td>65.4</td><td>41</td></tr><tr><td>16996</td><td>2</td><td>127.54</td><td>41</td></tr><tr><td>16270</td><td>1</td><td>1123.54</td><td>41</td></tr><tr><td>13953</td><td>1</td><td>500.0</td><td>40</td></tr><tr><td>13817</td><td>1</td><td>128.7</td><td>39</td></tr><tr><td>13304</td><td>1</td><td>300.42</td><td>39</td></tr><tr><td>13313</td><td>1</td><td>307.3</td><td>27</td></tr><tr><td>16875</td><td>1</td><td>368.8</td><td>27</td></tr><tr><td>15164</td><td>1</td><td>173.39</td><td>27</td></tr><tr><td>14732</td><td>1</td><td>203.1</td><td>27</td></tr><tr><td>14221</td><td>1</td><td>312.95</td><td>27</td></tr><tr><td>15841</td><td>1</td><td>331.6</td><td>26</td></tr><tr><td>15266</td><td>1</td><td>119.3</td><td>26</td></tr><tr><td>16771</td><td>1</td><td>275.96</td><td>26</td></tr><tr><td>13082</td><td>1</td><td>379.44</td><td>26</td></tr><tr><td>18062</td><td>1</td><td>169.8</td><td>25</td></tr><tr><td>12735</td><td>1</td><td>319.77</td><td>25</td></tr><tr><td>13656</td><td>1</td><td>162.7</td><td>25</td></tr><tr><td>15845</td><td>1</td><td>303.36</td><td>25</td></tr><tr><td>12530</td><td>1</td><td>387.4</td><td>24</td></tr><tr><td>18198</td><td>1</td><td>300.54</td><td>24</td></tr><tr><td>17284</td><td>1</td><td>716.11</td><td>24</td></tr><tr><td>13233</td><td>1</td><td>244.24</td><td>24</td></tr><tr><td>14889</td><td>1</td><td>135.9</td><td>24</td></tr><tr><td>14794</td><td>1</td><td>179.1</td><td>22</td></tr><tr><td>13107</td><td>1</td><td>556.76</td><td>21</td></tr><tr><td>16497</td><td>1</td><td>279.3</td><td>21</td></tr><tr><td>16303</td><td>1</td><td>827.18</td><td>21</td></tr><tr><td>14320</td><td>1</td><td>352.51</td><td>20</td></tr><tr><td>17742</td><td>1</td><td>302.57</td><td>20</td></tr><tr><td>13144</td><td>1</td><td>110.95</td><td>20</td></tr><tr><td>17365</td><td>2</td><td>742.66</td><td>20</td></tr><tr><td>15749</td><td>2</td><td>22998.4</td><td>20</td></tr><tr><td>13784</td><td>1</td><td>113.64</td><td>20</td></tr><tr><td>13862</td><td>1</td><td>425.1</td><td>20</td></tr><tr><td>14587</td><td>1</td><td>218.9</td><td>19</td></tr><tr><td>14514</td><td>1</td><td>255.25</td><td>19</td></tr><tr><td>15171</td><td>1</td><td>1289.5</td><td>19</td></tr><tr><td>16500</td><td>1</td><td>165.0</td><td>18</td></tr><tr><td>14114</td><td>1</td><td>195.13</td><td>18</td></tr><tr><td>14978</td><td>1</td><td>310.26</td><td>18</td></tr><tr><td>13614</td><td>1</td><td>205.75</td><td>18</td></tr><tr><td>16493</td><td>1</td><td>127.8</td><td>17</td></tr><tr><td>15213</td><td>1</td><td>313.2</td><td>17</td></tr><tr><td>18106</td><td>1</td><td>430.7</td><td>17</td></tr><tr><td>12924</td><td>1</td><td>58.19</td><td>15</td></tr><tr><td>13700</td><td>2</td><td>140.47</td><td>15</td></tr><tr><td>13064</td><td>1</td><td>188.45</td><td>15</td></tr><tr><td>13634</td><td>1</td><td>362.0</td><td>15</td></tr><tr><td>18069</td><td>1</td><td>295.56</td><td>15</td></tr><tr><td>13527</td><td>1</td><td>110.45</td><td>14</td></tr><tr><td>12673</td><td>1</td><td>200.5</td><td>14</td></tr><tr><td>15296</td><td>1</td><td>1199.33</td><td>14</td></tr><tr><td>14101</td><td>1</td><td>751.6</td><td>14</td></tr><tr><td>14242</td><td>1</td><td>138.35</td><td>13</td></tr><tr><td>16997</td><td>1</td><td>390.0</td><td>13</td></tr><tr><td>14428</td><td>1</td><td>203.55</td><td>13</td></tr><tr><td>14090</td><td>1</td><td>76.32</td><td>12</td></tr><tr><td>14770</td><td>1</td><td>278.6</td><td>11</td></tr><tr><td>17850</td><td>34</td><td>5391.21</td><td>60</td></tr><tr><td>15100</td><td>3</td><td>876.0</td><td>21</td></tr><tr><td>15291</td><td>4</td><td>1372.19</td><td>13</td></tr><tr><td>17809</td><td>3</td><td>1251.5</td><td>59</td></tr><tr><td>17511</td><td>4</td><td>10573.22</td><td>26</td></tr><tr><td>15862</td><td>1</td><td>354.23</td><td>61</td></tr><tr><td>12791</td><td>1</td><td>192.6</td><td>61</td></tr><tr><td>16218</td><td>1</td><td>471.3</td><td>61</td></tr><tr><td>14045</td><td>3</td><td>1251.75</td><td>25</td></tr><tr><td>14307</td><td>2</td><td>1270.56</td><td>12</td></tr><tr><td>13255</td><td>1</td><td>225.7</td><td>61</td></tr><tr><td>16583</td><td>1</td><td>233.45</td><td>61</td></tr><tr><td>15983</td><td>3</td><td>1148.27</td><td>48</td></tr><tr><td>14849</td><td>5</td><td>566.89</td><td>46</td></tr><tr><td>17968</td><td>1</td><td>277.35</td><td>61</td></tr><tr><td>16210</td><td>4</td><td>7000.64</td><td>46</td></tr><tr><td>17951</td><td>2</td><td>409.5</td><td>46</td></tr><tr><td>14237</td><td>1</td><td>161.0</td><td>61</td></tr><tr><td>17905</td><td>2</td><td>394.15</td><td>40</td></tr><tr><td>15605</td><td>1</td><td>194.85</td><td>61</td></tr><tr><td>14594</td><td>1</td><td>255.0</td><td>61</td></tr><tr><td>16456</td><td>1</td><td>787.4</td><td>61</td></tr><tr><td>12921</td><td>3</td><td>1169.5</td><td>26</td></tr><tr><td>13468</td><td>5</td><td>1011.15</td><td>20</td></tr><tr><td>16048</td><td>2</td><td>256.44</td><td>61</td></tr><tr><td>13065</td><td>1</td><td>205.86</td><td>61</td></tr><tr><td>16835</td><td>1</td><td>81.75</td><td>61</td></tr><tr><td>15955</td><td>1</td><td>572.38</td><td>60</td></tr><tr><td>14390</td><td>1</td><td>223.7</td><td>60</td></tr><tr><td>15260</td><td>2</td><td>420.5</td><td>60</td></tr><tr><td>14491</td><td>1</td><td>127.2</td><td>60</td></tr><tr><td>14180</td><td>6</td><td>1378.2</td><td>12</td></tr><tr><td>13117</td><td>2</td><td>388.15</td><td>53</td></tr><tr><td>14466</td><td>1</td><td>379.75</td><td>60</td></tr><tr><td>14449</td><td>1</td><td>202.44</td><td>60</td></tr><tr><td>16781</td><td>1</td><td>311.25</td><td>60</td></tr><tr><td>17567</td><td>1</td><td>517.95</td><td>60</td></tr><tr><td>15061</td><td>16</td><td>22051.45</td><td>13</td></tr><tr><td>14031</td><td>5</td><td>3994.46</td><td>12</td></tr><tr><td>14775</td><td>1</td><td>406.56</td><td>60</td></tr><tr><td>13011</td><td>1</td><td>50.55</td><td>60</td></tr><tr><td>18239</td><td>1</td><td>438.1</td><td>60</td></tr><tr><td>15093</td><td>2</td><td>1783.53</td><td>26</td></tr><tr><td>17552</td><td>2</td><td>298.52</td><td>60</td></tr><tr><td>14573</td><td>1</td><td>413.1</td><td>60</td></tr><tr><td>12686</td><td>1</td><td>89.14</td><td>59</td></tr><tr><td>13520</td><td>2</td><td>988.52</td><td>12</td></tr><tr><td>16905</td><td>1</td><td>254.4</td><td>59</td></tr><tr><td>12427</td><td>1</td><td>303.5</td><td>59</td></tr><tr><td>17884</td><td>2</td><td>324.62</td><td>56</td></tr><tr><td>13013</td><td>2</td><td>1508.54</td><td>59</td></tr><tr><td>12779</td><td>2</td><td>861.38</td><td>14</td></tr><tr><td>17819</td><td>2</td><td>980.12</td><td>50</td></tr><tr><td>17238</td><td>2</td><td>370.09</td><td>59</td></tr><tr><td>16725</td><td>4</td><td>431.6</td><td>27</td></tr><tr><td>13081</td><td>3</td><td>5889.38</td><td>25</td></tr><tr><td>16033</td><td>4</td><td>1045.49</td><td>14</td></tr><tr><td>15038</td><td>1</td><td>126.43</td><td>57</td></tr><tr><td>18109</td><td>5</td><td>1025.34</td><td>13</td></tr><tr><td>13069</td><td>5</td><td>985.06</td><td>22</td></tr><tr><td>16839</td><td>3</td><td>1226.91</td><td>17</td></tr><tr><td>13269</td><td>2</td><td>662.17</td><td>49</td></tr><tr><td>12567</td><td>2</td><td>1942.38</td><td>55</td></tr><tr><td>15332</td><td>4</td><td>1661.06</td><td>54</td></tr><tr><td>13506</td><td>1</td><td>301.12</td><td>57</td></tr><tr><td>16327</td><td>1</td><td>535.6</td><td>57</td></tr><tr><td>17211</td><td>3</td><td>779.71</td><td>41</td></tr><tr><td>17026</td><td>1</td><td>33.15</td><td>57</td></tr><tr><td>15880</td><td>1</td><td>341.33</td><td>57</td></tr><tr><td>14527</td><td>7</td><td>1490.04</td><td>12</td></tr><tr><td>16411</td><td>1</td><td>131.5</td><td>57</td></tr><tr><td>13767</td><td>8</td><td>3110.24</td><td>21</td></tr><tr><td>15023</td><td>2</td><td>1012.06</td><td>13</td></tr><tr><td>15426</td><td>1</td><td>411.42</td><td>57</td></tr><tr><td>12647</td><td>4</td><td>1193.6</td><td>45</td></tr><tr><td>13034</td><td>1</td><td>165.86</td><td>57</td></tr><tr><td>14606</td><td>13</td><td>2278.25</td><td>12</td></tr><tr><td>16143</td><td>2</td><td>791.55</td><td>42</td></tr><tr><td>12763</td><td>1</td><td>315.04</td><td>57</td></tr><tr><td>14081</td><td>1</td><td>418.97</td><td>57</td></tr><tr><td>13652</td><td>1</td><td>295.3</td><td>56</td></tr><tr><td>16858</td><td>1</td><td>336.09</td><td>56</td></tr><tr><td>16161</td><td>4</td><td>776.55</td><td>18</td></tr><tr><td>14748</td><td>2</td><td>470.42</td><td>56</td></tr><tr><td>17674</td><td>1</td><td>300.66</td><td>56</td></tr><tr><td>12808</td><td>1</td><td>129.4</td><td>56</td></tr><tr><td>15039</td><td>6</td><td>3523.15</td><td>12</td></tr><tr><td>15919</td><td>1</td><td>260.64</td><td>56</td></tr><tr><td>13497</td><td>1</td><td>153.5</td><td>56</td></tr><tr><td>14344</td><td>3</td><td>355.65</td><td>46</td></tr><tr><td>16719</td><td>2</td><td>583.18</td><td>26</td></tr><tr><td>15048</td><td>1</td><td>98.7</td><td>56</td></tr><tr><td>17860</td><td>1</td><td>252.8</td><td>56</td></tr><tr><td>13155</td><td>2</td><td>564.16</td><td>14</td></tr><tr><td>16919</td><td>2</td><td>540.01</td><td>48</td></tr><tr><td>17019</td><td>2</td><td>617.56</td><td>18</td></tr><tr><td>15882</td><td>2</td><td>371.32</td><td>56</td></tr><tr><td>16710</td><td>2</td><td>524.97</td><td>48</td></tr><tr><td>15984</td><td>2</td><td>230.59</td><td>26</td></tr><tr><td>16550</td><td>1</td><td>554.66</td><td>56</td></tr><tr><td>16817</td><td>2</td><td>367.3</td><td>47</td></tr><tr><td>14409</td><td>2</td><td>328.8</td><td>56</td></tr><tr><td>17218</td><td>4</td><td>775.63</td><td>22</td></tr><tr><td>13564</td><td>2</td><td>1156.58</td><td>42</td></tr><tr><td>17450</td><td>5</td><td>20649.04</td><td>20</td></tr><tr><td>17091</td><td>2</td><td>888.15</td><td>12</td></tr><tr><td>15649</td><td>2</td><td>816.0</td><td>24</td></tr><tr><td>14907</td><td>3</td><td>960.69</td><td>48</td></tr><tr><td>17735</td><td>1</td><td>454.6</td><td>55</td></tr><tr><td>15838</td><td>1</td><td>957.5</td><td>55</td></tr><tr><td>14176</td><td>2</td><td>267.25</td><td>14</td></tr><tr><td>17954</td><td>3</td><td>362.88</td><td>17</td></tr><tr><td>17675</td><td>3</td><td>1947.68</td><td>26</td></tr><tr><td>16293</td><td>1</td><td>378.75</td><td>55</td></tr><tr><td>16775</td><td>2</td><td>340.35</td><td>18</td></tr><tr><td>16950</td><td>1</td><td>172.0</td><td>55</td></tr><tr><td>15081</td><td>1</td><td>111.15</td><td>55</td></tr><tr><td>15024</td><td>2</td><td>491.22</td><td>55</td></tr><tr><td>16863</td><td>1</td><td>164.25</td><td>54</td></tr><tr><td>12386</td><td>2</td><td>401.9</td><td>25</td></tr><tr><td>13599</td><td>3</td><td>721.98</td><td>25</td></tr><tr><td>17406</td><td>3</td><td>2200.42</td><td>21</td></tr><tr><td>12441</td><td>1</td><td>173.55</td><td>54</td></tr><tr><td>16081</td><td>1</td><td>157.6</td><td>54</td></tr><tr><td>16122</td><td>2</td><td>249.84</td><td>20</td></tr><tr><td>15973</td><td>1</td><td>307.82</td><td>54</td></tr><tr><td>15021</td><td>1</td><td>205.64</td><td>54</td></tr><tr><td>18043</td><td>1</td><td>316.46</td><td>54</td></tr><tr><td>15032</td><td>2</td><td>2770.6</td><td>54</td></tr><tr><td>16713</td><td>2</td><td>753.5</td><td>42</td></tr><tr><td>17676</td><td>1</td><td>300.7</td><td>54</td></tr><tr><td>12766</td><td>2</td><td>1835.77</td><td>22</td></tr><tr><td>15581</td><td>4</td><td>325.96</td><td>41</td></tr><tr><td>13649</td><td>1</td><td>197.8</td><td>54</td></tr><tr><td>13270</td><td>1</td><td>590.0</td><td>54</td></tr><tr><td>14866</td><td>1</td><td>103.68</td><td>54</td></tr><tr><td>15713</td><td>1</td><td>171.15</td><td>54</td></tr><tr><td>15996</td><td>1</td><td>263.25</td><td>54</td></tr><tr><td>17655</td><td>1</td><td>676.1</td><td>54</td></tr><tr><td>16717</td><td>1</td><td>307.25</td><td>54</td></tr><tr><td>14437</td><td>1</td><td>63.0</td><td>53</td></tr><tr><td>12942</td><td>1</td><td>258.75</td><td>53</td></tr><tr><td>13319</td><td>5</td><td>2051.47</td><td>27</td></tr><tr><td>12481</td><td>3</td><td>1394.43</td><td>24</td></tr><tr><td>13369</td><td>1</td><td>308.28</td><td>53</td></tr><tr><td>12683</td><td>3</td><td>1795.22</td><td>14</td></tr><tr><td>17062</td><td>3</td><td>435.73</td><td>46</td></tr><tr><td>17430</td><td>1</td><td>112.6</td><td>53</td></tr><tr><td>15856</td><td>3</td><td>3281.31</td><td>39</td></tr><tr><td>13982</td><td>2</td><td>903.8</td><td>14</td></tr><tr><td>17978</td><td>1</td><td>300.92</td><td>53</td></tr><tr><td>17816</td><td>1</td><td>16.21</td><td>53</td></tr><tr><td>17671</td><td>1</td><td>394.18</td><td>53</td></tr><tr><td>17339</td><td>1</td><td>60.0</td><td>53</td></tr><tr><td>12682</td><td>3</td><td>1910.4</td><td>26</td></tr><tr><td>15380</td><td>1</td><td>230.1</td><td>53</td></tr><tr><td>12826</td><td>2</td><td>367.72</td><td>12</td></tr><tr><td>18225</td><td>1</td><td>30.0</td><td>53</td></tr><tr><td>16163</td><td>1</td><td>441.6</td><td>53</td></tr><tr><td>15805</td><td>1</td><td>370.8</td><td>52</td></tr><tr><td>17880</td><td>1</td><td>458.92</td><td>52</td></tr><tr><td>17912</td><td>4</td><td>289.41</td><td>47</td></tr><tr><td>14667</td><td>6</td><td>2303.91</td><td>14</td></tr><tr><td>14543</td><td>1</td><td>254.4</td><td>52</td></tr><tr><td>18118</td><td>3</td><td>888.81</td><td>13</td></tr><tr><td>12989</td><td>2</td><td>1012.5</td><td>15</td></tr><tr><td>14448</td><td>1</td><td>102.35</td><td>52</td></tr><tr><td>15503</td><td>1</td><td>147.09</td><td>50</td></tr><tr><td>16923</td><td>2</td><td>915.7</td><td>22</td></tr><tr><td>14577</td><td>1</td><td>346.9</td><td>50</td></tr><tr><td>17372</td><td>2</td><td>370.78</td><td>48</td></tr><tr><td>12875</td><td>1</td><td>293.76</td><td>50</td></tr><tr><td>16010</td><td>1</td><td>110.1</td><td>50</td></tr><tr><td>15044</td><td>5</td><td>2402.15</td><td>21</td></tr><tr><td>15881</td><td>2</td><td>155.25</td><td>49</td></tr><tr><td>17790</td><td>5</td><td>399.55</td><td>45</td></tr><tr><td>13999</td><td>1</td><td>302.1</td><td>49</td></tr><tr><td>15854</td><td>2</td><td>444.3</td><td>17</td></tr><tr><td>16927</td><td>1</td><td>218.1</td><td>49</td></tr><tr><td>14565</td><td>1</td><td>1118.51</td><td>49</td></tr><tr><td>17303</td><td>1</td><td>247.94</td><td>49</td></tr><tr><td>17524</td><td>1</td><td>145.0</td><td>49</td></tr><tr><td>17375</td><td>1</td><td>109.71</td><td>49</td></tr><tr><td>15159</td><td>3</td><td>2073.62</td><td>17</td></tr><tr><td>14733</td><td>4</td><td>5935.53</td><td>20</td></tr><tr><td>15777</td><td>1</td><td>365.55</td><td>49</td></tr><tr><td>17194</td><td>1</td><td>252.62</td><td>48</td></tr><tr><td>13178</td><td>1</td><td>710.0</td><td>48</td></tr><tr><td>18044</td><td>1</td><td>74.25</td><td>48</td></tr><tr><td>12370</td><td>2</td><td>1797.22</td><td>45</td></tr><tr><td>14298</td><td>6</td><td>5914.28</td><td>24</td></tr><tr><td>16531</td><td>1</td><td>92.82</td><td>48</td></tr><tr><td>16556</td><td>1</td><td>310.85</td><td>48</td></tr><tr><td>16553</td><td>2</td><td>1609.44</td><td>48</td></tr><tr><td>15107</td><td>5</td><td>278.7</td><td>18</td></tr><tr><td>14051</td><td>3</td><td>1828.16</td><td>42</td></tr><tr><td>17346</td><td>2</td><td>247.84</td><td>47</td></tr><tr><td>13295</td><td>1</td><td>201.2</td><td>47</td></tr><tr><td>15950</td><td>1</td><td>428.82</td><td>47</td></tr><tr><td>16003</td><td>1</td><td>1181.0</td><td>47</td></tr><tr><td>13426</td><td>2</td><td>634.39</td><td>24</td></tr><tr><td>17692</td><td>1</td><td>298.26</td><td>47</td></tr><tr><td>15062</td><td>1</td><td>209.08</td><td>47</td></tr><tr><td>12928</td><td>1</td><td>392.34</td><td>47</td></tr><tr><td>15727</td><td>2</td><td>2091.6</td><td>19</td></tr><tr><td>17496</td><td>1</td><td>271.05</td><td>46</td></tr><tr><td>13317</td><td>2</td><td>238.05</td><td>46</td></tr><tr><td>13890</td><td>1</td><td>190.35</td><td>46</td></tr><tr><td>14841</td><td>1</td><td>395.16</td><td>46</td></tr><tr><td>16705</td><td>2</td><td>1131.72</td><td>46</td></tr><tr><td>16013</td><td>7</td><td>4408.1</td><td>24</td></tr><tr><td>14414</td><td>1</td><td>217.2</td><td>46</td></tr><tr><td>15563</td><td>1</td><td>270.19</td><td>46</td></tr><tr><td>16746</td><td>2</td><td>702.74</td><td>15</td></tr><tr><td>14309</td><td>1</td><td>147.75</td><td>46</td></tr><tr><td>17068</td><td>3</td><td>401.45</td><td>18</td></tr><tr><td>15366</td><td>1</td><td>105.54</td><td>46</td></tr><tr><td>17691</td><td>2</td><td>290.4</td><td>46</td></tr><tr><td>14334</td><td>1</td><td>320.15</td><td>46</td></tr><tr><td>17659</td><td>2</td><td>359.95</td><td>46</td></tr><tr><td>14643</td><td>1</td><td>324.34</td><td>46</td></tr><tr><td>18260</td><td>2</td><td>787.77</td><td>22</td></tr><tr><td>17848</td><td>2</td><td>169.56</td><td>18</td></tr><tr><td>17392</td><td>1</td><td>312.41</td><td>46</td></tr><tr><td>14769</td><td>2</td><td>870.99</td><td>12</td></tr><tr><td>12417</td><td>1</td><td>291.34</td><td>45</td></tr><tr><td>12709</td><td>2</td><td>1315.69</td><td>45</td></tr><tr><td>17315</td><td>3</td><td>631.24</td><td>11</td></tr><tr><td>12431</td><td>2</td><td>773.95</td><td>45</td></tr><tr><td>12931</td><td>2</td><td>177.0</td><td>45</td></tr><tr><td>16153</td><td>1</td><td>215.01</td><td>42</td></tr><tr><td>12721</td><td>1</td><td>286.6</td><td>42</td></tr><tr><td>13104</td><td>1</td><td>101.76</td><td>42</td></tr><tr><td>13027</td><td>1</td><td>1440.0</td><td>42</td></tr><tr><td>17621</td><td>1</td><td>239.4</td><td>42</td></tr><tr><td>17090</td><td>1</td><td>61.2</td><td>42</td></tr><tr><td>15527</td><td>1</td><td>221.4</td><td>42</td></tr><tr><td>12423</td><td>1</td><td>237.93</td><td>41</td></tr><tr><td>12678</td><td>2</td><td>221.28</td><td>41</td></tr><tr><td>17306</td><td>1</td><td>324.0</td><td>41</td></tr><tr><td>13487</td><td>1</td><td>193.15</td><td>41</td></tr><tr><td>17961</td><td>5</td><td>582.85</td><td>14</td></tr><tr><td>17593</td><td>1</td><td>602.9</td><td>40</td></tr><tr><td>14532</td><td>1</td><td>222.6</td><td>40</td></tr><tr><td>12383</td><td>2</td><td>1251.88</td><td>19</td></tr><tr><td>12585</td><td>1</td><td>1262.85</td><td>39</td></tr><tr><td>18097</td><td>2</td><td>657.18</td><td>27</td></tr><tr><td>14210</td><td>2</td><td>632.01</td><td>27</td></tr><tr><td>13680</td><td>2</td><td>2391.59</td><td>25</td></tr><tr><td>14553</td><td>1</td><td>191.44</td><td>27</td></tr><tr><td>16241</td><td>2</td><td>433.08</td><td>27</td></tr><tr><td>13798</td><td>6</td><td>6331.02</td><td>20</td></tr><tr><td>16112</td><td>2</td><td>136.14</td><td>21</td></tr><tr><td>15769</td><td>3</td><td>5636.28</td><td>24</td></tr><tr><td>13629</td><td>1</td><td>660.0</td><td>26</td></tr><tr><td>16600</td><td>1</td><td>110.86</td><td>26</td></tr><tr><td>15661</td><td>1</td><td>116.0</td><td>26</td></tr><tr><td>14680</td><td>3</td><td>4395.51</td><td>25</td></tr><tr><td>15719</td><td>1</td><td>433.04</td><td>25</td></tr><tr><td>18283</td><td>1</td><td>108.45</td><td>25</td></tr><tr><td>14312</td><td>1</td><td>309.55</td><td>25</td></tr><tr><td>13280</td><td>1</td><td>307.35</td><td>25</td></tr><tr><td>14702</td><td>3</td><td>778.05</td><td>22</td></tr><tr><td>13187</td><td>1</td><td>236.02</td><td>25</td></tr><tr><td>14217</td><td>3</td><td>290.5</td><td>20</td></tr><tr><td>12480</td><td>1</td><td>816.25</td><td>24</td></tr><tr><td>17095</td><td>1</td><td>293.35</td><td>22</td></tr><tr><td>14761</td><td>1</td><td>97.5</td><td>22</td></tr><tr><td>17555</td><td>1</td><td>190.41</td><td>22</td></tr><tr><td>13102</td><td>4</td><td>1422.48</td><td>20</td></tr><tr><td>16833</td><td>1</td><td>309.48</td><td>22</td></tr><tr><td>16748</td><td>1</td><td>479.0</td><td>22</td></tr><tr><td>14755</td><td>1</td><td>488.46</td><td>22</td></tr><tr><td>14395</td><td>2</td><td>689.36</td><td>22</td></tr><tr><td>18032</td><td>1</td><td>73.5</td><td>22</td></tr><tr><td>17811</td><td>2</td><td>523.67</td><td>11</td></tr><tr><td>16850</td><td>1</td><td>332.41</td><td>21</td></tr><tr><td>14321</td><td>1</td><td>321.78</td><td>21</td></tr><tr><td>15326</td><td>1</td><td>306.67</td><td>21</td></tr><tr><td>17739</td><td>2</td><td>682.59</td><td>21</td></tr><tr><td>13473</td><td>1</td><td>241.26</td><td>20</td></tr><tr><td>12601</td><td>1</td><td>144.26</td><td>20</td></tr><tr><td>15346</td><td>1</td><td>252.42</td><td>20</td></tr><tr><td>15189</td><td>1</td><td>418.48</td><td>20</td></tr><tr><td>14669</td><td>2</td><td>842.45</td><td>20</td></tr><tr><td>12728</td><td>1</td><td>252.54</td><td>20</td></tr><tr><td>13672</td><td>1</td><td>62.13</td><td>20</td></tr><tr><td>15602</td><td>3</td><td>212.55</td><td>20</td></tr><tr><td>14270</td><td>1</td><td>492.65</td><td>19</td></tr><tr><td>12523</td><td>1</td><td>102.95</td><td>19</td></tr><tr><td>13488</td><td>2</td><td>2724.61</td><td>19</td></tr><tr><td>12980</td><td>2</td><td>1611.24</td><td>19</td></tr><tr><td>15939</td><td>2</td><td>762.06</td><td>13</td></tr><tr><td>12652</td><td>1</td><td>902.28</td><td>19</td></tr><tr><td>17389</td><td>2</td><td>236.94</td><td>17</td></tr><tr><td>16525</td><td>3</td><td>1109.49</td><td>19</td></tr><tr><td>15290</td><td>3</td><td>514.5</td><td>17</td></tr><tr><td>13694</td><td>4</td><td>5297.92</td><td>18</td></tr><tr><td>15835</td><td>1</td><td>301.11</td><td>18</td></tr><tr><td>15510</td><td>1</td><td>250.0</td><td>18</td></tr><tr><td>15916</td><td>3</td><td>575.06</td><td>18</td></tr><tr><td>12672</td><td>1</td><td>225.9</td><td>17</td></tr><tr><td>12474</td><td>2</td><td>249.4</td><td>17</td></tr><tr><td>15626</td><td>1</td><td>266.88</td><td>17</td></tr><tr><td>14175</td><td>1</td><td>322.58</td><td>17</td></tr><tr><td>17402</td><td>3</td><td>571.87</td><td>17</td></tr><tr><td>13782</td><td>1</td><td>191.94</td><td>15</td></tr><tr><td>15535</td><td>2</td><td>290.44</td><td>15</td></tr><tr><td>16059</td><td>2</td><td>263.25</td><td>15</td></tr><tr><td>17064</td><td>1</td><td>147.85</td><td>15</td></tr><tr><td>15673</td><td>1</td><td>969.95</td><td>15</td></tr><tr><td>12872</td><td>2</td><td>595.02</td><td>14</td></tr><tr><td>13001</td><td>1</td><td>805.45</td><td>14</td></tr><tr><td>14898</td><td>2</td><td>255.7</td><td>14</td></tr><tr><td>17730</td><td>1</td><td>286.64</td><td>14</td></tr><tr><td>13929</td><td>1</td><td>412.85</td><td>14</td></tr><tr><td>13246</td><td>2</td><td>676.51</td><td>14</td></tr><tr><td>13859</td><td>1</td><td>201.16</td><td>14</td></tr><tr><td>18233</td><td>1</td><td>440.0</td><td>13</td></tr><tr><td>13898</td><td>1</td><td>155.93</td><td>13</td></tr><tr><td>13984</td><td>2</td><td>284.75</td><td>13</td></tr><tr><td>12422</td><td>1</td><td>238.5</td><td>12</td></tr><tr><td>17419</td><td>3</td><td>704.47</td><td>12</td></tr><tr><td>16904</td><td>3</td><td>518.61</td><td>12</td></tr><tr><td>17097</td><td>2</td><td>287.64</td><td>12</td></tr><tr><td>17611</td><td>2</td><td>565.59</td><td>12</td></tr><tr><td>14916</td><td>1</td><td>265.05</td><td>12</td></tr><tr><td>17231</td><td>2</td><td>398.69</td><td>12</td></tr><tr><td>14784</td><td>1</td><td>114.68</td><td>11</td></tr><tr><td>15938</td><td>1</td><td>74.9</td><td>11</td></tr><tr><td>12637</td><td>1</td><td>1511.64</td><td>11</td></tr><tr><td>17862</td><td>1</td><td>330.9</td><td>11</td></tr><tr><td>15379</td><td>3</td><td>2677.05</td><td>11</td></tr><tr><td>15422</td><td>2</td><td>97.7</td><td>11</td></tr><tr><td>16912</td><td>1</td><td>377.3</td><td>11</td></tr><tr><td>18074</td><td>1</td><td>489.6</td><td>61</td></tr><tr><td>13705</td><td>1</td><td>318.14</td><td>61</td></tr><tr><td>14729</td><td>1</td><td>297.79</td><td>61</td></tr><tr><td>14078</td><td>1</td><td>136.24</td><td>61</td></tr><tr><td>14001</td><td>1</td><td>301.24</td><td>61</td></tr><tr><td>12433</td><td>2</td><td>3777.04</td><td>54</td></tr><tr><td>18144</td><td>2</td><td>502.65</td><td>48</td></tr><tr><td>17643</td><td>1</td><td>101.55</td><td>61</td></tr><tr><td>14496</td><td>1</td><td>304.34</td><td>61</td></tr><tr><td>16539</td><td>2</td><td>747.25</td><td>46</td></tr><tr><td>14741</td><td>2</td><td>495.3</td><td>49</td></tr><tr><td>17925</td><td>1</td><td>244.08</td><td>60</td></tr><tr><td>15658</td><td>1</td><td>286.3</td><td>60</td></tr><tr><td>16244</td><td>1</td><td>1006.83</td><td>60</td></tr><tr><td>13305</td><td>1</td><td>136.2</td><td>60</td></tr><tr><td>15923</td><td>1</td><td>127.08</td><td>60</td></tr><tr><td>16752</td><td>1</td><td>207.5</td><td>60</td></tr><tr><td>12915</td><td>1</td><td>199.65</td><td>60</td></tr><tr><td>16916</td><td>1</td><td>198.08</td><td>60</td></tr><tr><td>16186</td><td>1</td><td>297.18</td><td>60</td></tr><tr><td>15732</td><td>1</td><td>138.1</td><td>60</td></tr><tr><td>16203</td><td>1</td><td>170.7</td><td>60</td></tr><tr><td>16770</td><td>2</td><td>262.2</td><td>46</td></tr><tr><td>17838</td><td>2</td><td>785.56</td><td>53</td></tr><tr><td>15646</td><td>1</td><td>189.8</td><td>60</td></tr><tr><td>13370</td><td>1</td><td>754.87</td><td>59</td></tr><tr><td>16883</td><td>1</td><td>128.03</td><td>59</td></tr><tr><td>14589</td><td>1</td><td>39.75</td><td>59</td></tr><tr><td>14083</td><td>3</td><td>449.29</td><td>42</td></tr><tr><td>17949</td><td>2</td><td>1746.0</td><td>25</td></tr><tr><td>16140</td><td>1</td><td>124.14</td><td>59</td></tr><tr><td>14396</td><td>1</td><td>110.35</td><td>59</td></tr><tr><td>12725</td><td>1</td><td>427.8</td><td>59</td></tr><tr><td>16455</td><td>3</td><td>531.98</td><td>49</td></tr><tr><td>16168</td><td>1</td><td>275.8</td><td>57</td></tr><tr><td>16814</td><td>4</td><td>1452.66</td><td>13</td></tr><tr><td>15351</td><td>1</td><td>273.42</td><td>57</td></tr><tr><td>17059</td><td>1</td><td>712.16</td><td>57</td></tr><tr><td>14161</td><td>1</td><td>283.15</td><td>57</td></tr><tr><td>15894</td><td>1</td><td>151.7</td><td>57</td></tr><tr><td>14506</td><td>1</td><td>269.7</td><td>57</td></tr><tr><td>15898</td><td>2</td><td>521.69</td><td>55</td></tr><tr><td>15304</td><td>1</td><td>123.15</td><td>56</td></tr><tr><td>14825</td><td>2</td><td>396.43</td><td>46</td></tr><tr><td>18113</td><td>1</td><td>76.32</td><td>56</td></tr><tr><td>15028</td><td>1</td><td>185.97</td><td>56</td></tr><tr><td>13030</td><td>1</td><td>427.74</td><td>56</td></tr><tr><td>17519</td><td>1</td><td>335.3</td><td>56</td></tr><tr><td>17869</td><td>1</td><td>214.32</td><td>56</td></tr><tr><td>15353</td><td>1</td><td>311.65</td><td>55</td></tr><tr><td>18119</td><td>1</td><td>181.12</td><td>55</td></tr><tr><td>16086</td><td>1</td><td>177.26</td><td>55</td></tr><tr><td>12347</td><td>1</td><td>711.79</td><td>55</td></tr><tr><td>14739</td><td>2</td><td>943.44</td><td>26</td></tr><tr><td>17870</td><td>1</td><td>326.4</td><td>54</td></tr><tr><td>14796</td><td>2</td><td>1024.62</td><td>49</td></tr><tr><td>13113</td><td>2</td><td>1049.57</td><td>19</td></tr><tr><td>17262</td><td>1</td><td>268.86</td><td>54</td></tr><tr><td>16679</td><td>1</td><td>129.75</td><td>54</td></tr><tr><td>13523</td><td>1</td><td>549.25</td><td>54</td></tr><tr><td>15005</td><td>3</td><td>611.46</td><td>22</td></tr><tr><td>13531</td><td>1</td><td>305.45</td><td>54</td></tr><tr><td>17340</td><td>2</td><td>4335.19</td><td>42</td></tr><tr><td>16596</td><td>1</td><td>120.65</td><td>54</td></tr><tr><td>16700</td><td>1</td><td>336.94</td><td>54</td></tr><tr><td>14299</td><td>3</td><td>1226.34</td><td>18</td></tr><tr><td>12755</td><td>1</td><td>3794.4</td><td>53</td></tr><tr><td>12494</td><td>2</td><td>62.55</td><td>46</td></tr><tr><td>17857</td><td>2</td><td>1340.7</td><td>46</td></tr><tr><td>14932</td><td>1</td><td>363.53</td><td>53</td></tr><tr><td>14479</td><td>1</td><td>174.4</td><td>53</td></tr><tr><td>15192</td><td>1</td><td>315.0</td><td>53</td></tr><tr><td>13969</td><td>1</td><td>317.59</td><td>53</td></tr><tr><td>17530</td><td>1</td><td>300.64</td><td>53</td></tr><tr><td>17696</td><td>2</td><td>175.6</td><td>52</td></tr><tr><td>17076</td><td>1</td><td>151.5</td><td>52</td></tr><tr><td>12731</td><td>1</td><td>1066.86</td><td>52</td></tr><tr><td>14419</td><td>1</td><td>124.1</td><td>52</td></tr><tr><td>15723</td><td>1</td><td>203.1</td><td>52</td></tr><tr><td>16062</td><td>1</td><td>247.56</td><td>52</td></tr><tr><td>18178</td><td>1</td><td>300.65</td><td>52</td></tr><tr><td>13148</td><td>1</td><td>309.4</td><td>52</td></tr><tr><td>14107</td><td>1</td><td>363.24</td><td>52</td></tr><tr><td>16565</td><td>1</td><td>173.7</td><td>52</td></tr><tr><td>18016</td><td>1</td><td>156.65</td><td>52</td></tr><tr><td>17251</td><td>1</td><td>283.28</td><td>50</td></tr><tr><td>14159</td><td>1</td><td>192.57</td><td>50</td></tr><tr><td>12753</td><td>1</td><td>3523.87</td><td>50</td></tr><tr><td>17236</td><td>1</td><td>126.28</td><td>50</td></tr><tr><td>14413</td><td>1</td><td>122.7</td><td>50</td></tr><tr><td>18004</td><td>1</td><td>169.47</td><td>50</td></tr><tr><td>15454</td><td>1</td><td>165.6</td><td>50</td></tr><tr><td>18037</td><td>1</td><td>31.3</td><td>50</td></tr><tr><td>16701</td><td>2</td><td>842.88</td><td>19</td></tr><tr><td>17338</td><td>2</td><td>1538.35</td><td>19</td></tr><tr><td>17799</td><td>1</td><td>223.48</td><td>49</td></tr><tr><td>17293</td><td>1</td><td>282.39</td><td>49</td></tr><tr><td>17890</td><td>1</td><td>476.96</td><td>49</td></tr><tr><td>14525</td><td>2</td><td>726.95</td><td>14</td></tr><tr><td>16458</td><td>1</td><td>193.9</td><td>48</td></tr><tr><td>16083</td><td>1</td><td>277.98</td><td>48</td></tr><tr><td>16812</td><td>1</td><td>479.35</td><td>48</td></tr><tr><td>12867</td><td>1</td><td>362.79</td><td>48</td></tr><tr><td>16954</td><td>1</td><td>346.8</td><td>47</td></tr><tr><td>15384</td><td>1</td><td>303.57</td><td>47</td></tr><tr><td>13092</td><td>1</td><td>185.45</td><td>47</td></tr><tr><td>15101</td><td>1</td><td>102.28</td><td>47</td></tr><tr><td>17033</td><td>1</td><td>307.8</td><td>47</td></tr><tr><td>13221</td><td>1</td><td>498.16</td><td>47</td></tr><tr><td>15822</td><td>1</td><td>440.2</td><td>47</td></tr><tr><td>16134</td><td>1</td><td>283.53</td><td>47</td></tr><tr><td>18050</td><td>1</td><td>74.4</td><td>47</td></tr><tr><td>17214</td><td>1</td><td>171.05</td><td>47</td></tr><tr><td>15456</td><td>1</td><td>243.22</td><td>47</td></tr><tr><td>17752</td><td>1</td><td>80.64</td><td>47</td></tr><tr><td>15246</td><td>1</td><td>186.0</td><td>46</td></tr><tr><td>15482</td><td>2</td><td>723.64</td><td>46</td></tr><tr><td>16037</td><td>1</td><td>300.46</td><td>46</td></tr><tr><td>16670</td><td>3</td><td>773.47</td><td>14</td></tr><tr><td>16743</td><td>1</td><td>430.28</td><td>46</td></tr><tr><td>17146</td><td>1</td><td>298.25</td><td>46</td></tr><tr><td>15394</td><td>1</td><td>587.66</td><td>46</td></tr><tr><td>14709</td><td>1</td><td>314.1</td><td>46</td></tr><tr><td>16316</td><td>1</td><td>308.22</td><td>46</td></tr><tr><td>16560</td><td>1</td><td>332.18</td><td>46</td></tr><tr><td>18176</td><td>1</td><td>476.35</td><td>46</td></tr><tr><td>16816</td><td>1</td><td>75.78</td><td>46</td></tr><tr><td>13874</td><td>1</td><td>540.45</td><td>46</td></tr><tr><td>12348</td><td>1</td><td>892.8</td><td>46</td></tr><tr><td>14985</td><td>1</td><td>124.51</td><td>46</td></tr><tr><td>13004</td><td>2</td><td>683.79</td><td>21</td></tr><tr><td>12782</td><td>1</td><td>463.5</td><td>45</td></tr><tr><td>15780</td><td>1</td><td>177.15</td><td>45</td></tr><tr><td>16711</td><td>1</td><td>214.2</td><td>45</td></tr><tr><td>12726</td><td>1</td><td>170.28</td><td>45</td></tr><tr><td>17888</td><td>1</td><td>29.43</td><td>45</td></tr><tr><td>15160</td><td>1</td><td>158.16</td><td>45</td></tr><tr><td>12705</td><td>1</td><td>858.0</td><td>45</td></tr><tr><td>16885</td><td>1</td><td>190.65</td><td>45</td></tr><tr><td>17913</td><td>1</td><td>218.05</td><td>43</td></tr><tr><td>12668</td><td>1</td><td>461.47</td><td>43</td></tr><tr><td>16686</td><td>1</td><td>364.98</td><td>43</td></tr><tr><td>15279</td><td>1</td><td>290.51</td><td>42</td></tr><tr><td>17400</td><td>1</td><td>403.77</td><td>41</td></tr><tr><td>12734</td><td>1</td><td>102.0</td><td>40</td></tr><tr><td>15562</td><td>1</td><td>134.55</td><td>39</td></tr><tr><td>13165</td><td>1</td><td>354.64</td><td>39</td></tr><tr><td>16282</td><td>1</td><td>168.3</td><td>27</td></tr><tr><td>13397</td><td>1</td><td>299.92</td><td>27</td></tr><tr><td>17457</td><td>1</td><td>385.8</td><td>27</td></tr><tr><td>16532</td><td>1</td><td>1910.4</td><td>26</td></tr><tr><td>14653</td><td>1</td><td>344.81</td><td>26</td></tr><tr><td>15464</td><td>1</td><td>1042.25</td><td>26</td></tr><tr><td>17634</td><td>1</td><td>785.65</td><td>25</td></tr><tr><td>16551</td><td>1</td><td>311.07</td><td>24</td></tr><tr><td>16889</td><td>1</td><td>523.05</td><td>24</td></tr><tr><td>16473</td><td>1</td><td>149.41</td><td>24</td></tr><tr><td>12501</td><td>1</td><td>2139.09</td><td>24</td></tr><tr><td>15607</td><td>1</td><td>100.2</td><td>24</td></tr><tr><td>15139</td><td>1</td><td>122.1</td><td>24</td></tr><tr><td>12489</td><td>1</td><td>334.93</td><td>24</td></tr><tr><td>17707</td><td>1</td><td>83.7</td><td>24</td></tr><tr><td>12484</td><td>1</td><td>1103.81</td><td>24</td></tr><tr><td>15059</td><td>1</td><td>182.78</td><td>22</td></tr><tr><td>17800</td><td>1</td><td>136.05</td><td>22</td></tr><tr><td>16549</td><td>1</td><td>119.49</td><td>22</td></tr><tr><td>17849</td><td>1</td><td>217.75</td><td>21</td></tr><tr><td>12393</td><td>2</td><td>629.3</td><td>17</td></tr><tr><td>16351</td><td>1</td><td>153.9</td><td>20</td></tr><tr><td>15370</td><td>1</td><td>184.2</td><td>20</td></tr><tr><td>18095</td><td>1</td><td>312.35</td><td>20</td></tr><tr><td>16042</td><td>1</td><td>24.95</td><td>20</td></tr><tr><td>12724</td><td>1</td><td>154.9</td><td>20</td></tr><tr><td>16235</td><td>1</td><td>108.67</td><td>20</td></tr><tr><td>12359</td><td>1</td><td>530.7</td><td>19</td></tr><tr><td>14715</td><td>1</td><td>127.45</td><td>19</td></tr><tr><td>14185</td><td>1</td><td>197.65</td><td>19</td></tr><tr><td>12437</td><td>1</td><td>392.7</td><td>19</td></tr><tr><td>14040</td><td>1</td><td>289.7</td><td>19</td></tr><tr><td>14167</td><td>1</td><td>148.35</td><td>19</td></tr><tr><td>17048</td><td>1</td><td>258.41</td><td>19</td></tr><tr><td>17364</td><td>1</td><td>436.23</td><td>19</td></tr><tr><td>18190</td><td>1</td><td>171.46</td><td>18</td></tr><tr><td>13993</td><td>1</td><td>323.15</td><td>18</td></tr><tr><td>16315</td><td>1</td><td>226.37</td><td>18</td></tr><tr><td>12490</td><td>1</td><td>864.22</td><td>17</td></tr><tr><td>13385</td><td>1</td><td>529.53</td><td>17</td></tr><tr><td>15033</td><td>1</td><td>565.03</td><td>17</td></tr><tr><td>16401</td><td>1</td><td>487.9</td><td>15</td></tr><tr><td>16593</td><td>1</td><td>69.6</td><td>15</td></tr><tr><td>13048</td><td>1</td><td>477.61</td><td>15</td></tr><tr><td>12388</td><td>1</td><td>431.3</td><td>14</td></tr><tr><td>17988</td><td>1</td><td>64.99</td><td>14</td></tr><tr><td>12820</td><td>1</td><td>170.46</td><td>14</td></tr><tr><td>14657</td><td>1</td><td>416.08</td><td>14</td></tr><tr><td>17018</td><td>1</td><td>405.0</td><td>13</td></tr><tr><td>12356</td><td>1</td><td>2271.62</td><td>13</td></tr><tr><td>12346</td><td>1</td><td>77183.6</td><td>13</td></tr><tr><td>15395</td><td>1</td><td>107.45</td><td>13</td></tr><tr><td>12665</td><td>1</td><td>63.0</td><td>12</td></tr><tr><td>15606</td><td>1</td><td>251.0</td><td>12</td></tr><tr><td>15831</td><td>1</td><td>309.94</td><td>12</td></tr><tr><td>17602</td><td>1</td><td>737.05</td><td>12</td></tr><tr><td>14779</td><td>1</td><td>262.55</td><td>11</td></tr><tr><td>16321</td><td>1</td><td>87.75</td><td>11</td></tr><tr><td>12402</td><td>1</td><td>225.6</td><td>11</td></tr><tr><td>13008</td><td>1</td><td>189.87</td><td>11</td></tr></tbody></table></div>"
      ]
     },
     "metadata": {
      "application/vnd.databricks.v1+output": {
       "addedWidgets": {},
       "aggData": [],
       "aggError": "",
       "aggOverflow": false,
       "aggSchema": [],
       "aggSeriesLimitReached": false,
       "aggType": "",
       "arguments": {},
       "columnCustomDisplayInfos": {},
       "data": [
        [
         "13047",
         3,
         366.63,
         61
        ],
        [
         "12583",
         2,
         1586.02,
         24
        ],
        [
         "13748",
         1,
         204.0,
         61
        ],
        [
         "15311",
         16,
         6116.7,
         12
        ],
        [
         "16250",
         1,
         226.14,
         61
        ],
        [
         "13408",
         6,
         3325.32,
         25
        ],
        [
         "13448",
         3,
         829.54,
         52
        ],
        [
         "15513",
         4,
         2064.82,
         13
        ],
        [
         "17908",
         1,
         243.28,
         61
        ],
        [
         "12838",
         1,
         390.79,
         61
        ],
        [
         "18085",
         2,
         689.95,
         18
        ],
        [
         "13758",
         3,
         1141.25,
         22
        ],
        [
         "17897",
         2,
         434.62,
         55
        ],
        [
         "17377",
         3,
         785.08,
         45
        ],
        [
         "16552",
         1,
         95.29,
         61
        ],
        [
         "12868",
         2,
         485.72,
         19
        ],
        [
         "15525",
         1,
         313.93,
         61
        ],
        [
         "15485",
         2,
         1248.39,
         24
        ],
        [
         "16955",
         3,
         354.98,
         24
        ],
        [
         "15350",
         1,
         115.65,
         61
        ],
        [
         "15165",
         1,
         487.75,
         61
        ],
        [
         "14911",
         16,
         11194.96,
         11
        ],
        [
         "",
         222,
         334755.17,
         11
        ],
        [
         "13093",
         5,
         6068.47,
         18
        ],
        [
         "17760",
         1,
         172.54,
         61
        ],
        [
         "16274",
         1,
         347.45,
         61
        ],
        [
         "17025",
         2,
         160.97,
         61
        ],
        [
         "13777",
         11,
         7294.42,
         17
        ],
        [
         "17460",
         2,
         70.3,
         60
        ],
        [
         "18011",
         1,
         102.79,
         61
        ],
        [
         "12855",
         1,
         38.1,
         60
        ],
        [
         "15752",
         1,
         259.65,
         60
        ],
        [
         "17855",
         1,
         208.97,
         60
        ],
        [
         "14047",
         2,
         296.22,
         24
        ],
        [
         "13108",
         1,
         350.06,
         60
        ],
        [
         "15601",
         3,
         1884.34,
         24
        ],
        [
         "13418",
         5,
         1579.62,
         47
        ],
        [
         "18041",
         5,
         1147.02,
         13
        ],
        [
         "15070",
         1,
         106.2,
         60
        ],
        [
         "15111",
         1,
         288.5,
         60
        ],
        [
         "12748",
         39,
         4637.43,
         13
        ],
        [
         "14060",
         4,
         1266.62,
         21
        ],
        [
         "15738",
         2,
         646.15,
         14
        ],
        [
         "17381",
         4,
         3815.72,
         21
        ],
        [
         "17964",
         1,
         261.76,
         60
        ],
        [
         "13491",
         3,
         321.89,
         20
        ],
        [
         "17581",
         3,
         1235.73,
         17
        ],
        [
         "13138",
         1,
         193.23,
         60
        ],
        [
         "15574",
         3,
         590.15,
         46
        ],
        [
         "17228",
         2,
         355.95,
         55
        ],
        [
         "17412",
         2,
         447.76,
         46
        ],
        [
         "15299",
         3,
         1835.01,
         60
        ],
        [
         "13402",
         1,
         303.24,
         60
        ],
        [
         "17757",
         5,
         711.3,
         22
        ],
        [
         "16634",
         1,
         164.8,
         60
        ],
        [
         "16150",
         1,
         393.42,
         60
        ],
        [
         "14236",
         1,
         189.3,
         60
        ],
        [
         "17135",
         1,
         215.58,
         59
        ],
        [
         "12967",
         2,
         1660.9,
         46
        ],
        [
         "17967",
         1,
         123.07,
         59
        ],
        [
         "16891",
         1,
         225.51,
         59
        ],
        [
         "14156",
         2,
         17096.92,
         17
        ],
        [
         "12557",
         2,
         4037.12,
         20
        ],
        [
         "12600",
         2,
         274.8,
         45
        ],
        [
         "17787",
         2,
         1266.19,
         11
        ],
        [
         "14723",
         3,
         471.0,
         46
        ],
        [
         "12712",
         3,
         721.28,
         19
        ],
        [
         "15373",
         2,
         537.1,
         47
        ],
        [
         "12793",
         2,
         545.48,
         22
        ],
        [
         "15465",
         3,
         1258.15,
         22
        ],
        [
         "13838",
         1,
         235.16,
         57
        ],
        [
         "18055",
         3,
         1700.72,
         46
        ],
        [
         "14800",
         3,
         1747.34,
         22
        ],
        [
         "15708",
         2,
         782.45,
         22
        ],
        [
         "14810",
         2,
         326.99,
         22
        ],
        [
         "13831",
         1,
         408.0,
         57
        ],
        [
         "17796",
         2,
         377.1,
         22
        ],
        [
         "17858",
         2,
         1550.25,
         47
        ],
        [
         "15235",
         4,
         767.49,
         26
        ],
        [
         "15889",
         1,
         297.92,
         57
        ],
        [
         "16422",
         6,
         3241.97,
         13
        ],
        [
         "12747",
         3,
         1009.31,
         11
        ],
        [
         "15502",
         3,
         809.8,
         56
        ],
        [
         "17965",
         3,
         595.47,
         19
        ],
        [
         "13579",
         1,
         164.7,
         57
        ],
        [
         "13174",
         1,
         1408.17,
         57
        ],
        [
         "17677",
         4,
         1616.6,
         54
        ],
        [
         "17428",
         4,
         1887.79,
         20
        ],
        [
         "14293",
         1,
         364.92,
         56
        ],
        [
         "12708",
         2,
         461.26,
         17
        ],
        [
         "14443",
         1,
         303.5,
         56
        ],
        [
         "17227",
         1,
         142.25,
         56
        ],
        [
         "15301",
         1,
         673.37,
         56
        ],
        [
         "14708",
         1,
         419.06,
         56
        ],
        [
         "16898",
         1,
         105.58,
         56
        ],
        [
         "15078",
         4,
         818.65,
         42
        ],
        [
         "17259",
         1,
         381.64,
         56
        ],
        [
         "16722",
         2,
         799.52,
         54
        ],
        [
         "17682",
         1,
         391.5,
         56
        ],
        [
         "16658",
         1,
         123.24,
         56
        ],
        [
         "17191",
         3,
         510.11,
         56
        ],
        [
         "16654",
         1,
         227.4,
         56
        ],
        [
         "17812",
         1,
         217.55,
         56
        ],
        [
         "14215",
         2,
         762.06,
         18
        ],
        [
         "12913",
         1,
         417.62,
         56
        ],
        [
         "17470",
         1,
         178.4,
         55
        ],
        [
         "13756",
         3,
         1004.4,
         46
        ],
        [
         "17491",
         2,
         570.52,
         13
        ],
        [
         "14282",
         1,
         571.0,
         55
        ],
        [
         "14135",
         7,
         1801.41,
         14
        ],
        [
         "14673",
         1,
         373.49,
         55
        ],
        [
         "15002",
         2,
         893.15,
         26
        ],
        [
         "15180",
         1,
         87.5,
         55
        ],
        [
         "12839",
         2,
         737.45,
         45
        ],
        [
         "13807",
         1,
         112.6,
         55
        ],
        [
         "18102",
         4,
         27834.61,
         53
        ],
        [
         "16365",
         2,
         368.46,
         47
        ],
        [
         "14821",
         1,
         48.8,
         54
        ],
        [
         "16779",
         4,
         1334.78,
         19
        ],
        [
         "15750",
         2,
         340.52,
         54
        ],
        [
         "13983",
         3,
         659.94,
         14
        ],
        [
         "13842",
         2,
         613.57,
         24
        ],
        [
         "14901",
         3,
         497.05,
         48
        ],
        [
         "17706",
         3,
         477.83,
         54
        ],
        [
         "13126",
         3,
         547.31,
         26
        ],
        [
         "15529",
         3,
         570.89,
         11
        ],
        [
         "16016",
         1,
         382.27,
         54
        ],
        [
         "16233",
         2,
         326.5,
         17
        ],
        [
         "18061",
         1,
         405.16,
         54
        ],
        [
         "15221",
         1,
         403.25,
         54
        ],
        [
         "15298",
         3,
         868.04,
         12
        ],
        [
         "15680",
         1,
         468.69,
         54
        ],
        [
         "15498",
         4,
         2961.8,
         11
        ],
        [
         "17894",
         4,
         515.85,
         40
        ],
        [
         "13848",
         1,
         320.0,
         54
        ],
        [
         "15347",
         1,
         201.6,
         54
        ],
        [
         "14030",
         2,
         676.5,
         54
        ],
        [
         "16011",
         2,
         406.1,
         50
        ],
        [
         "14243",
         2,
         472.0,
         45
        ],
        [
         "12963",
         1,
         365.8,
         53
        ],
        [
         "15079",
         1,
         141.95,
         53
        ],
        [
         "18092",
         4,
         3111.84,
         18
        ],
        [
         "15358",
         3,
         1268.33,
         26
        ],
        [
         "12621",
         2,
         1383.65,
         45
        ],
        [
         "12797",
         1,
         254.03,
         53
        ],
        [
         "16782",
         2,
         577.99,
         47
        ],
        [
         "12429",
         1,
         1281.5,
         53
        ],
        [
         "14987",
         1,
         163.2,
         53
        ],
        [
         "17526",
         2,
         238.6,
         48
        ],
        [
         "16520",
         1,
         325.76,
         53
        ],
        [
         "15271",
         2,
         351.85,
         25
        ],
        [
         "15288",
         1,
         165.65,
         53
        ],
        [
         "16519",
         1,
         103.7,
         53
        ],
        [
         "17950",
         2,
         263.17,
         53
        ],
        [
         "17456",
         1,
         249.86,
         53
        ],
        [
         "15811",
         2,
         438.8,
         45
        ],
        [
         "13327",
         2,
         745.0,
         53
        ],
        [
         "15596",
         2,
         757.67,
         14
        ],
        [
         "16907",
         1,
         182.02,
         53
        ],
        [
         "17576",
         4,
         440.82,
         13
        ],
        [
         "17841",
         12,
         3968.06,
         12
        ],
        [
         "14713",
         2,
         425.85,
         46
        ],
        [
         "13230",
         1,
         93.45,
         53
        ],
        [
         "12471",
         5,
         4627.81,
         18
        ],
        [
         "16265",
         2,
         840.81,
         52
        ],
        [
         "13000",
         1,
         201.75,
         52
        ],
        [
         "16499",
         2,
         365.45,
         48
        ],
        [
         "16656",
         2,
         739.04,
         27
        ],
        [
         "14037",
         1,
         111.8,
         52
        ],
        [
         "16019",
         2,
         723.35,
         24
        ],
        [
         "18065",
         2,
         345.02,
         52
        ],
        [
         "14952",
         1,
         686.16,
         52
        ],
        [
         "15514",
         4,
         1884.71,
         48
        ],
        [
         "17220",
         1,
         317.5,
         52
        ],
        [
         "16873",
         1,
         2157.64,
         52
        ],
        [
         "15570",
         4,
         1497.44,
         17
        ],
        [
         "16393",
         2,
         291.55,
         50
        ],
        [
         "16367",
         1,
         165.87,
         50
        ],
        [
         "17085",
         2,
         738.34,
         42
        ],
        [
         "13668",
         2,
         386.22,
         22
        ],
        [
         "13715",
         4,
         929.1,
         26
        ],
        [
         "17188",
         2,
         902.36,
         27
        ],
        [
         "15547",
         1,
         767.37,
         50
        ],
        [
         "15998",
         1,
         863.39,
         50
        ],
        [
         "13959",
         1,
         214.74,
         50
        ],
        [
         "17937",
         2,
         2153.88,
         49
        ],
        [
         "13225",
         2,
         2470.44,
         26
        ],
        [
         "15689",
         1,
         103.5,
         49
        ],
        [
         "14290",
         1,
         777.56,
         49
        ],
        [
         "13209",
         2,
         404.7,
         14
        ],
        [
         "17990",
         2,
         316.0,
         41
        ],
        [
         "14544",
         1,
         1121.92,
         49
        ],
        [
         "14639",
         1,
         676.54,
         49
        ],
        [
         "12476",
         1,
         12.45,
         49
        ],
        [
         "13089",
         13,
         9605.39,
         14
        ],
        [
         "14625",
         1,
         585.53,
         49
        ],
        [
         "15808",
         3,
         2963.97,
         27
        ],
        [
         "13211",
         1,
         110.7,
         49
        ],
        [
         "13324",
         1,
         650.1,
         48
        ],
        [
         "13050",
         4,
         1199.87,
         42
        ],
        [
         "13948",
         1,
         102.0,
         48
        ],
        [
         "16442",
         1,
         151.66,
         48
        ],
        [
         "18075",
         1,
         198.95,
         48
        ],
        [
         "14524",
         1,
         274.6,
         48
        ],
        [
         "17975",
         3,
         1053.37,
         27
        ],
        [
         "15356",
         2,
         361.34,
         48
        ],
        [
         "14961",
         2,
         1182.7,
         48
        ],
        [
         "17041",
         1,
         304.5,
         48
        ],
        [
         "17158",
         1,
         413.79,
         48
        ],
        [
         "16899",
         1,
         170.55,
         48
        ],
        [
         "13238",
         1,
         91.15,
         48
        ],
        [
         "12829",
         2,
         293.0,
         24
        ],
        [
         "13846",
         1,
         411.4,
         48
        ],
        [
         "17454",
         1,
         165.85,
         47
        ],
        [
         "18168",
         2,
         449.94,
         47
        ],
        [
         "13458",
         2,
         2675.04,
         25
        ],
        [
         "16638",
         3,
         213.62,
         17
        ],
        [
         "14201",
         1,
         67.24,
         47
        ],
        [
         "17551",
         1,
         296.64,
         47
        ],
        [
         "14913",
         1,
         270.87,
         47
        ],
        [
         "15641",
         1,
         291.57,
         47
        ],
        [
         "12577",
         1,
         194.59,
         47
        ],
        [
         "16607",
         2,
         654.82,
         45
        ],
        [
         "13021",
         1,
         157.35,
         46
        ],
        [
         "16029",
         10,
         14820.15,
         11
        ],
        [
         "16470",
         1,
         216.34,
         46
        ],
        [
         "14878",
         1,
         322.01,
         46
        ],
        [
         "14621",
         1,
         305.7,
         46
        ],
        [
         "15194",
         4,
         1890.54,
         24
        ],
        [
         "18116",
         3,
         661.82,
         39
        ],
        [
         "15789",
         1,
         321.3,
         46
        ],
        [
         "15224",
         2,
         322.08,
         46
        ],
        [
         "13534",
         3,
         471.2,
         24
        ],
        [
         "15759",
         1,
         92.2,
         46
        ],
        [
         "14735",
         4,
         906.4,
         11
        ],
        [
         "15532",
         1,
         350.45,
         46
        ],
        [
         "16684",
         4,
         3113.4,
         42
        ],
        [
         "13854",
         3,
         955.29,
         17
        ],
        [
         "13627",
         1,
         311.19,
         45
        ],
        [
         "12551",
         1,
         168.0,
         45
        ],
        [
         "12720",
         2,
         657.13,
         45
        ],
        [
         "16353",
         6,
         1057.6,
         19
        ],
        [
         "16931",
         2,
         364.66,
         45
        ],
        [
         "17007",
         2,
         207.12,
         45
        ],
        [
         "13869",
         1,
         323.62,
         45
        ],
        [
         "17865",
         2,
         1067.23,
         45
        ],
        [
         "18077",
         2,
         396.33,
         43
        ],
        [
         "17358",
         1,
         233.32,
         43
        ],
        [
         "15640",
         4,
         3369.13,
         20
        ],
        [
         "15312",
         1,
         289.74,
         42
        ],
        [
         "14062",
         4,
         3096.39,
         11
        ],
        [
         "12681",
         5,
         4654.91,
         12
        ],
        [
         "17230",
         6,
         2760.01,
         42
        ],
        [
         "14737",
         1,
         434.0,
         41
        ],
        [
         "13029",
         1,
         382.5,
         41
        ],
        [
         "14646",
         5,
         26698.18,
         11
        ],
        [
         "12515",
         1,
         383.7,
         41
        ],
        [
         "14533",
         1,
         433.5,
         40
        ],
        [
         "16477",
         2,
         544.4,
         40
        ],
        [
         "15587",
         1,
         344.88,
         39
        ],
        [
         "13922",
         1,
         172.25,
         39
        ],
        [
         "13094",
         3,
         376.32,
         25
        ],
        [
         "16255",
         2,
         665.4,
         27
        ],
        [
         "13963",
         2,
         358.31,
         27
        ],
        [
         "12957",
         1,
         366.88,
         27
        ],
        [
         "14462",
         1,
         109.3,
         27
        ],
        [
         "12483",
         1,
         547.56,
         27
        ],
        [
         "13253",
         1,
         476.48,
         27
        ],
        [
         "17585",
         1,
         387.81,
         26
        ],
        [
         "15046",
         2,
         710.8,
         15
        ],
        [
         "18226",
         1,
         408.9,
         25
        ],
        [
         "12415",
         2,
         7092.98,
         21
        ],
        [
         "17368",
         2,
         551.2,
         18
        ],
        [
         "14618",
         1,
         211.8,
         25
        ],
        [
         "14258",
         1,
         3120.22,
         25
        ],
        [
         "13368",
         1,
         35.4,
         25
        ],
        [
         "16676",
         1,
         464.82,
         25
        ],
        [
         "12841",
         4,
         886.28,
         12
        ],
        [
         "13764",
         1,
         495.34,
         25
        ],
        [
         "12413",
         1,
         479.25,
         25
        ],
        [
         "16306",
         2,
         243.25,
         25
        ],
        [
         "16567",
         1,
         557.56,
         24
        ],
        [
         "12947",
         2,
         595.2,
         24
        ],
        [
         "14828",
         1,
         582.0,
         24
        ],
        [
         "13750",
         1,
         325.44,
         24
        ],
        [
         "14672",
         1,
         285.28,
         24
        ],
        [
         "13593",
         1,
         559.85,
         24
        ],
        [
         "14867",
         1,
         300.74,
         24
        ],
        [
         "13162",
         1,
         676.46,
         22
        ],
        [
         "13183",
         1,
         625.04,
         22
        ],
        [
         "12939",
         1,
         1933.2,
         22
        ],
        [
         "15611",
         1,
         104.25,
         22
        ],
        [
         "17114",
         1,
         142.24,
         22
        ],
        [
         "16326",
         1,
         267.2,
         22
        ],
        [
         "17128",
         1,
         136.69,
         22
        ],
        [
         "12651",
         1,
         114.0,
         22
        ],
        [
         "16735",
         1,
         660.36,
         22
        ],
        [
         "13565",
         1,
         108.23,
         22
        ],
        [
         "15799",
         1,
         320.22,
         22
        ],
        [
         "13451",
         1,
         401.49,
         22
        ],
        [
         "12539",
         1,
         1715.85,
         21
        ],
        [
         "16350",
         1,
         368.3,
         21
        ],
        [
         "12500",
         1,
         344.94,
         21
        ],
        [
         "18171",
         1,
         240.45,
         21
        ],
        [
         "12524",
         1,
         337.39,
         21
        ],
        [
         "14229",
         1,
         456.97,
         21
        ],
        [
         "15281",
         1,
         780.42,
         21
        ],
        [
         "15867",
         4,
         794.41,
         21
        ],
        [
         "12736",
         1,
         234.0,
         20
        ],
        [
         "12643",
         1,
         871.2,
         20
        ],
        [
         "16034",
         1,
         153.6,
         20
        ],
        [
         "12540",
         2,
         2013.07,
         20
        ],
        [
         "15518",
         2,
         388.76,
         20
        ],
        [
         "14209",
         1,
         347.95,
         20
        ],
        [
         "15569",
         1,
         288.5,
         20
        ],
        [
         "17569",
         1,
         344.14,
         20
        ],
        [
         "16791",
         1,
         255.38,
         20
        ],
        [
         "12971",
         9,
         830.07,
         19
        ],
        [
         "16655",
         1,
         812.25,
         19
        ],
        [
         "16359",
         1,
         92.4,
         19
        ],
        [
         "15953",
         2,
         412.19,
         19
        ],
        [
         "17324",
         2,
         702.23,
         19
        ],
        [
         "16554",
         1,
         0.85,
         19
        ],
        [
         "13284",
         1,
         201.19,
         18
        ],
        [
         "12951",
         1,
         183.65,
         18
        ],
        [
         "15447",
         1,
         155.17,
         18
        ],
        [
         "15694",
         4,
         1231.62,
         18
        ],
        [
         "14085",
         5,
         1743.69,
         11
        ],
        [
         "16503",
         2,
         841.79,
         18
        ],
        [
         "17744",
         2,
         706.44,
         18
        ],
        [
         "15687",
         1,
         353.5,
         18
        ],
        [
         "12578",
         1,
         1608.66,
         18
        ],
        [
         "15615",
         4,
         1724.79,
         17
        ],
        [
         "12553",
         1,
         690.11,
         17
        ],
        [
         "14329",
         1,
         1547.58,
         17
        ],
        [
         "16206",
         1,
         161.3,
         15
        ],
        [
         "14404",
         2,
         415.43,
         15
        ],
        [
         "16843",
         1,
         759.06,
         15
        ],
        [
         "17609",
         1,
         426.74,
         15
        ],
        [
         "12626",
         1,
         1096.0,
         14
        ],
        [
         "14976",
         1,
         155.95,
         14
        ],
        [
         "15696",
         1,
         493.45,
         14
        ],
        [
         "15316",
         1,
         165.0,
         14
        ],
        [
         "14238",
         1,
         146.85,
         14
        ],
        [
         "18179",
         2,
         622.9,
         14
        ],
        [
         "13199",
         5,
         1140.2,
         14
        ],
        [
         "18212",
         1,
         248.42,
         14
        ],
        [
         "16948",
         1,
         69.6,
         13
        ],
        [
         "12527",
         1,
         132.52,
         13
        ],
        [
         "12510",
         1,
         681.05,
         13
        ],
        [
         "14415",
         2,
         1110.78,
         13
        ],
        [
         "13263",
         1,
         141.66,
         13
        ],
        [
         "12451",
         1,
         2901.03,
         12
        ],
        [
         "17708",
         1,
         110.6,
         12
        ],
        [
         "13310",
         1,
         410.18,
         12
        ],
        [
         "14572",
         1,
         315.23,
         12
        ],
        [
         "13502",
         1,
         114.6,
         11
        ],
        [
         "16395",
         2,
         441.71,
         11
        ],
        [
         "17418",
         1,
         167.39,
         11
        ],
        [
         "15262",
         1,
         178.95,
         11
        ],
        [
         "17771",
         1,
         115.8,
         11
        ],
        [
         "14688",
         2,
         727.4,
         13
        ],
        [
         "16098",
         1,
         430.6,
         61
        ],
        [
         "17420",
         1,
         130.85,
         61
        ],
        [
         "13747",
         1,
         79.6,
         61
        ],
        [
         "17924",
         1,
         279.0,
         61
        ],
        [
         "17920",
         2,
         735.91,
         56
        ],
        [
         "17181",
         1,
         155.52,
         61
        ],
        [
         "15012",
         1,
         191.06,
         61
        ],
        [
         "17572",
         1,
         53.1,
         61
        ],
        [
         "12662",
         1,
         261.48,
         61
        ],
        [
         "15922",
         1,
         369.5,
         61
        ],
        [
         "17873",
         1,
         153.95,
         61
        ],
        [
         "16928",
         1,
         116.25,
         61
        ],
        [
         "14696",
         2,
         588.25,
         13
        ],
        [
         "17690",
         5,
         1574.95,
         14
        ],
        [
         "18229",
         3,
         953.1,
         17
        ],
        [
         "14142",
         1,
         311.81,
         61
        ],
        [
         "17069",
         2,
         583.2,
         42
        ],
        [
         "13576",
         2,
         972.83,
         25
        ],
        [
         "13090",
         4,
         1311.16,
         17
        ],
        [
         "17732",
         1,
         303.97,
         60
        ],
        [
         "13941",
         1,
         1044.12,
         60
        ],
        [
         "17017",
         5,
         2357.64,
         48
        ],
        [
         "14388",
         1,
         312.8,
         60
        ],
        [
         "16546",
         1,
         299.4,
         60
        ],
        [
         "17287",
         2,
         222.7,
         55
        ],
        [
         "15363",
         1,
         326.0,
         60
        ],
        [
         "15544",
         1,
         354.54,
         60
        ],
        [
         "15827",
         2,
         190.93,
         60
        ],
        [
         "17235",
         1,
         341.9,
         60
        ],
        [
         "16510",
         1,
         248.1,
         60
        ],
        [
         "17802",
         1,
         100.2,
         60
        ],
        [
         "17976",
         1,
         353.19,
         60
        ],
        [
         "17685",
         3,
         824.52,
         17
        ],
        [
         "15823",
         1,
         15.0,
         60
        ],
        [
         "14829",
         2,
         385.33,
         48
        ],
        [
         "16754",
         1,
         2002.4,
         60
        ],
        [
         "13145",
         1,
         295.0,
         60
        ],
        [
         "14865",
         1,
         37.2,
         60
        ],
        [
         "12738",
         1,
         155.35,
         60
        ],
        [
         "17396",
         1,
         397.5,
         59
        ],
        [
         "16926",
         1,
         230.25,
         59
        ],
        [
         "17198",
         2,
         516.62,
         53
        ],
        [
         "12395",
         2,
         679.92,
         45
        ],
        [
         "15545",
         1,
         135.33,
         59
        ],
        [
         "17243",
         4,
         1123.85,
         22
        ],
        [
         "14813",
         2,
         155.43,
         57
        ],
        [
         "15716",
         1,
         547.1,
         57
        ],
        [
         "18156",
         1,
         206.23,
         57
        ],
        [
         "16983",
         1,
         163.49,
         57
        ],
        [
         "16718",
         1,
         623.75,
         57
        ],
        [
         "17863",
         1,
         384.72,
         57
        ],
        [
         "16402",
         1,
         205.05,
         57
        ],
        [
         "12472",
         1,
         1621.1,
         57
        ],
        [
         "15555",
         3,
         964.32,
         49
        ],
        [
         "15987",
         1,
         113.48,
         56
        ],
        [
         "18219",
         2,
         390.06,
         48
        ],
        [
         "15899",
         1,
         46.35,
         56
        ],
        [
         "15860",
         1,
         102.66,
         56
        ],
        [
         "14189",
         2,
         676.04,
         26
        ],
        [
         "17596",
         1,
         389.32,
         56
        ],
        [
         "14487",
         1,
         125.1,
         56
        ],
        [
         "17223",
         1,
         291.19,
         56
        ],
        [
         "13495",
         2,
         865.43,
         47
        ],
        [
         "17320",
         1,
         450.92,
         56
        ],
        [
         "17616",
         1,
         326.4,
         55
        ],
        [
         "17720",
         1,
         102.0,
         55
        ],
        [
         "15018",
         1,
         111.25,
         55
        ],
        [
         "13569",
         1,
         113.37,
         55
        ],
        [
         "16221",
         1,
         166.74,
         55
        ],
        [
         "15965",
         1,
         156.19,
         55
        ],
        [
         "13769",
         2,
         626.32,
         14
        ],
        [
         "13786",
         1,
         230.4,
         55
        ],
        [
         "13880",
         1,
         97.8,
         55
        ],
        [
         "13173",
         1,
         165.94,
         55
        ],
        [
         "15858",
         1,
         383.93,
         55
        ],
        [
         "17591",
         1,
         406.6,
         55
        ],
        [
         "16125",
         1,
         289.35,
         55
        ],
        [
         "13078",
         3,
         1236.96,
         20
        ],
        [
         "13267",
         3,
         895.72,
         19
        ],
        [
         "15628",
         1,
         319.18,
         54
        ],
        [
         "13329",
         1,
         304.2,
         54
        ],
        [
         "14744",
         1,
         225.0,
         54
        ],
        [
         "14032",
         2,
         619.42,
         43
        ],
        [
         "16558",
         2,
         880.55,
         45
        ],
        [
         "16893",
         1,
         145.93,
         54
        ],
        [
         "17722",
         2,
         1743.58,
         12
        ],
        [
         "17341",
         1,
         508.56,
         54
        ],
        [
         "16385",
         1,
         148.23,
         54
        ],
        [
         "17213",
         2,
         615.85,
         41
        ],
        [
         "13455",
         1,
         679.44,
         54
        ],
        [
         "18259",
         1,
         376.3,
         54
        ],
        [
         "18269",
         1,
         168.6,
         54
        ],
        [
         "13077",
         1,
         313.72,
         54
        ],
        [
         "13140",
         1,
         159.51,
         54
        ],
        [
         "17999",
         1,
         187.39,
         54
        ],
        [
         "14766",
         1,
         180.4,
         54
        ],
        [
         "15660",
         1,
         209.3,
         53
        ],
        [
         "18071",
         1,
         258.95,
         53
        ],
        [
         "14355",
         1,
         174.4,
         53
        ],
        [
         "14896",
         1,
         203.92,
         53
        ],
        [
         "14440",
         1,
         656.7,
         53
        ],
        [
         "13240",
         1,
         224.07,
         53
        ],
        [
         "16065",
         1,
         372.09,
         53
        ],
        [
         "15945",
         1,
         181.0,
         53
        ],
        [
         "16795",
         1,
         414.88,
         53
        ],
        [
         "17646",
         1,
         251.0,
         53
        ],
        [
         "15211",
         1,
         383.07,
         53
        ],
        [
         "17827",
         3,
         1266.76,
         52
        ],
        [
         "14082",
         1,
         182.25,
         52
        ],
        [
         "14256",
         1,
         523.86,
         52
        ],
        [
         "12785",
         1,
         311.95,
         52
        ],
        [
         "16727",
         1,
         272.82,
         52
        ],
        [
         "13787",
         1,
         106.4,
         52
        ],
        [
         "17126",
         1,
         212.6,
         50
        ],
        [
         "17917",
         1,
         110.91,
         50
        ],
        [
         "14684",
         1,
         168.36,
         50
        ],
        [
         "16665",
         1,
         135.4,
         50
        ],
        [
         "14608",
         1,
         204.0,
         50
        ],
        [
         "17618",
         1,
         307.53,
         50
        ],
        [
         "14505",
         2,
         1348.36,
         25
        ],
        [
         "13198",
         1,
         384.55,
         49
        ],
        [
         "15361",
         1,
         418.92,
         49
        ],
        [
         "14498",
         1,
         166.22,
         49
        ],
        [
         "16726",
         1,
         129.57,
         49
        ],
        [
         "17179",
         1,
         243.0,
         49
        ],
        [
         "17371",
         1,
         97.63,
         49
        ],
        [
         "17969",
         1,
         125.2,
         49
        ],
        [
         "16202",
         1,
         365.27,
         48
        ],
        [
         "14057",
         2,
         915.84,
         48
        ],
        [
         "14871",
         1,
         140.4,
         48
        ],
        [
         "16191",
         4,
         1475.22,
         24
        ],
        [
         "17404",
         2,
         3715.5,
         45
        ],
        [
         "16805",
         1,
         204.87,
         48
        ],
        [
         "13097",
         2,
         1053.51,
         25
        ],
        [
         "15392",
         1,
         338.98,
         48
        ],
        [
         "14401",
         1,
         238.98,
         47
        ],
        [
         "16145",
         2,
         658.64,
         26
        ],
        [
         "17629",
         1,
         238.65,
         47
        ],
        [
         "14150",
         1,
         306.18,
         47
        ],
        [
         "13496",
         1,
         488.26,
         47
        ],
        [
         "13611",
         1,
         303.15,
         47
        ],
        [
         "17449",
         1,
         684.26,
         47
        ],
        [
         "15512",
         1,
         85.9,
         47
        ],
        [
         "17525",
         1,
         422.7,
         47
        ],
        [
         "13124",
         1,
         1247.47,
         47
        ],
        [
         "17980",
         1,
         295.2,
         47
        ],
        [
         "17189",
         1,
         227.22,
         47
        ],
        [
         "17001",
         1,
         397.96,
         46
        ],
        [
         "16985",
         1,
         933.32,
         46
        ],
        [
         "12877",
         2,
         250.26,
         17
        ],
        [
         "17288",
         2,
         237.12,
         14
        ],
        [
         "15157",
         1,
         1025.46,
         46
        ],
        [
         "15620",
         1,
         424.49,
         46
        ],
        [
         "17580",
         1,
         46.85,
         46
        ],
        [
         "14373",
         1,
         76.55,
         46
        ],
        [
         "14092",
         2,
         601.73,
         40
        ],
        [
         "16271",
         1,
         133.22,
         46
        ],
        [
         "18223",
         2,
         1137.49,
         14
        ],
        [
         "16945",
         1,
         279.85,
         46
        ],
        [
         "15197",
         1,
         556.5,
         46
        ],
        [
         "14220",
         1,
         312.98,
         46
        ],
        [
         "14560",
         1,
         408.17,
         45
        ],
        [
         "15204",
         1,
         316.58,
         45
        ],
        [
         "14016",
         1,
         733.34,
         45
        ],
        [
         "13033",
         1,
         190.55,
         45
        ],
        [
         "12691",
         1,
         180.0,
         45
        ],
        [
         "14146",
         1,
         1241.43,
         45
        ],
        [
         "14472",
         2,
         614.14,
         22
        ],
        [
         "18245",
         1,
         355.65,
         43
        ],
        [
         "17343",
         1,
         193.64,
         43
        ],
        [
         "12377",
         1,
         996.48,
         42
        ],
        [
         "12944",
         1,
         286.95,
         42
        ],
        [
         "14099",
         2,
         607.94,
         17
        ],
        [
         "14113",
         1,
         433.5,
         42
        ],
        [
         "15460",
         1,
         216.76,
         42
        ],
        [
         "15034",
         2,
         1426.35,
         26
        ],
        [
         "15208",
         1,
         65.4,
         41
        ],
        [
         "16996",
         2,
         127.54,
         41
        ],
        [
         "16270",
         1,
         1123.54,
         41
        ],
        [
         "13953",
         1,
         500.0,
         40
        ],
        [
         "13817",
         1,
         128.7,
         39
        ],
        [
         "13304",
         1,
         300.42,
         39
        ],
        [
         "13313",
         1,
         307.3,
         27
        ],
        [
         "16875",
         1,
         368.8,
         27
        ],
        [
         "15164",
         1,
         173.39,
         27
        ],
        [
         "14732",
         1,
         203.1,
         27
        ],
        [
         "14221",
         1,
         312.95,
         27
        ],
        [
         "15841",
         1,
         331.6,
         26
        ],
        [
         "15266",
         1,
         119.3,
         26
        ],
        [
         "16771",
         1,
         275.96,
         26
        ],
        [
         "13082",
         1,
         379.44,
         26
        ],
        [
         "18062",
         1,
         169.8,
         25
        ],
        [
         "12735",
         1,
         319.77,
         25
        ],
        [
         "13656",
         1,
         162.7,
         25
        ],
        [
         "15845",
         1,
         303.36,
         25
        ],
        [
         "12530",
         1,
         387.4,
         24
        ],
        [
         "18198",
         1,
         300.54,
         24
        ],
        [
         "17284",
         1,
         716.11,
         24
        ],
        [
         "13233",
         1,
         244.24,
         24
        ],
        [
         "14889",
         1,
         135.9,
         24
        ],
        [
         "14794",
         1,
         179.1,
         22
        ],
        [
         "13107",
         1,
         556.76,
         21
        ],
        [
         "16497",
         1,
         279.3,
         21
        ],
        [
         "16303",
         1,
         827.18,
         21
        ],
        [
         "14320",
         1,
         352.51,
         20
        ],
        [
         "17742",
         1,
         302.57,
         20
        ],
        [
         "13144",
         1,
         110.95,
         20
        ],
        [
         "17365",
         2,
         742.66,
         20
        ],
        [
         "15749",
         2,
         22998.4,
         20
        ],
        [
         "13784",
         1,
         113.64,
         20
        ],
        [
         "13862",
         1,
         425.1,
         20
        ],
        [
         "14587",
         1,
         218.9,
         19
        ],
        [
         "14514",
         1,
         255.25,
         19
        ],
        [
         "15171",
         1,
         1289.5,
         19
        ],
        [
         "16500",
         1,
         165.0,
         18
        ],
        [
         "14114",
         1,
         195.13,
         18
        ],
        [
         "14978",
         1,
         310.26,
         18
        ],
        [
         "13614",
         1,
         205.75,
         18
        ],
        [
         "16493",
         1,
         127.8,
         17
        ],
        [
         "15213",
         1,
         313.2,
         17
        ],
        [
         "18106",
         1,
         430.7,
         17
        ],
        [
         "12924",
         1,
         58.19,
         15
        ],
        [
         "13700",
         2,
         140.47,
         15
        ],
        [
         "13064",
         1,
         188.45,
         15
        ],
        [
         "13634",
         1,
         362.0,
         15
        ],
        [
         "18069",
         1,
         295.56,
         15
        ],
        [
         "13527",
         1,
         110.45,
         14
        ],
        [
         "12673",
         1,
         200.5,
         14
        ],
        [
         "15296",
         1,
         1199.33,
         14
        ],
        [
         "14101",
         1,
         751.6,
         14
        ],
        [
         "14242",
         1,
         138.35,
         13
        ],
        [
         "16997",
         1,
         390.0,
         13
        ],
        [
         "14428",
         1,
         203.55,
         13
        ],
        [
         "14090",
         1,
         76.32,
         12
        ],
        [
         "14770",
         1,
         278.6,
         11
        ],
        [
         "17850",
         34,
         5391.21,
         60
        ],
        [
         "15100",
         3,
         876.0,
         21
        ],
        [
         "15291",
         4,
         1372.19,
         13
        ],
        [
         "17809",
         3,
         1251.5,
         59
        ],
        [
         "17511",
         4,
         10573.22,
         26
        ],
        [
         "15862",
         1,
         354.23,
         61
        ],
        [
         "12791",
         1,
         192.6,
         61
        ],
        [
         "16218",
         1,
         471.3,
         61
        ],
        [
         "14045",
         3,
         1251.75,
         25
        ],
        [
         "14307",
         2,
         1270.56,
         12
        ],
        [
         "13255",
         1,
         225.7,
         61
        ],
        [
         "16583",
         1,
         233.45,
         61
        ],
        [
         "15983",
         3,
         1148.27,
         48
        ],
        [
         "14849",
         5,
         566.89,
         46
        ],
        [
         "17968",
         1,
         277.35,
         61
        ],
        [
         "16210",
         4,
         7000.64,
         46
        ],
        [
         "17951",
         2,
         409.5,
         46
        ],
        [
         "14237",
         1,
         161.0,
         61
        ],
        [
         "17905",
         2,
         394.15,
         40
        ],
        [
         "15605",
         1,
         194.85,
         61
        ],
        [
         "14594",
         1,
         255.0,
         61
        ],
        [
         "16456",
         1,
         787.4,
         61
        ],
        [
         "12921",
         3,
         1169.5,
         26
        ],
        [
         "13468",
         5,
         1011.15,
         20
        ],
        [
         "16048",
         2,
         256.44,
         61
        ],
        [
         "13065",
         1,
         205.86,
         61
        ],
        [
         "16835",
         1,
         81.75,
         61
        ],
        [
         "15955",
         1,
         572.38,
         60
        ],
        [
         "14390",
         1,
         223.7,
         60
        ],
        [
         "15260",
         2,
         420.5,
         60
        ],
        [
         "14491",
         1,
         127.2,
         60
        ],
        [
         "14180",
         6,
         1378.2,
         12
        ],
        [
         "13117",
         2,
         388.15,
         53
        ],
        [
         "14466",
         1,
         379.75,
         60
        ],
        [
         "14449",
         1,
         202.44,
         60
        ],
        [
         "16781",
         1,
         311.25,
         60
        ],
        [
         "17567",
         1,
         517.95,
         60
        ],
        [
         "15061",
         16,
         22051.45,
         13
        ],
        [
         "14031",
         5,
         3994.46,
         12
        ],
        [
         "14775",
         1,
         406.56,
         60
        ],
        [
         "13011",
         1,
         50.55,
         60
        ],
        [
         "18239",
         1,
         438.1,
         60
        ],
        [
         "15093",
         2,
         1783.53,
         26
        ],
        [
         "17552",
         2,
         298.52,
         60
        ],
        [
         "14573",
         1,
         413.1,
         60
        ],
        [
         "12686",
         1,
         89.14,
         59
        ],
        [
         "13520",
         2,
         988.52,
         12
        ],
        [
         "16905",
         1,
         254.4,
         59
        ],
        [
         "12427",
         1,
         303.5,
         59
        ],
        [
         "17884",
         2,
         324.62,
         56
        ],
        [
         "13013",
         2,
         1508.54,
         59
        ],
        [
         "12779",
         2,
         861.38,
         14
        ],
        [
         "17819",
         2,
         980.12,
         50
        ],
        [
         "17238",
         2,
         370.09,
         59
        ],
        [
         "16725",
         4,
         431.6,
         27
        ],
        [
         "13081",
         3,
         5889.38,
         25
        ],
        [
         "16033",
         4,
         1045.49,
         14
        ],
        [
         "15038",
         1,
         126.43,
         57
        ],
        [
         "18109",
         5,
         1025.34,
         13
        ],
        [
         "13069",
         5,
         985.06,
         22
        ],
        [
         "16839",
         3,
         1226.91,
         17
        ],
        [
         "13269",
         2,
         662.17,
         49
        ],
        [
         "12567",
         2,
         1942.38,
         55
        ],
        [
         "15332",
         4,
         1661.06,
         54
        ],
        [
         "13506",
         1,
         301.12,
         57
        ],
        [
         "16327",
         1,
         535.6,
         57
        ],
        [
         "17211",
         3,
         779.71,
         41
        ],
        [
         "17026",
         1,
         33.15,
         57
        ],
        [
         "15880",
         1,
         341.33,
         57
        ],
        [
         "14527",
         7,
         1490.04,
         12
        ],
        [
         "16411",
         1,
         131.5,
         57
        ],
        [
         "13767",
         8,
         3110.24,
         21
        ],
        [
         "15023",
         2,
         1012.06,
         13
        ],
        [
         "15426",
         1,
         411.42,
         57
        ],
        [
         "12647",
         4,
         1193.6,
         45
        ],
        [
         "13034",
         1,
         165.86,
         57
        ],
        [
         "14606",
         13,
         2278.25,
         12
        ],
        [
         "16143",
         2,
         791.55,
         42
        ],
        [
         "12763",
         1,
         315.04,
         57
        ],
        [
         "14081",
         1,
         418.97,
         57
        ],
        [
         "13652",
         1,
         295.3,
         56
        ],
        [
         "16858",
         1,
         336.09,
         56
        ],
        [
         "16161",
         4,
         776.55,
         18
        ],
        [
         "14748",
         2,
         470.42,
         56
        ],
        [
         "17674",
         1,
         300.66,
         56
        ],
        [
         "12808",
         1,
         129.4,
         56
        ],
        [
         "15039",
         6,
         3523.15,
         12
        ],
        [
         "15919",
         1,
         260.64,
         56
        ],
        [
         "13497",
         1,
         153.5,
         56
        ],
        [
         "14344",
         3,
         355.65,
         46
        ],
        [
         "16719",
         2,
         583.18,
         26
        ],
        [
         "15048",
         1,
         98.7,
         56
        ],
        [
         "17860",
         1,
         252.8,
         56
        ],
        [
         "13155",
         2,
         564.16,
         14
        ],
        [
         "16919",
         2,
         540.01,
         48
        ],
        [
         "17019",
         2,
         617.56,
         18
        ],
        [
         "15882",
         2,
         371.32,
         56
        ],
        [
         "16710",
         2,
         524.97,
         48
        ],
        [
         "15984",
         2,
         230.59,
         26
        ],
        [
         "16550",
         1,
         554.66,
         56
        ],
        [
         "16817",
         2,
         367.3,
         47
        ],
        [
         "14409",
         2,
         328.8,
         56
        ],
        [
         "17218",
         4,
         775.63,
         22
        ],
        [
         "13564",
         2,
         1156.58,
         42
        ],
        [
         "17450",
         5,
         20649.04,
         20
        ],
        [
         "17091",
         2,
         888.15,
         12
        ],
        [
         "15649",
         2,
         816.0,
         24
        ],
        [
         "14907",
         3,
         960.69,
         48
        ],
        [
         "17735",
         1,
         454.6,
         55
        ],
        [
         "15838",
         1,
         957.5,
         55
        ],
        [
         "14176",
         2,
         267.25,
         14
        ],
        [
         "17954",
         3,
         362.88,
         17
        ],
        [
         "17675",
         3,
         1947.68,
         26
        ],
        [
         "16293",
         1,
         378.75,
         55
        ],
        [
         "16775",
         2,
         340.35,
         18
        ],
        [
         "16950",
         1,
         172.0,
         55
        ],
        [
         "15081",
         1,
         111.15,
         55
        ],
        [
         "15024",
         2,
         491.22,
         55
        ],
        [
         "16863",
         1,
         164.25,
         54
        ],
        [
         "12386",
         2,
         401.9,
         25
        ],
        [
         "13599",
         3,
         721.98,
         25
        ],
        [
         "17406",
         3,
         2200.42,
         21
        ],
        [
         "12441",
         1,
         173.55,
         54
        ],
        [
         "16081",
         1,
         157.6,
         54
        ],
        [
         "16122",
         2,
         249.84,
         20
        ],
        [
         "15973",
         1,
         307.82,
         54
        ],
        [
         "15021",
         1,
         205.64,
         54
        ],
        [
         "18043",
         1,
         316.46,
         54
        ],
        [
         "15032",
         2,
         2770.6,
         54
        ],
        [
         "16713",
         2,
         753.5,
         42
        ],
        [
         "17676",
         1,
         300.7,
         54
        ],
        [
         "12766",
         2,
         1835.77,
         22
        ],
        [
         "15581",
         4,
         325.96,
         41
        ],
        [
         "13649",
         1,
         197.8,
         54
        ],
        [
         "13270",
         1,
         590.0,
         54
        ],
        [
         "14866",
         1,
         103.68,
         54
        ],
        [
         "15713",
         1,
         171.15,
         54
        ],
        [
         "15996",
         1,
         263.25,
         54
        ],
        [
         "17655",
         1,
         676.1,
         54
        ],
        [
         "16717",
         1,
         307.25,
         54
        ],
        [
         "14437",
         1,
         63.0,
         53
        ],
        [
         "12942",
         1,
         258.75,
         53
        ],
        [
         "13319",
         5,
         2051.47,
         27
        ],
        [
         "12481",
         3,
         1394.43,
         24
        ],
        [
         "13369",
         1,
         308.28,
         53
        ],
        [
         "12683",
         3,
         1795.22,
         14
        ],
        [
         "17062",
         3,
         435.73,
         46
        ],
        [
         "17430",
         1,
         112.6,
         53
        ],
        [
         "15856",
         3,
         3281.31,
         39
        ],
        [
         "13982",
         2,
         903.8,
         14
        ],
        [
         "17978",
         1,
         300.92,
         53
        ],
        [
         "17816",
         1,
         16.21,
         53
        ],
        [
         "17671",
         1,
         394.18,
         53
        ],
        [
         "17339",
         1,
         60.0,
         53
        ],
        [
         "12682",
         3,
         1910.4,
         26
        ],
        [
         "15380",
         1,
         230.1,
         53
        ],
        [
         "12826",
         2,
         367.72,
         12
        ],
        [
         "18225",
         1,
         30.0,
         53
        ],
        [
         "16163",
         1,
         441.6,
         53
        ],
        [
         "15805",
         1,
         370.8,
         52
        ],
        [
         "17880",
         1,
         458.92,
         52
        ],
        [
         "17912",
         4,
         289.41,
         47
        ],
        [
         "14667",
         6,
         2303.91,
         14
        ],
        [
         "14543",
         1,
         254.4,
         52
        ],
        [
         "18118",
         3,
         888.81,
         13
        ],
        [
         "12989",
         2,
         1012.5,
         15
        ],
        [
         "14448",
         1,
         102.35,
         52
        ],
        [
         "15503",
         1,
         147.09,
         50
        ],
        [
         "16923",
         2,
         915.7,
         22
        ],
        [
         "14577",
         1,
         346.9,
         50
        ],
        [
         "17372",
         2,
         370.78,
         48
        ],
        [
         "12875",
         1,
         293.76,
         50
        ],
        [
         "16010",
         1,
         110.1,
         50
        ],
        [
         "15044",
         5,
         2402.15,
         21
        ],
        [
         "15881",
         2,
         155.25,
         49
        ],
        [
         "17790",
         5,
         399.55,
         45
        ],
        [
         "13999",
         1,
         302.1,
         49
        ],
        [
         "15854",
         2,
         444.3,
         17
        ],
        [
         "16927",
         1,
         218.1,
         49
        ],
        [
         "14565",
         1,
         1118.51,
         49
        ],
        [
         "17303",
         1,
         247.94,
         49
        ],
        [
         "17524",
         1,
         145.0,
         49
        ],
        [
         "17375",
         1,
         109.71,
         49
        ],
        [
         "15159",
         3,
         2073.62,
         17
        ],
        [
         "14733",
         4,
         5935.53,
         20
        ],
        [
         "15777",
         1,
         365.55,
         49
        ],
        [
         "17194",
         1,
         252.62,
         48
        ],
        [
         "13178",
         1,
         710.0,
         48
        ],
        [
         "18044",
         1,
         74.25,
         48
        ],
        [
         "12370",
         2,
         1797.22,
         45
        ],
        [
         "14298",
         6,
         5914.28,
         24
        ],
        [
         "16531",
         1,
         92.82,
         48
        ],
        [
         "16556",
         1,
         310.85,
         48
        ],
        [
         "16553",
         2,
         1609.44,
         48
        ],
        [
         "15107",
         5,
         278.7,
         18
        ],
        [
         "14051",
         3,
         1828.16,
         42
        ],
        [
         "17346",
         2,
         247.84,
         47
        ],
        [
         "13295",
         1,
         201.2,
         47
        ],
        [
         "15950",
         1,
         428.82,
         47
        ],
        [
         "16003",
         1,
         1181.0,
         47
        ],
        [
         "13426",
         2,
         634.39,
         24
        ],
        [
         "17692",
         1,
         298.26,
         47
        ],
        [
         "15062",
         1,
         209.08,
         47
        ],
        [
         "12928",
         1,
         392.34,
         47
        ],
        [
         "15727",
         2,
         2091.6,
         19
        ],
        [
         "17496",
         1,
         271.05,
         46
        ],
        [
         "13317",
         2,
         238.05,
         46
        ],
        [
         "13890",
         1,
         190.35,
         46
        ],
        [
         "14841",
         1,
         395.16,
         46
        ],
        [
         "16705",
         2,
         1131.72,
         46
        ],
        [
         "16013",
         7,
         4408.1,
         24
        ],
        [
         "14414",
         1,
         217.2,
         46
        ],
        [
         "15563",
         1,
         270.19,
         46
        ],
        [
         "16746",
         2,
         702.74,
         15
        ],
        [
         "14309",
         1,
         147.75,
         46
        ],
        [
         "17068",
         3,
         401.45,
         18
        ],
        [
         "15366",
         1,
         105.54,
         46
        ],
        [
         "17691",
         2,
         290.4,
         46
        ],
        [
         "14334",
         1,
         320.15,
         46
        ],
        [
         "17659",
         2,
         359.95,
         46
        ],
        [
         "14643",
         1,
         324.34,
         46
        ],
        [
         "18260",
         2,
         787.77,
         22
        ],
        [
         "17848",
         2,
         169.56,
         18
        ],
        [
         "17392",
         1,
         312.41,
         46
        ],
        [
         "14769",
         2,
         870.99,
         12
        ],
        [
         "12417",
         1,
         291.34,
         45
        ],
        [
         "12709",
         2,
         1315.69,
         45
        ],
        [
         "17315",
         3,
         631.24,
         11
        ],
        [
         "12431",
         2,
         773.95,
         45
        ],
        [
         "12931",
         2,
         177.0,
         45
        ],
        [
         "16153",
         1,
         215.01,
         42
        ],
        [
         "12721",
         1,
         286.6,
         42
        ],
        [
         "13104",
         1,
         101.76,
         42
        ],
        [
         "13027",
         1,
         1440.0,
         42
        ],
        [
         "17621",
         1,
         239.4,
         42
        ],
        [
         "17090",
         1,
         61.2,
         42
        ],
        [
         "15527",
         1,
         221.4,
         42
        ],
        [
         "12423",
         1,
         237.93,
         41
        ],
        [
         "12678",
         2,
         221.28,
         41
        ],
        [
         "17306",
         1,
         324.0,
         41
        ],
        [
         "13487",
         1,
         193.15,
         41
        ],
        [
         "17961",
         5,
         582.85,
         14
        ],
        [
         "17593",
         1,
         602.9,
         40
        ],
        [
         "14532",
         1,
         222.6,
         40
        ],
        [
         "12383",
         2,
         1251.88,
         19
        ],
        [
         "12585",
         1,
         1262.85,
         39
        ],
        [
         "18097",
         2,
         657.18,
         27
        ],
        [
         "14210",
         2,
         632.01,
         27
        ],
        [
         "13680",
         2,
         2391.59,
         25
        ],
        [
         "14553",
         1,
         191.44,
         27
        ],
        [
         "16241",
         2,
         433.08,
         27
        ],
        [
         "13798",
         6,
         6331.02,
         20
        ],
        [
         "16112",
         2,
         136.14,
         21
        ],
        [
         "15769",
         3,
         5636.28,
         24
        ],
        [
         "13629",
         1,
         660.0,
         26
        ],
        [
         "16600",
         1,
         110.86,
         26
        ],
        [
         "15661",
         1,
         116.0,
         26
        ],
        [
         "14680",
         3,
         4395.51,
         25
        ],
        [
         "15719",
         1,
         433.04,
         25
        ],
        [
         "18283",
         1,
         108.45,
         25
        ],
        [
         "14312",
         1,
         309.55,
         25
        ],
        [
         "13280",
         1,
         307.35,
         25
        ],
        [
         "14702",
         3,
         778.05,
         22
        ],
        [
         "13187",
         1,
         236.02,
         25
        ],
        [
         "14217",
         3,
         290.5,
         20
        ],
        [
         "12480",
         1,
         816.25,
         24
        ],
        [
         "17095",
         1,
         293.35,
         22
        ],
        [
         "14761",
         1,
         97.5,
         22
        ],
        [
         "17555",
         1,
         190.41,
         22
        ],
        [
         "13102",
         4,
         1422.48,
         20
        ],
        [
         "16833",
         1,
         309.48,
         22
        ],
        [
         "16748",
         1,
         479.0,
         22
        ],
        [
         "14755",
         1,
         488.46,
         22
        ],
        [
         "14395",
         2,
         689.36,
         22
        ],
        [
         "18032",
         1,
         73.5,
         22
        ],
        [
         "17811",
         2,
         523.67,
         11
        ],
        [
         "16850",
         1,
         332.41,
         21
        ],
        [
         "14321",
         1,
         321.78,
         21
        ],
        [
         "15326",
         1,
         306.67,
         21
        ],
        [
         "17739",
         2,
         682.59,
         21
        ],
        [
         "13473",
         1,
         241.26,
         20
        ],
        [
         "12601",
         1,
         144.26,
         20
        ],
        [
         "15346",
         1,
         252.42,
         20
        ],
        [
         "15189",
         1,
         418.48,
         20
        ],
        [
         "14669",
         2,
         842.45,
         20
        ],
        [
         "12728",
         1,
         252.54,
         20
        ],
        [
         "13672",
         1,
         62.13,
         20
        ],
        [
         "15602",
         3,
         212.55,
         20
        ],
        [
         "14270",
         1,
         492.65,
         19
        ],
        [
         "12523",
         1,
         102.95,
         19
        ],
        [
         "13488",
         2,
         2724.61,
         19
        ],
        [
         "12980",
         2,
         1611.24,
         19
        ],
        [
         "15939",
         2,
         762.06,
         13
        ],
        [
         "12652",
         1,
         902.28,
         19
        ],
        [
         "17389",
         2,
         236.94,
         17
        ],
        [
         "16525",
         3,
         1109.49,
         19
        ],
        [
         "15290",
         3,
         514.5,
         17
        ],
        [
         "13694",
         4,
         5297.92,
         18
        ],
        [
         "15835",
         1,
         301.11,
         18
        ],
        [
         "15510",
         1,
         250.0,
         18
        ],
        [
         "15916",
         3,
         575.06,
         18
        ],
        [
         "12672",
         1,
         225.9,
         17
        ],
        [
         "12474",
         2,
         249.4,
         17
        ],
        [
         "15626",
         1,
         266.88,
         17
        ],
        [
         "14175",
         1,
         322.58,
         17
        ],
        [
         "17402",
         3,
         571.87,
         17
        ],
        [
         "13782",
         1,
         191.94,
         15
        ],
        [
         "15535",
         2,
         290.44,
         15
        ],
        [
         "16059",
         2,
         263.25,
         15
        ],
        [
         "17064",
         1,
         147.85,
         15
        ],
        [
         "15673",
         1,
         969.95,
         15
        ],
        [
         "12872",
         2,
         595.02,
         14
        ],
        [
         "13001",
         1,
         805.45,
         14
        ],
        [
         "14898",
         2,
         255.7,
         14
        ],
        [
         "17730",
         1,
         286.64,
         14
        ],
        [
         "13929",
         1,
         412.85,
         14
        ],
        [
         "13246",
         2,
         676.51,
         14
        ],
        [
         "13859",
         1,
         201.16,
         14
        ],
        [
         "18233",
         1,
         440.0,
         13
        ],
        [
         "13898",
         1,
         155.93,
         13
        ],
        [
         "13984",
         2,
         284.75,
         13
        ],
        [
         "12422",
         1,
         238.5,
         12
        ],
        [
         "17419",
         3,
         704.47,
         12
        ],
        [
         "16904",
         3,
         518.61,
         12
        ],
        [
         "17097",
         2,
         287.64,
         12
        ],
        [
         "17611",
         2,
         565.59,
         12
        ],
        [
         "14916",
         1,
         265.05,
         12
        ],
        [
         "17231",
         2,
         398.69,
         12
        ],
        [
         "14784",
         1,
         114.68,
         11
        ],
        [
         "15938",
         1,
         74.9,
         11
        ],
        [
         "12637",
         1,
         1511.64,
         11
        ],
        [
         "17862",
         1,
         330.9,
         11
        ],
        [
         "15379",
         3,
         2677.05,
         11
        ],
        [
         "15422",
         2,
         97.7,
         11
        ],
        [
         "16912",
         1,
         377.3,
         11
        ],
        [
         "18074",
         1,
         489.6,
         61
        ],
        [
         "13705",
         1,
         318.14,
         61
        ],
        [
         "14729",
         1,
         297.79,
         61
        ],
        [
         "14078",
         1,
         136.24,
         61
        ],
        [
         "14001",
         1,
         301.24,
         61
        ],
        [
         "12433",
         2,
         3777.04,
         54
        ],
        [
         "18144",
         2,
         502.65,
         48
        ],
        [
         "17643",
         1,
         101.55,
         61
        ],
        [
         "14496",
         1,
         304.34,
         61
        ],
        [
         "16539",
         2,
         747.25,
         46
        ],
        [
         "14741",
         2,
         495.3,
         49
        ],
        [
         "17925",
         1,
         244.08,
         60
        ],
        [
         "15658",
         1,
         286.3,
         60
        ],
        [
         "16244",
         1,
         1006.83,
         60
        ],
        [
         "13305",
         1,
         136.2,
         60
        ],
        [
         "15923",
         1,
         127.08,
         60
        ],
        [
         "16752",
         1,
         207.5,
         60
        ],
        [
         "12915",
         1,
         199.65,
         60
        ],
        [
         "16916",
         1,
         198.08,
         60
        ],
        [
         "16186",
         1,
         297.18,
         60
        ],
        [
         "15732",
         1,
         138.1,
         60
        ],
        [
         "16203",
         1,
         170.7,
         60
        ],
        [
         "16770",
         2,
         262.2,
         46
        ],
        [
         "17838",
         2,
         785.56,
         53
        ],
        [
         "15646",
         1,
         189.8,
         60
        ],
        [
         "13370",
         1,
         754.87,
         59
        ],
        [
         "16883",
         1,
         128.03,
         59
        ],
        [
         "14589",
         1,
         39.75,
         59
        ],
        [
         "14083",
         3,
         449.29,
         42
        ],
        [
         "17949",
         2,
         1746.0,
         25
        ],
        [
         "16140",
         1,
         124.14,
         59
        ],
        [
         "14396",
         1,
         110.35,
         59
        ],
        [
         "12725",
         1,
         427.8,
         59
        ],
        [
         "16455",
         3,
         531.98,
         49
        ],
        [
         "16168",
         1,
         275.8,
         57
        ],
        [
         "16814",
         4,
         1452.66,
         13
        ],
        [
         "15351",
         1,
         273.42,
         57
        ],
        [
         "17059",
         1,
         712.16,
         57
        ],
        [
         "14161",
         1,
         283.15,
         57
        ],
        [
         "15894",
         1,
         151.7,
         57
        ],
        [
         "14506",
         1,
         269.7,
         57
        ],
        [
         "15898",
         2,
         521.69,
         55
        ],
        [
         "15304",
         1,
         123.15,
         56
        ],
        [
         "14825",
         2,
         396.43,
         46
        ],
        [
         "18113",
         1,
         76.32,
         56
        ],
        [
         "15028",
         1,
         185.97,
         56
        ],
        [
         "13030",
         1,
         427.74,
         56
        ],
        [
         "17519",
         1,
         335.3,
         56
        ],
        [
         "17869",
         1,
         214.32,
         56
        ],
        [
         "15353",
         1,
         311.65,
         55
        ],
        [
         "18119",
         1,
         181.12,
         55
        ],
        [
         "16086",
         1,
         177.26,
         55
        ],
        [
         "12347",
         1,
         711.79,
         55
        ],
        [
         "14739",
         2,
         943.44,
         26
        ],
        [
         "17870",
         1,
         326.4,
         54
        ],
        [
         "14796",
         2,
         1024.62,
         49
        ],
        [
         "13113",
         2,
         1049.57,
         19
        ],
        [
         "17262",
         1,
         268.86,
         54
        ],
        [
         "16679",
         1,
         129.75,
         54
        ],
        [
         "13523",
         1,
         549.25,
         54
        ],
        [
         "15005",
         3,
         611.46,
         22
        ],
        [
         "13531",
         1,
         305.45,
         54
        ],
        [
         "17340",
         2,
         4335.19,
         42
        ],
        [
         "16596",
         1,
         120.65,
         54
        ],
        [
         "16700",
         1,
         336.94,
         54
        ],
        [
         "14299",
         3,
         1226.34,
         18
        ],
        [
         "12755",
         1,
         3794.4,
         53
        ],
        [
         "12494",
         2,
         62.55,
         46
        ],
        [
         "17857",
         2,
         1340.7,
         46
        ],
        [
         "14932",
         1,
         363.53,
         53
        ],
        [
         "14479",
         1,
         174.4,
         53
        ],
        [
         "15192",
         1,
         315.0,
         53
        ],
        [
         "13969",
         1,
         317.59,
         53
        ],
        [
         "17530",
         1,
         300.64,
         53
        ],
        [
         "17696",
         2,
         175.6,
         52
        ],
        [
         "17076",
         1,
         151.5,
         52
        ],
        [
         "12731",
         1,
         1066.86,
         52
        ],
        [
         "14419",
         1,
         124.1,
         52
        ],
        [
         "15723",
         1,
         203.1,
         52
        ],
        [
         "16062",
         1,
         247.56,
         52
        ],
        [
         "18178",
         1,
         300.65,
         52
        ],
        [
         "13148",
         1,
         309.4,
         52
        ],
        [
         "14107",
         1,
         363.24,
         52
        ],
        [
         "16565",
         1,
         173.7,
         52
        ],
        [
         "18016",
         1,
         156.65,
         52
        ],
        [
         "17251",
         1,
         283.28,
         50
        ],
        [
         "14159",
         1,
         192.57,
         50
        ],
        [
         "12753",
         1,
         3523.87,
         50
        ],
        [
         "17236",
         1,
         126.28,
         50
        ],
        [
         "14413",
         1,
         122.7,
         50
        ],
        [
         "18004",
         1,
         169.47,
         50
        ],
        [
         "15454",
         1,
         165.6,
         50
        ],
        [
         "18037",
         1,
         31.3,
         50
        ],
        [
         "16701",
         2,
         842.88,
         19
        ],
        [
         "17338",
         2,
         1538.35,
         19
        ],
        [
         "17799",
         1,
         223.48,
         49
        ],
        [
         "17293",
         1,
         282.39,
         49
        ],
        [
         "17890",
         1,
         476.96,
         49
        ],
        [
         "14525",
         2,
         726.95,
         14
        ],
        [
         "16458",
         1,
         193.9,
         48
        ],
        [
         "16083",
         1,
         277.98,
         48
        ],
        [
         "16812",
         1,
         479.35,
         48
        ],
        [
         "12867",
         1,
         362.79,
         48
        ],
        [
         "16954",
         1,
         346.8,
         47
        ],
        [
         "15384",
         1,
         303.57,
         47
        ],
        [
         "13092",
         1,
         185.45,
         47
        ],
        [
         "15101",
         1,
         102.28,
         47
        ],
        [
         "17033",
         1,
         307.8,
         47
        ],
        [
         "13221",
         1,
         498.16,
         47
        ],
        [
         "15822",
         1,
         440.2,
         47
        ],
        [
         "16134",
         1,
         283.53,
         47
        ],
        [
         "18050",
         1,
         74.4,
         47
        ],
        [
         "17214",
         1,
         171.05,
         47
        ],
        [
         "15456",
         1,
         243.22,
         47
        ],
        [
         "17752",
         1,
         80.64,
         47
        ],
        [
         "15246",
         1,
         186.0,
         46
        ],
        [
         "15482",
         2,
         723.64,
         46
        ],
        [
         "16037",
         1,
         300.46,
         46
        ],
        [
         "16670",
         3,
         773.47,
         14
        ],
        [
         "16743",
         1,
         430.28,
         46
        ],
        [
         "17146",
         1,
         298.25,
         46
        ],
        [
         "15394",
         1,
         587.66,
         46
        ],
        [
         "14709",
         1,
         314.1,
         46
        ],
        [
         "16316",
         1,
         308.22,
         46
        ],
        [
         "16560",
         1,
         332.18,
         46
        ],
        [
         "18176",
         1,
         476.35,
         46
        ],
        [
         "16816",
         1,
         75.78,
         46
        ],
        [
         "13874",
         1,
         540.45,
         46
        ],
        [
         "12348",
         1,
         892.8,
         46
        ],
        [
         "14985",
         1,
         124.51,
         46
        ],
        [
         "13004",
         2,
         683.79,
         21
        ],
        [
         "12782",
         1,
         463.5,
         45
        ],
        [
         "15780",
         1,
         177.15,
         45
        ],
        [
         "16711",
         1,
         214.2,
         45
        ],
        [
         "12726",
         1,
         170.28,
         45
        ],
        [
         "17888",
         1,
         29.43,
         45
        ],
        [
         "15160",
         1,
         158.16,
         45
        ],
        [
         "12705",
         1,
         858.0,
         45
        ],
        [
         "16885",
         1,
         190.65,
         45
        ],
        [
         "17913",
         1,
         218.05,
         43
        ],
        [
         "12668",
         1,
         461.47,
         43
        ],
        [
         "16686",
         1,
         364.98,
         43
        ],
        [
         "15279",
         1,
         290.51,
         42
        ],
        [
         "17400",
         1,
         403.77,
         41
        ],
        [
         "12734",
         1,
         102.0,
         40
        ],
        [
         "15562",
         1,
         134.55,
         39
        ],
        [
         "13165",
         1,
         354.64,
         39
        ],
        [
         "16282",
         1,
         168.3,
         27
        ],
        [
         "13397",
         1,
         299.92,
         27
        ],
        [
         "17457",
         1,
         385.8,
         27
        ],
        [
         "16532",
         1,
         1910.4,
         26
        ],
        [
         "14653",
         1,
         344.81,
         26
        ],
        [
         "15464",
         1,
         1042.25,
         26
        ],
        [
         "17634",
         1,
         785.65,
         25
        ],
        [
         "16551",
         1,
         311.07,
         24
        ],
        [
         "16889",
         1,
         523.05,
         24
        ],
        [
         "16473",
         1,
         149.41,
         24
        ],
        [
         "12501",
         1,
         2139.09,
         24
        ],
        [
         "15607",
         1,
         100.2,
         24
        ],
        [
         "15139",
         1,
         122.1,
         24
        ],
        [
         "12489",
         1,
         334.93,
         24
        ],
        [
         "17707",
         1,
         83.7,
         24
        ],
        [
         "12484",
         1,
         1103.81,
         24
        ],
        [
         "15059",
         1,
         182.78,
         22
        ],
        [
         "17800",
         1,
         136.05,
         22
        ],
        [
         "16549",
         1,
         119.49,
         22
        ],
        [
         "17849",
         1,
         217.75,
         21
        ],
        [
         "12393",
         2,
         629.3,
         17
        ],
        [
         "16351",
         1,
         153.9,
         20
        ],
        [
         "15370",
         1,
         184.2,
         20
        ],
        [
         "18095",
         1,
         312.35,
         20
        ],
        [
         "16042",
         1,
         24.95,
         20
        ],
        [
         "12724",
         1,
         154.9,
         20
        ],
        [
         "16235",
         1,
         108.67,
         20
        ],
        [
         "12359",
         1,
         530.7,
         19
        ],
        [
         "14715",
         1,
         127.45,
         19
        ],
        [
         "14185",
         1,
         197.65,
         19
        ],
        [
         "12437",
         1,
         392.7,
         19
        ],
        [
         "14040",
         1,
         289.7,
         19
        ],
        [
         "14167",
         1,
         148.35,
         19
        ],
        [
         "17048",
         1,
         258.41,
         19
        ],
        [
         "17364",
         1,
         436.23,
         19
        ],
        [
         "18190",
         1,
         171.46,
         18
        ],
        [
         "13993",
         1,
         323.15,
         18
        ],
        [
         "16315",
         1,
         226.37,
         18
        ],
        [
         "12490",
         1,
         864.22,
         17
        ],
        [
         "13385",
         1,
         529.53,
         17
        ],
        [
         "15033",
         1,
         565.03,
         17
        ],
        [
         "16401",
         1,
         487.9,
         15
        ],
        [
         "16593",
         1,
         69.6,
         15
        ],
        [
         "13048",
         1,
         477.61,
         15
        ],
        [
         "12388",
         1,
         431.3,
         14
        ],
        [
         "17988",
         1,
         64.99,
         14
        ],
        [
         "12820",
         1,
         170.46,
         14
        ],
        [
         "14657",
         1,
         416.08,
         14
        ],
        [
         "17018",
         1,
         405.0,
         13
        ],
        [
         "12356",
         1,
         2271.62,
         13
        ],
        [
         "12346",
         1,
         77183.6,
         13
        ],
        [
         "15395",
         1,
         107.45,
         13
        ],
        [
         "12665",
         1,
         63.0,
         12
        ],
        [
         "15606",
         1,
         251.0,
         12
        ],
        [
         "15831",
         1,
         309.94,
         12
        ],
        [
         "17602",
         1,
         737.05,
         12
        ],
        [
         "14779",
         1,
         262.55,
         11
        ],
        [
         "16321",
         1,
         87.75,
         11
        ],
        [
         "12402",
         1,
         225.6,
         11
        ],
        [
         "13008",
         1,
         189.87,
         11
        ]
       ],
       "datasetInfos": [],
       "dbfsResultPath": null,
       "isJsonSchema": true,
       "metadata": {},
       "overflow": false,
       "plotOptions": {
        "customPlotOptions": {},
        "displayType": "table",
        "pivotAggregation": null,
        "pivotColumns": null,
        "xColumns": null,
        "yColumns": null
       },
       "removedWidgets": [],
       "schema": [
        {
         "metadata": "{}",
         "name": "CustID",
         "type": "\"string\""
        },
        {
         "metadata": "{}",
         "name": "Frequency",
         "type": "\"long\""
        },
        {
         "metadata": "{}",
         "name": "MValue",
         "type": "\"double\""
        },
        {
         "metadata": "{}",
         "name": "Recency",
         "type": "\"long\""
        }
       ],
       "type": "table"
      }
     },
     "output_type": "display_data"
    }
   ],
   "source": [
    "display(rfm_df)"
   ]
  }
 ],
 "metadata": {
  "application/vnd.databricks.v1+notebook": {
   "dashboards": [],
   "environmentMetadata": null,
   "language": "python",
   "notebookMetadata": {
    "mostRecentlyExecutedCommandWithImplicitDF": {
     "commandId": 554763296152946,
     "dataframes": [
      "_sqldf"
     ]
    },
    "pythonIndentUnit": 4
   },
   "notebookName": "Customer RFM",
   "widgets": {}
  }
 },
 "nbformat": 4,
 "nbformat_minor": 0
}
